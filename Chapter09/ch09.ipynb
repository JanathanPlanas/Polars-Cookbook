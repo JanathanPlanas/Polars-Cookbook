{
 "cells": [
  {
   "cell_type": "markdown",
   "metadata": {},
   "source": [
    "# Time Series Analysis"
   ]
  },
  {
   "cell_type": "markdown",
   "metadata": {},
   "source": [
    "## Technical requirements"
   ]
  },
  {
   "cell_type": "code",
   "execution_count": 82,
   "metadata": {},
   "outputs": [],
   "source": [
    "import polars as pl"
   ]
  },
  {
   "cell_type": "code",
   "execution_count": 83,
   "metadata": {},
   "outputs": [],
   "source": [
    "lf = pl.scan_csv('../data/toronto_weather.csv')"
   ]
  },
  {
   "cell_type": "code",
   "execution_count": 84,
   "metadata": {},
   "outputs": [
    {
     "data": {
      "text/html": [
       "<div><style>\n",
       ".dataframe > thead > tr,\n",
       ".dataframe > tbody > tr {\n",
       "  text-align: right;\n",
       "  white-space: pre-wrap;\n",
       "}\n",
       "</style>\n",
       "<small>shape: (5, 5)</small><table border=\"1\" class=\"dataframe\"><thead><tr><th>datetime</th><th>temperature</th><th>wind_speed</th><th>pressure</th><th>humidity</th></tr><tr><td>str</td><td>f64</td><td>f64</td><td>f64</td><td>f64</td></tr></thead><tbody><tr><td>&quot;2012-10-01 12:…</td><td>null</td><td>null</td><td>null</td><td>null</td></tr><tr><td>&quot;2012-10-01 13:…</td><td>286.26</td><td>3.0</td><td>1012.0</td><td>82.0</td></tr><tr><td>&quot;2012-10-01 14:…</td><td>286.262541</td><td>3.0</td><td>1011.0</td><td>81.0</td></tr><tr><td>&quot;2012-10-01 15:…</td><td>286.269518</td><td>3.0</td><td>1011.0</td><td>79.0</td></tr><tr><td>&quot;2012-10-01 16:…</td><td>286.276496</td><td>3.0</td><td>1010.0</td><td>77.0</td></tr></tbody></table></div>"
      ],
      "text/plain": [
       "shape: (5, 5)\n",
       "┌─────────────────────┬─────────────┬────────────┬──────────┬──────────┐\n",
       "│ datetime            ┆ temperature ┆ wind_speed ┆ pressure ┆ humidity │\n",
       "│ ---                 ┆ ---         ┆ ---        ┆ ---      ┆ ---      │\n",
       "│ str                 ┆ f64         ┆ f64        ┆ f64      ┆ f64      │\n",
       "╞═════════════════════╪═════════════╪════════════╪══════════╪══════════╡\n",
       "│ 2012-10-01 12:00:00 ┆ null        ┆ null       ┆ null     ┆ null     │\n",
       "│ 2012-10-01 13:00:00 ┆ 286.26      ┆ 3.0        ┆ 1012.0   ┆ 82.0     │\n",
       "│ 2012-10-01 14:00:00 ┆ 286.262541  ┆ 3.0        ┆ 1011.0   ┆ 81.0     │\n",
       "│ 2012-10-01 15:00:00 ┆ 286.269518  ┆ 3.0        ┆ 1011.0   ┆ 79.0     │\n",
       "│ 2012-10-01 16:00:00 ┆ 286.276496  ┆ 3.0        ┆ 1010.0   ┆ 77.0     │\n",
       "└─────────────────────┴─────────────┴────────────┴──────────┴──────────┘"
      ]
     },
     "execution_count": 84,
     "metadata": {},
     "output_type": "execute_result"
    }
   ],
   "source": [
    "lf.fetch(5)"
   ]
  },
  {
   "cell_type": "code",
   "execution_count": 85,
   "metadata": {},
   "outputs": [],
   "source": [
    "lf = lf.with_columns(pl.col('temperature')-273.15)"
   ]
  },
  {
   "cell_type": "code",
   "execution_count": 86,
   "metadata": {},
   "outputs": [
    {
     "data": {
      "text/html": [
       "<div><style>\n",
       ".dataframe > thead > tr,\n",
       ".dataframe > tbody > tr {\n",
       "  text-align: right;\n",
       "  white-space: pre-wrap;\n",
       "}\n",
       "</style>\n",
       "<small>shape: (5, 5)</small><table border=\"1\" class=\"dataframe\"><thead><tr><th>datetime</th><th>temperature</th><th>wind_speed</th><th>pressure</th><th>humidity</th></tr><tr><td>str</td><td>f64</td><td>f64</td><td>f64</td><td>f64</td></tr></thead><tbody><tr><td>&quot;2012-10-01 12:…</td><td>null</td><td>null</td><td>null</td><td>null</td></tr><tr><td>&quot;2012-10-01 13:…</td><td>13.11</td><td>3.0</td><td>1012.0</td><td>82.0</td></tr><tr><td>&quot;2012-10-01 14:…</td><td>13.112541</td><td>3.0</td><td>1011.0</td><td>81.0</td></tr><tr><td>&quot;2012-10-01 15:…</td><td>13.119518</td><td>3.0</td><td>1011.0</td><td>79.0</td></tr><tr><td>&quot;2012-10-01 16:…</td><td>13.126496</td><td>3.0</td><td>1010.0</td><td>77.0</td></tr></tbody></table></div>"
      ],
      "text/plain": [
       "shape: (5, 5)\n",
       "┌─────────────────────┬─────────────┬────────────┬──────────┬──────────┐\n",
       "│ datetime            ┆ temperature ┆ wind_speed ┆ pressure ┆ humidity │\n",
       "│ ---                 ┆ ---         ┆ ---        ┆ ---      ┆ ---      │\n",
       "│ str                 ┆ f64         ┆ f64        ┆ f64      ┆ f64      │\n",
       "╞═════════════════════╪═════════════╪════════════╪══════════╪══════════╡\n",
       "│ 2012-10-01 12:00:00 ┆ null        ┆ null       ┆ null     ┆ null     │\n",
       "│ 2012-10-01 13:00:00 ┆ 13.11       ┆ 3.0        ┆ 1012.0   ┆ 82.0     │\n",
       "│ 2012-10-01 14:00:00 ┆ 13.112541   ┆ 3.0        ┆ 1011.0   ┆ 81.0     │\n",
       "│ 2012-10-01 15:00:00 ┆ 13.119518   ┆ 3.0        ┆ 1011.0   ┆ 79.0     │\n",
       "│ 2012-10-01 16:00:00 ┆ 13.126496   ┆ 3.0        ┆ 1010.0   ┆ 77.0     │\n",
       "└─────────────────────┴─────────────┴────────────┴──────────┴──────────┘"
      ]
     },
     "execution_count": 86,
     "metadata": {},
     "output_type": "execute_result"
    }
   ],
   "source": [
    "lf.fetch(5)"
   ]
  },
  {
   "cell_type": "markdown",
   "metadata": {},
   "source": [
    "## Working with date and time"
   ]
  },
  {
   "cell_type": "code",
   "execution_count": 87,
   "metadata": {},
   "outputs": [
    {
     "data": {
      "text/html": [
       "<div><style>\n",
       ".dataframe > thead > tr,\n",
       ".dataframe > tbody > tr {\n",
       "  text-align: right;\n",
       "  white-space: pre-wrap;\n",
       "}\n",
       "</style>\n",
       "<small>shape: (5, 5)</small><table border=\"1\" class=\"dataframe\"><thead><tr><th>datetime</th><th>temperature</th><th>wind_speed</th><th>pressure</th><th>humidity</th></tr><tr><td>datetime[μs]</td><td>f64</td><td>f64</td><td>f64</td><td>f64</td></tr></thead><tbody><tr><td>2012-10-01 12:00:00</td><td>null</td><td>null</td><td>null</td><td>null</td></tr><tr><td>2012-10-01 13:00:00</td><td>286.26</td><td>3.0</td><td>1012.0</td><td>82.0</td></tr><tr><td>2012-10-01 14:00:00</td><td>286.262541</td><td>3.0</td><td>1011.0</td><td>81.0</td></tr><tr><td>2012-10-01 15:00:00</td><td>286.269518</td><td>3.0</td><td>1011.0</td><td>79.0</td></tr><tr><td>2012-10-01 16:00:00</td><td>286.276496</td><td>3.0</td><td>1010.0</td><td>77.0</td></tr></tbody></table></div>"
      ],
      "text/plain": [
       "shape: (5, 5)\n",
       "┌─────────────────────┬─────────────┬────────────┬──────────┬──────────┐\n",
       "│ datetime            ┆ temperature ┆ wind_speed ┆ pressure ┆ humidity │\n",
       "│ ---                 ┆ ---         ┆ ---        ┆ ---      ┆ ---      │\n",
       "│ datetime[μs]        ┆ f64         ┆ f64        ┆ f64      ┆ f64      │\n",
       "╞═════════════════════╪═════════════╪════════════╪══════════╪══════════╡\n",
       "│ 2012-10-01 12:00:00 ┆ null        ┆ null       ┆ null     ┆ null     │\n",
       "│ 2012-10-01 13:00:00 ┆ 286.26      ┆ 3.0        ┆ 1012.0   ┆ 82.0     │\n",
       "│ 2012-10-01 14:00:00 ┆ 286.262541  ┆ 3.0        ┆ 1011.0   ┆ 81.0     │\n",
       "│ 2012-10-01 15:00:00 ┆ 286.269518  ┆ 3.0        ┆ 1011.0   ┆ 79.0     │\n",
       "│ 2012-10-01 16:00:00 ┆ 286.276496  ┆ 3.0        ┆ 1010.0   ┆ 77.0     │\n",
       "└─────────────────────┴─────────────┴────────────┴──────────┴──────────┘"
      ]
     },
     "execution_count": 87,
     "metadata": {},
     "output_type": "execute_result"
    }
   ],
   "source": [
    "lf_date_parsed = pl.scan_csv('../data/toronto_weather.csv', try_parse_dates=True)\n",
    "lf_date_parsed.fetch(5)"
   ]
  },
  {
   "cell_type": "code",
   "execution_count": 88,
   "metadata": {},
   "outputs": [
    {
     "data": {
      "text/plain": [
       "(OrderedDict([('datetime', Datetime(time_unit='us', time_zone=None)),\n",
       "              ('temperature', Float64),\n",
       "              ('wind_speed', Float64),\n",
       "              ('pressure', Float64),\n",
       "              ('humidity', Float64)]),\n",
       " [Datetime(time_unit='us', time_zone=None),\n",
       "  Float64,\n",
       "  Float64,\n",
       "  Float64,\n",
       "  Float64])"
      ]
     },
     "execution_count": 88,
     "metadata": {},
     "output_type": "execute_result"
    }
   ],
   "source": [
    "lf_date_parsed.schema, lf_date_parsed.dtypes"
   ]
  },
  {
   "cell_type": "code",
   "execution_count": 89,
   "metadata": {},
   "outputs": [
    {
     "data": {
      "text/html": [
       "<div><style>\n",
       ".dataframe > thead > tr,\n",
       ".dataframe > tbody > tr {\n",
       "  text-align: right;\n",
       "  white-space: pre-wrap;\n",
       "}\n",
       "</style>\n",
       "<small>shape: (5, 5)</small><table border=\"1\" class=\"dataframe\"><thead><tr><th>datetime</th><th>temperature</th><th>wind_speed</th><th>pressure</th><th>humidity</th></tr><tr><td>datetime[μs]</td><td>f64</td><td>f64</td><td>f64</td><td>f64</td></tr></thead><tbody><tr><td>2012-10-01 12:00:00</td><td>null</td><td>null</td><td>null</td><td>null</td></tr><tr><td>2012-10-01 13:00:00</td><td>13.11</td><td>3.0</td><td>1012.0</td><td>82.0</td></tr><tr><td>2012-10-01 14:00:00</td><td>13.112541</td><td>3.0</td><td>1011.0</td><td>81.0</td></tr><tr><td>2012-10-01 15:00:00</td><td>13.119518</td><td>3.0</td><td>1011.0</td><td>79.0</td></tr><tr><td>2012-10-01 16:00:00</td><td>13.126496</td><td>3.0</td><td>1010.0</td><td>77.0</td></tr></tbody></table></div>"
      ],
      "text/plain": [
       "shape: (5, 5)\n",
       "┌─────────────────────┬─────────────┬────────────┬──────────┬──────────┐\n",
       "│ datetime            ┆ temperature ┆ wind_speed ┆ pressure ┆ humidity │\n",
       "│ ---                 ┆ ---         ┆ ---        ┆ ---      ┆ ---      │\n",
       "│ datetime[μs]        ┆ f64         ┆ f64        ┆ f64      ┆ f64      │\n",
       "╞═════════════════════╪═════════════╪════════════╪══════════╪══════════╡\n",
       "│ 2012-10-01 12:00:00 ┆ null        ┆ null       ┆ null     ┆ null     │\n",
       "│ 2012-10-01 13:00:00 ┆ 13.11       ┆ 3.0        ┆ 1012.0   ┆ 82.0     │\n",
       "│ 2012-10-01 14:00:00 ┆ 13.112541   ┆ 3.0        ┆ 1011.0   ┆ 81.0     │\n",
       "│ 2012-10-01 15:00:00 ┆ 13.119518   ┆ 3.0        ┆ 1011.0   ┆ 79.0     │\n",
       "│ 2012-10-01 16:00:00 ┆ 13.126496   ┆ 3.0        ┆ 1010.0   ┆ 77.0     │\n",
       "└─────────────────────┴─────────────┴────────────┴──────────┴──────────┘"
      ]
     },
     "execution_count": 89,
     "metadata": {},
     "output_type": "execute_result"
    }
   ],
   "source": [
    "lf = lf.with_columns(\n",
    "    pl.col('datetime').str.to_datetime()\n",
    ")\n",
    "lf.fetch(5)"
   ]
  },
  {
   "cell_type": "code",
   "execution_count": 153,
   "metadata": {},
   "outputs": [
    {
     "data": {
      "text/html": [
       "<div><style>\n",
       ".dataframe > thead > tr,\n",
       ".dataframe > tbody > tr {\n",
       "  text-align: right;\n",
       "  white-space: pre-wrap;\n",
       "}\n",
       "</style>\n",
       "<small>shape: (5, 5)</small><table border=\"1\" class=\"dataframe\"><thead><tr><th>datetime</th><th>year</th><th>month</th><th>day</th><th>time</th></tr><tr><td>datetime[μs]</td><td>i32</td><td>i8</td><td>i8</td><td>time</td></tr></thead><tbody><tr><td>2012-10-01 12:00:00</td><td>2012</td><td>10</td><td>1</td><td>12:00:00</td></tr><tr><td>2012-10-01 13:00:00</td><td>2012</td><td>10</td><td>1</td><td>13:00:00</td></tr><tr><td>2012-10-01 14:00:00</td><td>2012</td><td>10</td><td>1</td><td>14:00:00</td></tr><tr><td>2012-10-01 15:00:00</td><td>2012</td><td>10</td><td>1</td><td>15:00:00</td></tr><tr><td>2012-10-01 16:00:00</td><td>2012</td><td>10</td><td>1</td><td>16:00:00</td></tr></tbody></table></div>"
      ],
      "text/plain": [
       "shape: (5, 5)\n",
       "┌─────────────────────┬──────┬───────┬─────┬──────────┐\n",
       "│ datetime            ┆ year ┆ month ┆ day ┆ time     │\n",
       "│ ---                 ┆ ---  ┆ ---   ┆ --- ┆ ---      │\n",
       "│ datetime[μs]        ┆ i32  ┆ i8    ┆ i8  ┆ time     │\n",
       "╞═════════════════════╪══════╪═══════╪═════╪══════════╡\n",
       "│ 2012-10-01 12:00:00 ┆ 2012 ┆ 10    ┆ 1   ┆ 12:00:00 │\n",
       "│ 2012-10-01 13:00:00 ┆ 2012 ┆ 10    ┆ 1   ┆ 13:00:00 │\n",
       "│ 2012-10-01 14:00:00 ┆ 2012 ┆ 10    ┆ 1   ┆ 14:00:00 │\n",
       "│ 2012-10-01 15:00:00 ┆ 2012 ┆ 10    ┆ 1   ┆ 15:00:00 │\n",
       "│ 2012-10-01 16:00:00 ┆ 2012 ┆ 10    ┆ 1   ┆ 16:00:00 │\n",
       "└─────────────────────┴──────┴───────┴─────┴──────────┘"
      ]
     },
     "execution_count": 153,
     "metadata": {},
     "output_type": "execute_result"
    }
   ],
   "source": [
    "(\n",
    "    lf\n",
    "    .select(\n",
    "        'datetime',\n",
    "        pl.col('datetime').dt.year().alias('year'),\n",
    "        pl.col('datetime').dt.month().alias('month'),\n",
    "        pl.col('datetime').dt.day().alias('day'),\n",
    "        pl.col('datetime').dt.time().alias('time')\n",
    "    )\n",
    "    .fetch(5)\n",
    ")"
   ]
  },
  {
   "cell_type": "code",
   "execution_count": 187,
   "metadata": {},
   "outputs": [
    {
     "data": {
      "text/html": [
       "<div><style>\n",
       ".dataframe > thead > tr,\n",
       ".dataframe > tbody > tr {\n",
       "  text-align: right;\n",
       "  white-space: pre-wrap;\n",
       "}\n",
       "</style>\n",
       "<small>shape: (5, 5)</small><table border=\"1\" class=\"dataframe\"><thead><tr><th>datetime</th><th>temperature</th><th>wind_speed</th><th>pressure</th><th>humidity</th></tr><tr><td>datetime[μs]</td><td>f64</td><td>f64</td><td>f64</td><td>f64</td></tr></thead><tbody><tr><td>2017-01-01 00:00:00</td><td>2.44</td><td>3.0</td><td>1001.0</td><td>92.0</td></tr><tr><td>2017-01-01 01:00:00</td><td>2.19</td><td>9.0</td><td>1003.0</td><td>86.0</td></tr><tr><td>2017-01-01 02:00:00</td><td>2.41</td><td>7.0</td><td>1003.0</td><td>86.0</td></tr><tr><td>2017-01-01 03:00:00</td><td>2.42</td><td>5.0</td><td>1003.0</td><td>74.0</td></tr><tr><td>2017-01-01 04:00:00</td><td>1.77</td><td>6.0</td><td>1006.0</td><td>69.0</td></tr></tbody></table></div>"
      ],
      "text/plain": [
       "shape: (5, 5)\n",
       "┌─────────────────────┬─────────────┬────────────┬──────────┬──────────┐\n",
       "│ datetime            ┆ temperature ┆ wind_speed ┆ pressure ┆ humidity │\n",
       "│ ---                 ┆ ---         ┆ ---        ┆ ---      ┆ ---      │\n",
       "│ datetime[μs]        ┆ f64         ┆ f64        ┆ f64      ┆ f64      │\n",
       "╞═════════════════════╪═════════════╪════════════╪══════════╪══════════╡\n",
       "│ 2017-01-01 00:00:00 ┆ 2.44        ┆ 3.0        ┆ 1001.0   ┆ 92.0     │\n",
       "│ 2017-01-01 01:00:00 ┆ 2.19        ┆ 9.0        ┆ 1003.0   ┆ 86.0     │\n",
       "│ 2017-01-01 02:00:00 ┆ 2.41        ┆ 7.0        ┆ 1003.0   ┆ 86.0     │\n",
       "│ 2017-01-01 03:00:00 ┆ 2.42        ┆ 5.0        ┆ 1003.0   ┆ 74.0     │\n",
       "│ 2017-01-01 04:00:00 ┆ 1.77        ┆ 6.0        ┆ 1006.0   ┆ 69.0     │\n",
       "└─────────────────────┴─────────────┴────────────┴──────────┴──────────┘"
      ]
     },
     "execution_count": 187,
     "metadata": {},
     "output_type": "execute_result"
    }
   ],
   "source": [
    "from datetime import datetime\n",
    "\n",
    "filtered_lf = (\n",
    "    lf\n",
    "    .filter(\n",
    "        pl.col('datetime').dt.date().is_between(\n",
    "            datetime(2017,1,1), datetime(2017,12,31)\n",
    "        ),\n",
    "        pl.col('datetime').dt.hour() < 12\n",
    "    )\n",
    ")\n",
    "filtered_lf.head().collect()"
   ]
  },
  {
   "cell_type": "code",
   "execution_count": 188,
   "metadata": {},
   "outputs": [
    {
     "data": {
      "text/html": [
       "<div><style>\n",
       ".dataframe > thead > tr,\n",
       ".dataframe > tbody > tr {\n",
       "  text-align: right;\n",
       "  white-space: pre-wrap;\n",
       "}\n",
       "</style>\n",
       "<small>shape: (1, 2)</small><table border=\"1\" class=\"dataframe\"><thead><tr><th>year_cnt</th><th>hour_cnt</th></tr><tr><td>u32</td><td>u32</td></tr></thead><tbody><tr><td>1</td><td>12</td></tr></tbody></table></div>"
      ],
      "text/plain": [
       "shape: (1, 2)\n",
       "┌──────────┬──────────┐\n",
       "│ year_cnt ┆ hour_cnt │\n",
       "│ ---      ┆ ---      │\n",
       "│ u32      ┆ u32      │\n",
       "╞══════════╪══════════╡\n",
       "│ 1        ┆ 12       │\n",
       "└──────────┴──────────┘"
      ]
     },
     "execution_count": 188,
     "metadata": {},
     "output_type": "execute_result"
    }
   ],
   "source": [
    "(\n",
    "    filtered_lf\n",
    "    .select(\n",
    "        pl.col('datetime').dt.year().unique()\n",
    "        .implode()\n",
    "        .list.len()\n",
    "        .alias('year_cnt'),\n",
    "        pl.col('datetime').dt.hour().unique()\n",
    "        .implode()\n",
    "        .list.len()\n",
    "        .alias('hour_cnt')\n",
    "    )\n",
    "    .head()\n",
    "    .collect()\n",
    ")"
   ]
  },
  {
   "cell_type": "code",
   "execution_count": 217,
   "metadata": {},
   "outputs": [
    {
     "data": {
      "text/html": [
       "<div><style>\n",
       ".dataframe > thead > tr,\n",
       ".dataframe > tbody > tr {\n",
       "  text-align: right;\n",
       "  white-space: pre-wrap;\n",
       "}\n",
       "</style>\n",
       "<small>shape: (5, 3)</small><table border=\"1\" class=\"dataframe\"><thead><tr><th>datetime</th><th>replaced_time_zone_toronto</th><th>converted_time_zone_toronto</th></tr><tr><td>datetime[μs]</td><td>datetime[μs, America/Toronto]</td><td>datetime[μs, America/Toronto]</td></tr></thead><tbody><tr><td>2012-10-01 12:00:00</td><td>2012-10-01 12:00:00 EDT</td><td>2012-10-01 08:00:00 EDT</td></tr><tr><td>2012-10-01 13:00:00</td><td>2012-10-01 13:00:00 EDT</td><td>2012-10-01 09:00:00 EDT</td></tr><tr><td>2012-10-01 14:00:00</td><td>2012-10-01 14:00:00 EDT</td><td>2012-10-01 10:00:00 EDT</td></tr><tr><td>2012-10-01 15:00:00</td><td>2012-10-01 15:00:00 EDT</td><td>2012-10-01 11:00:00 EDT</td></tr><tr><td>2012-10-01 16:00:00</td><td>2012-10-01 16:00:00 EDT</td><td>2012-10-01 12:00:00 EDT</td></tr></tbody></table></div>"
      ],
      "text/plain": [
       "shape: (5, 3)\n",
       "┌─────────────────────┬───────────────────────────────┬───────────────────────────────┐\n",
       "│ datetime            ┆ replaced_time_zone_toronto    ┆ converted_time_zone_toronto   │\n",
       "│ ---                 ┆ ---                           ┆ ---                           │\n",
       "│ datetime[μs]        ┆ datetime[μs, America/Toronto] ┆ datetime[μs, America/Toronto] │\n",
       "╞═════════════════════╪═══════════════════════════════╪═══════════════════════════════╡\n",
       "│ 2012-10-01 12:00:00 ┆ 2012-10-01 12:00:00 EDT       ┆ 2012-10-01 08:00:00 EDT       │\n",
       "│ 2012-10-01 13:00:00 ┆ 2012-10-01 13:00:00 EDT       ┆ 2012-10-01 09:00:00 EDT       │\n",
       "│ 2012-10-01 14:00:00 ┆ 2012-10-01 14:00:00 EDT       ┆ 2012-10-01 10:00:00 EDT       │\n",
       "│ 2012-10-01 15:00:00 ┆ 2012-10-01 15:00:00 EDT       ┆ 2012-10-01 11:00:00 EDT       │\n",
       "│ 2012-10-01 16:00:00 ┆ 2012-10-01 16:00:00 EDT       ┆ 2012-10-01 12:00:00 EDT       │\n",
       "└─────────────────────┴───────────────────────────────┴───────────────────────────────┘"
      ]
     },
     "execution_count": 217,
     "metadata": {},
     "output_type": "execute_result"
    }
   ],
   "source": [
    "time_zones_lf = (\n",
    "    lf\n",
    "    .select(\n",
    "        'datetime',\n",
    "        pl.col('datetime').dt.replace_time_zone('America/Toronto')\n",
    "        .alias('replaced_time_zone_toronto'),\n",
    "        pl.col('datetime').dt.convert_time_zone('America/Toronto')\n",
    "        .alias('converted_time_zone_toronto')\n",
    "    )\n",
    ")\n",
    "time_zones_lf.head().collect()"
   ]
  },
  {
   "cell_type": "code",
   "execution_count": null,
   "metadata": {},
   "outputs": [],
   "source": []
  }
 ],
 "metadata": {
  "kernelspec": {
   "display_name": ".venv",
   "language": "python",
   "name": "python3"
  },
  "language_info": {
   "codemirror_mode": {
    "name": "ipython",
    "version": 3
   },
   "file_extension": ".py",
   "mimetype": "text/x-python",
   "name": "python",
   "nbconvert_exporter": "python",
   "pygments_lexer": "ipython3",
   "version": "3.11.3"
  }
 },
 "nbformat": 4,
 "nbformat_minor": 2
}
