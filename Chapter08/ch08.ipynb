{
 "cells": [
  {
   "cell_type": "markdown",
   "metadata": {},
   "source": [
    "# Chapter 8: Reshaping and tidying data"
   ]
  },
  {
   "cell_type": "markdown",
   "metadata": {},
   "source": [
    "## Technical Requirements"
   ]
  },
  {
   "cell_type": "code",
   "execution_count": 1,
   "metadata": {},
   "outputs": [],
   "source": [
    "import polars as pl"
   ]
  },
  {
   "cell_type": "code",
   "execution_count": 2,
   "metadata": {},
   "outputs": [
    {
     "data": {
      "text/html": [
       "<div><style>\n",
       ".dataframe > thead > tr,\n",
       ".dataframe > tbody > tr {\n",
       "  text-align: right;\n",
       "  white-space: pre-wrap;\n",
       "}\n",
       "</style>\n",
       "<small>shape: (5, 7)</small><table border=\"1\" class=\"dataframe\"><thead><tr><th>year</th><th>students</th><th>us_students</th><th>undergraduate</th><th>graduate</th><th>non_degree</th><th>opt</th></tr><tr><td>str</td><td>i64</td><td>f64</td><td>f64</td><td>f64</td><td>f64</td><td>f64</td></tr></thead><tbody><tr><td>&quot;1948/49&quot;</td><td>25464</td><td>2.4034e6</td><td>null</td><td>null</td><td>null</td><td>null</td></tr><tr><td>&quot;1949/50&quot;</td><td>26433</td><td>2.445e6</td><td>null</td><td>null</td><td>null</td><td>null</td></tr><tr><td>&quot;1950/51&quot;</td><td>29813</td><td>2.281e6</td><td>null</td><td>null</td><td>null</td><td>null</td></tr><tr><td>&quot;1951/52&quot;</td><td>30462</td><td>2.102e6</td><td>null</td><td>null</td><td>null</td><td>null</td></tr><tr><td>&quot;1952/53&quot;</td><td>33675</td><td>2.134e6</td><td>null</td><td>null</td><td>null</td><td>null</td></tr></tbody></table></div>"
      ],
      "text/plain": [
       "shape: (5, 7)\n",
       "┌─────────┬──────────┬─────────────┬───────────────┬──────────┬────────────┬──────┐\n",
       "│ year    ┆ students ┆ us_students ┆ undergraduate ┆ graduate ┆ non_degree ┆ opt  │\n",
       "│ ---     ┆ ---      ┆ ---         ┆ ---           ┆ ---      ┆ ---        ┆ ---  │\n",
       "│ str     ┆ i64      ┆ f64         ┆ f64           ┆ f64      ┆ f64        ┆ f64  │\n",
       "╞═════════╪══════════╪═════════════╪═══════════════╪══════════╪════════════╪══════╡\n",
       "│ 1948/49 ┆ 25464    ┆ 2.4034e6    ┆ null          ┆ null     ┆ null       ┆ null │\n",
       "│ 1949/50 ┆ 26433    ┆ 2.445e6     ┆ null          ┆ null     ┆ null       ┆ null │\n",
       "│ 1950/51 ┆ 29813    ┆ 2.281e6     ┆ null          ┆ null     ┆ null       ┆ null │\n",
       "│ 1951/52 ┆ 30462    ┆ 2.102e6     ┆ null          ┆ null     ┆ null       ┆ null │\n",
       "│ 1952/53 ┆ 33675    ┆ 2.134e6     ┆ null          ┆ null     ┆ null       ┆ null │\n",
       "└─────────┴──────────┴─────────────┴───────────────┴──────────┴────────────┴──────┘"
      ]
     },
     "execution_count": 2,
     "metadata": {},
     "output_type": "execute_result"
    }
   ],
   "source": [
    "df = pl.read_csv('../data/academic.csv')\n",
    "df.head()"
   ]
  },
  {
   "cell_type": "code",
   "execution_count": 3,
   "metadata": {},
   "outputs": [],
   "source": [
    "from polars import selectors as cs\n",
    "df = (\n",
    "    df\n",
    "    .select(\n",
    "        pl.col('year').alias('academic_year'), \n",
    "        cs.float().cast(pl.Int64)\n",
    "    )\n",
    "    .filter(pl.col('academic_year').str.slice(0,4).cast(pl.Int32)>=2018)\n",
    ")"
   ]
  },
  {
   "cell_type": "code",
   "execution_count": 4,
   "metadata": {},
   "outputs": [
    {
     "data": {
      "text/html": [
       "<div><style>\n",
       ".dataframe > thead > tr,\n",
       ".dataframe > tbody > tr {\n",
       "  text-align: right;\n",
       "  white-space: pre-wrap;\n",
       "}\n",
       "</style>\n",
       "<small>shape: (5, 6)</small><table border=\"1\" class=\"dataframe\"><thead><tr><th>academic_year</th><th>us_students</th><th>undergraduate</th><th>graduate</th><th>non_degree</th><th>opt</th></tr><tr><td>str</td><td>i64</td><td>i64</td><td>i64</td><td>i64</td><td>i64</td></tr></thead><tbody><tr><td>&quot;2018/19&quot;</td><td>19828000</td><td>431930</td><td>377943</td><td>62341</td><td>223085</td></tr><tr><td>&quot;2019/20&quot;</td><td>19720000</td><td>419321</td><td>374435</td><td>58201</td><td>223539</td></tr><tr><td>&quot;2020/21&quot;</td><td>19744000</td><td>359787</td><td>329272</td><td>21151</td><td>203885</td></tr><tr><td>&quot;2021/22&quot;</td><td>20327000</td><td>344532</td><td>385097</td><td>34131</td><td>184759</td></tr><tr><td>&quot;2022/23&quot;</td><td>18961280</td><td>347602</td><td>467027</td><td>43766</td><td>198793</td></tr></tbody></table></div>"
      ],
      "text/plain": [
       "shape: (5, 6)\n",
       "┌───────────────┬─────────────┬───────────────┬──────────┬────────────┬────────┐\n",
       "│ academic_year ┆ us_students ┆ undergraduate ┆ graduate ┆ non_degree ┆ opt    │\n",
       "│ ---           ┆ ---         ┆ ---           ┆ ---      ┆ ---        ┆ ---    │\n",
       "│ str           ┆ i64         ┆ i64           ┆ i64      ┆ i64        ┆ i64    │\n",
       "╞═══════════════╪═════════════╪═══════════════╪══════════╪════════════╪════════╡\n",
       "│ 2018/19       ┆ 19828000    ┆ 431930        ┆ 377943   ┆ 62341      ┆ 223085 │\n",
       "│ 2019/20       ┆ 19720000    ┆ 419321        ┆ 374435   ┆ 58201      ┆ 223539 │\n",
       "│ 2020/21       ┆ 19744000    ┆ 359787        ┆ 329272   ┆ 21151      ┆ 203885 │\n",
       "│ 2021/22       ┆ 20327000    ┆ 344532        ┆ 385097   ┆ 34131      ┆ 184759 │\n",
       "│ 2022/23       ┆ 18961280    ┆ 347602        ┆ 467027   ┆ 43766      ┆ 198793 │\n",
       "└───────────────┴─────────────┴───────────────┴──────────┴────────────┴────────┘"
      ]
     },
     "execution_count": 4,
     "metadata": {},
     "output_type": "execute_result"
    }
   ],
   "source": [
    "df.head()"
   ]
  },
  {
   "cell_type": "markdown",
   "metadata": {},
   "source": [
    "## Turning columns into rows"
   ]
  },
  {
   "cell_type": "markdown",
   "metadata": {},
   "source": [
    "### How to do it..."
   ]
  },
  {
   "cell_type": "code",
   "execution_count": 17,
   "metadata": {},
   "outputs": [
    {
     "data": {
      "text/html": [
       "<div><style>\n",
       ".dataframe > thead > tr,\n",
       ".dataframe > tbody > tr {\n",
       "  text-align: right;\n",
       "  white-space: pre-wrap;\n",
       "}\n",
       "</style>\n",
       "<small>shape: (5, 3)</small><table border=\"1\" class=\"dataframe\"><thead><tr><th>academic_year</th><th>student_type</th><th>count</th></tr><tr><td>str</td><td>str</td><td>i64</td></tr></thead><tbody><tr><td>&quot;2018/19&quot;</td><td>&quot;us_students&quot;</td><td>19828000</td></tr><tr><td>&quot;2019/20&quot;</td><td>&quot;us_students&quot;</td><td>19720000</td></tr><tr><td>&quot;2020/21&quot;</td><td>&quot;us_students&quot;</td><td>19744000</td></tr><tr><td>&quot;2021/22&quot;</td><td>&quot;us_students&quot;</td><td>20327000</td></tr><tr><td>&quot;2022/23&quot;</td><td>&quot;us_students&quot;</td><td>18961280</td></tr></tbody></table></div>"
      ],
      "text/plain": [
       "shape: (5, 3)\n",
       "┌───────────────┬──────────────┬──────────┐\n",
       "│ academic_year ┆ student_type ┆ count    │\n",
       "│ ---           ┆ ---          ┆ ---      │\n",
       "│ str           ┆ str          ┆ i64      │\n",
       "╞═══════════════╪══════════════╪══════════╡\n",
       "│ 2018/19       ┆ us_students  ┆ 19828000 │\n",
       "│ 2019/20       ┆ us_students  ┆ 19720000 │\n",
       "│ 2020/21       ┆ us_students  ┆ 19744000 │\n",
       "│ 2021/22       ┆ us_students  ┆ 20327000 │\n",
       "│ 2022/23       ┆ us_students  ┆ 18961280 │\n",
       "└───────────────┴──────────────┴──────────┘"
      ]
     },
     "execution_count": 17,
     "metadata": {},
     "output_type": "execute_result"
    }
   ],
   "source": [
    "long_df = df.melt(\n",
    "    id_vars='academic_year', \n",
    "    value_vars=[\n",
    "        'us_students',\n",
    "        'undergraduate',\n",
    "        'graduate',\n",
    "        'non_degree',\n",
    "        'opt'\n",
    "    ],\n",
    "    variable_name='student_type',\n",
    "    value_name='count'\n",
    ")\n",
    "long_df.head()"
   ]
  },
  {
   "cell_type": "code",
   "execution_count": 19,
   "metadata": {},
   "outputs": [
    {
     "data": {
      "text/html": [
       "<div><style>\n",
       ".dataframe > thead > tr,\n",
       ".dataframe > tbody > tr {\n",
       "  text-align: right;\n",
       "  white-space: pre-wrap;\n",
       "}\n",
       "</style>\n",
       "<small>shape: (5, 1)</small><table border=\"1\" class=\"dataframe\"><thead><tr><th>student_type</th></tr><tr><td>str</td></tr></thead><tbody><tr><td>&quot;opt&quot;</td></tr><tr><td>&quot;non_degree&quot;</td></tr><tr><td>&quot;undergraduate&quot;</td></tr><tr><td>&quot;us_students&quot;</td></tr><tr><td>&quot;graduate&quot;</td></tr></tbody></table></div>"
      ],
      "text/plain": [
       "shape: (5, 1)\n",
       "┌───────────────┐\n",
       "│ student_type  │\n",
       "│ ---           │\n",
       "│ str           │\n",
       "╞═══════════════╡\n",
       "│ opt           │\n",
       "│ non_degree    │\n",
       "│ undergraduate │\n",
       "│ us_students   │\n",
       "│ graduate      │\n",
       "└───────────────┘"
      ]
     },
     "execution_count": 19,
     "metadata": {},
     "output_type": "execute_result"
    }
   ],
   "source": [
    "long_df.select('student_type').unique()"
   ]
  },
  {
   "cell_type": "code",
   "execution_count": 23,
   "metadata": {},
   "outputs": [
    {
     "data": {
      "text/html": [
       "<div><style>\n",
       ".dataframe > thead > tr,\n",
       ".dataframe > tbody > tr {\n",
       "  text-align: right;\n",
       "  white-space: pre-wrap;\n",
       "}\n",
       "</style>\n",
       "<small>shape: (5, 3)</small><table border=\"1\" class=\"dataframe\"><thead><tr><th>academic_year</th><th>variable</th><th>value</th></tr><tr><td>str</td><td>str</td><td>i64</td></tr></thead><tbody><tr><td>&quot;2018/19&quot;</td><td>&quot;us_students&quot;</td><td>19828000</td></tr><tr><td>&quot;2019/20&quot;</td><td>&quot;us_students&quot;</td><td>19720000</td></tr><tr><td>&quot;2020/21&quot;</td><td>&quot;us_students&quot;</td><td>19744000</td></tr><tr><td>&quot;2021/22&quot;</td><td>&quot;us_students&quot;</td><td>20327000</td></tr><tr><td>&quot;2022/23&quot;</td><td>&quot;us_students&quot;</td><td>18961280</td></tr></tbody></table></div>"
      ],
      "text/plain": [
       "shape: (5, 3)\n",
       "┌───────────────┬─────────────┬──────────┐\n",
       "│ academic_year ┆ variable    ┆ value    │\n",
       "│ ---           ┆ ---         ┆ ---      │\n",
       "│ str           ┆ str         ┆ i64      │\n",
       "╞═══════════════╪═════════════╪══════════╡\n",
       "│ 2018/19       ┆ us_students ┆ 19828000 │\n",
       "│ 2019/20       ┆ us_students ┆ 19720000 │\n",
       "│ 2020/21       ┆ us_students ┆ 19744000 │\n",
       "│ 2021/22       ┆ us_students ┆ 20327000 │\n",
       "│ 2022/23       ┆ us_students ┆ 18961280 │\n",
       "└───────────────┴─────────────┴──────────┘"
      ]
     },
     "execution_count": 23,
     "metadata": {},
     "output_type": "execute_result"
    }
   ],
   "source": [
    "df.melt(\n",
    "    id_vars='academic_year', \n",
    "    value_vars=cs.numeric()\n",
    ").head()"
   ]
  },
  {
   "cell_type": "code",
   "execution_count": 20,
   "metadata": {},
   "outputs": [],
   "source": [
    "lf = df.lazy()"
   ]
  },
  {
   "cell_type": "code",
   "execution_count": 24,
   "metadata": {},
   "outputs": [
    {
     "data": {
      "text/html": [
       "<div><style>\n",
       ".dataframe > thead > tr,\n",
       ".dataframe > tbody > tr {\n",
       "  text-align: right;\n",
       "  white-space: pre-wrap;\n",
       "}\n",
       "</style>\n",
       "<small>shape: (5, 3)</small><table border=\"1\" class=\"dataframe\"><thead><tr><th>academic_year</th><th>student_type</th><th>count</th></tr><tr><td>str</td><td>str</td><td>i64</td></tr></thead><tbody><tr><td>&quot;2018/19&quot;</td><td>&quot;us_students&quot;</td><td>19828000</td></tr><tr><td>&quot;2019/20&quot;</td><td>&quot;us_students&quot;</td><td>19720000</td></tr><tr><td>&quot;2020/21&quot;</td><td>&quot;us_students&quot;</td><td>19744000</td></tr><tr><td>&quot;2021/22&quot;</td><td>&quot;us_students&quot;</td><td>20327000</td></tr><tr><td>&quot;2022/23&quot;</td><td>&quot;us_students&quot;</td><td>18961280</td></tr></tbody></table></div>"
      ],
      "text/plain": [
       "shape: (5, 3)\n",
       "┌───────────────┬──────────────┬──────────┐\n",
       "│ academic_year ┆ student_type ┆ count    │\n",
       "│ ---           ┆ ---          ┆ ---      │\n",
       "│ str           ┆ str          ┆ i64      │\n",
       "╞═══════════════╪══════════════╪══════════╡\n",
       "│ 2018/19       ┆ us_students  ┆ 19828000 │\n",
       "│ 2019/20       ┆ us_students  ┆ 19720000 │\n",
       "│ 2020/21       ┆ us_students  ┆ 19744000 │\n",
       "│ 2021/22       ┆ us_students  ┆ 20327000 │\n",
       "│ 2022/23       ┆ us_students  ┆ 18961280 │\n",
       "└───────────────┴──────────────┴──────────┘"
      ]
     },
     "execution_count": 24,
     "metadata": {},
     "output_type": "execute_result"
    }
   ],
   "source": [
    "(\n",
    "    lf\n",
    "    .melt(\n",
    "        id_vars='academic_year', \n",
    "        value_vars=cs.numeric(),\n",
    "        variable_name='student_type',\n",
    "        value_name='count'\n",
    "    )\n",
    "    .collect()\n",
    "    .head()\n",
    ")"
   ]
  },
  {
   "cell_type": "code",
   "execution_count": null,
   "metadata": {},
   "outputs": [],
   "source": []
  }
 ],
 "metadata": {
  "kernelspec": {
   "display_name": ".venv",
   "language": "python",
   "name": "python3"
  },
  "language_info": {
   "codemirror_mode": {
    "name": "ipython",
    "version": 3
   },
   "file_extension": ".py",
   "mimetype": "text/x-python",
   "name": "python",
   "nbconvert_exporter": "python",
   "pygments_lexer": "ipython3",
   "version": "3.11.3"
  }
 },
 "nbformat": 4,
 "nbformat_minor": 2
}
