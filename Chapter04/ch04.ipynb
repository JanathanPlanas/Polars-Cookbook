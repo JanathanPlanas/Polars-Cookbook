{
 "cells": [
  {
   "cell_type": "markdown",
   "metadata": {},
   "source": [
    "# Aggregations, Window Functions, and UDFs "
   ]
  },
  {
   "cell_type": "markdown",
   "metadata": {},
   "source": [
    "## Simple aggregations"
   ]
  },
  {
   "cell_type": "markdown",
   "metadata": {},
   "source": [
    "### How to do it..."
   ]
  },
  {
   "cell_type": "code",
   "execution_count": 1,
   "metadata": {},
   "outputs": [],
   "source": [
    "import polars as pl"
   ]
  },
  {
   "cell_type": "code",
   "execution_count": 56,
   "metadata": {},
   "outputs": [],
   "source": [
    "df = pl.read_csv('../data/constoso_sales.csv', try_parse_dates=True)"
   ]
  },
  {
   "cell_type": "code",
   "execution_count": 57,
   "metadata": {},
   "outputs": [
    {
     "data": {
      "text/html": [
       "<div><style>\n",
       ".dataframe > thead > tr > th,\n",
       ".dataframe > tbody > tr > td {\n",
       "  text-align: right;\n",
       "  white-space: pre-wrap;\n",
       "}\n",
       "</style>\n",
       "<small>shape: (5, 20)</small><table border=\"1\" class=\"dataframe\"><thead><tr><th>Order Number</th><th>Line Number</th><th>Order Date</th><th>Delivery Date</th><th>Customer Name</th><th>Customer Gender</th><th>Customer Country</th><th>Customer Age</th><th>Store Name</th><th>Product Name</th><th>Color</th><th>Brand</th><th>Category</th><th>Subcategory</th><th>Quantity</th><th>Unit Price</th><th>Net Price</th><th>Unit Cost</th><th>Currency Code</th><th>Exchange Rate</th></tr><tr><td>i64</td><td>i64</td><td>date</td><td>date</td><td>str</td><td>str</td><td>str</td><td>i64</td><td>str</td><td>str</td><td>str</td><td>str</td><td>str</td><td>str</td><td>i64</td><td>f64</td><td>f64</td><td>f64</td><td>str</td><td>f64</td></tr></thead><tbody><tr><td>284806</td><td>1</td><td>2017-10-18</td><td>2017-10-20</td><td>&quot;Eric Kennedy&quot;</td><td>&quot;Male&quot;</td><td>&quot;United States&quot;</td><td>47</td><td>&quot;Online store&quot;</td><td>&quot;Contoso 512MB …</td><td>&quot;Silver&quot;</td><td>&quot;Contoso&quot;</td><td>&quot;Audio&quot;</td><td>&quot;MP4&amp;MP3&quot;</td><td>7</td><td>11.691</td><td>10.288</td><td>5.958</td><td>&quot;USD&quot;</td><td>1.0</td></tr><tr><td>285506</td><td>1</td><td>2017-10-25</td><td>2017-10-26</td><td>&quot;George Tooth&quot;</td><td>&quot;Male&quot;</td><td>&quot;Australia&quot;</td><td>30</td><td>&quot;Online store&quot;</td><td>&quot;Contoso 512MB …</td><td>&quot;Silver&quot;</td><td>&quot;Contoso&quot;</td><td>&quot;Audio&quot;</td><td>&quot;MP4&amp;MP3&quot;</td><td>1</td><td>11.691</td><td>11.691</td><td>5.958</td><td>&quot;AUD&quot;</td><td>1.2967</td></tr><tr><td>311002</td><td>2</td><td>2018-07-07</td><td>2018-07-12</td><td>&quot;Caleb Greene&quot;</td><td>&quot;Male&quot;</td><td>&quot;Australia&quot;</td><td>59</td><td>&quot;Online store&quot;</td><td>&quot;Contoso 512MB …</td><td>&quot;Silver&quot;</td><td>&quot;Contoso&quot;</td><td>&quot;Audio&quot;</td><td>&quot;MP4&amp;MP3&quot;</td><td>6</td><td>12.99</td><td>12.99</td><td>6.62</td><td>&quot;AUD&quot;</td><td>1.3484</td></tr><tr><td>366307</td><td>2</td><td>2020-01-11</td><td>2020-01-11</td><td>&quot;Isaac Siddins&quot;</td><td>&quot;Male&quot;</td><td>&quot;Australia&quot;</td><td>25</td><td>&quot;Contoso Store …</td><td>&quot;Contoso 512MB …</td><td>&quot;Blue&quot;</td><td>&quot;Contoso&quot;</td><td>&quot;Audio&quot;</td><td>&quot;MP4&amp;MP3&quot;</td><td>4</td><td>12.99</td><td>12.99</td><td>6.62</td><td>&quot;AUD&quot;</td><td>1.4545</td></tr><tr><td>325708</td><td>3</td><td>2018-12-01</td><td>2018-12-02</td><td>&quot;Mike McQueen&quot;</td><td>&quot;Male&quot;</td><td>&quot;United States&quot;</td><td>56</td><td>&quot;Online store&quot;</td><td>&quot;Contoso 512MB …</td><td>&quot;Blue&quot;</td><td>&quot;Contoso&quot;</td><td>&quot;Audio&quot;</td><td>&quot;MP4&amp;MP3&quot;</td><td>2</td><td>12.99</td><td>11.5611</td><td>6.62</td><td>&quot;USD&quot;</td><td>1.0</td></tr></tbody></table></div>"
      ],
      "text/plain": [
       "shape: (5, 20)\n",
       "┌────────┬────────┬─────────────┬─────────────┬───┬─────────────┬───────┬─────────────┬────────────┐\n",
       "│ Order  ┆ Line   ┆ Order Date  ┆ Delivery    ┆ … ┆ Net Price   ┆ Unit  ┆ Currency    ┆ Exchange   │\n",
       "│ Number ┆ Number ┆ ---         ┆ Date        ┆   ┆ ---         ┆ Cost  ┆ Code        ┆ Rate       │\n",
       "│ ---    ┆ ---    ┆ date        ┆ ---         ┆   ┆ f64         ┆ ---   ┆ ---         ┆ ---        │\n",
       "│ i64    ┆ i64    ┆             ┆ date        ┆   ┆             ┆ f64   ┆ str         ┆ f64        │\n",
       "╞════════╪════════╪═════════════╪═════════════╪═══╪═════════════╪═══════╪═════════════╪════════════╡\n",
       "│ 284806 ┆ 1      ┆ 2017-10-18  ┆ 2017-10-20  ┆ … ┆ 10.288      ┆ 5.958 ┆ USD         ┆ 1.0        │\n",
       "│ 285506 ┆ 1      ┆ 2017-10-25  ┆ 2017-10-26  ┆ … ┆ 11.691      ┆ 5.958 ┆ AUD         ┆ 1.2967     │\n",
       "│ 311002 ┆ 2      ┆ 2018-07-07  ┆ 2018-07-12  ┆ … ┆ 12.99       ┆ 6.62  ┆ AUD         ┆ 1.3484     │\n",
       "│ 366307 ┆ 2      ┆ 2020-01-11  ┆ 2020-01-11  ┆ … ┆ 12.99       ┆ 6.62  ┆ AUD         ┆ 1.4545     │\n",
       "│ 325708 ┆ 3      ┆ 2018-12-01  ┆ 2018-12-02  ┆ … ┆ 11.5611     ┆ 6.62  ┆ USD         ┆ 1.0        │\n",
       "└────────┴────────┴─────────────┴─────────────┴───┴─────────────┴───────┴─────────────┴────────────┘"
      ]
     },
     "execution_count": 57,
     "metadata": {},
     "output_type": "execute_result"
    }
   ],
   "source": [
    "df.head()"
   ]
  },
  {
   "cell_type": "code",
   "execution_count": 58,
   "metadata": {},
   "outputs": [
    {
     "data": {
      "text/html": [
       "<div><style>\n",
       ".dataframe > thead > tr > th,\n",
       ".dataframe > tbody > tr > td {\n",
       "  text-align: right;\n",
       "  white-space: pre-wrap;\n",
       "}\n",
       "</style>\n",
       "<small>shape: (1, 8)</small><table border=\"1\" class=\"dataframe\"><thead><tr><th>Order Number</th><th>Line Number</th><th>Customer Age</th><th>Quantity</th><th>Unit Price</th><th>Net Price</th><th>Unit Cost</th><th>Exchange Rate</th></tr><tr><td>i64</td><td>i64</td><td>i64</td><td>i64</td><td>f64</td><td>f64</td><td>f64</td><td>f64</td></tr></thead><tbody><tr><td>4466019052</td><td>16195</td><td>725757</td><td>43517</td><td>4.1785e6</td><td>3.9286e6</td><td>1.7356e6</td><td>14124.4597</td></tr></tbody></table></div>"
      ],
      "text/plain": [
       "shape: (1, 8)\n",
       "┌─────────────┬────────┬─────────────┬──────────┬─────────────┬───────────┬───────────┬────────────┐\n",
       "│ Order       ┆ Line   ┆ Customer    ┆ Quantity ┆ Unit Price  ┆ Net Price ┆ Unit Cost ┆ Exchange   │\n",
       "│ Number      ┆ Number ┆ Age         ┆ ---      ┆ ---         ┆ ---       ┆ ---       ┆ Rate       │\n",
       "│ ---         ┆ ---    ┆ ---         ┆ i64      ┆ f64         ┆ f64       ┆ f64       ┆ ---        │\n",
       "│ i64         ┆ i64    ┆ i64         ┆          ┆             ┆           ┆           ┆ f64        │\n",
       "╞═════════════╪════════╪═════════════╪══════════╪═════════════╪═══════════╪═══════════╪════════════╡\n",
       "│ 4466019052  ┆ 16195  ┆ 725757      ┆ 43517    ┆ 4.1785e6    ┆ 3.9286e6  ┆ 1.7356e6  ┆ 14124.4597 │\n",
       "└─────────────┴────────┴─────────────┴──────────┴─────────────┴───────────┴───────────┴────────────┘"
      ]
     },
     "execution_count": 58,
     "metadata": {},
     "output_type": "execute_result"
    }
   ],
   "source": [
    "from polars import selectors as cs\n",
    "(\n",
    "    df\n",
    "    .select(cs.numeric())\n",
    "    .sum()\n",
    ")"
   ]
  },
  {
   "cell_type": "code",
   "execution_count": 59,
   "metadata": {},
   "outputs": [
    {
     "data": {
      "text/plain": [
       "43517"
      ]
     },
     "execution_count": 59,
     "metadata": {},
     "output_type": "execute_result"
    }
   ],
   "source": [
    "s = df.select('Quantity').to_series()\n",
    "s.sum()"
   ]
  },
  {
   "cell_type": "code",
   "execution_count": 60,
   "metadata": {},
   "outputs": [
    {
     "data": {
      "text/html": [
       "<div><style>\n",
       ".dataframe > thead > tr > th,\n",
       ".dataframe > tbody > tr > td {\n",
       "  text-align: right;\n",
       "  white-space: pre-wrap;\n",
       "}\n",
       "</style>\n",
       "<small>shape: (1, 1)</small><table border=\"1\" class=\"dataframe\"><thead><tr><th>Quantity</th></tr><tr><td>i64</td></tr></thead><tbody><tr><td>43517</td></tr></tbody></table></div>"
      ],
      "text/plain": [
       "shape: (1, 1)\n",
       "┌──────────┐\n",
       "│ Quantity │\n",
       "│ ---      │\n",
       "│ i64      │\n",
       "╞══════════╡\n",
       "│ 43517    │\n",
       "└──────────┘"
      ]
     },
     "execution_count": 60,
     "metadata": {},
     "output_type": "execute_result"
    }
   ],
   "source": [
    "df.select(pl.col('Quantity').sum())"
   ]
  },
  {
   "cell_type": "code",
   "execution_count": 64,
   "metadata": {},
   "outputs": [
    {
     "data": {
      "text/html": [
       "<div><style>\n",
       ".dataframe > thead > tr > th,\n",
       ".dataframe > tbody > tr > td {\n",
       "  text-align: right;\n",
       "  white-space: pre-wrap;\n",
       "}\n",
       "</style>\n",
       "<small>shape: (1, 2)</small><table border=\"1\" class=\"dataframe\"><thead><tr><th>Cust Name First</th><th>Cust Name Last</th></tr><tr><td>str</td><td>str</td></tr></thead><tbody><tr><td>&quot;Eric Kennedy&quot;</td><td>&quot;Billy Ratliff&quot;</td></tr></tbody></table></div>"
      ],
      "text/plain": [
       "shape: (1, 2)\n",
       "┌─────────────────┬────────────────┐\n",
       "│ Cust Name First ┆ Cust Name Last │\n",
       "│ ---             ┆ ---            │\n",
       "│ str             ┆ str            │\n",
       "╞═════════════════╪════════════════╡\n",
       "│ Eric Kennedy    ┆ Billy Ratliff  │\n",
       "└─────────────────┴────────────────┘"
      ]
     },
     "execution_count": 64,
     "metadata": {},
     "output_type": "execute_result"
    }
   ],
   "source": [
    "df.select(\n",
    "    pl.col('Customer Name').first().alias('Cust Name First'),\n",
    "    pl.col('Customer Name').last().alias('Cust Name Last')\n",
    ")"
   ]
  },
  {
   "cell_type": "code",
   "execution_count": 61,
   "metadata": {},
   "outputs": [
    {
     "data": {
      "text/html": [
       "<div><style>\n",
       ".dataframe > thead > tr > th,\n",
       ".dataframe > tbody > tr > td {\n",
       "  text-align: right;\n",
       "  white-space: pre-wrap;\n",
       "}\n",
       "</style>\n",
       "<small>shape: (9, 9)</small><table border=\"1\" class=\"dataframe\"><thead><tr><th>describe</th><th>Order Number</th><th>Line Number</th><th>Customer Age</th><th>Quantity</th><th>Unit Price</th><th>Net Price</th><th>Unit Cost</th><th>Exchange Rate</th></tr><tr><td>str</td><td>f64</td><td>f64</td><td>f64</td><td>f64</td><td>f64</td><td>f64</td><td>f64</td><td>f64</td></tr></thead><tbody><tr><td>&quot;count&quot;</td><td>13915.0</td><td>13915.0</td><td>13915.0</td><td>13915.0</td><td>13915.0</td><td>13915.0</td><td>13915.0</td><td>13915.0</td></tr><tr><td>&quot;null_count&quot;</td><td>0.0</td><td>0.0</td><td>0.0</td><td>0.0</td><td>0.0</td><td>0.0</td><td>0.0</td><td>0.0</td></tr><tr><td>&quot;mean&quot;</td><td>320949.985771</td><td>1.163852</td><td>52.15645</td><td>3.127345</td><td>300.28425</td><td>282.32739</td><td>124.731364</td><td>1.015053</td></tr><tr><td>&quot;std&quot;</td><td>28431.79136</td><td>1.361349</td><td>19.133881</td><td>2.233597</td><td>405.538975</td><td>381.738847</td><td>147.944094</td><td>0.171927</td></tr><tr><td>&quot;min&quot;</td><td>269500.0</td><td>0.0</td><td>19.0</td><td>1.0</td><td>0.95</td><td>0.8265</td><td>0.48</td><td>0.7015</td></tr><tr><td>&quot;25%&quot;</td><td>295901.0</td><td>0.0</td><td>36.0</td><td>1.0</td><td>46.99</td><td>43.4</td><td>21.92</td><td>0.8965</td></tr><tr><td>&quot;50%&quot;</td><td>319806.0</td><td>1.0</td><td>52.0</td><td>2.0</td><td>207.987</td><td>194.91</td><td>86.68</td><td>1.0</td></tr><tr><td>&quot;75%&quot;</td><td>345106.0</td><td>2.0</td><td>68.0</td><td>4.0</td><td>361.2</td><td>336.0</td><td>160.93</td><td>1.0</td></tr><tr><td>&quot;max&quot;</td><td>371503.0</td><td>6.0</td><td>85.0</td><td>10.0</td><td>3748.5</td><td>3748.5</td><td>1241.955</td><td>1.5373</td></tr></tbody></table></div>"
      ],
      "text/plain": [
       "shape: (9, 9)\n",
       "┌───────────┬───────────┬───────────┬───────────┬───┬───────────┬───────────┬───────────┬──────────┐\n",
       "│ describe  ┆ Order     ┆ Line      ┆ Customer  ┆ … ┆ Unit      ┆ Net Price ┆ Unit Cost ┆ Exchange │\n",
       "│ ---       ┆ Number    ┆ Number    ┆ Age       ┆   ┆ Price     ┆ ---       ┆ ---       ┆ Rate     │\n",
       "│ str       ┆ ---       ┆ ---       ┆ ---       ┆   ┆ ---       ┆ f64       ┆ f64       ┆ ---      │\n",
       "│           ┆ f64       ┆ f64       ┆ f64       ┆   ┆ f64       ┆           ┆           ┆ f64      │\n",
       "╞═══════════╪═══════════╪═══════════╪═══════════╪═══╪═══════════╪═══════════╪═══════════╪══════════╡\n",
       "│ count     ┆ 13915.0   ┆ 13915.0   ┆ 13915.0   ┆ … ┆ 13915.0   ┆ 13915.0   ┆ 13915.0   ┆ 13915.0  │\n",
       "│ null_coun ┆ 0.0       ┆ 0.0       ┆ 0.0       ┆ … ┆ 0.0       ┆ 0.0       ┆ 0.0       ┆ 0.0      │\n",
       "│ t         ┆           ┆           ┆           ┆   ┆           ┆           ┆           ┆          │\n",
       "│ mean      ┆ 320949.98 ┆ 1.163852  ┆ 52.15645  ┆ … ┆ 300.28425 ┆ 282.32739 ┆ 124.73136 ┆ 1.015053 │\n",
       "│           ┆ 5771      ┆           ┆           ┆   ┆           ┆           ┆ 4         ┆          │\n",
       "│ std       ┆ 28431.791 ┆ 1.361349  ┆ 19.133881 ┆ … ┆ 405.53897 ┆ 381.73884 ┆ 147.94409 ┆ 0.171927 │\n",
       "│           ┆ 36        ┆           ┆           ┆   ┆ 5         ┆ 7         ┆ 4         ┆          │\n",
       "│ min       ┆ 269500.0  ┆ 0.0       ┆ 19.0      ┆ … ┆ 0.95      ┆ 0.8265    ┆ 0.48      ┆ 0.7015   │\n",
       "│ 25%       ┆ 295901.0  ┆ 0.0       ┆ 36.0      ┆ … ┆ 46.99     ┆ 43.4      ┆ 21.92     ┆ 0.8965   │\n",
       "│ 50%       ┆ 319806.0  ┆ 1.0       ┆ 52.0      ┆ … ┆ 207.987   ┆ 194.91    ┆ 86.68     ┆ 1.0      │\n",
       "│ 75%       ┆ 345106.0  ┆ 2.0       ┆ 68.0      ┆ … ┆ 361.2     ┆ 336.0     ┆ 160.93    ┆ 1.0      │\n",
       "│ max       ┆ 371503.0  ┆ 6.0       ┆ 85.0      ┆ … ┆ 3748.5    ┆ 3748.5    ┆ 1241.955  ┆ 1.5373   │\n",
       "└───────────┴───────────┴───────────┴───────────┴───┴───────────┴───────────┴───────────┴──────────┘"
      ]
     },
     "execution_count": 61,
     "metadata": {},
     "output_type": "execute_result"
    }
   ],
   "source": [
    "df.select(cs.numeric()).describe()"
   ]
  },
  {
   "cell_type": "markdown",
   "metadata": {},
   "source": [
    "### There is more..."
   ]
  },
  {
   "cell_type": "code",
   "execution_count": 49,
   "metadata": {},
   "outputs": [
    {
     "data": {
      "text/html": [
       "<div><style>\n",
       ".dataframe > thead > tr > th,\n",
       ".dataframe > tbody > tr > td {\n",
       "  text-align: right;\n",
       "  white-space: pre-wrap;\n",
       "}\n",
       "</style>\n",
       "<small>shape: (1, 1)</small><table border=\"1\" class=\"dataframe\"><thead><tr><th>Quantity</th></tr><tr><td>u32</td></tr></thead><tbody><tr><td>4423</td></tr></tbody></table></div>"
      ],
      "text/plain": [
       "shape: (1, 1)\n",
       "┌──────────┐\n",
       "│ Quantity │\n",
       "│ ---      │\n",
       "│ u32      │\n",
       "╞══════════╡\n",
       "│ 4423     │\n",
       "└──────────┘"
      ]
     },
     "execution_count": 49,
     "metadata": {},
     "output_type": "execute_result"
    }
   ],
   "source": [
    "df.select(\n",
    "    (pl.col('Quantity') >= 4).sum()\n",
    ")"
   ]
  },
  {
   "cell_type": "code",
   "execution_count": 47,
   "metadata": {},
   "outputs": [
    {
     "data": {
      "text/html": [
       "<div><style>\n",
       ".dataframe > thead > tr > th,\n",
       ".dataframe > tbody > tr > td {\n",
       "  text-align: right;\n",
       "  white-space: pre-wrap;\n",
       "}\n",
       "</style>\n",
       "<small>shape: (1, 1)</small><table border=\"1\" class=\"dataframe\"><thead><tr><th>Quantity</th></tr><tr><td>i64</td></tr></thead><tbody><tr><td>25017</td></tr></tbody></table></div>"
      ],
      "text/plain": [
       "shape: (1, 1)\n",
       "┌──────────┐\n",
       "│ Quantity │\n",
       "│ ---      │\n",
       "│ i64      │\n",
       "╞══════════╡\n",
       "│ 25017    │\n",
       "└──────────┘"
      ]
     },
     "execution_count": 47,
     "metadata": {},
     "output_type": "execute_result"
    }
   ],
   "source": [
    "df.select(\n",
    "    pl.col('Quantity').filter(pl.col('Store Name')=='Online store').sum()\n",
    ")"
   ]
  },
  {
   "cell_type": "markdown",
   "metadata": {},
   "source": [
    "## Group by aggregations"
   ]
  },
  {
   "cell_type": "markdown",
   "metadata": {},
   "source": [
    "### How to do it..."
   ]
  },
  {
   "cell_type": "code",
   "execution_count": 2,
   "metadata": {},
   "outputs": [],
   "source": [
    "import polars as pl"
   ]
  },
  {
   "cell_type": "code",
   "execution_count": 3,
   "metadata": {},
   "outputs": [
    {
     "data": {
      "text/html": [
       "<div><style>\n",
       ".dataframe > thead > tr > th,\n",
       ".dataframe > tbody > tr > td {\n",
       "  text-align: right;\n",
       "  white-space: pre-wrap;\n",
       "}\n",
       "</style>\n",
       "<small>shape: (5, 20)</small><table border=\"1\" class=\"dataframe\"><thead><tr><th>Order Number</th><th>Line Number</th><th>Order Date</th><th>Delivery Date</th><th>Customer Name</th><th>Customer Gender</th><th>Customer Country</th><th>Customer Age</th><th>Store Name</th><th>Product Name</th><th>Color</th><th>Brand</th><th>Category</th><th>Subcategory</th><th>Quantity</th><th>Unit Price</th><th>Net Price</th><th>Unit Cost</th><th>Currency Code</th><th>Exchange Rate</th></tr><tr><td>i64</td><td>i64</td><td>date</td><td>date</td><td>str</td><td>str</td><td>str</td><td>i64</td><td>str</td><td>str</td><td>str</td><td>str</td><td>str</td><td>str</td><td>i64</td><td>f64</td><td>f64</td><td>f64</td><td>str</td><td>f64</td></tr></thead><tbody><tr><td>284806</td><td>1</td><td>2017-10-18</td><td>2017-10-20</td><td>&quot;Eric Kennedy&quot;</td><td>&quot;Male&quot;</td><td>&quot;United States&quot;</td><td>47</td><td>&quot;Online store&quot;</td><td>&quot;Contoso 512MB …</td><td>&quot;Silver&quot;</td><td>&quot;Contoso&quot;</td><td>&quot;Audio&quot;</td><td>&quot;MP4&amp;MP3&quot;</td><td>7</td><td>11.691</td><td>10.288</td><td>5.958</td><td>&quot;USD&quot;</td><td>1.0</td></tr><tr><td>285506</td><td>1</td><td>2017-10-25</td><td>2017-10-26</td><td>&quot;George Tooth&quot;</td><td>&quot;Male&quot;</td><td>&quot;Australia&quot;</td><td>30</td><td>&quot;Online store&quot;</td><td>&quot;Contoso 512MB …</td><td>&quot;Silver&quot;</td><td>&quot;Contoso&quot;</td><td>&quot;Audio&quot;</td><td>&quot;MP4&amp;MP3&quot;</td><td>1</td><td>11.691</td><td>11.691</td><td>5.958</td><td>&quot;AUD&quot;</td><td>1.2967</td></tr><tr><td>311002</td><td>2</td><td>2018-07-07</td><td>2018-07-12</td><td>&quot;Caleb Greene&quot;</td><td>&quot;Male&quot;</td><td>&quot;Australia&quot;</td><td>59</td><td>&quot;Online store&quot;</td><td>&quot;Contoso 512MB …</td><td>&quot;Silver&quot;</td><td>&quot;Contoso&quot;</td><td>&quot;Audio&quot;</td><td>&quot;MP4&amp;MP3&quot;</td><td>6</td><td>12.99</td><td>12.99</td><td>6.62</td><td>&quot;AUD&quot;</td><td>1.3484</td></tr><tr><td>366307</td><td>2</td><td>2020-01-11</td><td>2020-01-11</td><td>&quot;Isaac Siddins&quot;</td><td>&quot;Male&quot;</td><td>&quot;Australia&quot;</td><td>25</td><td>&quot;Contoso Store …</td><td>&quot;Contoso 512MB …</td><td>&quot;Blue&quot;</td><td>&quot;Contoso&quot;</td><td>&quot;Audio&quot;</td><td>&quot;MP4&amp;MP3&quot;</td><td>4</td><td>12.99</td><td>12.99</td><td>6.62</td><td>&quot;AUD&quot;</td><td>1.4545</td></tr><tr><td>325708</td><td>3</td><td>2018-12-01</td><td>2018-12-02</td><td>&quot;Mike McQueen&quot;</td><td>&quot;Male&quot;</td><td>&quot;United States&quot;</td><td>56</td><td>&quot;Online store&quot;</td><td>&quot;Contoso 512MB …</td><td>&quot;Blue&quot;</td><td>&quot;Contoso&quot;</td><td>&quot;Audio&quot;</td><td>&quot;MP4&amp;MP3&quot;</td><td>2</td><td>12.99</td><td>11.5611</td><td>6.62</td><td>&quot;USD&quot;</td><td>1.0</td></tr></tbody></table></div>"
      ],
      "text/plain": [
       "shape: (5, 20)\n",
       "┌────────┬────────┬─────────────┬─────────────┬───┬─────────────┬───────┬─────────────┬────────────┐\n",
       "│ Order  ┆ Line   ┆ Order Date  ┆ Delivery    ┆ … ┆ Net Price   ┆ Unit  ┆ Currency    ┆ Exchange   │\n",
       "│ Number ┆ Number ┆ ---         ┆ Date        ┆   ┆ ---         ┆ Cost  ┆ Code        ┆ Rate       │\n",
       "│ ---    ┆ ---    ┆ date        ┆ ---         ┆   ┆ f64         ┆ ---   ┆ ---         ┆ ---        │\n",
       "│ i64    ┆ i64    ┆             ┆ date        ┆   ┆             ┆ f64   ┆ str         ┆ f64        │\n",
       "╞════════╪════════╪═════════════╪═════════════╪═══╪═════════════╪═══════╪═════════════╪════════════╡\n",
       "│ 284806 ┆ 1      ┆ 2017-10-18  ┆ 2017-10-20  ┆ … ┆ 10.288      ┆ 5.958 ┆ USD         ┆ 1.0        │\n",
       "│ 285506 ┆ 1      ┆ 2017-10-25  ┆ 2017-10-26  ┆ … ┆ 11.691      ┆ 5.958 ┆ AUD         ┆ 1.2967     │\n",
       "│ 311002 ┆ 2      ┆ 2018-07-07  ┆ 2018-07-12  ┆ … ┆ 12.99       ┆ 6.62  ┆ AUD         ┆ 1.3484     │\n",
       "│ 366307 ┆ 2      ┆ 2020-01-11  ┆ 2020-01-11  ┆ … ┆ 12.99       ┆ 6.62  ┆ AUD         ┆ 1.4545     │\n",
       "│ 325708 ┆ 3      ┆ 2018-12-01  ┆ 2018-12-02  ┆ … ┆ 11.5611     ┆ 6.62  ┆ USD         ┆ 1.0        │\n",
       "└────────┴────────┴─────────────┴─────────────┴───┴─────────────┴───────┴─────────────┴────────────┘"
      ]
     },
     "execution_count": 3,
     "metadata": {},
     "output_type": "execute_result"
    }
   ],
   "source": [
    "df = pl.read_csv('../data/constoso_sales.csv', try_parse_dates=True)\n",
    "df.head()"
   ]
  },
  {
   "cell_type": "code",
   "execution_count": 16,
   "metadata": {},
   "outputs": [
    {
     "data": {
      "text/plain": [
       "<polars.dataframe.group_by.GroupBy at 0x105c7d510>"
      ]
     },
     "execution_count": 16,
     "metadata": {},
     "output_type": "execute_result"
    }
   ],
   "source": [
    "df.group_by('Brand')"
   ]
  },
  {
   "cell_type": "code",
   "execution_count": 17,
   "metadata": {},
   "outputs": [
    {
     "data": {
      "text/html": [
       "<div><style>\n",
       ".dataframe > thead > tr > th,\n",
       ".dataframe > tbody > tr > td {\n",
       "  text-align: right;\n",
       "  white-space: pre-wrap;\n",
       "}\n",
       "</style>\n",
       "<small>shape: (5, 2)</small><table border=\"1\" class=\"dataframe\"><thead><tr><th>Brand</th><th>Sum of Quantity</th></tr><tr><td>str</td><td>i64</td></tr></thead><tbody><tr><td>&quot;Fabrikam&quot;</td><td>1516</td></tr><tr><td>&quot;Adventure Work…</td><td>4616</td></tr><tr><td>&quot;Litware&quot;</td><td>875</td></tr><tr><td>&quot;Northwind Trad…</td><td>638</td></tr><tr><td>&quot;Litware &quot;</td><td>161</td></tr></tbody></table></div>"
      ],
      "text/plain": [
       "shape: (5, 2)\n",
       "┌───────────────────┬─────────────────┐\n",
       "│ Brand             ┆ Sum of Quantity │\n",
       "│ ---               ┆ ---             │\n",
       "│ str               ┆ i64             │\n",
       "╞═══════════════════╪═════════════════╡\n",
       "│ Fabrikam          ┆ 1516            │\n",
       "│ Adventure Works   ┆ 4616            │\n",
       "│ Litware           ┆ 875             │\n",
       "│ Northwind Traders ┆ 638             │\n",
       "│ Litware           ┆ 161             │\n",
       "└───────────────────┴─────────────────┘"
      ]
     },
     "execution_count": 17,
     "metadata": {},
     "output_type": "execute_result"
    }
   ],
   "source": [
    "(\n",
    "    df\n",
    "    .group_by('Brand')\n",
    "    .agg(pl.col('Quantity').sum().alias('Sum of Quantity'))\n",
    "    .head()\n",
    ")"
   ]
  },
  {
   "cell_type": "code",
   "execution_count": 18,
   "metadata": {},
   "outputs": [
    {
     "data": {
      "text/html": [
       "<div><style>\n",
       ".dataframe > thead > tr > th,\n",
       ".dataframe > tbody > tr > td {\n",
       "  text-align: right;\n",
       "  white-space: pre-wrap;\n",
       "}\n",
       "</style>\n",
       "<small>shape: (5, 3)</small><table border=\"1\" class=\"dataframe\"><thead><tr><th>Brand</th><th>Sum of Quantity</th><th>Average Unit Price</th></tr><tr><td>str</td><td>f64</td><td>f64</td></tr></thead><tbody><tr><td>&quot;Fabrikam  &quot;</td><td>82765.3</td><td>795.820192</td></tr><tr><td>&quot;Contoso &quot;</td><td>232497.937</td><td>715.378268</td></tr><tr><td>&quot;Adventure Work…</td><td>908783.8045</td><td>620.330242</td></tr><tr><td>&quot;Litware &quot;</td><td>33194.085</td><td>603.528818</td></tr><tr><td>&quot;Fabrikam&quot;</td><td>262239.375</td><td>557.956117</td></tr></tbody></table></div>"
      ],
      "text/plain": [
       "shape: (5, 3)\n",
       "┌─────────────────┬─────────────────┬────────────────────┐\n",
       "│ Brand           ┆ Sum of Quantity ┆ Average Unit Price │\n",
       "│ ---             ┆ ---             ┆ ---                │\n",
       "│ str             ┆ f64             ┆ f64                │\n",
       "╞═════════════════╪═════════════════╪════════════════════╡\n",
       "│ Fabrikam        ┆ 82765.3         ┆ 795.820192         │\n",
       "│ Contoso         ┆ 232497.937      ┆ 715.378268         │\n",
       "│ Adventure Works ┆ 908783.8045     ┆ 620.330242         │\n",
       "│ Litware         ┆ 33194.085       ┆ 603.528818         │\n",
       "│ Fabrikam        ┆ 262239.375      ┆ 557.956117         │\n",
       "└─────────────────┴─────────────────┴────────────────────┘"
      ]
     },
     "execution_count": 18,
     "metadata": {},
     "output_type": "execute_result"
    }
   ],
   "source": [
    "(\n",
    "    df\n",
    "    .group_by('Brand')\n",
    "    .agg(\n",
    "        pl.col('Unit Price').sum().alias('Sum of Quantity'),\n",
    "        pl.col('Unit Price').mean().alias('Average Unit Price'),\n",
    "    )\n",
    "    .sort('Average Unit Price', descending=True)\n",
    "    .head()\n",
    ")"
   ]
  },
  {
   "cell_type": "code",
   "execution_count": 19,
   "metadata": {},
   "outputs": [
    {
     "data": {
      "text/html": [
       "<div><style>\n",
       ".dataframe > thead > tr > th,\n",
       ".dataframe > tbody > tr > td {\n",
       "  text-align: right;\n",
       "  white-space: pre-wrap;\n",
       "}\n",
       "</style>\n",
       "<small>shape: (5, 5)</small><table border=\"1\" class=\"dataframe\"><thead><tr><th>Brand</th><th>Average Unit Price</th><th>Average Unit Price 2</th><th>Customer Name</th><th>Category</th></tr><tr><td>str</td><td>f64</td><td>f64</td><td>str</td><td>str</td></tr></thead><tbody><tr><td>&quot;A. Datum&quot;</td><td>280.1</td><td>280.1</td><td>&quot;Blažena Salabo…</td><td>&quot;Cameras and ca…</td></tr><tr><td>&quot;Adventure Work…</td><td>620.33</td><td>620.33</td><td>&quot;Molly Walters&quot;</td><td>&quot;Home Appliance…</td></tr><tr><td>&quot;Adventure Work…</td><td>166.9</td><td>166.9</td><td>&quot;James Steinfel…</td><td>&quot;TV and Video&quot;</td></tr><tr><td>&quot;Contoso&quot;</td><td>150.86</td><td>150.86</td><td>&quot;Eric Kennedy&quot;</td><td>&quot;Cell phones&quot;</td></tr><tr><td>&quot;Contoso &quot;</td><td>715.38</td><td>715.38</td><td>&quot;Chiquita Boyd&quot;</td><td>&quot;Home Appliance…</td></tr></tbody></table></div>"
      ],
      "text/plain": [
       "shape: (5, 5)\n",
       "┌──────────────────┬──────────────┬──────────────────────┬──────────────────┬─────────────────┐\n",
       "│ Brand            ┆ Average Unit ┆ Average Unit Price 2 ┆ Customer Name    ┆ Category        │\n",
       "│ ---              ┆ Price        ┆ ---                  ┆ ---              ┆ ---             │\n",
       "│ str              ┆ ---          ┆ f64                  ┆ str              ┆ str             │\n",
       "│                  ┆ f64          ┆                      ┆                  ┆                 │\n",
       "╞══════════════════╪══════════════╪══════════════════════╪══════════════════╪═════════════════╡\n",
       "│ A. Datum         ┆ 280.1        ┆ 280.1                ┆ Blažena Salabová ┆ Cameras and     │\n",
       "│                  ┆              ┆                      ┆                  ┆ camcorders      │\n",
       "│ Adventure Works  ┆ 620.33       ┆ 620.33               ┆ Molly Walters    ┆ Home Appliances │\n",
       "│ Adventure Works  ┆ 166.9        ┆ 166.9                ┆ James Steinfeld  ┆ TV and Video    │\n",
       "│ Contoso          ┆ 150.86       ┆ 150.86               ┆ Eric Kennedy     ┆ Cell phones     │\n",
       "│ Contoso          ┆ 715.38       ┆ 715.38               ┆ Chiquita Boyd    ┆ Home Appliances │\n",
       "└──────────────────┴──────────────┴──────────────────────┴──────────────────┴─────────────────┘"
      ]
     },
     "execution_count": 19,
     "metadata": {},
     "output_type": "execute_result"
    }
   ],
   "source": [
    "(\n",
    "    df\n",
    "    .group_by('Brand')\n",
    "    .agg(\n",
    "        pl.col('Unit Price').mean().round(2).alias('Average Unit Price'),\n",
    "        (pl.col('Unit Price').sum() / pl.count()).round(2).alias('Average Unit Price 2'),\n",
    "        pl.col('Customer Name').first(),\n",
    "        pl.col('Category').last()\n",
    "    )\n",
    "    .sort('Average Unit Price', descending=True)\n",
    "    .sort('Brand')\n",
    "    .head()\n",
    ")"
   ]
  },
  {
   "cell_type": "code",
   "execution_count": 26,
   "metadata": {},
   "outputs": [
    {
     "data": {
      "text/html": [
       "<div><style>\n",
       ".dataframe > thead > tr > th,\n",
       ".dataframe > tbody > tr > td {\n",
       "  text-align: right;\n",
       "  white-space: pre-wrap;\n",
       "}\n",
       "</style>\n",
       "<small>shape: (5, 5)</small><table border=\"1\" class=\"dataframe\"><thead><tr><th>Brand</th><th>Average Unit Price</th><th>Average Unit Price 2</th><th>Customer Name</th><th>Category</th></tr><tr><td>str</td><td>f64</td><td>f64</td><td>str</td><td>str</td></tr></thead><tbody><tr><td>&quot;A. Datum&quot;</td><td>280.1</td><td>280.1</td><td>&quot;Blažena Salabo…</td><td>&quot;Cameras and ca…</td></tr><tr><td>&quot;Adventure Work…</td><td>620.33</td><td>620.33</td><td>&quot;Molly Walters&quot;</td><td>&quot;Home Appliance…</td></tr><tr><td>&quot;Adventure Work…</td><td>166.9</td><td>166.9</td><td>&quot;James Steinfel…</td><td>&quot;TV and Video&quot;</td></tr><tr><td>&quot;Contoso&quot;</td><td>150.86</td><td>150.86</td><td>&quot;Eric Kennedy&quot;</td><td>&quot;Cell phones&quot;</td></tr><tr><td>&quot;Contoso &quot;</td><td>715.38</td><td>715.38</td><td>&quot;Chiquita Boyd&quot;</td><td>&quot;Home Appliance…</td></tr></tbody></table></div>"
      ],
      "text/plain": [
       "shape: (5, 5)\n",
       "┌──────────────────┬──────────────┬──────────────────────┬──────────────────┬─────────────────┐\n",
       "│ Brand            ┆ Average Unit ┆ Average Unit Price 2 ┆ Customer Name    ┆ Category        │\n",
       "│ ---              ┆ Price        ┆ ---                  ┆ ---              ┆ ---             │\n",
       "│ str              ┆ ---          ┆ f64                  ┆ str              ┆ str             │\n",
       "│                  ┆ f64          ┆                      ┆                  ┆                 │\n",
       "╞══════════════════╪══════════════╪══════════════════════╪══════════════════╪═════════════════╡\n",
       "│ A. Datum         ┆ 280.1        ┆ 280.1                ┆ Blažena Salabová ┆ Cameras and     │\n",
       "│                  ┆              ┆                      ┆                  ┆ camcorders      │\n",
       "│ Adventure Works  ┆ 620.33       ┆ 620.33               ┆ Molly Walters    ┆ Home Appliances │\n",
       "│ Adventure Works  ┆ 166.9        ┆ 166.9                ┆ James Steinfeld  ┆ TV and Video    │\n",
       "│ Contoso          ┆ 150.86       ┆ 150.86               ┆ Eric Kennedy     ┆ Cell phones     │\n",
       "│ Contoso          ┆ 715.38       ┆ 715.38               ┆ Chiquita Boyd    ┆ Home Appliances │\n",
       "└──────────────────┴──────────────┴──────────────────────┴──────────────────┴─────────────────┘"
      ]
     },
     "execution_count": 26,
     "metadata": {},
     "output_type": "execute_result"
    }
   ],
   "source": [
    "(\n",
    "    pl.scan_csv('../data/constoso_sales.csv', try_parse_dates=True)\n",
    "    .group_by('Brand')\n",
    "    .agg(\n",
    "        pl.col('Unit Price').mean().round(2).alias('Average Unit Price'),\n",
    "        (pl.col('Unit Price').sum() / pl.count()).round(2).alias('Average Unit Price 2'),\n",
    "        pl.col('Customer Name').first(),\n",
    "        pl.col('Category').last()\n",
    "    )\n",
    "    .sort('Average Unit Price', descending=True)\n",
    "    .sort('Brand')\n",
    "    .collect()\n",
    "    .head()\n",
    ")"
   ]
  },
  {
   "cell_type": "code",
   "execution_count": 4,
   "metadata": {},
   "outputs": [
    {
     "name": "stdout",
     "output_type": "stream",
     "text": [
      "shape: (10, 1)\n",
      "┌───────────────────┐\n",
      "│ Brand             │\n",
      "│ ---               │\n",
      "│ str               │\n",
      "╞═══════════════════╡\n",
      "│ Litware           │\n",
      "│ Fabrikam          │\n",
      "│ Contoso           │\n",
      "│ Fabrikam          │\n",
      "│ …                 │\n",
      "│ The Phone Company │\n",
      "│ Proseware         │\n",
      "│ Adventure Works   │\n",
      "│ Adventure Works   │\n",
      "└───────────────────┘\n"
     ]
    }
   ],
   "source": [
    "pl.Config.set_fmt_str_lengths = 50\n",
    "print(df.select('Brand').unique().head(10))"
   ]
  },
  {
   "cell_type": "code",
   "execution_count": 5,
   "metadata": {},
   "outputs": [
    {
     "data": {
      "text/html": [
       "<div><style>\n",
       ".dataframe > thead > tr > th,\n",
       ".dataframe > tbody > tr > td {\n",
       "  text-align: right;\n",
       "  white-space: pre-wrap;\n",
       "}\n",
       "</style>\n",
       "<small>shape: (10, 1)</small><table border=\"1\" class=\"dataframe\"><thead><tr><th>Brand</th></tr><tr><td>str</td></tr></thead><tbody><tr><td>&quot;Fabrikam  &quot;</td></tr><tr><td>&quot;Proseware&quot;</td></tr><tr><td>&quot;The Phone Comp…</td></tr><tr><td>&quot;A. Datum&quot;</td></tr><tr><td>&quot;Contoso &quot;</td></tr><tr><td>&quot;Wide World Imp…</td></tr><tr><td>&quot;Adventure Work…</td></tr><tr><td>&quot;Southridge Vid…</td></tr><tr><td>&quot;Adventure Work…</td></tr><tr><td>&quot;Tailspin Toys&quot;</td></tr></tbody></table></div>"
      ],
      "text/plain": [
       "shape: (10, 1)\n",
       "┌───────────────────┐\n",
       "│ Brand             │\n",
       "│ ---               │\n",
       "│ str               │\n",
       "╞═══════════════════╡\n",
       "│ Fabrikam          │\n",
       "│ Proseware         │\n",
       "│ The Phone Company │\n",
       "│ A. Datum          │\n",
       "│ …                 │\n",
       "│ Adventure Works   │\n",
       "│ Southridge Video  │\n",
       "│ Adventure Works   │\n",
       "│ Tailspin Toys     │\n",
       "└───────────────────┘"
      ]
     },
     "execution_count": 5,
     "metadata": {},
     "output_type": "execute_result"
    }
   ],
   "source": [
    "df.select('Brand').unique().head(10)"
   ]
  },
  {
   "cell_type": "code",
   "execution_count": 6,
   "metadata": {},
   "outputs": [
    {
     "data": {
      "text/html": [
       "<div><style>\n",
       ".dataframe > thead > tr > th,\n",
       ".dataframe > tbody > tr > td {\n",
       "  text-align: right;\n",
       "  white-space: pre-wrap;\n",
       "}\n",
       "</style>\n",
       "<small>shape: (10, 1)</small><table border=\"1\" class=\"dataframe\"><thead><tr><th>Brand</th></tr><tr><td>str</td></tr></thead><tbody><tr><td>&quot;Contoso&quot;</td></tr><tr><td>&quot;Adventure Works&quot;</td></tr><tr><td>&quot;Tailspin Toys&quot;</td></tr><tr><td>&quot;Contoso &quot;</td></tr><tr><td>&quot;Proseware&quot;</td></tr><tr><td>&quot;Wide World Importers&quot;</td></tr><tr><td>&quot;A. Datum&quot;</td></tr><tr><td>&quot;Northwind Traders&quot;</td></tr><tr><td>&quot;Adventure Works &quot;</td></tr><tr><td>&quot;Litware &quot;</td></tr></tbody></table></div>"
      ],
      "text/plain": [
       "shape: (10, 1)\n",
       "┌───────────────────┐\n",
       "│ Brand             │\n",
       "│ ---               │\n",
       "│ str               │\n",
       "╞═══════════════════╡\n",
       "│ Contoso           │\n",
       "│ Adventure Works   │\n",
       "│ Tailspin Toys     │\n",
       "│ Contoso           │\n",
       "│ …                 │\n",
       "│ A. Datum          │\n",
       "│ Northwind Traders │\n",
       "│ Adventure Works   │\n",
       "│ Litware           │\n",
       "└───────────────────┘"
      ]
     },
     "execution_count": 6,
     "metadata": {},
     "output_type": "execute_result"
    }
   ],
   "source": [
    "import os\n",
    "os.environ['POLARS_FMT_STR_LEN'] = str(50)\n",
    "\n",
    "df.select('Brand').unique().head(10)"
   ]
  },
  {
   "cell_type": "markdown",
   "metadata": {},
   "source": [
    "### There is more..."
   ]
  },
  {
   "cell_type": "code",
   "execution_count": 22,
   "metadata": {},
   "outputs": [
    {
     "name": "stdout",
     "output_type": "stream",
     "text": [
      "Proseware <class 'polars.dataframe.frame.DataFrame'>\n",
      "Litware  <class 'polars.dataframe.frame.DataFrame'>\n",
      "A. Datum <class 'polars.dataframe.frame.DataFrame'>\n",
      "Tailspin Toys <class 'polars.dataframe.frame.DataFrame'>\n",
      "Contoso  <class 'polars.dataframe.frame.DataFrame'>\n",
      "Fabrikam <class 'polars.dataframe.frame.DataFrame'>\n",
      "Contoso <class 'polars.dataframe.frame.DataFrame'>\n",
      "Adventure Works  <class 'polars.dataframe.frame.DataFrame'>\n",
      "Adventure Works <class 'polars.dataframe.frame.DataFrame'>\n",
      "The Phone Company <class 'polars.dataframe.frame.DataFrame'>\n",
      "Northwind Traders <class 'polars.dataframe.frame.DataFrame'>\n",
      "Wide World Importers <class 'polars.dataframe.frame.DataFrame'>\n",
      "Litware <class 'polars.dataframe.frame.DataFrame'>\n",
      "Fabrikam   <class 'polars.dataframe.frame.DataFrame'>\n",
      "Southridge Video <class 'polars.dataframe.frame.DataFrame'>\n"
     ]
    }
   ],
   "source": [
    "for name, data in df.group_by('Brand'):\n",
    "    print(name, type(data))"
   ]
  },
  {
   "cell_type": "code",
   "execution_count": 24,
   "metadata": {},
   "outputs": [
    {
     "data": {
      "text/html": [
       "<div><style>\n",
       ".dataframe > thead > tr > th,\n",
       ".dataframe > tbody > tr > td {\n",
       "  text-align: right;\n",
       "  white-space: pre-wrap;\n",
       "}\n",
       "</style>\n",
       "<small>shape: (5, 2)</small><table border=\"1\" class=\"dataframe\"><thead><tr><th>Brand</th><th>Quantity</th></tr><tr><td>str</td><td>list[i64]</td></tr></thead><tbody><tr><td>&quot;Litware &quot;</td><td>[2, 1, … 3]</td></tr><tr><td>&quot;Adventure Work…</td><td>[5, 7, … 2]</td></tr><tr><td>&quot;Contoso&quot;</td><td>[7, 1, … 3]</td></tr><tr><td>&quot;Fabrikam&quot;</td><td>[2, 1, … 2]</td></tr><tr><td>&quot;Adventure Work…</td><td>[2, 3, … 6]</td></tr></tbody></table></div>"
      ],
      "text/plain": [
       "shape: (5, 2)\n",
       "┌──────────────────┬─────────────┐\n",
       "│ Brand            ┆ Quantity    │\n",
       "│ ---              ┆ ---         │\n",
       "│ str              ┆ list[i64]   │\n",
       "╞══════════════════╪═════════════╡\n",
       "│ Litware          ┆ [2, 1, … 3] │\n",
       "│ Adventure Works  ┆ [5, 7, … 2] │\n",
       "│ Contoso          ┆ [7, 1, … 3] │\n",
       "│ Fabrikam         ┆ [2, 1, … 2] │\n",
       "│ Adventure Works  ┆ [2, 3, … 6] │\n",
       "└──────────────────┴─────────────┘"
      ]
     },
     "execution_count": 24,
     "metadata": {},
     "output_type": "execute_result"
    }
   ],
   "source": [
    "(\n",
    "    df\n",
    "    .group_by('Brand')\n",
    "    .agg(pl.col('Quantity'))\n",
    "    .head()\n",
    ")"
   ]
  },
  {
   "cell_type": "code",
   "execution_count": 27,
   "metadata": {},
   "outputs": [
    {
     "data": {
      "text/html": [
       "<div><style>\n",
       ".dataframe > thead > tr > th,\n",
       ".dataframe > tbody > tr > td {\n",
       "  text-align: right;\n",
       "  white-space: pre-wrap;\n",
       "}\n",
       "</style>\n",
       "<small>shape: (5, 2)</small><table border=\"1\" class=\"dataframe\"><thead><tr><th>Brand</th><th>Quantity</th></tr><tr><td>str</td><td>list[i64]</td></tr></thead><tbody><tr><td>&quot;Contoso&quot;</td><td>[7, 1, … 3]</td></tr><tr><td>&quot;Wide World Imp…</td><td>[2, 8, … 2]</td></tr><tr><td>&quot;Northwind Trad…</td><td>[2, 3, … 2]</td></tr><tr><td>&quot;Adventure Work…</td><td>[2, 3, … 6]</td></tr><tr><td>&quot;Adventure Work…</td><td>[5, 7, … 2]</td></tr></tbody></table></div>"
      ],
      "text/plain": [
       "shape: (5, 2)\n",
       "┌──────────────────────┬─────────────┐\n",
       "│ Brand                ┆ Quantity    │\n",
       "│ ---                  ┆ ---         │\n",
       "│ str                  ┆ list[i64]   │\n",
       "╞══════════════════════╪═════════════╡\n",
       "│ Contoso              ┆ [7, 1, … 3] │\n",
       "│ Wide World Importers ┆ [2, 8, … 2] │\n",
       "│ Northwind Traders    ┆ [2, 3, … 2] │\n",
       "│ Adventure Works      ┆ [2, 3, … 6] │\n",
       "│ Adventure Works      ┆ [5, 7, … 2] │\n",
       "└──────────────────────┴─────────────┘"
      ]
     },
     "execution_count": 27,
     "metadata": {},
     "output_type": "execute_result"
    }
   ],
   "source": [
    "(\n",
    "    df\n",
    "    .group_by('Brand', maintain_order=True)\n",
    "    .agg(pl.col('Quantity'))\n",
    "    .head()\n",
    ")"
   ]
  },
  {
   "cell_type": "code",
   "execution_count": 33,
   "metadata": {},
   "outputs": [
    {
     "data": {
      "text/html": [
       "<div><style>\n",
       ".dataframe > thead > tr > th,\n",
       ".dataframe > tbody > tr > td {\n",
       "  text-align: right;\n",
       "  white-space: pre-wrap;\n",
       "}\n",
       "</style>\n",
       "<small>shape: (5, 4)</small><table border=\"1\" class=\"dataframe\"><thead><tr><th>Brand</th><th>Customer Country</th><th>Order Year</th><th>Unit Price</th></tr><tr><td>str</td><td>str</td><td>i32</td><td>f64</td></tr></thead><tbody><tr><td>&quot;Contoso&quot;</td><td>&quot;United Kingdom…</td><td>2018</td><td>149.204372</td></tr><tr><td>&quot;Contoso&quot;</td><td>&quot;Germany&quot;</td><td>2018</td><td>156.208612</td></tr><tr><td>&quot;Contoso&quot;</td><td>&quot;Italy&quot;</td><td>2017</td><td>217.8535</td></tr><tr><td>&quot;Wide World Imp…</td><td>&quot;Netherlands&quot;</td><td>2018</td><td>631.144348</td></tr><tr><td>&quot;Wide World Imp…</td><td>&quot;United States&quot;</td><td>2018</td><td>513.037234</td></tr></tbody></table></div>"
      ],
      "text/plain": [
       "shape: (5, 4)\n",
       "┌──────────────────────┬──────────────────┬────────────┬────────────┐\n",
       "│ Brand                ┆ Customer Country ┆ Order Year ┆ Unit Price │\n",
       "│ ---                  ┆ ---              ┆ ---        ┆ ---        │\n",
       "│ str                  ┆ str              ┆ i32        ┆ f64        │\n",
       "╞══════════════════════╪══════════════════╪════════════╪════════════╡\n",
       "│ Contoso              ┆ United Kingdom   ┆ 2018       ┆ 149.204372 │\n",
       "│ Contoso              ┆ Germany          ┆ 2018       ┆ 156.208612 │\n",
       "│ Contoso              ┆ Italy            ┆ 2017       ┆ 217.8535   │\n",
       "│ Wide World Importers ┆ Netherlands      ┆ 2018       ┆ 631.144348 │\n",
       "│ Wide World Importers ┆ United States    ┆ 2018       ┆ 513.037234 │\n",
       "└──────────────────────┴──────────────────┴────────────┴────────────┘"
      ]
     },
     "execution_count": 33,
     "metadata": {},
     "output_type": "execute_result"
    }
   ],
   "source": [
    "(\n",
    "    df\n",
    "    .group_by(\n",
    "        pl.col('Brand'), \n",
    "        'Customer Country',\n",
    "        pl.col('Order Date').dt.year().alias('Order Year')\n",
    "        )\n",
    "    .agg(pl.col('Unit Price').mean())\n",
    "    .head()\n",
    ")"
   ]
  },
  {
   "cell_type": "markdown",
   "metadata": {},
   "source": [
    "## Aggregating values across multiple columns"
   ]
  },
  {
   "cell_type": "markdown",
   "metadata": {},
   "source": [
    "### How to do it..."
   ]
  },
  {
   "cell_type": "code",
   "execution_count": 95,
   "metadata": {},
   "outputs": [],
   "source": [
    "import polars as pl"
   ]
  },
  {
   "cell_type": "code",
   "execution_count": 96,
   "metadata": {},
   "outputs": [
    {
     "data": {
      "text/html": [
       "<div><style>\n",
       ".dataframe > thead > tr > th,\n",
       ".dataframe > tbody > tr > td {\n",
       "  text-align: right;\n",
       "  white-space: pre-wrap;\n",
       "}\n",
       "</style>\n",
       "<small>shape: (5, 13)</small><table border=\"1\" class=\"dataframe\"><thead><tr><th>#</th><th>Name</th><th>Type 1</th><th>Type 2</th><th>Total</th><th>HP</th><th>Attack</th><th>Defense</th><th>Sp. Atk</th><th>Sp. Def</th><th>Speed</th><th>Generation</th><th>Legendary</th></tr><tr><td>i64</td><td>str</td><td>str</td><td>str</td><td>i64</td><td>i64</td><td>i64</td><td>i64</td><td>i64</td><td>i64</td><td>i64</td><td>i64</td><td>bool</td></tr></thead><tbody><tr><td>1</td><td>&quot;Bulbasaur&quot;</td><td>&quot;Grass&quot;</td><td>&quot;Poison&quot;</td><td>318</td><td>45</td><td>49</td><td>49</td><td>65</td><td>65</td><td>45</td><td>1</td><td>false</td></tr><tr><td>2</td><td>&quot;Ivysaur&quot;</td><td>&quot;Grass&quot;</td><td>&quot;Poison&quot;</td><td>405</td><td>60</td><td>62</td><td>63</td><td>80</td><td>80</td><td>60</td><td>1</td><td>false</td></tr><tr><td>3</td><td>&quot;Venusaur&quot;</td><td>&quot;Grass&quot;</td><td>&quot;Poison&quot;</td><td>525</td><td>80</td><td>82</td><td>83</td><td>100</td><td>100</td><td>80</td><td>1</td><td>false</td></tr><tr><td>3</td><td>&quot;VenusaurMega Venusaur&quot;</td><td>&quot;Grass&quot;</td><td>&quot;Poison&quot;</td><td>625</td><td>80</td><td>100</td><td>123</td><td>122</td><td>120</td><td>80</td><td>1</td><td>false</td></tr><tr><td>4</td><td>&quot;Charmander&quot;</td><td>&quot;Fire&quot;</td><td>null</td><td>309</td><td>39</td><td>52</td><td>43</td><td>60</td><td>50</td><td>65</td><td>1</td><td>false</td></tr></tbody></table></div>"
      ],
      "text/plain": [
       "shape: (5, 13)\n",
       "┌─────┬───────────────────────┬────────┬────────┬───┬─────────┬───────┬────────────┬───────────┐\n",
       "│ #   ┆ Name                  ┆ Type 1 ┆ Type 2 ┆ … ┆ Sp. Def ┆ Speed ┆ Generation ┆ Legendary │\n",
       "│ --- ┆ ---                   ┆ ---    ┆ ---    ┆   ┆ ---     ┆ ---   ┆ ---        ┆ ---       │\n",
       "│ i64 ┆ str                   ┆ str    ┆ str    ┆   ┆ i64     ┆ i64   ┆ i64        ┆ bool      │\n",
       "╞═════╪═══════════════════════╪════════╪════════╪═══╪═════════╪═══════╪════════════╪═══════════╡\n",
       "│ 1   ┆ Bulbasaur             ┆ Grass  ┆ Poison ┆ … ┆ 65      ┆ 45    ┆ 1          ┆ false     │\n",
       "│ 2   ┆ Ivysaur               ┆ Grass  ┆ Poison ┆ … ┆ 80      ┆ 60    ┆ 1          ┆ false     │\n",
       "│ 3   ┆ Venusaur              ┆ Grass  ┆ Poison ┆ … ┆ 100     ┆ 80    ┆ 1          ┆ false     │\n",
       "│ 3   ┆ VenusaurMega Venusaur ┆ Grass  ┆ Poison ┆ … ┆ 120     ┆ 80    ┆ 1          ┆ false     │\n",
       "│ 4   ┆ Charmander            ┆ Fire   ┆ null   ┆ … ┆ 50      ┆ 65    ┆ 1          ┆ false     │\n",
       "└─────┴───────────────────────┴────────┴────────┴───┴─────────┴───────┴────────────┴───────────┘"
      ]
     },
     "execution_count": 96,
     "metadata": {},
     "output_type": "execute_result"
    }
   ],
   "source": [
    "df = pl.read_csv('../data/pokemon.csv')\n",
    "df.head()"
   ]
  },
  {
   "cell_type": "code",
   "execution_count": 97,
   "metadata": {},
   "outputs": [
    {
     "data": {
      "text/html": [
       "<div><style>\n",
       ".dataframe > thead > tr > th,\n",
       ".dataframe > tbody > tr > td {\n",
       "  text-align: right;\n",
       "  white-space: pre-wrap;\n",
       "}\n",
       "</style>\n",
       "<small>shape: (5,)</small><table border=\"1\" class=\"dataframe\"><thead><tr><th>Total 2</th></tr><tr><td>i64</td></tr></thead><tbody><tr><td>318</td></tr><tr><td>405</td></tr><tr><td>525</td></tr><tr><td>625</td></tr><tr><td>309</td></tr></tbody></table></div>"
      ],
      "text/plain": [
       "shape: (5,)\n",
       "Series: 'Total 2' [i64]\n",
       "[\n",
       "\t318\n",
       "\t405\n",
       "\t525\n",
       "\t625\n",
       "\t309\n",
       "]"
      ]
     },
     "execution_count": 97,
     "metadata": {},
     "output_type": "execute_result"
    }
   ],
   "source": [
    "(\n",
    "    df\n",
    "    .select('HP', 'Attack', 'Defense', 'Sp. Atk', 'Sp. Def', 'Speed')\n",
    "    .sum(axis=1).alias('Total 2')\n",
    "    .head(5)\n",
    ")"
   ]
  },
  {
   "cell_type": "code",
   "execution_count": 98,
   "metadata": {},
   "outputs": [
    {
     "data": {
      "text/html": [
       "<div><style>\n",
       ".dataframe > thead > tr > th,\n",
       ".dataframe > tbody > tr > td {\n",
       "  text-align: right;\n",
       "  white-space: pre-wrap;\n",
       "}\n",
       "</style>\n",
       "<small>shape: (5, 14)</small><table border=\"1\" class=\"dataframe\"><thead><tr><th>#</th><th>Name</th><th>Type 1</th><th>Type 2</th><th>Total</th><th>HP</th><th>Attack</th><th>Defense</th><th>Sp. Atk</th><th>Sp. Def</th><th>Speed</th><th>Generation</th><th>Legendary</th><th>Total 2</th></tr><tr><td>i64</td><td>str</td><td>str</td><td>str</td><td>i64</td><td>i64</td><td>i64</td><td>i64</td><td>i64</td><td>i64</td><td>i64</td><td>i64</td><td>bool</td><td>i64</td></tr></thead><tbody><tr><td>1</td><td>&quot;Bulbasaur&quot;</td><td>&quot;Grass&quot;</td><td>&quot;Poison&quot;</td><td>318</td><td>45</td><td>49</td><td>49</td><td>65</td><td>65</td><td>45</td><td>1</td><td>false</td><td>318</td></tr><tr><td>2</td><td>&quot;Ivysaur&quot;</td><td>&quot;Grass&quot;</td><td>&quot;Poison&quot;</td><td>405</td><td>60</td><td>62</td><td>63</td><td>80</td><td>80</td><td>60</td><td>1</td><td>false</td><td>405</td></tr><tr><td>3</td><td>&quot;Venusaur&quot;</td><td>&quot;Grass&quot;</td><td>&quot;Poison&quot;</td><td>525</td><td>80</td><td>82</td><td>83</td><td>100</td><td>100</td><td>80</td><td>1</td><td>false</td><td>525</td></tr><tr><td>3</td><td>&quot;VenusaurMega Venusaur&quot;</td><td>&quot;Grass&quot;</td><td>&quot;Poison&quot;</td><td>625</td><td>80</td><td>100</td><td>123</td><td>122</td><td>120</td><td>80</td><td>1</td><td>false</td><td>625</td></tr><tr><td>4</td><td>&quot;Charmander&quot;</td><td>&quot;Fire&quot;</td><td>null</td><td>309</td><td>39</td><td>52</td><td>43</td><td>60</td><td>50</td><td>65</td><td>1</td><td>false</td><td>309</td></tr></tbody></table></div>"
      ],
      "text/plain": [
       "shape: (5, 14)\n",
       "┌─────┬───────────────────────┬────────┬────────┬───┬───────┬────────────┬───────────┬─────────┐\n",
       "│ #   ┆ Name                  ┆ Type 1 ┆ Type 2 ┆ … ┆ Speed ┆ Generation ┆ Legendary ┆ Total 2 │\n",
       "│ --- ┆ ---                   ┆ ---    ┆ ---    ┆   ┆ ---   ┆ ---        ┆ ---       ┆ ---     │\n",
       "│ i64 ┆ str                   ┆ str    ┆ str    ┆   ┆ i64   ┆ i64        ┆ bool      ┆ i64     │\n",
       "╞═════╪═══════════════════════╪════════╪════════╪═══╪═══════╪════════════╪═══════════╪═════════╡\n",
       "│ 1   ┆ Bulbasaur             ┆ Grass  ┆ Poison ┆ … ┆ 45    ┆ 1          ┆ false     ┆ 318     │\n",
       "│ 2   ┆ Ivysaur               ┆ Grass  ┆ Poison ┆ … ┆ 60    ┆ 1          ┆ false     ┆ 405     │\n",
       "│ 3   ┆ Venusaur              ┆ Grass  ┆ Poison ┆ … ┆ 80    ┆ 1          ┆ false     ┆ 525     │\n",
       "│ 3   ┆ VenusaurMega Venusaur ┆ Grass  ┆ Poison ┆ … ┆ 80    ┆ 1          ┆ false     ┆ 625     │\n",
       "│ 4   ┆ Charmander            ┆ Fire   ┆ null   ┆ … ┆ 65    ┆ 1          ┆ false     ┆ 309     │\n",
       "└─────┴───────────────────────┴────────┴────────┴───┴───────┴────────────┴───────────┴─────────┘"
      ]
     },
     "execution_count": 98,
     "metadata": {},
     "output_type": "execute_result"
    }
   ],
   "source": [
    "(\n",
    "    df\n",
    "    .with_columns(\n",
    "        pl.sum_horizontal('HP', 'Attack', 'Defense', 'Sp. Atk', 'Sp. Def', 'Speed').alias('Total 2')\n",
    "    )\n",
    "    .head(5)\n",
    ")"
   ]
  },
  {
   "cell_type": "code",
   "execution_count": 99,
   "metadata": {},
   "outputs": [
    {
     "data": {
      "text/html": [
       "<div><style>\n",
       ".dataframe > thead > tr > th,\n",
       ".dataframe > tbody > tr > td {\n",
       "  text-align: right;\n",
       "  white-space: pre-wrap;\n",
       "}\n",
       "</style>\n",
       "<small>shape: (5, 14)</small><table border=\"1\" class=\"dataframe\"><thead><tr><th>#</th><th>Name</th><th>Type 1</th><th>Type 2</th><th>Total</th><th>HP</th><th>Attack</th><th>Defense</th><th>Sp. Atk</th><th>Sp. Def</th><th>Speed</th><th>Generation</th><th>Legendary</th><th>Total 2</th></tr><tr><td>i64</td><td>str</td><td>str</td><td>str</td><td>i64</td><td>i64</td><td>i64</td><td>i64</td><td>i64</td><td>i64</td><td>i64</td><td>i64</td><td>bool</td><td>i64</td></tr></thead><tbody><tr><td>1</td><td>&quot;Bulbasaur&quot;</td><td>&quot;Grass&quot;</td><td>&quot;Poison&quot;</td><td>318</td><td>45</td><td>49</td><td>49</td><td>65</td><td>65</td><td>45</td><td>1</td><td>false</td><td>318</td></tr><tr><td>2</td><td>&quot;Ivysaur&quot;</td><td>&quot;Grass&quot;</td><td>&quot;Poison&quot;</td><td>405</td><td>60</td><td>62</td><td>63</td><td>80</td><td>80</td><td>60</td><td>1</td><td>false</td><td>405</td></tr><tr><td>3</td><td>&quot;Venusaur&quot;</td><td>&quot;Grass&quot;</td><td>&quot;Poison&quot;</td><td>525</td><td>80</td><td>82</td><td>83</td><td>100</td><td>100</td><td>80</td><td>1</td><td>false</td><td>525</td></tr><tr><td>3</td><td>&quot;VenusaurMega Venusaur&quot;</td><td>&quot;Grass&quot;</td><td>&quot;Poison&quot;</td><td>625</td><td>80</td><td>100</td><td>123</td><td>122</td><td>120</td><td>80</td><td>1</td><td>false</td><td>625</td></tr><tr><td>4</td><td>&quot;Charmander&quot;</td><td>&quot;Fire&quot;</td><td>null</td><td>309</td><td>39</td><td>52</td><td>43</td><td>60</td><td>50</td><td>65</td><td>1</td><td>false</td><td>309</td></tr></tbody></table></div>"
      ],
      "text/plain": [
       "shape: (5, 14)\n",
       "┌─────┬───────────────────────┬────────┬────────┬───┬───────┬────────────┬───────────┬─────────┐\n",
       "│ #   ┆ Name                  ┆ Type 1 ┆ Type 2 ┆ … ┆ Speed ┆ Generation ┆ Legendary ┆ Total 2 │\n",
       "│ --- ┆ ---                   ┆ ---    ┆ ---    ┆   ┆ ---   ┆ ---        ┆ ---       ┆ ---     │\n",
       "│ i64 ┆ str                   ┆ str    ┆ str    ┆   ┆ i64   ┆ i64        ┆ bool      ┆ i64     │\n",
       "╞═════╪═══════════════════════╪════════╪════════╪═══╪═══════╪════════════╪═══════════╪═════════╡\n",
       "│ 1   ┆ Bulbasaur             ┆ Grass  ┆ Poison ┆ … ┆ 45    ┆ 1          ┆ false     ┆ 318     │\n",
       "│ 2   ┆ Ivysaur               ┆ Grass  ┆ Poison ┆ … ┆ 60    ┆ 1          ┆ false     ┆ 405     │\n",
       "│ 3   ┆ Venusaur              ┆ Grass  ┆ Poison ┆ … ┆ 80    ┆ 1          ┆ false     ┆ 525     │\n",
       "│ 3   ┆ VenusaurMega Venusaur ┆ Grass  ┆ Poison ┆ … ┆ 80    ┆ 1          ┆ false     ┆ 625     │\n",
       "│ 4   ┆ Charmander            ┆ Fire   ┆ null   ┆ … ┆ 65    ┆ 1          ┆ false     ┆ 309     │\n",
       "└─────┴───────────────────────┴────────┴────────┴───┴───────┴────────────┴───────────┴─────────┘"
      ]
     },
     "execution_count": 99,
     "metadata": {},
     "output_type": "execute_result"
    }
   ],
   "source": [
    "cols = ['HP', 'Attack', 'Defense', 'Sp. Atk', 'Sp. Def', 'Speed']\n",
    "(\n",
    "    df\n",
    "    .with_columns(\n",
    "        pl.reduce(\n",
    "            function=lambda acc, col: acc + col, \n",
    "            exprs=pl.col(cols)\n",
    "        )\n",
    "        .alias('Total 2')\n",
    "    )\n",
    "    .head()\n",
    ")"
   ]
  },
  {
   "cell_type": "code",
   "execution_count": 100,
   "metadata": {},
   "outputs": [
    {
     "data": {
      "text/html": [
       "<div><style>\n",
       ".dataframe > thead > tr > th,\n",
       ".dataframe > tbody > tr > td {\n",
       "  text-align: right;\n",
       "  white-space: pre-wrap;\n",
       "}\n",
       "</style>\n",
       "<small>shape: (5, 14)</small><table border=\"1\" class=\"dataframe\"><thead><tr><th>#</th><th>Name</th><th>Type 1</th><th>Type 2</th><th>Total</th><th>HP</th><th>Attack</th><th>Defense</th><th>Sp. Atk</th><th>Sp. Def</th><th>Speed</th><th>Generation</th><th>Legendary</th><th>Total 2</th></tr><tr><td>i64</td><td>str</td><td>str</td><td>str</td><td>i64</td><td>i64</td><td>i64</td><td>i64</td><td>i64</td><td>i64</td><td>i64</td><td>i64</td><td>bool</td><td>i64</td></tr></thead><tbody><tr><td>1</td><td>&quot;Bulbasaur&quot;</td><td>&quot;Grass&quot;</td><td>&quot;Poison&quot;</td><td>318</td><td>45</td><td>49</td><td>49</td><td>65</td><td>65</td><td>45</td><td>1</td><td>false</td><td>418</td></tr><tr><td>2</td><td>&quot;Ivysaur&quot;</td><td>&quot;Grass&quot;</td><td>&quot;Poison&quot;</td><td>405</td><td>60</td><td>62</td><td>63</td><td>80</td><td>80</td><td>60</td><td>1</td><td>false</td><td>505</td></tr><tr><td>3</td><td>&quot;Venusaur&quot;</td><td>&quot;Grass&quot;</td><td>&quot;Poison&quot;</td><td>525</td><td>80</td><td>82</td><td>83</td><td>100</td><td>100</td><td>80</td><td>1</td><td>false</td><td>625</td></tr><tr><td>3</td><td>&quot;VenusaurMega Venusaur&quot;</td><td>&quot;Grass&quot;</td><td>&quot;Poison&quot;</td><td>625</td><td>80</td><td>100</td><td>123</td><td>122</td><td>120</td><td>80</td><td>1</td><td>false</td><td>725</td></tr><tr><td>4</td><td>&quot;Charmander&quot;</td><td>&quot;Fire&quot;</td><td>null</td><td>309</td><td>39</td><td>52</td><td>43</td><td>60</td><td>50</td><td>65</td><td>1</td><td>false</td><td>409</td></tr></tbody></table></div>"
      ],
      "text/plain": [
       "shape: (5, 14)\n",
       "┌─────┬───────────────────────┬────────┬────────┬───┬───────┬────────────┬───────────┬─────────┐\n",
       "│ #   ┆ Name                  ┆ Type 1 ┆ Type 2 ┆ … ┆ Speed ┆ Generation ┆ Legendary ┆ Total 2 │\n",
       "│ --- ┆ ---                   ┆ ---    ┆ ---    ┆   ┆ ---   ┆ ---        ┆ ---       ┆ ---     │\n",
       "│ i64 ┆ str                   ┆ str    ┆ str    ┆   ┆ i64   ┆ i64        ┆ bool      ┆ i64     │\n",
       "╞═════╪═══════════════════════╪════════╪════════╪═══╪═══════╪════════════╪═══════════╪═════════╡\n",
       "│ 1   ┆ Bulbasaur             ┆ Grass  ┆ Poison ┆ … ┆ 45    ┆ 1          ┆ false     ┆ 418     │\n",
       "│ 2   ┆ Ivysaur               ┆ Grass  ┆ Poison ┆ … ┆ 60    ┆ 1          ┆ false     ┆ 505     │\n",
       "│ 3   ┆ Venusaur              ┆ Grass  ┆ Poison ┆ … ┆ 80    ┆ 1          ┆ false     ┆ 625     │\n",
       "│ 3   ┆ VenusaurMega Venusaur ┆ Grass  ┆ Poison ┆ … ┆ 80    ┆ 1          ┆ false     ┆ 725     │\n",
       "│ 4   ┆ Charmander            ┆ Fire   ┆ null   ┆ … ┆ 65    ┆ 1          ┆ false     ┆ 409     │\n",
       "└─────┴───────────────────────┴────────┴────────┴───┴───────┴────────────┴───────────┴─────────┘"
      ]
     },
     "execution_count": 100,
     "metadata": {},
     "output_type": "execute_result"
    }
   ],
   "source": [
    "(\n",
    "    df\n",
    "    .with_columns(\n",
    "        pl.fold(\n",
    "            acc=pl.lit(100), \n",
    "            function=lambda acc, col: acc + col, \n",
    "            exprs=pl.col(cols)\n",
    "        )\n",
    "        .alias('Total 2')\n",
    "    )\n",
    "    .head()\n",
    ")"
   ]
  },
  {
   "cell_type": "markdown",
   "metadata": {},
   "source": [
    "### There is more..."
   ]
  },
  {
   "cell_type": "code",
   "execution_count": 107,
   "metadata": {},
   "outputs": [
    {
     "data": {
      "text/html": [
       "<div><style>\n",
       ".dataframe > thead > tr > th,\n",
       ".dataframe > tbody > tr > td {\n",
       "  text-align: right;\n",
       "  white-space: pre-wrap;\n",
       "}\n",
       "</style>\n",
       "<small>shape: (4, 13)</small><table border=\"1\" class=\"dataframe\"><thead><tr><th>#</th><th>Name</th><th>Type 1</th><th>Type 2</th><th>Total</th><th>HP</th><th>Attack</th><th>Defense</th><th>Sp. Atk</th><th>Sp. Def</th><th>Speed</th><th>Generation</th><th>Legendary</th></tr><tr><td>i64</td><td>str</td><td>str</td><td>str</td><td>i64</td><td>i64</td><td>i64</td><td>i64</td><td>i64</td><td>i64</td><td>i64</td><td>i64</td><td>bool</td></tr></thead><tbody><tr><td>144</td><td>&quot;Articuno&quot;</td><td>&quot;Ice&quot;</td><td>&quot;Flying&quot;</td><td>580</td><td>90</td><td>85</td><td>100</td><td>95</td><td>125</td><td>85</td><td>1</td><td>true</td></tr><tr><td>145</td><td>&quot;Zapdos&quot;</td><td>&quot;Electric&quot;</td><td>&quot;Flying&quot;</td><td>580</td><td>90</td><td>90</td><td>85</td><td>125</td><td>90</td><td>100</td><td>1</td><td>true</td></tr><tr><td>146</td><td>&quot;Moltres&quot;</td><td>&quot;Fire&quot;</td><td>&quot;Flying&quot;</td><td>580</td><td>90</td><td>100</td><td>90</td><td>125</td><td>85</td><td>90</td><td>1</td><td>true</td></tr><tr><td>150</td><td>&quot;Mewtwo&quot;</td><td>&quot;Psychic&quot;</td><td>null</td><td>680</td><td>106</td><td>110</td><td>90</td><td>154</td><td>90</td><td>130</td><td>1</td><td>true</td></tr></tbody></table></div>"
      ],
      "text/plain": [
       "shape: (4, 13)\n",
       "┌─────┬──────────┬──────────┬────────┬───┬─────────┬───────┬────────────┬───────────┐\n",
       "│ #   ┆ Name     ┆ Type 1   ┆ Type 2 ┆ … ┆ Sp. Def ┆ Speed ┆ Generation ┆ Legendary │\n",
       "│ --- ┆ ---      ┆ ---      ┆ ---    ┆   ┆ ---     ┆ ---   ┆ ---        ┆ ---       │\n",
       "│ i64 ┆ str      ┆ str      ┆ str    ┆   ┆ i64     ┆ i64   ┆ i64        ┆ bool      │\n",
       "╞═════╪══════════╪══════════╪════════╪═══╪═════════╪═══════╪════════════╪═══════════╡\n",
       "│ 144 ┆ Articuno ┆ Ice      ┆ Flying ┆ … ┆ 125     ┆ 85    ┆ 1          ┆ true      │\n",
       "│ 145 ┆ Zapdos   ┆ Electric ┆ Flying ┆ … ┆ 90      ┆ 100   ┆ 1          ┆ true      │\n",
       "│ 146 ┆ Moltres  ┆ Fire     ┆ Flying ┆ … ┆ 85      ┆ 90    ┆ 1          ┆ true      │\n",
       "│ 150 ┆ Mewtwo   ┆ Psychic  ┆ null   ┆ … ┆ 90      ┆ 130   ┆ 1          ┆ true      │\n",
       "└─────┴──────────┴──────────┴────────┴───┴─────────┴───────┴────────────┴───────────┘"
      ]
     },
     "execution_count": 107,
     "metadata": {},
     "output_type": "execute_result"
    }
   ],
   "source": [
    "(\n",
    "    df\n",
    "    .filter(\n",
    "        pl.fold(\n",
    "            acc=pl.lit(True), \n",
    "            function=lambda acc, col: acc & col, \n",
    "            exprs=pl.col(cols) > 80\n",
    "        )\n",
    "    )\n",
    "    .head()\n",
    ")"
   ]
  },
  {
   "cell_type": "code",
   "execution_count": 119,
   "metadata": {},
   "outputs": [
    {
     "data": {
      "text/html": [
       "<div><style>\n",
       ".dataframe > thead > tr > th,\n",
       ".dataframe > tbody > tr > td {\n",
       "  text-align: right;\n",
       "  white-space: pre-wrap;\n",
       "}\n",
       "</style>\n",
       "<small>shape: (4, 13)</small><table border=\"1\" class=\"dataframe\"><thead><tr><th>#</th><th>Name</th><th>Type 1</th><th>Type 2</th><th>Total</th><th>HP</th><th>Attack</th><th>Defense</th><th>Sp. Atk</th><th>Sp. Def</th><th>Speed</th><th>Generation</th><th>Legendary</th></tr><tr><td>i64</td><td>str</td><td>str</td><td>str</td><td>i64</td><td>i64</td><td>i64</td><td>i64</td><td>i64</td><td>i64</td><td>i64</td><td>i64</td><td>bool</td></tr></thead><tbody><tr><td>144</td><td>&quot;Articuno&quot;</td><td>&quot;Ice&quot;</td><td>&quot;Flying&quot;</td><td>580</td><td>90</td><td>85</td><td>100</td><td>95</td><td>125</td><td>85</td><td>1</td><td>true</td></tr><tr><td>145</td><td>&quot;Zapdos&quot;</td><td>&quot;Electric&quot;</td><td>&quot;Flying&quot;</td><td>580</td><td>90</td><td>90</td><td>85</td><td>125</td><td>90</td><td>100</td><td>1</td><td>true</td></tr><tr><td>146</td><td>&quot;Moltres&quot;</td><td>&quot;Fire&quot;</td><td>&quot;Flying&quot;</td><td>580</td><td>90</td><td>100</td><td>90</td><td>125</td><td>85</td><td>90</td><td>1</td><td>true</td></tr><tr><td>150</td><td>&quot;Mewtwo&quot;</td><td>&quot;Psychic&quot;</td><td>null</td><td>680</td><td>106</td><td>110</td><td>90</td><td>154</td><td>90</td><td>130</td><td>1</td><td>true</td></tr></tbody></table></div>"
      ],
      "text/plain": [
       "shape: (4, 13)\n",
       "┌─────┬──────────┬──────────┬────────┬───┬─────────┬───────┬────────────┬───────────┐\n",
       "│ #   ┆ Name     ┆ Type 1   ┆ Type 2 ┆ … ┆ Sp. Def ┆ Speed ┆ Generation ┆ Legendary │\n",
       "│ --- ┆ ---      ┆ ---      ┆ ---    ┆   ┆ ---     ┆ ---   ┆ ---        ┆ ---       │\n",
       "│ i64 ┆ str      ┆ str      ┆ str    ┆   ┆ i64     ┆ i64   ┆ i64        ┆ bool      │\n",
       "╞═════╪══════════╪══════════╪════════╪═══╪═════════╪═══════╪════════════╪═══════════╡\n",
       "│ 144 ┆ Articuno ┆ Ice      ┆ Flying ┆ … ┆ 125     ┆ 85    ┆ 1          ┆ true      │\n",
       "│ 145 ┆ Zapdos   ┆ Electric ┆ Flying ┆ … ┆ 90      ┆ 100   ┆ 1          ┆ true      │\n",
       "│ 146 ┆ Moltres  ┆ Fire     ┆ Flying ┆ … ┆ 85      ┆ 90    ┆ 1          ┆ true      │\n",
       "│ 150 ┆ Mewtwo   ┆ Psychic  ┆ null   ┆ … ┆ 90      ┆ 130   ┆ 1          ┆ true      │\n",
       "└─────┴──────────┴──────────┴────────┴───┴─────────┴───────┴────────────┴───────────┘"
      ]
     },
     "execution_count": 119,
     "metadata": {},
     "output_type": "execute_result"
    }
   ],
   "source": [
    "(\n",
    "    df\n",
    "    .filter(\n",
    "        pl.all_horizontal(pl.col(cols) > 80)\n",
    "    )\n",
    "    .head()\n",
    ")"
   ]
  },
  {
   "cell_type": "code",
   "execution_count": 141,
   "metadata": {},
   "outputs": [
    {
     "data": {
      "text/html": [
       "<div><style>\n",
       ".dataframe > thead > tr > th,\n",
       ".dataframe > tbody > tr > td {\n",
       "  text-align: right;\n",
       "  white-space: pre-wrap;\n",
       "}\n",
       "</style>\n",
       "<small>shape: (5, 4)</small><table border=\"1\" class=\"dataframe\"><thead><tr><th>Name</th><th>Type 1</th><th>Type 2</th><th>Str Combined</th></tr><tr><td>str</td><td>str</td><td>str</td><td>str</td></tr></thead><tbody><tr><td>&quot;Bulbasaur&quot;</td><td>&quot;Grass&quot;</td><td>&quot;Poison&quot;</td><td>&quot;BulbasaurGrassPoison&quot;</td></tr><tr><td>&quot;Ivysaur&quot;</td><td>&quot;Grass&quot;</td><td>&quot;Poison&quot;</td><td>&quot;IvysaurGrassPoison&quot;</td></tr><tr><td>&quot;Venusaur&quot;</td><td>&quot;Grass&quot;</td><td>&quot;Poison&quot;</td><td>&quot;VenusaurGrassPoison&quot;</td></tr><tr><td>&quot;VenusaurMega Venusaur&quot;</td><td>&quot;Grass&quot;</td><td>&quot;Poison&quot;</td><td>&quot;VenusaurMega VenusaurGrassPoison&quot;</td></tr><tr><td>&quot;Charmander&quot;</td><td>&quot;Fire&quot;</td><td>null</td><td>null</td></tr></tbody></table></div>"
      ],
      "text/plain": [
       "shape: (5, 4)\n",
       "┌───────────────────────┬────────┬────────┬──────────────────────────────────┐\n",
       "│ Name                  ┆ Type 1 ┆ Type 2 ┆ Str Combined                     │\n",
       "│ ---                   ┆ ---    ┆ ---    ┆ ---                              │\n",
       "│ str                   ┆ str    ┆ str    ┆ str                              │\n",
       "╞═══════════════════════╪════════╪════════╪══════════════════════════════════╡\n",
       "│ Bulbasaur             ┆ Grass  ┆ Poison ┆ BulbasaurGrassPoison             │\n",
       "│ Ivysaur               ┆ Grass  ┆ Poison ┆ IvysaurGrassPoison               │\n",
       "│ Venusaur              ┆ Grass  ┆ Poison ┆ VenusaurGrassPoison              │\n",
       "│ VenusaurMega Venusaur ┆ Grass  ┆ Poison ┆ VenusaurMega VenusaurGrassPoison │\n",
       "│ Charmander            ┆ Fire   ┆ null   ┆ null                             │\n",
       "└───────────────────────┴────────┴────────┴──────────────────────────────────┘"
      ]
     },
     "execution_count": 141,
     "metadata": {},
     "output_type": "execute_result"
    }
   ],
   "source": [
    "str_cols = ['Name', 'Type 1', 'Type 2']\n",
    "str_combined = pl.fold(acc=pl.lit(''), function=lambda acc, col: acc + col, exprs=str_cols).alias('Str Combined')\n",
    "str_cols.append(str_combined)\n",
    "df.select(str_cols).head()"
   ]
  },
  {
   "cell_type": "code",
   "execution_count": 142,
   "metadata": {},
   "outputs": [
    {
     "data": {
      "text/html": [
       "<div><style>\n",
       ".dataframe > thead > tr > th,\n",
       ".dataframe > tbody > tr > td {\n",
       "  text-align: right;\n",
       "  white-space: pre-wrap;\n",
       "}\n",
       "</style>\n",
       "<small>shape: (5, 1)</small><table border=\"1\" class=\"dataframe\"><thead><tr><th>Name</th></tr><tr><td>str</td></tr></thead><tbody><tr><td>&quot;BulbasaurGrassPoison&quot;</td></tr><tr><td>&quot;IvysaurGrassPoison&quot;</td></tr><tr><td>&quot;VenusaurGrassPoison&quot;</td></tr><tr><td>&quot;VenusaurMega VenusaurGrassPoison&quot;</td></tr><tr><td>null</td></tr></tbody></table></div>"
      ],
      "text/plain": [
       "shape: (5, 1)\n",
       "┌──────────────────────────────────┐\n",
       "│ Name                             │\n",
       "│ ---                              │\n",
       "│ str                              │\n",
       "╞══════════════════════════════════╡\n",
       "│ BulbasaurGrassPoison             │\n",
       "│ IvysaurGrassPoison               │\n",
       "│ VenusaurGrassPoison              │\n",
       "│ VenusaurMega VenusaurGrassPoison │\n",
       "│ null                             │\n",
       "└──────────────────────────────────┘"
      ]
     },
     "execution_count": 142,
     "metadata": {},
     "output_type": "execute_result"
    }
   ],
   "source": [
    "str_cols = ['Name', 'Type 1', 'Type 2']\n",
    "df.select(pl.concat_str(str_cols)).head()"
   ]
  }
 ],
 "metadata": {
  "kernelspec": {
   "display_name": ".venv",
   "language": "python",
   "name": "python3"
  },
  "language_info": {
   "codemirror_mode": {
    "name": "ipython",
    "version": 3
   },
   "file_extension": ".py",
   "mimetype": "text/x-python",
   "name": "python",
   "nbconvert_exporter": "python",
   "pygments_lexer": "ipython3",
   "version": "3.11.3"
  }
 },
 "nbformat": 4,
 "nbformat_minor": 2
}
