{
 "cells": [
  {
   "cell_type": "markdown",
   "metadata": {},
   "source": [
    "# Aggregations, Window Functions, and UDFs "
   ]
  },
  {
   "cell_type": "markdown",
   "metadata": {},
   "source": [
    "## Simple aggregations"
   ]
  },
  {
   "cell_type": "markdown",
   "metadata": {},
   "source": [
    "### How to do it..."
   ]
  },
  {
   "cell_type": "code",
   "execution_count": null,
   "metadata": {},
   "outputs": [],
   "source": [
    "import polars as pl"
   ]
  },
  {
   "cell_type": "code",
   "execution_count": null,
   "metadata": {},
   "outputs": [],
   "source": [
    "df = pl.read_csv('../data/constoso_sales.csv', try_parse_dates=True)"
   ]
  },
  {
   "cell_type": "code",
   "execution_count": null,
   "metadata": {},
   "outputs": [],
   "source": [
    "df.head()"
   ]
  },
  {
   "cell_type": "code",
   "execution_count": null,
   "metadata": {},
   "outputs": [],
   "source": [
    "from polars import selectors as cs\n",
    "(\n",
    "    df\n",
    "    .select(cs.numeric())\n",
    "    .sum()\n",
    ")"
   ]
  },
  {
   "cell_type": "code",
   "execution_count": null,
   "metadata": {},
   "outputs": [],
   "source": [
    "s = df.select('Quantity').to_series()\n",
    "s.sum()"
   ]
  },
  {
   "cell_type": "code",
   "execution_count": null,
   "metadata": {},
   "outputs": [],
   "source": [
    "df.select(pl.col('Quantity').sum())"
   ]
  },
  {
   "cell_type": "code",
   "execution_count": null,
   "metadata": {},
   "outputs": [],
   "source": [
    "df.select(\n",
    "    pl.col('Customer Name').first().alias('Cust Name First'),\n",
    "    pl.col('Customer Name').last().alias('Cust Name Last')\n",
    ")"
   ]
  },
  {
   "cell_type": "code",
   "execution_count": null,
   "metadata": {},
   "outputs": [],
   "source": [
    "df.select(cs.numeric()).describe()"
   ]
  },
  {
   "cell_type": "markdown",
   "metadata": {},
   "source": [
    "### There is more..."
   ]
  },
  {
   "cell_type": "code",
   "execution_count": null,
   "metadata": {},
   "outputs": [],
   "source": [
    "df.select(\n",
    "    (pl.col('Quantity') >= 4).sum()\n",
    ")"
   ]
  },
  {
   "cell_type": "code",
   "execution_count": null,
   "metadata": {},
   "outputs": [],
   "source": [
    "df.select(\n",
    "    pl.col('Quantity').filter(pl.col('Store Name')=='Online store').sum()\n",
    ")"
   ]
  },
  {
   "cell_type": "markdown",
   "metadata": {},
   "source": [
    "## Using group by aggregations"
   ]
  },
  {
   "cell_type": "markdown",
   "metadata": {},
   "source": [
    "### How to do it..."
   ]
  },
  {
   "cell_type": "code",
   "execution_count": null,
   "metadata": {},
   "outputs": [],
   "source": [
    "import polars as pl"
   ]
  },
  {
   "cell_type": "code",
   "execution_count": null,
   "metadata": {},
   "outputs": [],
   "source": [
    "df = pl.read_csv('../data/constoso_sales.csv', try_parse_dates=True)\n",
    "df.head()"
   ]
  },
  {
   "cell_type": "code",
   "execution_count": null,
   "metadata": {},
   "outputs": [],
   "source": [
    "df.group_by('Brand')"
   ]
  },
  {
   "cell_type": "code",
   "execution_count": null,
   "metadata": {},
   "outputs": [],
   "source": [
    "(\n",
    "    df\n",
    "    .group_by('Brand')\n",
    "    .agg(pl.col('Quantity').sum().alias('Sum of Quantity'))\n",
    "    .head()\n",
    ")"
   ]
  },
  {
   "cell_type": "code",
   "execution_count": null,
   "metadata": {},
   "outputs": [],
   "source": [
    "(\n",
    "    df\n",
    "    .group_by('Brand')\n",
    "    .agg(\n",
    "        pl.col('Unit Price').sum().alias('Sum of Quantity'),\n",
    "        pl.col('Unit Price').mean().alias('Average Unit Price'),\n",
    "    )\n",
    "    .sort('Average Unit Price', descending=True)\n",
    "    .head()\n",
    ")"
   ]
  },
  {
   "cell_type": "code",
   "execution_count": null,
   "metadata": {},
   "outputs": [],
   "source": [
    "(\n",
    "    df\n",
    "    .group_by('Brand')\n",
    "    .agg(\n",
    "        pl.col('Unit Price').mean().round(2).alias('Average Unit Price'),\n",
    "        (pl.col('Unit Price').sum() / pl.count()).round(2).alias('Average Unit Price 2'),\n",
    "        pl.col('Customer Name').first(),\n",
    "        pl.col('Category').last()\n",
    "    )\n",
    "    .sort('Average Unit Price', descending=True)\n",
    "    .sort('Brand')\n",
    "    .head()\n",
    ")"
   ]
  },
  {
   "cell_type": "code",
   "execution_count": null,
   "metadata": {},
   "outputs": [],
   "source": [
    "(\n",
    "    pl.scan_csv('../data/constoso_sales.csv', try_parse_dates=True)\n",
    "    .group_by('Brand')\n",
    "    .agg(\n",
    "        pl.col('Unit Price').mean().round(2).alias('Average Unit Price'),\n",
    "        (pl.col('Unit Price').sum() / pl.count()).round(2).alias('Average Unit Price 2'),\n",
    "        pl.col('Customer Name').first(),\n",
    "        pl.col('Category').last()\n",
    "    )\n",
    "    .sort('Average Unit Price', descending=True)\n",
    "    .sort('Brand')\n",
    "    .collect()\n",
    "    .head()\n",
    ")"
   ]
  },
  {
   "cell_type": "code",
   "execution_count": null,
   "metadata": {},
   "outputs": [],
   "source": [
    "pl.Config.set_fmt_str_lengths = 50\n",
    "print(df.select('Brand').unique().head(10))"
   ]
  },
  {
   "cell_type": "code",
   "execution_count": null,
   "metadata": {},
   "outputs": [],
   "source": [
    "df.select('Brand').unique().head(10)"
   ]
  },
  {
   "cell_type": "code",
   "execution_count": null,
   "metadata": {},
   "outputs": [],
   "source": [
    "import os\n",
    "os.environ['POLARS_FMT_STR_LEN'] = str(50)\n",
    "\n",
    "df.select('Brand').unique().head(10)"
   ]
  },
  {
   "cell_type": "markdown",
   "metadata": {},
   "source": [
    "### There is more..."
   ]
  },
  {
   "cell_type": "code",
   "execution_count": null,
   "metadata": {},
   "outputs": [],
   "source": [
    "for name, data in df.group_by('Brand'):\n",
    "    print(name, type(data))"
   ]
  },
  {
   "cell_type": "code",
   "execution_count": null,
   "metadata": {},
   "outputs": [],
   "source": [
    "(\n",
    "    df\n",
    "    .group_by('Brand')\n",
    "    .agg(pl.col('Quantity'))\n",
    "    .head()\n",
    ")"
   ]
  },
  {
   "cell_type": "code",
   "execution_count": null,
   "metadata": {},
   "outputs": [],
   "source": [
    "(\n",
    "    df\n",
    "    .group_by('Brand', maintain_order=True)\n",
    "    .agg(pl.col('Quantity'))\n",
    "    .head()\n",
    ")"
   ]
  },
  {
   "cell_type": "code",
   "execution_count": null,
   "metadata": {},
   "outputs": [],
   "source": [
    "(\n",
    "    df\n",
    "    .group_by(\n",
    "        pl.col('Brand'), \n",
    "        'Customer Country',\n",
    "        pl.col('Order Date').dt.year().alias('Order Year')\n",
    "        )\n",
    "    .agg(pl.col('Unit Price').mean())\n",
    "    .head()\n",
    ")"
   ]
  },
  {
   "cell_type": "markdown",
   "metadata": {},
   "source": [
    "## Aggregating values across multiple columns"
   ]
  },
  {
   "cell_type": "markdown",
   "metadata": {},
   "source": [
    "### How to do it..."
   ]
  },
  {
   "cell_type": "code",
   "execution_count": null,
   "metadata": {},
   "outputs": [],
   "source": [
    "import polars as pl"
   ]
  },
  {
   "cell_type": "code",
   "execution_count": 163,
   "metadata": {},
   "outputs": [
    {
     "data": {
      "text/html": [
       "<div><style>\n",
       ".dataframe > thead > tr > th,\n",
       ".dataframe > tbody > tr > td {\n",
       "  text-align: right;\n",
       "  white-space: pre-wrap;\n",
       "}\n",
       "</style>\n",
       "<small>shape: (5, 13)</small><table border=\"1\" class=\"dataframe\"><thead><tr><th>#</th><th>Name</th><th>Type 1</th><th>Type 2</th><th>Total</th><th>HP</th><th>Attack</th><th>Defense</th><th>Sp. Atk</th><th>Sp. Def</th><th>Speed</th><th>Generation</th><th>Legendary</th></tr><tr><td>i64</td><td>str</td><td>str</td><td>str</td><td>i64</td><td>i64</td><td>i64</td><td>i64</td><td>i64</td><td>i64</td><td>i64</td><td>i64</td><td>bool</td></tr></thead><tbody><tr><td>1</td><td>&quot;Bulbasaur&quot;</td><td>&quot;Grass&quot;</td><td>&quot;Poison&quot;</td><td>318</td><td>45</td><td>49</td><td>49</td><td>65</td><td>65</td><td>45</td><td>1</td><td>false</td></tr><tr><td>2</td><td>&quot;Ivysaur&quot;</td><td>&quot;Grass&quot;</td><td>&quot;Poison&quot;</td><td>405</td><td>60</td><td>62</td><td>63</td><td>80</td><td>80</td><td>60</td><td>1</td><td>false</td></tr><tr><td>3</td><td>&quot;Venusaur&quot;</td><td>&quot;Grass&quot;</td><td>&quot;Poison&quot;</td><td>525</td><td>80</td><td>82</td><td>83</td><td>100</td><td>100</td><td>80</td><td>1</td><td>false</td></tr><tr><td>3</td><td>&quot;VenusaurMega Venusaur&quot;</td><td>&quot;Grass&quot;</td><td>&quot;Poison&quot;</td><td>625</td><td>80</td><td>100</td><td>123</td><td>122</td><td>120</td><td>80</td><td>1</td><td>false</td></tr><tr><td>4</td><td>&quot;Charmander&quot;</td><td>&quot;Fire&quot;</td><td>null</td><td>309</td><td>39</td><td>52</td><td>43</td><td>60</td><td>50</td><td>65</td><td>1</td><td>false</td></tr></tbody></table></div>"
      ],
      "text/plain": [
       "shape: (5, 13)\n",
       "┌─────┬───────────────────────┬────────┬────────┬───┬─────────┬───────┬────────────┬───────────┐\n",
       "│ #   ┆ Name                  ┆ Type 1 ┆ Type 2 ┆ … ┆ Sp. Def ┆ Speed ┆ Generation ┆ Legendary │\n",
       "│ --- ┆ ---                   ┆ ---    ┆ ---    ┆   ┆ ---     ┆ ---   ┆ ---        ┆ ---       │\n",
       "│ i64 ┆ str                   ┆ str    ┆ str    ┆   ┆ i64     ┆ i64   ┆ i64        ┆ bool      │\n",
       "╞═════╪═══════════════════════╪════════╪════════╪═══╪═════════╪═══════╪════════════╪═══════════╡\n",
       "│ 1   ┆ Bulbasaur             ┆ Grass  ┆ Poison ┆ … ┆ 65      ┆ 45    ┆ 1          ┆ false     │\n",
       "│ 2   ┆ Ivysaur               ┆ Grass  ┆ Poison ┆ … ┆ 80      ┆ 60    ┆ 1          ┆ false     │\n",
       "│ 3   ┆ Venusaur              ┆ Grass  ┆ Poison ┆ … ┆ 100     ┆ 80    ┆ 1          ┆ false     │\n",
       "│ 3   ┆ VenusaurMega Venusaur ┆ Grass  ┆ Poison ┆ … ┆ 120     ┆ 80    ┆ 1          ┆ false     │\n",
       "│ 4   ┆ Charmander            ┆ Fire   ┆ null   ┆ … ┆ 50      ┆ 65    ┆ 1          ┆ false     │\n",
       "└─────┴───────────────────────┴────────┴────────┴───┴─────────┴───────┴────────────┴───────────┘"
      ]
     },
     "execution_count": 163,
     "metadata": {},
     "output_type": "execute_result"
    }
   ],
   "source": [
    "df = pl.read_csv('../data/pokemon.csv')\n",
    "df.head()"
   ]
  },
  {
   "cell_type": "code",
   "execution_count": 164,
   "metadata": {},
   "outputs": [
    {
     "data": {
      "text/html": [
       "<div><style>\n",
       ".dataframe > thead > tr > th,\n",
       ".dataframe > tbody > tr > td {\n",
       "  text-align: right;\n",
       "  white-space: pre-wrap;\n",
       "}\n",
       "</style>\n",
       "<small>shape: (5,)</small><table border=\"1\" class=\"dataframe\"><thead><tr><th>Total 2</th></tr><tr><td>i64</td></tr></thead><tbody><tr><td>318</td></tr><tr><td>405</td></tr><tr><td>525</td></tr><tr><td>625</td></tr><tr><td>309</td></tr></tbody></table></div>"
      ],
      "text/plain": [
       "shape: (5,)\n",
       "Series: 'Total 2' [i64]\n",
       "[\n",
       "\t318\n",
       "\t405\n",
       "\t525\n",
       "\t625\n",
       "\t309\n",
       "]"
      ]
     },
     "execution_count": 164,
     "metadata": {},
     "output_type": "execute_result"
    }
   ],
   "source": [
    "(\n",
    "    df\n",
    "    .select('HP', 'Attack', 'Defense', 'Sp. Atk', 'Sp. Def', 'Speed')\n",
    "    .sum(axis=1).alias('Total 2')\n",
    "    .head(5)\n",
    ")"
   ]
  },
  {
   "cell_type": "code",
   "execution_count": 165,
   "metadata": {},
   "outputs": [
    {
     "data": {
      "text/html": [
       "<div><style>\n",
       ".dataframe > thead > tr > th,\n",
       ".dataframe > tbody > tr > td {\n",
       "  text-align: right;\n",
       "  white-space: pre-wrap;\n",
       "}\n",
       "</style>\n",
       "<small>shape: (5, 14)</small><table border=\"1\" class=\"dataframe\"><thead><tr><th>#</th><th>Name</th><th>Type 1</th><th>Type 2</th><th>Total</th><th>HP</th><th>Attack</th><th>Defense</th><th>Sp. Atk</th><th>Sp. Def</th><th>Speed</th><th>Generation</th><th>Legendary</th><th>Total 2</th></tr><tr><td>i64</td><td>str</td><td>str</td><td>str</td><td>i64</td><td>i64</td><td>i64</td><td>i64</td><td>i64</td><td>i64</td><td>i64</td><td>i64</td><td>bool</td><td>i64</td></tr></thead><tbody><tr><td>1</td><td>&quot;Bulbasaur&quot;</td><td>&quot;Grass&quot;</td><td>&quot;Poison&quot;</td><td>318</td><td>45</td><td>49</td><td>49</td><td>65</td><td>65</td><td>45</td><td>1</td><td>false</td><td>318</td></tr><tr><td>2</td><td>&quot;Ivysaur&quot;</td><td>&quot;Grass&quot;</td><td>&quot;Poison&quot;</td><td>405</td><td>60</td><td>62</td><td>63</td><td>80</td><td>80</td><td>60</td><td>1</td><td>false</td><td>405</td></tr><tr><td>3</td><td>&quot;Venusaur&quot;</td><td>&quot;Grass&quot;</td><td>&quot;Poison&quot;</td><td>525</td><td>80</td><td>82</td><td>83</td><td>100</td><td>100</td><td>80</td><td>1</td><td>false</td><td>525</td></tr><tr><td>3</td><td>&quot;VenusaurMega Venusaur&quot;</td><td>&quot;Grass&quot;</td><td>&quot;Poison&quot;</td><td>625</td><td>80</td><td>100</td><td>123</td><td>122</td><td>120</td><td>80</td><td>1</td><td>false</td><td>625</td></tr><tr><td>4</td><td>&quot;Charmander&quot;</td><td>&quot;Fire&quot;</td><td>null</td><td>309</td><td>39</td><td>52</td><td>43</td><td>60</td><td>50</td><td>65</td><td>1</td><td>false</td><td>309</td></tr></tbody></table></div>"
      ],
      "text/plain": [
       "shape: (5, 14)\n",
       "┌─────┬───────────────────────┬────────┬────────┬───┬───────┬────────────┬───────────┬─────────┐\n",
       "│ #   ┆ Name                  ┆ Type 1 ┆ Type 2 ┆ … ┆ Speed ┆ Generation ┆ Legendary ┆ Total 2 │\n",
       "│ --- ┆ ---                   ┆ ---    ┆ ---    ┆   ┆ ---   ┆ ---        ┆ ---       ┆ ---     │\n",
       "│ i64 ┆ str                   ┆ str    ┆ str    ┆   ┆ i64   ┆ i64        ┆ bool      ┆ i64     │\n",
       "╞═════╪═══════════════════════╪════════╪════════╪═══╪═══════╪════════════╪═══════════╪═════════╡\n",
       "│ 1   ┆ Bulbasaur             ┆ Grass  ┆ Poison ┆ … ┆ 45    ┆ 1          ┆ false     ┆ 318     │\n",
       "│ 2   ┆ Ivysaur               ┆ Grass  ┆ Poison ┆ … ┆ 60    ┆ 1          ┆ false     ┆ 405     │\n",
       "│ 3   ┆ Venusaur              ┆ Grass  ┆ Poison ┆ … ┆ 80    ┆ 1          ┆ false     ┆ 525     │\n",
       "│ 3   ┆ VenusaurMega Venusaur ┆ Grass  ┆ Poison ┆ … ┆ 80    ┆ 1          ┆ false     ┆ 625     │\n",
       "│ 4   ┆ Charmander            ┆ Fire   ┆ null   ┆ … ┆ 65    ┆ 1          ┆ false     ┆ 309     │\n",
       "└─────┴───────────────────────┴────────┴────────┴───┴───────┴────────────┴───────────┴─────────┘"
      ]
     },
     "execution_count": 165,
     "metadata": {},
     "output_type": "execute_result"
    }
   ],
   "source": [
    "(\n",
    "    df\n",
    "    .with_columns(\n",
    "        pl.sum_horizontal('HP', 'Attack', 'Defense', 'Sp. Atk', 'Sp. Def', 'Speed').alias('Total 2')\n",
    "    )\n",
    "    .head(5)\n",
    ")"
   ]
  },
  {
   "cell_type": "code",
   "execution_count": 167,
   "metadata": {},
   "outputs": [
    {
     "data": {
      "text/html": [
       "<div><style>\n",
       ".dataframe > thead > tr > th,\n",
       ".dataframe > tbody > tr > td {\n",
       "  text-align: right;\n",
       "  white-space: pre-wrap;\n",
       "}\n",
       "</style>\n",
       "<small>shape: (5, 14)</small><table border=\"1\" class=\"dataframe\"><thead><tr><th>#</th><th>Name</th><th>Type 1</th><th>Type 2</th><th>Total</th><th>HP</th><th>Attack</th><th>Defense</th><th>Sp. Atk</th><th>Sp. Def</th><th>Speed</th><th>Generation</th><th>Legendary</th><th>Total 2</th></tr><tr><td>i64</td><td>str</td><td>str</td><td>str</td><td>i64</td><td>i64</td><td>i64</td><td>i64</td><td>i64</td><td>i64</td><td>i64</td><td>i64</td><td>bool</td><td>i64</td></tr></thead><tbody><tr><td>1</td><td>&quot;Bulbasaur&quot;</td><td>&quot;Grass&quot;</td><td>&quot;Poison&quot;</td><td>318</td><td>45</td><td>49</td><td>49</td><td>65</td><td>65</td><td>45</td><td>1</td><td>false</td><td>318</td></tr><tr><td>2</td><td>&quot;Ivysaur&quot;</td><td>&quot;Grass&quot;</td><td>&quot;Poison&quot;</td><td>405</td><td>60</td><td>62</td><td>63</td><td>80</td><td>80</td><td>60</td><td>1</td><td>false</td><td>405</td></tr><tr><td>3</td><td>&quot;Venusaur&quot;</td><td>&quot;Grass&quot;</td><td>&quot;Poison&quot;</td><td>525</td><td>80</td><td>82</td><td>83</td><td>100</td><td>100</td><td>80</td><td>1</td><td>false</td><td>525</td></tr><tr><td>3</td><td>&quot;VenusaurMega Venusaur&quot;</td><td>&quot;Grass&quot;</td><td>&quot;Poison&quot;</td><td>625</td><td>80</td><td>100</td><td>123</td><td>122</td><td>120</td><td>80</td><td>1</td><td>false</td><td>625</td></tr><tr><td>4</td><td>&quot;Charmander&quot;</td><td>&quot;Fire&quot;</td><td>null</td><td>309</td><td>39</td><td>52</td><td>43</td><td>60</td><td>50</td><td>65</td><td>1</td><td>false</td><td>309</td></tr></tbody></table></div>"
      ],
      "text/plain": [
       "shape: (5, 14)\n",
       "┌─────┬───────────────────────┬────────┬────────┬───┬───────┬────────────┬───────────┬─────────┐\n",
       "│ #   ┆ Name                  ┆ Type 1 ┆ Type 2 ┆ … ┆ Speed ┆ Generation ┆ Legendary ┆ Total 2 │\n",
       "│ --- ┆ ---                   ┆ ---    ┆ ---    ┆   ┆ ---   ┆ ---        ┆ ---       ┆ ---     │\n",
       "│ i64 ┆ str                   ┆ str    ┆ str    ┆   ┆ i64   ┆ i64        ┆ bool      ┆ i64     │\n",
       "╞═════╪═══════════════════════╪════════╪════════╪═══╪═══════╪════════════╪═══════════╪═════════╡\n",
       "│ 1   ┆ Bulbasaur             ┆ Grass  ┆ Poison ┆ … ┆ 45    ┆ 1          ┆ false     ┆ 318     │\n",
       "│ 2   ┆ Ivysaur               ┆ Grass  ┆ Poison ┆ … ┆ 60    ┆ 1          ┆ false     ┆ 405     │\n",
       "│ 3   ┆ Venusaur              ┆ Grass  ┆ Poison ┆ … ┆ 80    ┆ 1          ┆ false     ┆ 525     │\n",
       "│ 3   ┆ VenusaurMega Venusaur ┆ Grass  ┆ Poison ┆ … ┆ 80    ┆ 1          ┆ false     ┆ 625     │\n",
       "│ 4   ┆ Charmander            ┆ Fire   ┆ null   ┆ … ┆ 65    ┆ 1          ┆ false     ┆ 309     │\n",
       "└─────┴───────────────────────┴────────┴────────┴───┴───────┴────────────┴───────────┴─────────┘"
      ]
     },
     "execution_count": 167,
     "metadata": {},
     "output_type": "execute_result"
    }
   ],
   "source": [
    "(\n",
    "    df\n",
    "    .with_columns(\n",
    "        pl.concat_list('HP', 'Attack', 'Defense', 'Sp. Atk', 'Sp. Def', 'Speed').list.sum().alias('Total 2')\n",
    "    )\n",
    "    .head(5)\n",
    ")"
   ]
  },
  {
   "cell_type": "code",
   "execution_count": null,
   "metadata": {},
   "outputs": [],
   "source": [
    "cols = ['HP', 'Attack', 'Defense', 'Sp. Atk', 'Sp. Def', 'Speed']\n",
    "(\n",
    "    df\n",
    "    .with_columns(\n",
    "        pl.reduce(\n",
    "            function=lambda acc, col: acc + col, \n",
    "            exprs=pl.col(cols)\n",
    "        )\n",
    "        .alias('Total 2')\n",
    "    )\n",
    "    .head()\n",
    ")"
   ]
  },
  {
   "cell_type": "code",
   "execution_count": null,
   "metadata": {},
   "outputs": [],
   "source": [
    "(\n",
    "    df\n",
    "    .with_columns(\n",
    "        pl.fold(\n",
    "            acc=pl.lit(100), \n",
    "            function=lambda acc, col: acc + col, \n",
    "            exprs=pl.col(cols)\n",
    "        )\n",
    "        .alias('Total 2')\n",
    "    )\n",
    "    .head()\n",
    ")"
   ]
  },
  {
   "cell_type": "markdown",
   "metadata": {},
   "source": [
    "### There is more..."
   ]
  },
  {
   "cell_type": "code",
   "execution_count": null,
   "metadata": {},
   "outputs": [],
   "source": [
    "(\n",
    "    df\n",
    "    .filter(\n",
    "        pl.fold(\n",
    "            acc=pl.lit(True), \n",
    "            function=lambda acc, col: acc & col, \n",
    "            exprs=pl.col(cols) > 80\n",
    "        )\n",
    "    )\n",
    "    .head()\n",
    ")"
   ]
  },
  {
   "cell_type": "code",
   "execution_count": null,
   "metadata": {},
   "outputs": [],
   "source": [
    "(\n",
    "    df\n",
    "    .filter(\n",
    "        pl.all_horizontal(pl.col(cols) > 80)\n",
    "    )\n",
    "    .head()\n",
    ")"
   ]
  },
  {
   "cell_type": "code",
   "execution_count": null,
   "metadata": {},
   "outputs": [],
   "source": [
    "str_cols = ['Name', 'Type 1', 'Type 2']\n",
    "str_combined = pl.fold(acc=pl.lit(''), function=lambda acc, col: acc + col, exprs=str_cols).alias('Str Combined')\n",
    "str_cols.append(str_combined)\n",
    "df.select(str_cols).head()"
   ]
  },
  {
   "cell_type": "code",
   "execution_count": null,
   "metadata": {},
   "outputs": [],
   "source": [
    "str_cols = ['Name', 'Type 1', 'Type 2']\n",
    "df.select(pl.concat_str(str_cols)).head()"
   ]
  },
  {
   "cell_type": "markdown",
   "metadata": {},
   "source": [
    "## Computing over groups with window functions"
   ]
  },
  {
   "cell_type": "markdown",
   "metadata": {},
   "source": [
    "### How to do it..."
   ]
  },
  {
   "cell_type": "code",
   "execution_count": 1,
   "metadata": {},
   "outputs": [],
   "source": [
    "import polars as pl"
   ]
  },
  {
   "cell_type": "code",
   "execution_count": 2,
   "metadata": {},
   "outputs": [],
   "source": [
    "import os \n",
    "os.environ['POLARS_FMT_STR_LEN'] = str(50) "
   ]
  },
  {
   "cell_type": "code",
   "execution_count": 202,
   "metadata": {},
   "outputs": [
    {
     "data": {
      "text/html": [
       "<div><style>\n",
       ".dataframe > thead > tr > th,\n",
       ".dataframe > tbody > tr > td {\n",
       "  text-align: right;\n",
       "  white-space: pre-wrap;\n",
       "}\n",
       "</style>\n",
       "<small>shape: (5, 21)</small><table border=\"1\" class=\"dataframe\"><thead><tr><th>Order Number</th><th>Line Number</th><th>Order Date</th><th>Delivery Date</th><th>Customer Name</th><th>Customer Gender</th><th>Customer Country</th><th>Customer Age</th><th>Store Name</th><th>Product Name</th><th>Color</th><th>Brand</th><th>Category</th><th>Subcategory</th><th>Quantity</th><th>Unit Price</th><th>Net Price</th><th>Unit Cost</th><th>Currency Code</th><th>Exchange Rate</th><th>Sales Amount</th></tr><tr><td>i64</td><td>i64</td><td>date</td><td>date</td><td>str</td><td>str</td><td>str</td><td>i64</td><td>str</td><td>str</td><td>str</td><td>str</td><td>str</td><td>str</td><td>i64</td><td>f64</td><td>f64</td><td>f64</td><td>str</td><td>f64</td><td>f64</td></tr></thead><tbody><tr><td>284806</td><td>1</td><td>2017-10-18</td><td>2017-10-20</td><td>&quot;Eric Kennedy&quot;</td><td>&quot;Male&quot;</td><td>&quot;United States&quot;</td><td>47</td><td>&quot;Online store&quot;</td><td>&quot;Contoso 512MB MP3 Player E51 Silver&quot;</td><td>&quot;Silver&quot;</td><td>&quot;Contoso&quot;</td><td>&quot;Audio&quot;</td><td>&quot;MP4&amp;MP3&quot;</td><td>7</td><td>11.691</td><td>10.288</td><td>5.958</td><td>&quot;USD&quot;</td><td>1.0</td><td>72.02</td></tr><tr><td>285506</td><td>1</td><td>2017-10-25</td><td>2017-10-26</td><td>&quot;George Tooth&quot;</td><td>&quot;Male&quot;</td><td>&quot;Australia&quot;</td><td>30</td><td>&quot;Online store&quot;</td><td>&quot;Contoso 512MB MP3 Player E51 Silver&quot;</td><td>&quot;Silver&quot;</td><td>&quot;Contoso&quot;</td><td>&quot;Audio&quot;</td><td>&quot;MP4&amp;MP3&quot;</td><td>1</td><td>11.691</td><td>11.691</td><td>5.958</td><td>&quot;AUD&quot;</td><td>1.2967</td><td>11.69</td></tr><tr><td>311002</td><td>2</td><td>2018-07-07</td><td>2018-07-12</td><td>&quot;Caleb Greene&quot;</td><td>&quot;Male&quot;</td><td>&quot;Australia&quot;</td><td>59</td><td>&quot;Online store&quot;</td><td>&quot;Contoso 512MB MP3 Player E51 Silver&quot;</td><td>&quot;Silver&quot;</td><td>&quot;Contoso&quot;</td><td>&quot;Audio&quot;</td><td>&quot;MP4&amp;MP3&quot;</td><td>6</td><td>12.99</td><td>12.99</td><td>6.62</td><td>&quot;AUD&quot;</td><td>1.3484</td><td>77.94</td></tr><tr><td>366307</td><td>2</td><td>2020-01-11</td><td>2020-01-11</td><td>&quot;Isaac Siddins&quot;</td><td>&quot;Male&quot;</td><td>&quot;Australia&quot;</td><td>25</td><td>&quot;Contoso Store Western Australia&quot;</td><td>&quot;Contoso 512MB MP3 Player E51 Blue&quot;</td><td>&quot;Blue&quot;</td><td>&quot;Contoso&quot;</td><td>&quot;Audio&quot;</td><td>&quot;MP4&amp;MP3&quot;</td><td>4</td><td>12.99</td><td>12.99</td><td>6.62</td><td>&quot;AUD&quot;</td><td>1.4545</td><td>51.96</td></tr><tr><td>325708</td><td>3</td><td>2018-12-01</td><td>2018-12-02</td><td>&quot;Mike McQueen&quot;</td><td>&quot;Male&quot;</td><td>&quot;United States&quot;</td><td>56</td><td>&quot;Online store&quot;</td><td>&quot;Contoso 512MB MP3 Player E51 Blue&quot;</td><td>&quot;Blue&quot;</td><td>&quot;Contoso&quot;</td><td>&quot;Audio&quot;</td><td>&quot;MP4&amp;MP3&quot;</td><td>2</td><td>12.99</td><td>11.5611</td><td>6.62</td><td>&quot;USD&quot;</td><td>1.0</td><td>23.12</td></tr></tbody></table></div>"
      ],
      "text/plain": [
       "shape: (5, 21)\n",
       "┌────────┬────────┬────────────┬─────────────────┬───┬───────┬──────────┬─────────────────┬────────┐\n",
       "│ Order  ┆ Line   ┆ Order Date ┆ Delivery Date   ┆ … ┆ Unit  ┆ Currency ┆ Exchange Rate   ┆ Sales  │\n",
       "│ Number ┆ Number ┆ ---        ┆ ---             ┆   ┆ Cost  ┆ Code     ┆ ---             ┆ Amount │\n",
       "│ ---    ┆ ---    ┆ date       ┆ date            ┆   ┆ ---   ┆ ---      ┆ f64             ┆ ---    │\n",
       "│ i64    ┆ i64    ┆            ┆                 ┆   ┆ f64   ┆ str      ┆                 ┆ f64    │\n",
       "╞════════╪════════╪════════════╪═════════════════╪═══╪═══════╪══════════╪═════════════════╪════════╡\n",
       "│ 284806 ┆ 1      ┆ 2017-10-18 ┆ 2017-10-20      ┆ … ┆ 5.958 ┆ USD      ┆ 1.0             ┆ 72.02  │\n",
       "│ 285506 ┆ 1      ┆ 2017-10-25 ┆ 2017-10-26      ┆ … ┆ 5.958 ┆ AUD      ┆ 1.2967          ┆ 11.69  │\n",
       "│ 311002 ┆ 2      ┆ 2018-07-07 ┆ 2018-07-12      ┆ … ┆ 6.62  ┆ AUD      ┆ 1.3484          ┆ 77.94  │\n",
       "│ 366307 ┆ 2      ┆ 2020-01-11 ┆ 2020-01-11      ┆ … ┆ 6.62  ┆ AUD      ┆ 1.4545          ┆ 51.96  │\n",
       "│ 325708 ┆ 3      ┆ 2018-12-01 ┆ 2018-12-02      ┆ … ┆ 6.62  ┆ USD      ┆ 1.0             ┆ 23.12  │\n",
       "└────────┴────────┴────────────┴─────────────────┴───┴───────┴──────────┴─────────────────┴────────┘"
      ]
     },
     "execution_count": 202,
     "metadata": {},
     "output_type": "execute_result"
    }
   ],
   "source": [
    "df = pl.read_csv('../data/constoso_sales.csv', try_parse_dates=True)\n",
    "df = df.with_columns(\n",
    "    (pl.col('Quantity') * pl.col('Net Price')).round(2).alias('Sales Amount')\n",
    ")\n",
    "df.head()"
   ]
  },
  {
   "cell_type": "code",
   "execution_count": 106,
   "metadata": {},
   "outputs": [
    {
     "data": {
      "text/html": [
       "<div><style>\n",
       ".dataframe > thead > tr > th,\n",
       ".dataframe > tbody > tr > td {\n",
       "  text-align: right;\n",
       "  white-space: pre-wrap;\n",
       "}\n",
       "</style>\n",
       "<small>shape: (5, 3)</small><table border=\"1\" class=\"dataframe\"><thead><tr><th>Category</th><th>Subcategory</th><th>Sales Amt per Cat</th></tr><tr><td>str</td><td>str</td><td>f64</td></tr></thead><tbody><tr><td>&quot;Audio&quot;</td><td>&quot;MP4&amp;MP3&quot;</td><td>238356.0</td></tr><tr><td>&quot;Audio&quot;</td><td>&quot;MP4&amp;MP3&quot;</td><td>238356.0</td></tr><tr><td>&quot;Audio&quot;</td><td>&quot;MP4&amp;MP3&quot;</td><td>238356.0</td></tr><tr><td>&quot;Audio&quot;</td><td>&quot;MP4&amp;MP3&quot;</td><td>238356.0</td></tr><tr><td>&quot;Audio&quot;</td><td>&quot;MP4&amp;MP3&quot;</td><td>238356.0</td></tr></tbody></table></div>"
      ],
      "text/plain": [
       "shape: (5, 3)\n",
       "┌──────────┬─────────────┬───────────────────┐\n",
       "│ Category ┆ Subcategory ┆ Sales Amt per Cat │\n",
       "│ ---      ┆ ---         ┆ ---               │\n",
       "│ str      ┆ str         ┆ f64               │\n",
       "╞══════════╪═════════════╪═══════════════════╡\n",
       "│ Audio    ┆ MP4&MP3     ┆ 238356.0          │\n",
       "│ Audio    ┆ MP4&MP3     ┆ 238356.0          │\n",
       "│ Audio    ┆ MP4&MP3     ┆ 238356.0          │\n",
       "│ Audio    ┆ MP4&MP3     ┆ 238356.0          │\n",
       "│ Audio    ┆ MP4&MP3     ┆ 238356.0          │\n",
       "└──────────┴─────────────┴───────────────────┘"
      ]
     },
     "execution_count": 106,
     "metadata": {},
     "output_type": "execute_result"
    }
   ],
   "source": [
    "sales_by_cat = df.select(\n",
    "    'Category',\n",
    "    'Subcategory',\n",
    "    pl.col('Sales Amount').sum().over('Category').alias('Sales Amt per Cat')\n",
    ")\n",
    "sales_by_cat.head()    "
   ]
  },
  {
   "cell_type": "code",
   "execution_count": 107,
   "metadata": {},
   "outputs": [
    {
     "data": {
      "text/html": [
       "<div><style>\n",
       ".dataframe > thead > tr > th,\n",
       ".dataframe > tbody > tr > td {\n",
       "  text-align: right;\n",
       "  white-space: pre-wrap;\n",
       "}\n",
       "</style>\n",
       "<small>shape: (3, 3)</small><table border=\"1\" class=\"dataframe\"><thead><tr><th>Category</th><th>Subcategory</th><th>Sales Amt per Cat</th></tr><tr><td>str</td><td>str</td><td>f64</td></tr></thead><tbody><tr><td>&quot;Audio&quot;</td><td>&quot;MP4&amp;MP3&quot;</td><td>238356.0</td></tr><tr><td>&quot;Audio&quot;</td><td>&quot;Bluetooth Headphones&quot;</td><td>238356.0</td></tr><tr><td>&quot;Audio&quot;</td><td>&quot;Recording Pen&quot;</td><td>238356.0</td></tr></tbody></table></div>"
      ],
      "text/plain": [
       "shape: (3, 3)\n",
       "┌──────────┬──────────────────────┬───────────────────┐\n",
       "│ Category ┆ Subcategory          ┆ Sales Amt per Cat │\n",
       "│ ---      ┆ ---                  ┆ ---               │\n",
       "│ str      ┆ str                  ┆ f64               │\n",
       "╞══════════╪══════════════════════╪═══════════════════╡\n",
       "│ Audio    ┆ MP4&MP3              ┆ 238356.0          │\n",
       "│ Audio    ┆ Bluetooth Headphones ┆ 238356.0          │\n",
       "│ Audio    ┆ Recording Pen        ┆ 238356.0          │\n",
       "└──────────┴──────────────────────┴───────────────────┘"
      ]
     },
     "execution_count": 107,
     "metadata": {},
     "output_type": "execute_result"
    }
   ],
   "source": [
    "sales_by_cat.filter(pl.col('Category')=='Audio').unique().head()"
   ]
  },
  {
   "cell_type": "code",
   "execution_count": 108,
   "metadata": {},
   "outputs": [
    {
     "data": {
      "text/plain": [
       "((13915, 21), (13915, 3))"
      ]
     },
     "execution_count": 108,
     "metadata": {},
     "output_type": "execute_result"
    }
   ],
   "source": [
    "df.shape, sales_by_cat.shape "
   ]
  },
  {
   "cell_type": "code",
   "execution_count": 109,
   "metadata": {},
   "outputs": [
    {
     "data": {
      "text/html": [
       "<div><style>\n",
       ".dataframe > thead > tr > th,\n",
       ".dataframe > tbody > tr > td {\n",
       "  text-align: right;\n",
       "  white-space: pre-wrap;\n",
       "}\n",
       "</style>\n",
       "<small>shape: (10, 4)</small><table border=\"1\" class=\"dataframe\"><thead><tr><th>Category</th><th>Brand</th><th>Subcategory</th><th>Avg Sales per Cat and Brand</th></tr><tr><td>str</td><td>str</td><td>str</td><td>f64</td></tr></thead><tbody><tr><td>&quot;Computers&quot;</td><td>&quot;Adventure Works&quot;</td><td>&quot;Laptops&quot;</td><td>1797.371846</td></tr><tr><td>&quot;Computers&quot;</td><td>&quot;Adventure Works&quot;</td><td>&quot;Desktops&quot;</td><td>1797.371846</td></tr><tr><td>&quot;Computers&quot;</td><td>&quot;Adventure Works&quot;</td><td>&quot;Monitors&quot;</td><td>1797.371846</td></tr><tr><td>&quot;Computers&quot;</td><td>&quot;Contoso&quot;</td><td>&quot;Computers Accessories&quot;</td><td>689.986652</td></tr><tr><td>&quot;Computers&quot;</td><td>&quot;Contoso&quot;</td><td>&quot;Projectors &amp; Screens&quot;</td><td>689.986652</td></tr><tr><td>&quot;Computers&quot;</td><td>&quot;Fabrikam&quot;</td><td>&quot;Laptops&quot;</td><td>1982.066063</td></tr><tr><td>&quot;Computers&quot;</td><td>&quot;Proseware&quot;</td><td>&quot;Monitors&quot;</td><td>1095.305012</td></tr><tr><td>&quot;Computers&quot;</td><td>&quot;Proseware&quot;</td><td>&quot;Laptops&quot;</td><td>1095.305012</td></tr><tr><td>&quot;Computers&quot;</td><td>&quot;Proseware&quot;</td><td>&quot;Projectors &amp; Screens&quot;</td><td>1095.305012</td></tr><tr><td>&quot;Computers&quot;</td><td>&quot;Proseware&quot;</td><td>&quot;Printers, Scanners &amp; Fax&quot;</td><td>1095.305012</td></tr></tbody></table></div>"
      ],
      "text/plain": [
       "shape: (10, 4)\n",
       "┌───────────┬─────────────────┬──────────────────────────┬─────────────────────────────┐\n",
       "│ Category  ┆ Brand           ┆ Subcategory              ┆ Avg Sales per Cat and Brand │\n",
       "│ ---       ┆ ---             ┆ ---                      ┆ ---                         │\n",
       "│ str       ┆ str             ┆ str                      ┆ f64                         │\n",
       "╞═══════════╪═════════════════╪══════════════════════════╪═════════════════════════════╡\n",
       "│ Computers ┆ Adventure Works ┆ Laptops                  ┆ 1797.371846                 │\n",
       "│ Computers ┆ Adventure Works ┆ Desktops                 ┆ 1797.371846                 │\n",
       "│ Computers ┆ Adventure Works ┆ Monitors                 ┆ 1797.371846                 │\n",
       "│ Computers ┆ Contoso         ┆ Computers Accessories    ┆ 689.986652                  │\n",
       "│ …         ┆ …               ┆ …                        ┆ …                           │\n",
       "│ Computers ┆ Proseware       ┆ Monitors                 ┆ 1095.305012                 │\n",
       "│ Computers ┆ Proseware       ┆ Laptops                  ┆ 1095.305012                 │\n",
       "│ Computers ┆ Proseware       ┆ Projectors & Screens     ┆ 1095.305012                 │\n",
       "│ Computers ┆ Proseware       ┆ Printers, Scanners & Fax ┆ 1095.305012                 │\n",
       "└───────────┴─────────────────┴──────────────────────────┴─────────────────────────────┘"
      ]
     },
     "execution_count": 109,
     "metadata": {},
     "output_type": "execute_result"
    }
   ],
   "source": [
    "(\n",
    "    df\n",
    "    .select(\n",
    "        'Category',\n",
    "        'Brand',\n",
    "        'Subcategory',\n",
    "        pl.col('Sales Amount').mean().over('Category', 'Brand').alias('Avg Sales per Cat and Brand')\n",
    "    )\n",
    "    .filter(\n",
    "        (pl.col('Category')=='Computers') \n",
    "    )\n",
    "    .unique()\n",
    "    .sort('Brand')\n",
    "    .head(10)\n",
    ")"
   ]
  },
  {
   "cell_type": "code",
   "execution_count": 110,
   "metadata": {},
   "outputs": [
    {
     "data": {
      "text/html": [
       "<div><style>\n",
       ".dataframe > thead > tr > th,\n",
       ".dataframe > tbody > tr > td {\n",
       "  text-align: right;\n",
       "  white-space: pre-wrap;\n",
       "}\n",
       "</style>\n",
       "<small>shape: (10, 4)</small><table border=\"1\" class=\"dataframe\"><thead><tr><th>Category</th><th>Brand</th><th>Customer Age</th><th>Avg Sales per Cat</th></tr><tr><td>str</td><td>str</td><td>i64</td><td>f64</td></tr></thead><tbody><tr><td>&quot;Computers&quot;</td><td>&quot;Proseware&quot;</td><td>19</td><td>1665.993509</td></tr><tr><td>&quot;Computers&quot;</td><td>&quot;Southridge Video&quot;</td><td>19</td><td>1665.993509</td></tr><tr><td>&quot;Computers&quot;</td><td>&quot;Wide World Importers&quot;</td><td>19</td><td>1665.993509</td></tr><tr><td>&quot;Computers&quot;</td><td>&quot;Contoso&quot;</td><td>19</td><td>1665.993509</td></tr><tr><td>&quot;Computers&quot;</td><td>&quot;Fabrikam&quot;</td><td>19</td><td>1665.993509</td></tr><tr><td>&quot;Computers&quot;</td><td>&quot;Adventure Works&quot;</td><td>19</td><td>1665.993509</td></tr><tr><td>&quot;Computers&quot;</td><td>&quot;Fabrikam&quot;</td><td>20</td><td>2094.541563</td></tr><tr><td>&quot;Computers&quot;</td><td>&quot;Adventure Works&quot;</td><td>20</td><td>2094.541563</td></tr><tr><td>&quot;Computers&quot;</td><td>&quot;Wide World Importers&quot;</td><td>20</td><td>2094.541563</td></tr><tr><td>&quot;Computers&quot;</td><td>&quot;Contoso&quot;</td><td>20</td><td>2094.541563</td></tr></tbody></table></div>"
      ],
      "text/plain": [
       "shape: (10, 4)\n",
       "┌───────────┬──────────────────────┬──────────────┬───────────────────┐\n",
       "│ Category  ┆ Brand                ┆ Customer Age ┆ Avg Sales per Cat │\n",
       "│ ---       ┆ ---                  ┆ ---          ┆ ---               │\n",
       "│ str       ┆ str                  ┆ i64          ┆ f64               │\n",
       "╞═══════════╪══════════════════════╪══════════════╪═══════════════════╡\n",
       "│ Computers ┆ Proseware            ┆ 19           ┆ 1665.993509       │\n",
       "│ Computers ┆ Southridge Video     ┆ 19           ┆ 1665.993509       │\n",
       "│ Computers ┆ Wide World Importers ┆ 19           ┆ 1665.993509       │\n",
       "│ Computers ┆ Contoso              ┆ 19           ┆ 1665.993509       │\n",
       "│ …         ┆ …                    ┆ …            ┆ …                 │\n",
       "│ Computers ┆ Fabrikam             ┆ 20           ┆ 2094.541563       │\n",
       "│ Computers ┆ Adventure Works      ┆ 20           ┆ 2094.541563       │\n",
       "│ Computers ┆ Wide World Importers ┆ 20           ┆ 2094.541563       │\n",
       "│ Computers ┆ Contoso              ┆ 20           ┆ 2094.541563       │\n",
       "└───────────┴──────────────────────┴──────────────┴───────────────────┘"
      ]
     },
     "execution_count": 110,
     "metadata": {},
     "output_type": "execute_result"
    }
   ],
   "source": [
    "from datetime import date\n",
    "\n",
    "curr_yr = date.today().year\n",
    "cust_birth_yr = curr_yr - pl.col('Customer Age')\n",
    "\n",
    "(\n",
    "    df\n",
    "    .select(\n",
    "        'Category',\n",
    "        'Brand',\n",
    "        'Customer Age',\n",
    "        pl.col('Sales Amount').mean().over('Category', cust_birth_yr).alias('Avg Sales per Cat') \n",
    "    )\n",
    "    .filter(pl.col('Category')=='Computers')\n",
    "    .unique()\n",
    "    .sort('Customer Age')\n",
    "    .head(10)\n",
    ")"
   ]
  },
  {
   "cell_type": "code",
   "execution_count": 111,
   "metadata": {},
   "outputs": [
    {
     "data": {
      "text/html": [
       "<div><style>\n",
       ".dataframe > thead > tr > th,\n",
       ".dataframe > tbody > tr > td {\n",
       "  text-align: right;\n",
       "  white-space: pre-wrap;\n",
       "}\n",
       "</style>\n",
       "<small>shape: (8, 3)</small><table border=\"1\" class=\"dataframe\"><thead><tr><th>Category</th><th>Max Sales Amt</th><th>Rank</th></tr><tr><td>str</td><td>f64</td><td>f64</td></tr></thead><tbody><tr><td>&quot;TV and Video&quot;</td><td>28999.9</td><td>1.0</td></tr><tr><td>&quot;Home Appliances&quot;</td><td>28479.91</td><td>2.0</td></tr><tr><td>&quot;Computers&quot;</td><td>19992.0</td><td>3.0</td></tr><tr><td>&quot;Cameras and camcorders &quot;</td><td>10810.8</td><td>4.0</td></tr><tr><td>&quot;Cell phones&quot;</td><td>5183.2</td><td>5.0</td></tr><tr><td>&quot;Music, Movies and Audio Books&quot;</td><td>3041.88</td><td>6.0</td></tr><tr><td>&quot;Audio&quot;</td><td>2871.2</td><td>7.0</td></tr><tr><td>&quot;Games and Toys&quot;</td><td>2813.16</td><td>8.0</td></tr></tbody></table></div>"
      ],
      "text/plain": [
       "shape: (8, 3)\n",
       "┌───────────────────────────────┬───────────────┬──────┐\n",
       "│ Category                      ┆ Max Sales Amt ┆ Rank │\n",
       "│ ---                           ┆ ---           ┆ ---  │\n",
       "│ str                           ┆ f64           ┆ f64  │\n",
       "╞═══════════════════════════════╪═══════════════╪══════╡\n",
       "│ TV and Video                  ┆ 28999.9       ┆ 1.0  │\n",
       "│ Home Appliances               ┆ 28479.91      ┆ 2.0  │\n",
       "│ Computers                     ┆ 19992.0       ┆ 3.0  │\n",
       "│ Cameras and camcorders        ┆ 10810.8       ┆ 4.0  │\n",
       "│ Cell phones                   ┆ 5183.2        ┆ 5.0  │\n",
       "│ Music, Movies and Audio Books ┆ 3041.88       ┆ 6.0  │\n",
       "│ Audio                         ┆ 2871.2        ┆ 7.0  │\n",
       "│ Games and Toys                ┆ 2813.16       ┆ 8.0  │\n",
       "└───────────────────────────────┴───────────────┴──────┘"
      ]
     },
     "execution_count": 111,
     "metadata": {},
     "output_type": "execute_result"
    }
   ],
   "source": [
    "(\n",
    "    df\n",
    "    .group_by('Category')\n",
    "    .agg(pl.col('Sales Amount').max().alias('Max Sales Amt'))\n",
    "    .with_columns(\n",
    "        pl.col('Max Sales Amt').rank(descending=True).alias('Rank')\n",
    "    )\n",
    "    .sort('Rank')\n",
    ")"
   ]
  },
  {
   "cell_type": "code",
   "execution_count": 116,
   "metadata": {},
   "outputs": [
    {
     "data": {
      "text/html": [
       "<div><style>\n",
       ".dataframe > thead > tr > th,\n",
       ".dataframe > tbody > tr > td {\n",
       "  text-align: right;\n",
       "  white-space: pre-wrap;\n",
       "}\n",
       "</style>\n",
       "<small>shape: (9, 4)</small><table border=\"1\" class=\"dataframe\"><thead><tr><th>Category</th><th>Subcategory</th><th>Max Sales Amt</th><th>Rank</th></tr><tr><td>str</td><td>str</td><td>i64</td><td>i64</td></tr></thead><tbody><tr><td>&quot;Audio&quot;</td><td>&quot;Recording Pen&quot;</td><td>2871</td><td>1</td></tr><tr><td>&quot;Audio&quot;</td><td>&quot;Bluetooth Headphones&quot;</td><td>2250</td><td>2</td></tr><tr><td>&quot;Audio&quot;</td><td>&quot;MP4&amp;MP3&quot;</td><td>2095</td><td>3</td></tr><tr><td>&quot;Computers&quot;</td><td>&quot;Projectors &amp; Screens&quot;</td><td>19992</td><td>1</td></tr><tr><td>&quot;Computers&quot;</td><td>&quot;Laptops&quot;</td><td>19485</td><td>2</td></tr><tr><td>&quot;Computers&quot;</td><td>&quot;Desktops&quot;</td><td>14535</td><td>3</td></tr><tr><td>&quot;Computers&quot;</td><td>&quot;Monitors&quot;</td><td>11425</td><td>4</td></tr><tr><td>&quot;Computers&quot;</td><td>&quot;Printers, Scanners &amp; Fax&quot;</td><td>2508</td><td>5</td></tr><tr><td>&quot;Computers&quot;</td><td>&quot;Computers Accessories&quot;</td><td>2424</td><td>6</td></tr></tbody></table></div>"
      ],
      "text/plain": [
       "shape: (9, 4)\n",
       "┌───────────┬──────────────────────────┬───────────────┬──────┐\n",
       "│ Category  ┆ Subcategory              ┆ Max Sales Amt ┆ Rank │\n",
       "│ ---       ┆ ---                      ┆ ---           ┆ ---  │\n",
       "│ str       ┆ str                      ┆ i64           ┆ i64  │\n",
       "╞═══════════╪══════════════════════════╪═══════════════╪══════╡\n",
       "│ Audio     ┆ Recording Pen            ┆ 2871          ┆ 1    │\n",
       "│ Audio     ┆ Bluetooth Headphones     ┆ 2250          ┆ 2    │\n",
       "│ Audio     ┆ MP4&MP3                  ┆ 2095          ┆ 3    │\n",
       "│ Computers ┆ Projectors & Screens     ┆ 19992         ┆ 1    │\n",
       "│ Computers ┆ Laptops                  ┆ 19485         ┆ 2    │\n",
       "│ Computers ┆ Desktops                 ┆ 14535         ┆ 3    │\n",
       "│ Computers ┆ Monitors                 ┆ 11425         ┆ 4    │\n",
       "│ Computers ┆ Printers, Scanners & Fax ┆ 2508          ┆ 5    │\n",
       "│ Computers ┆ Computers Accessories    ┆ 2424          ┆ 6    │\n",
       "└───────────┴──────────────────────────┴───────────────┴──────┘"
      ]
     },
     "execution_count": 116,
     "metadata": {},
     "output_type": "execute_result"
    }
   ],
   "source": [
    "(\n",
    "    df\n",
    "    .group_by('Category', 'Subcategory')\n",
    "    .agg(pl.col('Sales Amount').max().round().cast(pl.Int64).alias('Max Sales Amt'))\n",
    "    .with_columns(\n",
    "        pl.col('Max Sales Amt').rank(descending=True).over('Category').cast(pl.Int64).alias('Rank')\n",
    "    )\n",
    "    .filter(pl.col('Category').is_in(['Audio', 'Computers']))\n",
    "    .sort(['Category', 'Rank'])\n",
    ")"
   ]
  },
  {
   "cell_type": "markdown",
   "metadata": {},
   "source": [
    "### There is more..."
   ]
  },
  {
   "cell_type": "code",
   "execution_count": 239,
   "metadata": {},
   "outputs": [],
   "source": [
    "max_sales_rank = (\n",
    "    df\n",
    "    .group_by('Category', 'Subcategory')\n",
    "    .agg(pl.col('Sales Amount').max().round().cast(pl.Int64).alias('Max Sales Amt'))\n",
    "    .with_columns(\n",
    "        pl.col('Max Sales Amt').rank(descending=True).over('Category').cast(pl.Int64).alias('Rank')\n",
    "    )\n",
    "    .filter(pl.col('Category').is_in(['Audio', 'Computers']))\n",
    "    .sort(['Category', 'Rank'])\n",
    ")"
   ]
  },
  {
   "cell_type": "code",
   "execution_count": 242,
   "metadata": {},
   "outputs": [
    {
     "data": {
      "text/html": [
       "<div><style>\n",
       ".dataframe > thead > tr > th,\n",
       ".dataframe > tbody > tr > td {\n",
       "  text-align: right;\n",
       "  white-space: pre-wrap;\n",
       "}\n",
       "</style>\n",
       "<small>shape: (9, 5)</small><table border=\"1\" class=\"dataframe\"><thead><tr><th>Category</th><th>Subcategory</th><th>Max Sales Amt</th><th>Rank</th><th>Lowest 3 Subcat per Cat</th></tr><tr><td>str</td><td>str</td><td>i64</td><td>i64</td><td>list[str]</td></tr></thead><tbody><tr><td>&quot;Audio&quot;</td><td>&quot;Recording Pen&quot;</td><td>2871</td><td>1</td><td>[&quot;MP4&amp;MP3&quot;, &quot;Bluetooth Headphones&quot;, &quot;Recording Pen&quot;]</td></tr><tr><td>&quot;Audio&quot;</td><td>&quot;Bluetooth Headphones&quot;</td><td>2250</td><td>2</td><td>[&quot;MP4&amp;MP3&quot;, &quot;Bluetooth Headphones&quot;, &quot;Recording Pen&quot;]</td></tr><tr><td>&quot;Audio&quot;</td><td>&quot;MP4&amp;MP3&quot;</td><td>2095</td><td>3</td><td>[&quot;MP4&amp;MP3&quot;, &quot;Bluetooth Headphones&quot;, &quot;Recording Pen&quot;]</td></tr><tr><td>&quot;Computers&quot;</td><td>&quot;Projectors &amp; Screens&quot;</td><td>19992</td><td>1</td><td>[&quot;Computers Accessories&quot;, &quot;Printers, Scanners &amp; Fax&quot;, &quot;Monitors&quot;]</td></tr><tr><td>&quot;Computers&quot;</td><td>&quot;Laptops&quot;</td><td>19485</td><td>2</td><td>[&quot;Computers Accessories&quot;, &quot;Printers, Scanners &amp; Fax&quot;, &quot;Monitors&quot;]</td></tr><tr><td>&quot;Computers&quot;</td><td>&quot;Desktops&quot;</td><td>14535</td><td>3</td><td>[&quot;Computers Accessories&quot;, &quot;Printers, Scanners &amp; Fax&quot;, &quot;Monitors&quot;]</td></tr><tr><td>&quot;Computers&quot;</td><td>&quot;Monitors&quot;</td><td>11425</td><td>4</td><td>[&quot;Computers Accessories&quot;, &quot;Printers, Scanners &amp; Fax&quot;, &quot;Monitors&quot;]</td></tr><tr><td>&quot;Computers&quot;</td><td>&quot;Printers, Scanners &amp; Fax&quot;</td><td>2508</td><td>5</td><td>[&quot;Computers Accessories&quot;, &quot;Printers, Scanners &amp; Fax&quot;, &quot;Monitors&quot;]</td></tr><tr><td>&quot;Computers&quot;</td><td>&quot;Computers Accessories&quot;</td><td>2424</td><td>6</td><td>[&quot;Computers Accessories&quot;, &quot;Printers, Scanners &amp; Fax&quot;, &quot;Monitors&quot;]</td></tr></tbody></table></div>"
      ],
      "text/plain": [
       "shape: (9, 5)\n",
       "┌───────────┬──────────────────────────┬───────────────┬──────┬──────────────────────────────┐\n",
       "│ Category  ┆ Subcategory              ┆ Max Sales Amt ┆ Rank ┆ Lowest 3 Subcat per Cat      │\n",
       "│ ---       ┆ ---                      ┆ ---           ┆ ---  ┆ ---                          │\n",
       "│ str       ┆ str                      ┆ i64           ┆ i64  ┆ list[str]                    │\n",
       "╞═══════════╪══════════════════════════╪═══════════════╪══════╪══════════════════════════════╡\n",
       "│ Audio     ┆ Recording Pen            ┆ 2871          ┆ 1    ┆ [\"MP4&MP3\", \"Bluetooth       │\n",
       "│           ┆                          ┆               ┆      ┆ Headphones\", \"Recording Pen… │\n",
       "│ Audio     ┆ Bluetooth Headphones     ┆ 2250          ┆ 2    ┆ [\"MP4&MP3\", \"Bluetooth       │\n",
       "│           ┆                          ┆               ┆      ┆ Headphones\", \"Recording Pen… │\n",
       "│ Audio     ┆ MP4&MP3                  ┆ 2095          ┆ 3    ┆ [\"MP4&MP3\", \"Bluetooth       │\n",
       "│           ┆                          ┆               ┆      ┆ Headphones\", \"Recording Pen… │\n",
       "│ Computers ┆ Projectors & Screens     ┆ 19992         ┆ 1    ┆ [\"Computers Accessories\",    │\n",
       "│           ┆                          ┆               ┆      ┆ \"Printers, Scanners & Fa…    │\n",
       "│ Computers ┆ Laptops                  ┆ 19485         ┆ 2    ┆ [\"Computers Accessories\",    │\n",
       "│           ┆                          ┆               ┆      ┆ \"Printers, Scanners & Fa…    │\n",
       "│ Computers ┆ Desktops                 ┆ 14535         ┆ 3    ┆ [\"Computers Accessories\",    │\n",
       "│           ┆                          ┆               ┆      ┆ \"Printers, Scanners & Fa…    │\n",
       "│ Computers ┆ Monitors                 ┆ 11425         ┆ 4    ┆ [\"Computers Accessories\",    │\n",
       "│           ┆                          ┆               ┆      ┆ \"Printers, Scanners & Fa…    │\n",
       "│ Computers ┆ Printers, Scanners & Fax ┆ 2508          ┆ 5    ┆ [\"Computers Accessories\",    │\n",
       "│           ┆                          ┆               ┆      ┆ \"Printers, Scanners & Fa…    │\n",
       "│ Computers ┆ Computers Accessories    ┆ 2424          ┆ 6    ┆ [\"Computers Accessories\",    │\n",
       "│           ┆                          ┆               ┆      ┆ \"Printers, Scanners & Fa…    │\n",
       "└───────────┴──────────────────────────┴───────────────┴──────┴──────────────────────────────┘"
      ]
     },
     "execution_count": 242,
     "metadata": {},
     "output_type": "execute_result"
    }
   ],
   "source": [
    "max_sales_rank.with_columns(\n",
    "    pl.col('Subcategory')\n",
    "    .sort_by('Max Sales Amt')\n",
    "    .head(3)\n",
    "    .over('Category', mapping_strategy='join')\n",
    "    .alias('Lowest 3 Subcat per Cat')\n",
    ")"
   ]
  },
  {
   "cell_type": "code",
   "execution_count": 258,
   "metadata": {},
   "outputs": [
    {
     "data": {
      "text/html": [
       "<div><style>\n",
       ".dataframe > thead > tr > th,\n",
       ".dataframe > tbody > tr > td {\n",
       "  text-align: right;\n",
       "  white-space: pre-wrap;\n",
       "}\n",
       "</style>\n",
       "<small>shape: (9, 5)</small><table border=\"1\" class=\"dataframe\"><thead><tr><th>Category</th><th>Subcategory</th><th>Max Sales Amt</th><th>Rank</th><th>Subcategory Sorted by Max Sales Amt Ascending</th></tr><tr><td>str</td><td>str</td><td>i64</td><td>i64</td><td>str</td></tr></thead><tbody><tr><td>&quot;Audio&quot;</td><td>&quot;Recording Pen&quot;</td><td>2871</td><td>1</td><td>&quot;MP4&amp;MP3&quot;</td></tr><tr><td>&quot;Audio&quot;</td><td>&quot;Bluetooth Headphones&quot;</td><td>2250</td><td>2</td><td>&quot;Bluetooth Headphones&quot;</td></tr><tr><td>&quot;Audio&quot;</td><td>&quot;MP4&amp;MP3&quot;</td><td>2095</td><td>3</td><td>&quot;Recording Pen&quot;</td></tr><tr><td>&quot;Computers&quot;</td><td>&quot;Projectors &amp; Screens&quot;</td><td>19992</td><td>1</td><td>&quot;Computers Accessories&quot;</td></tr><tr><td>&quot;Computers&quot;</td><td>&quot;Laptops&quot;</td><td>19485</td><td>2</td><td>&quot;Printers, Scanners &amp; Fax&quot;</td></tr><tr><td>&quot;Computers&quot;</td><td>&quot;Desktops&quot;</td><td>14535</td><td>3</td><td>&quot;Monitors&quot;</td></tr><tr><td>&quot;Computers&quot;</td><td>&quot;Monitors&quot;</td><td>11425</td><td>4</td><td>&quot;Desktops&quot;</td></tr><tr><td>&quot;Computers&quot;</td><td>&quot;Printers, Scanners &amp; Fax&quot;</td><td>2508</td><td>5</td><td>&quot;Laptops&quot;</td></tr><tr><td>&quot;Computers&quot;</td><td>&quot;Computers Accessories&quot;</td><td>2424</td><td>6</td><td>&quot;Projectors &amp; Screens&quot;</td></tr></tbody></table></div>"
      ],
      "text/plain": [
       "shape: (9, 5)\n",
       "┌───────────┬──────────────────────────┬───────────────┬──────┬─────────────────────────────────┐\n",
       "│ Category  ┆ Subcategory              ┆ Max Sales Amt ┆ Rank ┆ Subcategory Sorted by Max Sales │\n",
       "│ ---       ┆ ---                      ┆ ---           ┆ ---  ┆ Amt Ascending                   │\n",
       "│ str       ┆ str                      ┆ i64           ┆ i64  ┆ ---                             │\n",
       "│           ┆                          ┆               ┆      ┆ str                             │\n",
       "╞═══════════╪══════════════════════════╪═══════════════╪══════╪═════════════════════════════════╡\n",
       "│ Audio     ┆ Recording Pen            ┆ 2871          ┆ 1    ┆ MP4&MP3                         │\n",
       "│ Audio     ┆ Bluetooth Headphones     ┆ 2250          ┆ 2    ┆ Bluetooth Headphones            │\n",
       "│ Audio     ┆ MP4&MP3                  ┆ 2095          ┆ 3    ┆ Recording Pen                   │\n",
       "│ Computers ┆ Projectors & Screens     ┆ 19992         ┆ 1    ┆ Computers Accessories           │\n",
       "│ Computers ┆ Laptops                  ┆ 19485         ┆ 2    ┆ Printers, Scanners & Fax        │\n",
       "│ Computers ┆ Desktops                 ┆ 14535         ┆ 3    ┆ Monitors                        │\n",
       "│ Computers ┆ Monitors                 ┆ 11425         ┆ 4    ┆ Desktops                        │\n",
       "│ Computers ┆ Printers, Scanners & Fax ┆ 2508          ┆ 5    ┆ Laptops                         │\n",
       "│ Computers ┆ Computers Accessories    ┆ 2424          ┆ 6    ┆ Projectors & Screens            │\n",
       "└───────────┴──────────────────────────┴───────────────┴──────┴─────────────────────────────────┘"
      ]
     },
     "execution_count": 258,
     "metadata": {},
     "output_type": "execute_result"
    }
   ],
   "source": [
    "max_sales_rank.with_columns(\n",
    "    pl.col('Subcategory')\n",
    "    .sort_by('Max Sales Amt')\n",
    "    .over('Category', mapping_strategy='explode')\n",
    "    .alias('Subcategory Sorted by Max Sales Amt Ascending')\n",
    ")"
   ]
  },
  {
   "cell_type": "code",
   "execution_count": 257,
   "metadata": {},
   "outputs": [
    {
     "data": {
      "text/html": [
       "<div><style>\n",
       ".dataframe > thead > tr > th,\n",
       ".dataframe > tbody > tr > td {\n",
       "  text-align: right;\n",
       "  white-space: pre-wrap;\n",
       "}\n",
       "</style>\n",
       "<small>shape: (9, 5)</small><table border=\"1\" class=\"dataframe\"><thead><tr><th>Category</th><th>Subcategory</th><th>Max Sales Amt</th><th>Rank</th><th>Subcategory Sorted by Max Sales Amt Ascending</th></tr><tr><td>str</td><td>str</td><td>i64</td><td>i64</td><td>str</td></tr></thead><tbody><tr><td>&quot;Audio&quot;</td><td>&quot;Bluetooth Headphones&quot;</td><td>2250</td><td>2</td><td>&quot;MP4&amp;MP3&quot;</td></tr><tr><td>&quot;Computers&quot;</td><td>&quot;Computers Accessories&quot;</td><td>2424</td><td>6</td><td>&quot;Bluetooth Headphones&quot;</td></tr><tr><td>&quot;Computers&quot;</td><td>&quot;Desktops&quot;</td><td>14535</td><td>3</td><td>&quot;Recording Pen&quot;</td></tr><tr><td>&quot;Computers&quot;</td><td>&quot;Laptops&quot;</td><td>19485</td><td>2</td><td>&quot;Computers Accessories&quot;</td></tr><tr><td>&quot;Audio&quot;</td><td>&quot;MP4&amp;MP3&quot;</td><td>2095</td><td>3</td><td>&quot;Printers, Scanners &amp; Fax&quot;</td></tr><tr><td>&quot;Computers&quot;</td><td>&quot;Monitors&quot;</td><td>11425</td><td>4</td><td>&quot;Monitors&quot;</td></tr><tr><td>&quot;Computers&quot;</td><td>&quot;Printers, Scanners &amp; Fax&quot;</td><td>2508</td><td>5</td><td>&quot;Desktops&quot;</td></tr><tr><td>&quot;Computers&quot;</td><td>&quot;Projectors &amp; Screens&quot;</td><td>19992</td><td>1</td><td>&quot;Laptops&quot;</td></tr><tr><td>&quot;Audio&quot;</td><td>&quot;Recording Pen&quot;</td><td>2871</td><td>1</td><td>&quot;Projectors &amp; Screens&quot;</td></tr></tbody></table></div>"
      ],
      "text/plain": [
       "shape: (9, 5)\n",
       "┌───────────┬──────────────────────────┬───────────────┬──────┬─────────────────────────────────┐\n",
       "│ Category  ┆ Subcategory              ┆ Max Sales Amt ┆ Rank ┆ Subcategory Sorted by Max Sales │\n",
       "│ ---       ┆ ---                      ┆ ---           ┆ ---  ┆ Amt Ascending                   │\n",
       "│ str       ┆ str                      ┆ i64           ┆ i64  ┆ ---                             │\n",
       "│           ┆                          ┆               ┆      ┆ str                             │\n",
       "╞═══════════╪══════════════════════════╪═══════════════╪══════╪═════════════════════════════════╡\n",
       "│ Audio     ┆ Bluetooth Headphones     ┆ 2250          ┆ 2    ┆ MP4&MP3                         │\n",
       "│ Computers ┆ Computers Accessories    ┆ 2424          ┆ 6    ┆ Bluetooth Headphones            │\n",
       "│ Computers ┆ Desktops                 ┆ 14535         ┆ 3    ┆ Recording Pen                   │\n",
       "│ Computers ┆ Laptops                  ┆ 19485         ┆ 2    ┆ Computers Accessories           │\n",
       "│ Audio     ┆ MP4&MP3                  ┆ 2095          ┆ 3    ┆ Printers, Scanners & Fax        │\n",
       "│ Computers ┆ Monitors                 ┆ 11425         ┆ 4    ┆ Monitors                        │\n",
       "│ Computers ┆ Printers, Scanners & Fax ┆ 2508          ┆ 5    ┆ Desktops                        │\n",
       "│ Computers ┆ Projectors & Screens     ┆ 19992         ┆ 1    ┆ Laptops                         │\n",
       "│ Audio     ┆ Recording Pen            ┆ 2871          ┆ 1    ┆ Projectors & Screens            │\n",
       "└───────────┴──────────────────────────┴───────────────┴──────┴─────────────────────────────────┘"
      ]
     },
     "execution_count": 257,
     "metadata": {},
     "output_type": "execute_result"
    }
   ],
   "source": [
    "(\n",
    "    max_sales_rank\n",
    "    .sort('Subcategory')\n",
    "    .with_columns(\n",
    "        pl.col('Subcategory')\n",
    "        .sort_by('Max Sales Amt')\n",
    "        .over('Category', mapping_strategy='explode')\n",
    "        .alias('Subcategory Sorted by Max Sales Amt Ascending')\n",
    "    )\n",
    ")"
   ]
  },
  {
   "cell_type": "code",
   "execution_count": null,
   "metadata": {},
   "outputs": [],
   "source": []
  }
 ],
 "metadata": {
  "kernelspec": {
   "display_name": ".venv",
   "language": "python",
   "name": "python3"
  },
  "language_info": {
   "codemirror_mode": {
    "name": "ipython",
    "version": 3
   },
   "file_extension": ".py",
   "mimetype": "text/x-python",
   "name": "python",
   "nbconvert_exporter": "python",
   "pygments_lexer": "ipython3",
   "version": "3.11.3"
  }
 },
 "nbformat": 4,
 "nbformat_minor": 2
}
