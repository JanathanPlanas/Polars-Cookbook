{
 "cells": [
  {
   "cell_type": "markdown",
   "metadata": {},
   "source": [
    "# Aggregations, Window Functions, and UDFs "
   ]
  },
  {
   "cell_type": "markdown",
   "metadata": {},
   "source": [
    "## Simple aggregations"
   ]
  },
  {
   "cell_type": "markdown",
   "metadata": {},
   "source": [
    "### How to do it..."
   ]
  },
  {
   "cell_type": "code",
   "execution_count": 55,
   "metadata": {},
   "outputs": [],
   "source": [
    "import polars as pl"
   ]
  },
  {
   "cell_type": "code",
   "execution_count": 56,
   "metadata": {},
   "outputs": [],
   "source": [
    "df = pl.read_csv('../data/constoso_sales.csv', try_parse_dates=True)"
   ]
  },
  {
   "cell_type": "code",
   "execution_count": 57,
   "metadata": {},
   "outputs": [
    {
     "data": {
      "text/html": [
       "<div><style>\n",
       ".dataframe > thead > tr > th,\n",
       ".dataframe > tbody > tr > td {\n",
       "  text-align: right;\n",
       "  white-space: pre-wrap;\n",
       "}\n",
       "</style>\n",
       "<small>shape: (5, 20)</small><table border=\"1\" class=\"dataframe\"><thead><tr><th>Order Number</th><th>Line Number</th><th>Order Date</th><th>Delivery Date</th><th>Customer Name</th><th>Customer Gender</th><th>Customer Country</th><th>Customer Age</th><th>Store Name</th><th>Product Name</th><th>Color</th><th>Brand</th><th>Category</th><th>Subcategory</th><th>Quantity</th><th>Unit Price</th><th>Net Price</th><th>Unit Cost</th><th>Currency Code</th><th>Exchange Rate</th></tr><tr><td>i64</td><td>i64</td><td>date</td><td>date</td><td>str</td><td>str</td><td>str</td><td>i64</td><td>str</td><td>str</td><td>str</td><td>str</td><td>str</td><td>str</td><td>i64</td><td>f64</td><td>f64</td><td>f64</td><td>str</td><td>f64</td></tr></thead><tbody><tr><td>284806</td><td>1</td><td>2017-10-18</td><td>2017-10-20</td><td>&quot;Eric Kennedy&quot;</td><td>&quot;Male&quot;</td><td>&quot;United States&quot;</td><td>47</td><td>&quot;Online store&quot;</td><td>&quot;Contoso 512MB …</td><td>&quot;Silver&quot;</td><td>&quot;Contoso&quot;</td><td>&quot;Audio&quot;</td><td>&quot;MP4&amp;MP3&quot;</td><td>7</td><td>11.691</td><td>10.288</td><td>5.958</td><td>&quot;USD&quot;</td><td>1.0</td></tr><tr><td>285506</td><td>1</td><td>2017-10-25</td><td>2017-10-26</td><td>&quot;George Tooth&quot;</td><td>&quot;Male&quot;</td><td>&quot;Australia&quot;</td><td>30</td><td>&quot;Online store&quot;</td><td>&quot;Contoso 512MB …</td><td>&quot;Silver&quot;</td><td>&quot;Contoso&quot;</td><td>&quot;Audio&quot;</td><td>&quot;MP4&amp;MP3&quot;</td><td>1</td><td>11.691</td><td>11.691</td><td>5.958</td><td>&quot;AUD&quot;</td><td>1.2967</td></tr><tr><td>311002</td><td>2</td><td>2018-07-07</td><td>2018-07-12</td><td>&quot;Caleb Greene&quot;</td><td>&quot;Male&quot;</td><td>&quot;Australia&quot;</td><td>59</td><td>&quot;Online store&quot;</td><td>&quot;Contoso 512MB …</td><td>&quot;Silver&quot;</td><td>&quot;Contoso&quot;</td><td>&quot;Audio&quot;</td><td>&quot;MP4&amp;MP3&quot;</td><td>6</td><td>12.99</td><td>12.99</td><td>6.62</td><td>&quot;AUD&quot;</td><td>1.3484</td></tr><tr><td>366307</td><td>2</td><td>2020-01-11</td><td>2020-01-11</td><td>&quot;Isaac Siddins&quot;</td><td>&quot;Male&quot;</td><td>&quot;Australia&quot;</td><td>25</td><td>&quot;Contoso Store …</td><td>&quot;Contoso 512MB …</td><td>&quot;Blue&quot;</td><td>&quot;Contoso&quot;</td><td>&quot;Audio&quot;</td><td>&quot;MP4&amp;MP3&quot;</td><td>4</td><td>12.99</td><td>12.99</td><td>6.62</td><td>&quot;AUD&quot;</td><td>1.4545</td></tr><tr><td>325708</td><td>3</td><td>2018-12-01</td><td>2018-12-02</td><td>&quot;Mike McQueen&quot;</td><td>&quot;Male&quot;</td><td>&quot;United States&quot;</td><td>56</td><td>&quot;Online store&quot;</td><td>&quot;Contoso 512MB …</td><td>&quot;Blue&quot;</td><td>&quot;Contoso&quot;</td><td>&quot;Audio&quot;</td><td>&quot;MP4&amp;MP3&quot;</td><td>2</td><td>12.99</td><td>11.5611</td><td>6.62</td><td>&quot;USD&quot;</td><td>1.0</td></tr></tbody></table></div>"
      ],
      "text/plain": [
       "shape: (5, 20)\n",
       "┌────────┬────────┬─────────────┬─────────────┬───┬─────────────┬───────┬─────────────┬────────────┐\n",
       "│ Order  ┆ Line   ┆ Order Date  ┆ Delivery    ┆ … ┆ Net Price   ┆ Unit  ┆ Currency    ┆ Exchange   │\n",
       "│ Number ┆ Number ┆ ---         ┆ Date        ┆   ┆ ---         ┆ Cost  ┆ Code        ┆ Rate       │\n",
       "│ ---    ┆ ---    ┆ date        ┆ ---         ┆   ┆ f64         ┆ ---   ┆ ---         ┆ ---        │\n",
       "│ i64    ┆ i64    ┆             ┆ date        ┆   ┆             ┆ f64   ┆ str         ┆ f64        │\n",
       "╞════════╪════════╪═════════════╪═════════════╪═══╪═════════════╪═══════╪═════════════╪════════════╡\n",
       "│ 284806 ┆ 1      ┆ 2017-10-18  ┆ 2017-10-20  ┆ … ┆ 10.288      ┆ 5.958 ┆ USD         ┆ 1.0        │\n",
       "│ 285506 ┆ 1      ┆ 2017-10-25  ┆ 2017-10-26  ┆ … ┆ 11.691      ┆ 5.958 ┆ AUD         ┆ 1.2967     │\n",
       "│ 311002 ┆ 2      ┆ 2018-07-07  ┆ 2018-07-12  ┆ … ┆ 12.99       ┆ 6.62  ┆ AUD         ┆ 1.3484     │\n",
       "│ 366307 ┆ 2      ┆ 2020-01-11  ┆ 2020-01-11  ┆ … ┆ 12.99       ┆ 6.62  ┆ AUD         ┆ 1.4545     │\n",
       "│ 325708 ┆ 3      ┆ 2018-12-01  ┆ 2018-12-02  ┆ … ┆ 11.5611     ┆ 6.62  ┆ USD         ┆ 1.0        │\n",
       "└────────┴────────┴─────────────┴─────────────┴───┴─────────────┴───────┴─────────────┴────────────┘"
      ]
     },
     "execution_count": 57,
     "metadata": {},
     "output_type": "execute_result"
    }
   ],
   "source": [
    "df.head()"
   ]
  },
  {
   "cell_type": "code",
   "execution_count": 58,
   "metadata": {},
   "outputs": [
    {
     "data": {
      "text/html": [
       "<div><style>\n",
       ".dataframe > thead > tr > th,\n",
       ".dataframe > tbody > tr > td {\n",
       "  text-align: right;\n",
       "  white-space: pre-wrap;\n",
       "}\n",
       "</style>\n",
       "<small>shape: (1, 8)</small><table border=\"1\" class=\"dataframe\"><thead><tr><th>Order Number</th><th>Line Number</th><th>Customer Age</th><th>Quantity</th><th>Unit Price</th><th>Net Price</th><th>Unit Cost</th><th>Exchange Rate</th></tr><tr><td>i64</td><td>i64</td><td>i64</td><td>i64</td><td>f64</td><td>f64</td><td>f64</td><td>f64</td></tr></thead><tbody><tr><td>4466019052</td><td>16195</td><td>725757</td><td>43517</td><td>4.1785e6</td><td>3.9286e6</td><td>1.7356e6</td><td>14124.4597</td></tr></tbody></table></div>"
      ],
      "text/plain": [
       "shape: (1, 8)\n",
       "┌─────────────┬────────┬─────────────┬──────────┬─────────────┬───────────┬───────────┬────────────┐\n",
       "│ Order       ┆ Line   ┆ Customer    ┆ Quantity ┆ Unit Price  ┆ Net Price ┆ Unit Cost ┆ Exchange   │\n",
       "│ Number      ┆ Number ┆ Age         ┆ ---      ┆ ---         ┆ ---       ┆ ---       ┆ Rate       │\n",
       "│ ---         ┆ ---    ┆ ---         ┆ i64      ┆ f64         ┆ f64       ┆ f64       ┆ ---        │\n",
       "│ i64         ┆ i64    ┆ i64         ┆          ┆             ┆           ┆           ┆ f64        │\n",
       "╞═════════════╪════════╪═════════════╪══════════╪═════════════╪═══════════╪═══════════╪════════════╡\n",
       "│ 4466019052  ┆ 16195  ┆ 725757      ┆ 43517    ┆ 4.1785e6    ┆ 3.9286e6  ┆ 1.7356e6  ┆ 14124.4597 │\n",
       "└─────────────┴────────┴─────────────┴──────────┴─────────────┴───────────┴───────────┴────────────┘"
      ]
     },
     "execution_count": 58,
     "metadata": {},
     "output_type": "execute_result"
    }
   ],
   "source": [
    "from polars import selectors as cs\n",
    "(\n",
    "    df\n",
    "    .select(cs.numeric())\n",
    "    .sum()\n",
    ")"
   ]
  },
  {
   "cell_type": "code",
   "execution_count": 59,
   "metadata": {},
   "outputs": [
    {
     "data": {
      "text/plain": [
       "43517"
      ]
     },
     "execution_count": 59,
     "metadata": {},
     "output_type": "execute_result"
    }
   ],
   "source": [
    "s = df.select('Quantity').to_series()\n",
    "s.sum()"
   ]
  },
  {
   "cell_type": "code",
   "execution_count": 60,
   "metadata": {},
   "outputs": [
    {
     "data": {
      "text/html": [
       "<div><style>\n",
       ".dataframe > thead > tr > th,\n",
       ".dataframe > tbody > tr > td {\n",
       "  text-align: right;\n",
       "  white-space: pre-wrap;\n",
       "}\n",
       "</style>\n",
       "<small>shape: (1, 1)</small><table border=\"1\" class=\"dataframe\"><thead><tr><th>Quantity</th></tr><tr><td>i64</td></tr></thead><tbody><tr><td>43517</td></tr></tbody></table></div>"
      ],
      "text/plain": [
       "shape: (1, 1)\n",
       "┌──────────┐\n",
       "│ Quantity │\n",
       "│ ---      │\n",
       "│ i64      │\n",
       "╞══════════╡\n",
       "│ 43517    │\n",
       "└──────────┘"
      ]
     },
     "execution_count": 60,
     "metadata": {},
     "output_type": "execute_result"
    }
   ],
   "source": [
    "df.select(pl.col('Quantity').sum())"
   ]
  },
  {
   "cell_type": "code",
   "execution_count": 64,
   "metadata": {},
   "outputs": [
    {
     "data": {
      "text/html": [
       "<div><style>\n",
       ".dataframe > thead > tr > th,\n",
       ".dataframe > tbody > tr > td {\n",
       "  text-align: right;\n",
       "  white-space: pre-wrap;\n",
       "}\n",
       "</style>\n",
       "<small>shape: (1, 2)</small><table border=\"1\" class=\"dataframe\"><thead><tr><th>Cust Name First</th><th>Cust Name Last</th></tr><tr><td>str</td><td>str</td></tr></thead><tbody><tr><td>&quot;Eric Kennedy&quot;</td><td>&quot;Billy Ratliff&quot;</td></tr></tbody></table></div>"
      ],
      "text/plain": [
       "shape: (1, 2)\n",
       "┌─────────────────┬────────────────┐\n",
       "│ Cust Name First ┆ Cust Name Last │\n",
       "│ ---             ┆ ---            │\n",
       "│ str             ┆ str            │\n",
       "╞═════════════════╪════════════════╡\n",
       "│ Eric Kennedy    ┆ Billy Ratliff  │\n",
       "└─────────────────┴────────────────┘"
      ]
     },
     "execution_count": 64,
     "metadata": {},
     "output_type": "execute_result"
    }
   ],
   "source": [
    "df.select(\n",
    "    pl.col('Customer Name').first().alias('Cust Name First'),\n",
    "    pl.col('Customer Name').last().alias('Cust Name Last')\n",
    ")"
   ]
  },
  {
   "cell_type": "code",
   "execution_count": 61,
   "metadata": {},
   "outputs": [
    {
     "data": {
      "text/html": [
       "<div><style>\n",
       ".dataframe > thead > tr > th,\n",
       ".dataframe > tbody > tr > td {\n",
       "  text-align: right;\n",
       "  white-space: pre-wrap;\n",
       "}\n",
       "</style>\n",
       "<small>shape: (9, 9)</small><table border=\"1\" class=\"dataframe\"><thead><tr><th>describe</th><th>Order Number</th><th>Line Number</th><th>Customer Age</th><th>Quantity</th><th>Unit Price</th><th>Net Price</th><th>Unit Cost</th><th>Exchange Rate</th></tr><tr><td>str</td><td>f64</td><td>f64</td><td>f64</td><td>f64</td><td>f64</td><td>f64</td><td>f64</td><td>f64</td></tr></thead><tbody><tr><td>&quot;count&quot;</td><td>13915.0</td><td>13915.0</td><td>13915.0</td><td>13915.0</td><td>13915.0</td><td>13915.0</td><td>13915.0</td><td>13915.0</td></tr><tr><td>&quot;null_count&quot;</td><td>0.0</td><td>0.0</td><td>0.0</td><td>0.0</td><td>0.0</td><td>0.0</td><td>0.0</td><td>0.0</td></tr><tr><td>&quot;mean&quot;</td><td>320949.985771</td><td>1.163852</td><td>52.15645</td><td>3.127345</td><td>300.28425</td><td>282.32739</td><td>124.731364</td><td>1.015053</td></tr><tr><td>&quot;std&quot;</td><td>28431.79136</td><td>1.361349</td><td>19.133881</td><td>2.233597</td><td>405.538975</td><td>381.738847</td><td>147.944094</td><td>0.171927</td></tr><tr><td>&quot;min&quot;</td><td>269500.0</td><td>0.0</td><td>19.0</td><td>1.0</td><td>0.95</td><td>0.8265</td><td>0.48</td><td>0.7015</td></tr><tr><td>&quot;25%&quot;</td><td>295901.0</td><td>0.0</td><td>36.0</td><td>1.0</td><td>46.99</td><td>43.4</td><td>21.92</td><td>0.8965</td></tr><tr><td>&quot;50%&quot;</td><td>319806.0</td><td>1.0</td><td>52.0</td><td>2.0</td><td>207.987</td><td>194.91</td><td>86.68</td><td>1.0</td></tr><tr><td>&quot;75%&quot;</td><td>345106.0</td><td>2.0</td><td>68.0</td><td>4.0</td><td>361.2</td><td>336.0</td><td>160.93</td><td>1.0</td></tr><tr><td>&quot;max&quot;</td><td>371503.0</td><td>6.0</td><td>85.0</td><td>10.0</td><td>3748.5</td><td>3748.5</td><td>1241.955</td><td>1.5373</td></tr></tbody></table></div>"
      ],
      "text/plain": [
       "shape: (9, 9)\n",
       "┌───────────┬───────────┬───────────┬───────────┬───┬───────────┬───────────┬───────────┬──────────┐\n",
       "│ describe  ┆ Order     ┆ Line      ┆ Customer  ┆ … ┆ Unit      ┆ Net Price ┆ Unit Cost ┆ Exchange │\n",
       "│ ---       ┆ Number    ┆ Number    ┆ Age       ┆   ┆ Price     ┆ ---       ┆ ---       ┆ Rate     │\n",
       "│ str       ┆ ---       ┆ ---       ┆ ---       ┆   ┆ ---       ┆ f64       ┆ f64       ┆ ---      │\n",
       "│           ┆ f64       ┆ f64       ┆ f64       ┆   ┆ f64       ┆           ┆           ┆ f64      │\n",
       "╞═══════════╪═══════════╪═══════════╪═══════════╪═══╪═══════════╪═══════════╪═══════════╪══════════╡\n",
       "│ count     ┆ 13915.0   ┆ 13915.0   ┆ 13915.0   ┆ … ┆ 13915.0   ┆ 13915.0   ┆ 13915.0   ┆ 13915.0  │\n",
       "│ null_coun ┆ 0.0       ┆ 0.0       ┆ 0.0       ┆ … ┆ 0.0       ┆ 0.0       ┆ 0.0       ┆ 0.0      │\n",
       "│ t         ┆           ┆           ┆           ┆   ┆           ┆           ┆           ┆          │\n",
       "│ mean      ┆ 320949.98 ┆ 1.163852  ┆ 52.15645  ┆ … ┆ 300.28425 ┆ 282.32739 ┆ 124.73136 ┆ 1.015053 │\n",
       "│           ┆ 5771      ┆           ┆           ┆   ┆           ┆           ┆ 4         ┆          │\n",
       "│ std       ┆ 28431.791 ┆ 1.361349  ┆ 19.133881 ┆ … ┆ 405.53897 ┆ 381.73884 ┆ 147.94409 ┆ 0.171927 │\n",
       "│           ┆ 36        ┆           ┆           ┆   ┆ 5         ┆ 7         ┆ 4         ┆          │\n",
       "│ min       ┆ 269500.0  ┆ 0.0       ┆ 19.0      ┆ … ┆ 0.95      ┆ 0.8265    ┆ 0.48      ┆ 0.7015   │\n",
       "│ 25%       ┆ 295901.0  ┆ 0.0       ┆ 36.0      ┆ … ┆ 46.99     ┆ 43.4      ┆ 21.92     ┆ 0.8965   │\n",
       "│ 50%       ┆ 319806.0  ┆ 1.0       ┆ 52.0      ┆ … ┆ 207.987   ┆ 194.91    ┆ 86.68     ┆ 1.0      │\n",
       "│ 75%       ┆ 345106.0  ┆ 2.0       ┆ 68.0      ┆ … ┆ 361.2     ┆ 336.0     ┆ 160.93    ┆ 1.0      │\n",
       "│ max       ┆ 371503.0  ┆ 6.0       ┆ 85.0      ┆ … ┆ 3748.5    ┆ 3748.5    ┆ 1241.955  ┆ 1.5373   │\n",
       "└───────────┴───────────┴───────────┴───────────┴───┴───────────┴───────────┴───────────┴──────────┘"
      ]
     },
     "execution_count": 61,
     "metadata": {},
     "output_type": "execute_result"
    }
   ],
   "source": [
    "df.select(cs.numeric()).describe()"
   ]
  },
  {
   "cell_type": "markdown",
   "metadata": {},
   "source": [
    "### There is more..."
   ]
  },
  {
   "cell_type": "code",
   "execution_count": 49,
   "metadata": {},
   "outputs": [
    {
     "data": {
      "text/html": [
       "<div><style>\n",
       ".dataframe > thead > tr > th,\n",
       ".dataframe > tbody > tr > td {\n",
       "  text-align: right;\n",
       "  white-space: pre-wrap;\n",
       "}\n",
       "</style>\n",
       "<small>shape: (1, 1)</small><table border=\"1\" class=\"dataframe\"><thead><tr><th>Quantity</th></tr><tr><td>u32</td></tr></thead><tbody><tr><td>4423</td></tr></tbody></table></div>"
      ],
      "text/plain": [
       "shape: (1, 1)\n",
       "┌──────────┐\n",
       "│ Quantity │\n",
       "│ ---      │\n",
       "│ u32      │\n",
       "╞══════════╡\n",
       "│ 4423     │\n",
       "└──────────┘"
      ]
     },
     "execution_count": 49,
     "metadata": {},
     "output_type": "execute_result"
    }
   ],
   "source": [
    "df.select(\n",
    "    (pl.col('Quantity') >= 4).sum()\n",
    ")"
   ]
  },
  {
   "cell_type": "code",
   "execution_count": 47,
   "metadata": {},
   "outputs": [
    {
     "data": {
      "text/html": [
       "<div><style>\n",
       ".dataframe > thead > tr > th,\n",
       ".dataframe > tbody > tr > td {\n",
       "  text-align: right;\n",
       "  white-space: pre-wrap;\n",
       "}\n",
       "</style>\n",
       "<small>shape: (1, 1)</small><table border=\"1\" class=\"dataframe\"><thead><tr><th>Quantity</th></tr><tr><td>i64</td></tr></thead><tbody><tr><td>25017</td></tr></tbody></table></div>"
      ],
      "text/plain": [
       "shape: (1, 1)\n",
       "┌──────────┐\n",
       "│ Quantity │\n",
       "│ ---      │\n",
       "│ i64      │\n",
       "╞══════════╡\n",
       "│ 25017    │\n",
       "└──────────┘"
      ]
     },
     "execution_count": 47,
     "metadata": {},
     "output_type": "execute_result"
    }
   ],
   "source": [
    "df.select(\n",
    "    pl.col('Quantity').filter(pl.col('Store Name')=='Online store').sum()\n",
    ")"
   ]
  },
  {
   "cell_type": "code",
   "execution_count": null,
   "metadata": {},
   "outputs": [],
   "source": []
  }
 ],
 "metadata": {
  "kernelspec": {
   "display_name": ".venv",
   "language": "python",
   "name": "python3"
  },
  "language_info": {
   "codemirror_mode": {
    "name": "ipython",
    "version": 3
   },
   "file_extension": ".py",
   "mimetype": "text/x-python",
   "name": "python",
   "nbconvert_exporter": "python",
   "pygments_lexer": "ipython3",
   "version": "3.11.3"
  }
 },
 "nbformat": 4,
 "nbformat_minor": 2
}
