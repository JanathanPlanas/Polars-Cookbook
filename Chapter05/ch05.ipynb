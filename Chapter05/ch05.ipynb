{
 "cells": [
  {
   "cell_type": "markdown",
   "metadata": {},
   "source": [
    "# Handling Missing Values"
   ]
  },
  {
   "cell_type": "markdown",
   "metadata": {},
   "source": [
    "## Identifying missing values"
   ]
  },
  {
   "cell_type": "code",
   "execution_count": 39,
   "metadata": {},
   "outputs": [],
   "source": [
    "import polars as pl"
   ]
  },
  {
   "cell_type": "code",
   "execution_count": 40,
   "metadata": {},
   "outputs": [],
   "source": [
    "from datetime import date\n",
    "import numpy as np\n",
    "\n",
    "date_col = pl.date_range(date(2023, 1, 1), date(2023, 1, 15), '1d', eager=True)\n",
    "avg_temp_c_list = [-3,None,6,-1,np.nan,6,4,None,1,2,np.nan,7,9,-2,None]\n",
    "df = pl.DataFrame({\n",
    "    'date': date_col,\n",
    "    'avg_temp_celsius': avg_temp_c_list\n",
    "})"
   ]
  },
  {
   "cell_type": "code",
   "execution_count": 41,
   "metadata": {},
   "outputs": [
    {
     "data": {
      "text/html": [
       "<div><style>\n",
       ".dataframe > thead > tr > th,\n",
       ".dataframe > tbody > tr > td {\n",
       "  text-align: right;\n",
       "  white-space: pre-wrap;\n",
       "}\n",
       "</style>\n",
       "<small>shape: (5, 2)</small><table border=\"1\" class=\"dataframe\"><thead><tr><th>date</th><th>avg_temp_celsius</th></tr><tr><td>date</td><td>f64</td></tr></thead><tbody><tr><td>2023-01-01</td><td>-3.0</td></tr><tr><td>2023-01-02</td><td>null</td></tr><tr><td>2023-01-03</td><td>6.0</td></tr><tr><td>2023-01-04</td><td>-1.0</td></tr><tr><td>2023-01-05</td><td>NaN</td></tr></tbody></table></div>"
      ],
      "text/plain": [
       "shape: (5, 2)\n",
       "┌────────────┬──────────────────┐\n",
       "│ date       ┆ avg_temp_celsius │\n",
       "│ ---        ┆ ---              │\n",
       "│ date       ┆ f64              │\n",
       "╞════════════╪══════════════════╡\n",
       "│ 2023-01-01 ┆ -3.0             │\n",
       "│ 2023-01-02 ┆ null             │\n",
       "│ 2023-01-03 ┆ 6.0              │\n",
       "│ 2023-01-04 ┆ -1.0             │\n",
       "│ 2023-01-05 ┆ NaN              │\n",
       "└────────────┴──────────────────┘"
      ]
     },
     "execution_count": 41,
     "metadata": {},
     "output_type": "execute_result"
    }
   ],
   "source": [
    "df.head()"
   ]
  },
  {
   "cell_type": "markdown",
   "metadata": {},
   "source": [
    "### How to do it..."
   ]
  },
  {
   "cell_type": "code",
   "execution_count": 42,
   "metadata": {},
   "outputs": [
    {
     "data": {
      "text/html": [
       "<div><style>\n",
       ".dataframe > thead > tr > th,\n",
       ".dataframe > tbody > tr > td {\n",
       "  text-align: right;\n",
       "  white-space: pre-wrap;\n",
       "}\n",
       "</style>\n",
       "<small>shape: (1, 2)</small><table border=\"1\" class=\"dataframe\"><thead><tr><th>date</th><th>avg_temp_celsius</th></tr><tr><td>u32</td><td>u32</td></tr></thead><tbody><tr><td>0</td><td>3</td></tr></tbody></table></div>"
      ],
      "text/plain": [
       "shape: (1, 2)\n",
       "┌──────┬──────────────────┐\n",
       "│ date ┆ avg_temp_celsius │\n",
       "│ ---  ┆ ---              │\n",
       "│ u32  ┆ u32              │\n",
       "╞══════╪══════════════════╡\n",
       "│ 0    ┆ 3                │\n",
       "└──────┴──────────────────┘"
      ]
     },
     "execution_count": 42,
     "metadata": {},
     "output_type": "execute_result"
    }
   ],
   "source": [
    "df.null_count()"
   ]
  },
  {
   "cell_type": "code",
   "execution_count": 75,
   "metadata": {},
   "outputs": [
    {
     "data": {
      "text/html": [
       "<div><style>\n",
       ".dataframe > thead > tr > th,\n",
       ".dataframe > tbody > tr > td {\n",
       "  text-align: right;\n",
       "  white-space: pre-wrap;\n",
       "}\n",
       "</style>\n",
       "<small>shape: (1, 2)</small><table border=\"1\" class=\"dataframe\"><thead><tr><th>avg_temp_celsius</th><th>date</th></tr><tr><td>u32</td><td>u32</td></tr></thead><tbody><tr><td>3</td><td>0</td></tr></tbody></table></div>"
      ],
      "text/plain": [
       "shape: (1, 2)\n",
       "┌──────────────────┬──────┐\n",
       "│ avg_temp_celsius ┆ date │\n",
       "│ ---              ┆ ---  │\n",
       "│ u32              ┆ u32  │\n",
       "╞══════════════════╪══════╡\n",
       "│ 3                ┆ 0    │\n",
       "└──────────────────┴──────┘"
      ]
     },
     "execution_count": 75,
     "metadata": {},
     "output_type": "execute_result"
    }
   ],
   "source": [
    "df.select('avg_temp_celsius').null_count()"
   ]
  },
  {
   "cell_type": "code",
   "execution_count": 76,
   "metadata": {},
   "outputs": [
    {
     "data": {
      "text/html": [
       "<div><style>\n",
       ".dataframe > thead > tr > th,\n",
       ".dataframe > tbody > tr > td {\n",
       "  text-align: right;\n",
       "  white-space: pre-wrap;\n",
       "}\n",
       "</style>\n",
       "<small>shape: (1, 2)</small><table border=\"1\" class=\"dataframe\"><thead><tr><th>date</th><th>avg_temp_celsius</th></tr><tr><td>u32</td><td>u32</td></tr></thead><tbody><tr><td>0</td><td>3</td></tr></tbody></table></div>"
      ],
      "text/plain": [
       "shape: (1, 2)\n",
       "┌──────┬──────────────────┐\n",
       "│ date ┆ avg_temp_celsius │\n",
       "│ ---  ┆ ---              │\n",
       "│ u32  ┆ u32              │\n",
       "╞══════╪══════════════════╡\n",
       "│ 0    ┆ 3                │\n",
       "└──────┴──────────────────┘"
      ]
     },
     "execution_count": 76,
     "metadata": {},
     "output_type": "execute_result"
    }
   ],
   "source": [
    "df.select('date', 'avg_temp_celsius').null_count()"
   ]
  },
  {
   "cell_type": "code",
   "execution_count": 77,
   "metadata": {},
   "outputs": [
    {
     "data": {
      "text/html": [
       "<div><style>\n",
       ".dataframe > thead > tr > th,\n",
       ".dataframe > tbody > tr > td {\n",
       "  text-align: right;\n",
       "  white-space: pre-wrap;\n",
       "}\n",
       "</style>\n",
       "<small>shape: (1, 1)</small><table border=\"1\" class=\"dataframe\"><thead><tr><th>avg_temp_celsius</th></tr><tr><td>u32</td></tr></thead><tbody><tr><td>3</td></tr></tbody></table></div>"
      ],
      "text/plain": [
       "shape: (1, 1)\n",
       "┌──────────────────┐\n",
       "│ avg_temp_celsius │\n",
       "│ ---              │\n",
       "│ u32              │\n",
       "╞══════════════════╡\n",
       "│ 3                │\n",
       "└──────────────────┘"
      ]
     },
     "execution_count": 77,
     "metadata": {},
     "output_type": "execute_result"
    }
   ],
   "source": [
    "df.select(pl.col('avg_temp_celsius').null_count())"
   ]
  },
  {
   "cell_type": "code",
   "execution_count": 74,
   "metadata": {},
   "outputs": [
    {
     "data": {
      "text/html": [
       "<div><style>\n",
       ".dataframe > thead > tr > th,\n",
       ".dataframe > tbody > tr > td {\n",
       "  text-align: right;\n",
       "  white-space: pre-wrap;\n",
       "}\n",
       "</style>\n",
       "<small>shape: (1, 1)</small><table border=\"1\" class=\"dataframe\"><thead><tr><th>avg_temp_celsius</th></tr><tr><td>u32</td></tr></thead><tbody><tr><td>3</td></tr></tbody></table></div>"
      ],
      "text/plain": [
       "shape: (1, 1)\n",
       "┌──────────────────┐\n",
       "│ avg_temp_celsius │\n",
       "│ ---              │\n",
       "│ u32              │\n",
       "╞══════════════════╡\n",
       "│ 3                │\n",
       "└──────────────────┘"
      ]
     },
     "execution_count": 74,
     "metadata": {},
     "output_type": "execute_result"
    }
   ],
   "source": [
    "df.select(\n",
    "    pl.col('avg_temp_celsius')\n",
    "    .is_null()\n",
    "    .sum()\n",
    ")"
   ]
  },
  {
   "cell_type": "code",
   "execution_count": 70,
   "metadata": {},
   "outputs": [
    {
     "data": {
      "text/html": [
       "<div><style>\n",
       ".dataframe > thead > tr > th,\n",
       ".dataframe > tbody > tr > td {\n",
       "  text-align: right;\n",
       "  white-space: pre-wrap;\n",
       "}\n",
       "</style>\n",
       "<small>shape: (1, 1)</small><table border=\"1\" class=\"dataframe\"><thead><tr><th>count</th></tr><tr><td>u32</td></tr></thead><tbody><tr><td>3</td></tr></tbody></table></div>"
      ],
      "text/plain": [
       "shape: (1, 1)\n",
       "┌───────┐\n",
       "│ count │\n",
       "│ ---   │\n",
       "│ u32   │\n",
       "╞═══════╡\n",
       "│ 3     │\n",
       "└───────┘"
      ]
     },
     "execution_count": 70,
     "metadata": {},
     "output_type": "execute_result"
    }
   ],
   "source": [
    "(\n",
    "    df\n",
    "    .filter(pl.col('avg_temp_celsius').is_null())\n",
    "    .select(pl.count())\n",
    ")"
   ]
  },
  {
   "cell_type": "code",
   "execution_count": 71,
   "metadata": {},
   "outputs": [
    {
     "data": {
      "text/plain": [
       "3"
      ]
     },
     "execution_count": 71,
     "metadata": {},
     "output_type": "execute_result"
    }
   ],
   "source": [
    "df.filter(pl.col('avg_temp_celsius').is_null()).shape[0]"
   ]
  },
  {
   "cell_type": "code",
   "execution_count": 81,
   "metadata": {},
   "outputs": [
    {
     "data": {
      "text/html": [
       "<div><style>\n",
       ".dataframe > thead > tr > th,\n",
       ".dataframe > tbody > tr > td {\n",
       "  text-align: right;\n",
       "  white-space: pre-wrap;\n",
       "}\n",
       "</style>\n",
       "<small>shape: (1, 1)</small><table border=\"1\" class=\"dataframe\"><thead><tr><th>avg_temp_celsius</th></tr><tr><td>u32</td></tr></thead><tbody><tr><td>2</td></tr></tbody></table></div>"
      ],
      "text/plain": [
       "shape: (1, 1)\n",
       "┌──────────────────┐\n",
       "│ avg_temp_celsius │\n",
       "│ ---              │\n",
       "│ u32              │\n",
       "╞══════════════════╡\n",
       "│ 2                │\n",
       "└──────────────────┘"
      ]
     },
     "execution_count": 81,
     "metadata": {},
     "output_type": "execute_result"
    }
   ],
   "source": [
    "df.select(\n",
    "    pl.col('avg_temp_celsius')\n",
    "    .is_nan()\n",
    "    .sum()\n",
    ")"
   ]
  },
  {
   "cell_type": "code",
   "execution_count": 82,
   "metadata": {},
   "outputs": [
    {
     "data": {
      "text/html": [
       "<div><style>\n",
       ".dataframe > thead > tr > th,\n",
       ".dataframe > tbody > tr > td {\n",
       "  text-align: right;\n",
       "  white-space: pre-wrap;\n",
       "}\n",
       "</style>\n",
       "<small>shape: (1, 1)</small><table border=\"1\" class=\"dataframe\"><thead><tr><th>count</th></tr><tr><td>u32</td></tr></thead><tbody><tr><td>2</td></tr></tbody></table></div>"
      ],
      "text/plain": [
       "shape: (1, 1)\n",
       "┌───────┐\n",
       "│ count │\n",
       "│ ---   │\n",
       "│ u32   │\n",
       "╞═══════╡\n",
       "│ 2     │\n",
       "└───────┘"
      ]
     },
     "execution_count": 82,
     "metadata": {},
     "output_type": "execute_result"
    }
   ],
   "source": [
    "(\n",
    "    df\n",
    "    .filter(pl.col('avg_temp_celsius').is_nan())\n",
    "    .select(pl.count())\n",
    ")"
   ]
  },
  {
   "cell_type": "markdown",
   "metadata": {},
   "source": [
    "## Deleting rows and columns containing missing values"
   ]
  },
  {
   "cell_type": "markdown",
   "metadata": {},
   "source": [
    "### How to do it..."
   ]
  },
  {
   "cell_type": "code",
   "execution_count": 87,
   "metadata": {},
   "outputs": [],
   "source": [
    "df = pl.read_csv('temperatures.csv') "
   ]
  },
  {
   "cell_type": "code",
   "execution_count": 88,
   "metadata": {},
   "outputs": [
    {
     "data": {
      "text/html": [
       "<div><style>\n",
       ".dataframe > thead > tr > th,\n",
       ".dataframe > tbody > tr > td {\n",
       "  text-align: right;\n",
       "  white-space: pre-wrap;\n",
       "}\n",
       "</style>\n",
       "<small>shape: (5, 2)</small><table border=\"1\" class=\"dataframe\"><thead><tr><th>date</th><th>avg_temp_celsius</th></tr><tr><td>str</td><td>f64</td></tr></thead><tbody><tr><td>&quot;2023-01-01&quot;</td><td>-3.0</td></tr><tr><td>&quot;2023-01-02&quot;</td><td>null</td></tr><tr><td>&quot;2023-01-03&quot;</td><td>6.0</td></tr><tr><td>&quot;2023-01-04&quot;</td><td>-1.0</td></tr><tr><td>&quot;2023-01-05&quot;</td><td>NaN</td></tr></tbody></table></div>"
      ],
      "text/plain": [
       "shape: (5, 2)\n",
       "┌────────────┬──────────────────┐\n",
       "│ date       ┆ avg_temp_celsius │\n",
       "│ ---        ┆ ---              │\n",
       "│ str        ┆ f64              │\n",
       "╞════════════╪══════════════════╡\n",
       "│ 2023-01-01 ┆ -3.0             │\n",
       "│ 2023-01-02 ┆ null             │\n",
       "│ 2023-01-03 ┆ 6.0              │\n",
       "│ 2023-01-04 ┆ -1.0             │\n",
       "│ 2023-01-05 ┆ NaN              │\n",
       "└────────────┴──────────────────┘"
      ]
     },
     "execution_count": 88,
     "metadata": {},
     "output_type": "execute_result"
    }
   ],
   "source": [
    "df.head()"
   ]
  },
  {
   "cell_type": "code",
   "execution_count": 93,
   "metadata": {},
   "outputs": [
    {
     "data": {
      "text/html": [
       "<div><style>\n",
       ".dataframe > thead > tr > th,\n",
       ".dataframe > tbody > tr > td {\n",
       "  text-align: right;\n",
       "  white-space: pre-wrap;\n",
       "}\n",
       "</style>\n",
       "<small>shape: (1, 2)</small><table border=\"1\" class=\"dataframe\"><thead><tr><th>date</th><th>avg_temp_celsius</th></tr><tr><td>u32</td><td>u32</td></tr></thead><tbody><tr><td>0</td><td>0</td></tr></tbody></table></div>"
      ],
      "text/plain": [
       "shape: (1, 2)\n",
       "┌──────┬──────────────────┐\n",
       "│ date ┆ avg_temp_celsius │\n",
       "│ ---  ┆ ---              │\n",
       "│ u32  ┆ u32              │\n",
       "╞══════╪══════════════════╡\n",
       "│ 0    ┆ 0                │\n",
       "└──────┴──────────────────┘"
      ]
     },
     "execution_count": 93,
     "metadata": {},
     "output_type": "execute_result"
    }
   ],
   "source": [
    "df.drop_nulls().null_count()"
   ]
  },
  {
   "cell_type": "code",
   "execution_count": 96,
   "metadata": {},
   "outputs": [
    {
     "data": {
      "text/html": [
       "<div><style>\n",
       ".dataframe > thead > tr > th,\n",
       ".dataframe > tbody > tr > td {\n",
       "  text-align: right;\n",
       "  white-space: pre-wrap;\n",
       "}\n",
       "</style>\n",
       "<small>shape: (1, 1)</small><table border=\"1\" class=\"dataframe\"><thead><tr><th>avg_temp_celsius</th></tr><tr><td>u32</td></tr></thead><tbody><tr><td>0</td></tr></tbody></table></div>"
      ],
      "text/plain": [
       "shape: (1, 1)\n",
       "┌──────────────────┐\n",
       "│ avg_temp_celsius │\n",
       "│ ---              │\n",
       "│ u32              │\n",
       "╞══════════════════╡\n",
       "│ 0                │\n",
       "└──────────────────┘"
      ]
     },
     "execution_count": 96,
     "metadata": {},
     "output_type": "execute_result"
    }
   ],
   "source": [
    "df.select(\n",
    "    pl.col('avg_temp_celsius')\n",
    "    .drop_nulls()\n",
    "    .null_count()\n",
    ")    "
   ]
  },
  {
   "cell_type": "code",
   "execution_count": 151,
   "metadata": {},
   "outputs": [
    {
     "data": {
      "text/html": [
       "<div><style>\n",
       ".dataframe > thead > tr > th,\n",
       ".dataframe > tbody > tr > td {\n",
       "  text-align: right;\n",
       "  white-space: pre-wrap;\n",
       "}\n",
       "</style>\n",
       "<small>shape: (13, 2)</small><table border=\"1\" class=\"dataframe\"><thead><tr><th>date</th><th>avg_temp_celsius</th></tr><tr><td>str</td><td>f64</td></tr></thead><tbody><tr><td>&quot;2023-01-01&quot;</td><td>-3.0</td></tr><tr><td>&quot;2023-01-02&quot;</td><td>null</td></tr><tr><td>&quot;2023-01-03&quot;</td><td>6.0</td></tr><tr><td>&quot;2023-01-04&quot;</td><td>-1.0</td></tr><tr><td>&quot;2023-01-06&quot;</td><td>6.0</td></tr><tr><td>&quot;2023-01-07&quot;</td><td>4.0</td></tr><tr><td>&quot;2023-01-08&quot;</td><td>null</td></tr><tr><td>&quot;2023-01-09&quot;</td><td>1.0</td></tr><tr><td>&quot;2023-01-10&quot;</td><td>2.0</td></tr><tr><td>&quot;2023-01-12&quot;</td><td>7.0</td></tr><tr><td>&quot;2023-01-13&quot;</td><td>9.0</td></tr><tr><td>&quot;2023-01-14&quot;</td><td>-2.0</td></tr><tr><td>&quot;2023-01-15&quot;</td><td>null</td></tr></tbody></table></div>"
      ],
      "text/plain": [
       "shape: (13, 2)\n",
       "┌────────────┬──────────────────┐\n",
       "│ date       ┆ avg_temp_celsius │\n",
       "│ ---        ┆ ---              │\n",
       "│ str        ┆ f64              │\n",
       "╞════════════╪══════════════════╡\n",
       "│ 2023-01-01 ┆ -3.0             │\n",
       "│ 2023-01-02 ┆ null             │\n",
       "│ 2023-01-03 ┆ 6.0              │\n",
       "│ 2023-01-04 ┆ -1.0             │\n",
       "│ …          ┆ …                │\n",
       "│ 2023-01-12 ┆ 7.0              │\n",
       "│ 2023-01-13 ┆ 9.0              │\n",
       "│ 2023-01-14 ┆ -2.0             │\n",
       "│ 2023-01-15 ┆ null             │\n",
       "└────────────┴──────────────────┘"
      ]
     },
     "execution_count": 151,
     "metadata": {},
     "output_type": "execute_result"
    }
   ],
   "source": [
    "df.filter(pl.col('avg_temp_celsius').is_not_null())"
   ]
  },
  {
   "cell_type": "code",
   "execution_count": 137,
   "metadata": {},
   "outputs": [
    {
     "data": {
      "text/plain": [
       "['date']"
      ]
     },
     "execution_count": 137,
     "metadata": {},
     "output_type": "execute_result"
    }
   ],
   "source": [
    "cols_to_drop = [column for column in df.columns if df.select(pl.col(column).is_null().any())[0,0]]\n",
    "df.drop(cols_to_drop).columns"
   ]
  },
  {
   "cell_type": "code",
   "execution_count": 162,
   "metadata": {},
   "outputs": [
    {
     "data": {
      "text/html": [
       "<div><style>\n",
       ".dataframe > thead > tr > th,\n",
       ".dataframe > tbody > tr > td {\n",
       "  text-align: right;\n",
       "  white-space: pre-wrap;\n",
       "}\n",
       "</style>\n",
       "<small>shape: (1, 1)</small><table border=\"1\" class=\"dataframe\"><thead><tr><th>avg_temp_celsius</th></tr><tr><td>u32</td></tr></thead><tbody><tr><td>0</td></tr></tbody></table></div>"
      ],
      "text/plain": [
       "shape: (1, 1)\n",
       "┌──────────────────┐\n",
       "│ avg_temp_celsius │\n",
       "│ ---              │\n",
       "│ u32              │\n",
       "╞══════════════════╡\n",
       "│ 0                │\n",
       "└──────────────────┘"
      ]
     },
     "execution_count": 162,
     "metadata": {},
     "output_type": "execute_result"
    }
   ],
   "source": [
    "df.select(\n",
    "    pl.col('avg_temp_celsius')\n",
    "    .drop_nans()\n",
    "    .is_nan()\n",
    "    .sum()\n",
    ")"
   ]
  },
  {
   "cell_type": "code",
   "execution_count": 163,
   "metadata": {},
   "outputs": [
    {
     "data": {
      "text/html": [
       "<div><style>\n",
       ".dataframe > thead > tr > th,\n",
       ".dataframe > tbody > tr > td {\n",
       "  text-align: right;\n",
       "  white-space: pre-wrap;\n",
       "}\n",
       "</style>\n",
       "<small>shape: (13, 2)</small><table border=\"1\" class=\"dataframe\"><thead><tr><th>date</th><th>avg_temp_celsius</th></tr><tr><td>str</td><td>f64</td></tr></thead><tbody><tr><td>&quot;2023-01-01&quot;</td><td>-3.0</td></tr><tr><td>&quot;2023-01-02&quot;</td><td>null</td></tr><tr><td>&quot;2023-01-03&quot;</td><td>6.0</td></tr><tr><td>&quot;2023-01-04&quot;</td><td>-1.0</td></tr><tr><td>&quot;2023-01-06&quot;</td><td>6.0</td></tr><tr><td>&quot;2023-01-07&quot;</td><td>4.0</td></tr><tr><td>&quot;2023-01-08&quot;</td><td>null</td></tr><tr><td>&quot;2023-01-09&quot;</td><td>1.0</td></tr><tr><td>&quot;2023-01-10&quot;</td><td>2.0</td></tr><tr><td>&quot;2023-01-12&quot;</td><td>7.0</td></tr><tr><td>&quot;2023-01-13&quot;</td><td>9.0</td></tr><tr><td>&quot;2023-01-14&quot;</td><td>-2.0</td></tr><tr><td>&quot;2023-01-15&quot;</td><td>null</td></tr></tbody></table></div>"
      ],
      "text/plain": [
       "shape: (13, 2)\n",
       "┌────────────┬──────────────────┐\n",
       "│ date       ┆ avg_temp_celsius │\n",
       "│ ---        ┆ ---              │\n",
       "│ str        ┆ f64              │\n",
       "╞════════════╪══════════════════╡\n",
       "│ 2023-01-01 ┆ -3.0             │\n",
       "│ 2023-01-02 ┆ null             │\n",
       "│ 2023-01-03 ┆ 6.0              │\n",
       "│ 2023-01-04 ┆ -1.0             │\n",
       "│ …          ┆ …                │\n",
       "│ 2023-01-12 ┆ 7.0              │\n",
       "│ 2023-01-13 ┆ 9.0              │\n",
       "│ 2023-01-14 ┆ -2.0             │\n",
       "│ 2023-01-15 ┆ null             │\n",
       "└────────────┴──────────────────┘"
      ]
     },
     "execution_count": 163,
     "metadata": {},
     "output_type": "execute_result"
    }
   ],
   "source": [
    "df.filter(pl.col('avg_temp_celsius').is_not_nan())"
   ]
  },
  {
   "cell_type": "code",
   "execution_count": 193,
   "metadata": {},
   "outputs": [
    {
     "data": {
      "text/plain": [
       "['date']"
      ]
     },
     "execution_count": 193,
     "metadata": {},
     "output_type": "execute_result"
    }
   ],
   "source": [
    "import polars.selectors as cs\n",
    "cols_to_drop = df.select(cs.float().is_nan().any()).columns\n",
    "df.drop(cols_to_drop).columns"
   ]
  },
  {
   "cell_type": "code",
   "execution_count": 203,
   "metadata": {},
   "outputs": [
    {
     "data": {
      "text/plain": [
       "['date']"
      ]
     },
     "execution_count": 203,
     "metadata": {},
     "output_type": "execute_result"
    }
   ],
   "source": [
    "df.select(pl.exclude(cols_to_drop)).columns"
   ]
  },
  {
   "cell_type": "markdown",
   "metadata": {},
   "source": [
    "### There is more..."
   ]
  },
  {
   "cell_type": "code",
   "execution_count": 204,
   "metadata": {},
   "outputs": [
    {
     "data": {
      "text/html": [
       "<div><style>\n",
       ".dataframe > thead > tr > th,\n",
       ".dataframe > tbody > tr > td {\n",
       "  text-align: right;\n",
       "  white-space: pre-wrap;\n",
       "}\n",
       "</style>\n",
       "<small>shape: (10, 2)</small><table border=\"1\" class=\"dataframe\"><thead><tr><th>date</th><th>avg_temp_celsius</th></tr><tr><td>str</td><td>f64</td></tr></thead><tbody><tr><td>&quot;2023-01-01&quot;</td><td>-3.0</td></tr><tr><td>&quot;2023-01-03&quot;</td><td>6.0</td></tr><tr><td>&quot;2023-01-04&quot;</td><td>-1.0</td></tr><tr><td>&quot;2023-01-06&quot;</td><td>6.0</td></tr><tr><td>&quot;2023-01-07&quot;</td><td>4.0</td></tr><tr><td>&quot;2023-01-09&quot;</td><td>1.0</td></tr><tr><td>&quot;2023-01-10&quot;</td><td>2.0</td></tr><tr><td>&quot;2023-01-12&quot;</td><td>7.0</td></tr><tr><td>&quot;2023-01-13&quot;</td><td>9.0</td></tr><tr><td>&quot;2023-01-14&quot;</td><td>-2.0</td></tr></tbody></table></div>"
      ],
      "text/plain": [
       "shape: (10, 2)\n",
       "┌────────────┬──────────────────┐\n",
       "│ date       ┆ avg_temp_celsius │\n",
       "│ ---        ┆ ---              │\n",
       "│ str        ┆ f64              │\n",
       "╞════════════╪══════════════════╡\n",
       "│ 2023-01-01 ┆ -3.0             │\n",
       "│ 2023-01-03 ┆ 6.0              │\n",
       "│ 2023-01-04 ┆ -1.0             │\n",
       "│ 2023-01-06 ┆ 6.0              │\n",
       "│ …          ┆ …                │\n",
       "│ 2023-01-10 ┆ 2.0              │\n",
       "│ 2023-01-12 ┆ 7.0              │\n",
       "│ 2023-01-13 ┆ 9.0              │\n",
       "│ 2023-01-14 ┆ -2.0             │\n",
       "└────────────┴──────────────────┘"
      ]
     },
     "execution_count": 204,
     "metadata": {},
     "output_type": "execute_result"
    }
   ],
   "source": [
    "df.fill_nan(None).drop_nulls()"
   ]
  },
  {
   "cell_type": "code",
   "execution_count": null,
   "metadata": {},
   "outputs": [],
   "source": []
  }
 ],
 "metadata": {
  "kernelspec": {
   "display_name": ".venv",
   "language": "python",
   "name": "python3"
  },
  "language_info": {
   "codemirror_mode": {
    "name": "ipython",
    "version": 3
   },
   "file_extension": ".py",
   "mimetype": "text/x-python",
   "name": "python",
   "nbconvert_exporter": "python",
   "pygments_lexer": "ipython3",
   "version": "3.11.3"
  }
 },
 "nbformat": 4,
 "nbformat_minor": 2
}
