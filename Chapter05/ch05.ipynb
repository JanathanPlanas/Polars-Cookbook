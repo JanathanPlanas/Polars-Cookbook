{
 "cells": [
  {
   "cell_type": "markdown",
   "metadata": {},
   "source": [
    "# Handling Missing Values"
   ]
  },
  {
   "cell_type": "markdown",
   "metadata": {},
   "source": [
    "## Identifying missing values"
   ]
  },
  {
   "cell_type": "code",
   "execution_count": 39,
   "metadata": {},
   "outputs": [],
   "source": [
    "import polars as pl"
   ]
  },
  {
   "cell_type": "code",
   "execution_count": 40,
   "metadata": {},
   "outputs": [],
   "source": [
    "from datetime import date\n",
    "import numpy as np\n",
    "\n",
    "date_col = pl.date_range(date(2023, 1, 1), date(2023, 1, 15), '1d', eager=True)\n",
    "avg_temp_c_list = [-3,None,6,-1,np.nan,6,4,None,1,2,np.nan,7,9,-2,None]\n",
    "df = pl.DataFrame({\n",
    "    'date': date_col,\n",
    "    'avg_temp_celsius': avg_temp_c_list\n",
    "})"
   ]
  },
  {
   "cell_type": "code",
   "execution_count": 41,
   "metadata": {},
   "outputs": [
    {
     "data": {
      "text/html": [
       "<div><style>\n",
       ".dataframe > thead > tr > th,\n",
       ".dataframe > tbody > tr > td {\n",
       "  text-align: right;\n",
       "  white-space: pre-wrap;\n",
       "}\n",
       "</style>\n",
       "<small>shape: (5, 2)</small><table border=\"1\" class=\"dataframe\"><thead><tr><th>date</th><th>avg_temp_celsius</th></tr><tr><td>date</td><td>f64</td></tr></thead><tbody><tr><td>2023-01-01</td><td>-3.0</td></tr><tr><td>2023-01-02</td><td>null</td></tr><tr><td>2023-01-03</td><td>6.0</td></tr><tr><td>2023-01-04</td><td>-1.0</td></tr><tr><td>2023-01-05</td><td>NaN</td></tr></tbody></table></div>"
      ],
      "text/plain": [
       "shape: (5, 2)\n",
       "┌────────────┬──────────────────┐\n",
       "│ date       ┆ avg_temp_celsius │\n",
       "│ ---        ┆ ---              │\n",
       "│ date       ┆ f64              │\n",
       "╞════════════╪══════════════════╡\n",
       "│ 2023-01-01 ┆ -3.0             │\n",
       "│ 2023-01-02 ┆ null             │\n",
       "│ 2023-01-03 ┆ 6.0              │\n",
       "│ 2023-01-04 ┆ -1.0             │\n",
       "│ 2023-01-05 ┆ NaN              │\n",
       "└────────────┴──────────────────┘"
      ]
     },
     "execution_count": 41,
     "metadata": {},
     "output_type": "execute_result"
    }
   ],
   "source": [
    "df.head()"
   ]
  },
  {
   "cell_type": "markdown",
   "metadata": {},
   "source": [
    "### How to do it..."
   ]
  },
  {
   "cell_type": "code",
   "execution_count": null,
   "metadata": {},
   "outputs": [],
   "source": []
  }
 ],
 "metadata": {
  "kernelspec": {
   "display_name": ".venv",
   "language": "python",
   "name": "python3"
  },
  "language_info": {
   "codemirror_mode": {
    "name": "ipython",
    "version": 3
   },
   "file_extension": ".py",
   "mimetype": "text/x-python",
   "name": "python",
   "nbconvert_exporter": "python",
   "pygments_lexer": "ipython3",
   "version": "3.11.3"
  }
 },
 "nbformat": 4,
 "nbformat_minor": 2
}
