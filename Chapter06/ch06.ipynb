{
 "cells": [
  {
   "cell_type": "markdown",
   "metadata": {},
   "source": [
    "# Performing String Manipulations"
   ]
  },
  {
   "cell_type": "markdown",
   "metadata": {},
   "source": [
    "## Filtering rows based on conditions "
   ]
  },
  {
   "cell_type": "markdown",
   "metadata": {},
   "source": [
    "### How to do it..."
   ]
  },
  {
   "cell_type": "code",
   "execution_count": 1,
   "metadata": {},
   "outputs": [],
   "source": [
    "import polars as pl"
   ]
  },
  {
   "cell_type": "code",
   "execution_count": 81,
   "metadata": {},
   "outputs": [
    {
     "data": {
      "text/html": [
       "<div><style>\n",
       ".dataframe > thead > tr,\n",
       ".dataframe > tbody > tr {\n",
       "  text-align: right;\n",
       "  white-space: pre-wrap;\n",
       "}\n",
       "</style>\n",
       "<small>shape: (5, 12)</small><table border=\"1\" class=\"dataframe\"><thead><tr><th>reviewId</th><th>userName</th><th>userImage</th><th>content</th><th>score</th><th>thumbsUpCount</th><th>reviewCreatedVersion</th><th>at</th><th>replyContent</th><th>repliedAt</th><th>sortOrder</th><th>appId</th></tr><tr><td>str</td><td>str</td><td>str</td><td>str</td><td>i64</td><td>i64</td><td>str</td><td>str</td><td>str</td><td>str</td><td>str</td><td>str</td></tr></thead><tbody><tr><td>&quot;gp:AOqpTOEhZuqSqqWnaKRgv-9ABYdajFUB0WugPGh-SG-fgH…</td><td>&quot;Eric Tie&quot;</td><td>&quot;https://play-lh.googleusercontent.com/a-/AOh14GiG…</td><td>&quot;I cannot open the app anymore&quot;</td><td>1</td><td>0</td><td>&quot;5.4.0.6&quot;</td><td>&quot;2020-10-27 21:24:41&quot;</td><td>null</td><td>null</td><td>&quot;newest&quot;</td><td>&quot;com.anydo&quot;</td></tr><tr><td>&quot;gp:AOqpTOH0WP4IQKBZ2LrdNmFy_YmpPCVrV3diEU9KGm3fAX…</td><td>&quot;john alpha&quot;</td><td>&quot;https://play-lh.googleusercontent.com/a-/AOh14Gjp…</td><td>&quot;I have been begging for a refund from this app fo…</td><td>1</td><td>0</td><td>null</td><td>&quot;2020-10-27 14:03:28&quot;</td><td>&quot;Please note that from checking our records, your …</td><td>&quot;2020-10-27 15:05:52&quot;</td><td>&quot;newest&quot;</td><td>&quot;com.anydo&quot;</td></tr><tr><td>&quot;gp:AOqpTOEMCkJB8Iq1p-r9dPwnSYadA5BkPWTf32Z1azuuTv…</td><td>&quot;Sudhakar .S&quot;</td><td>&quot;https://play-lh.googleusercontent.com/a-/AOh14Gid…</td><td>&quot;Very costly for the premium version (approx India…</td><td>1</td><td>0</td><td>null</td><td>&quot;2020-10-27 08:18:40&quot;</td><td>null</td><td>null</td><td>&quot;newest&quot;</td><td>&quot;com.anydo&quot;</td></tr><tr><td>&quot;gp:AOqpTOGFrUWuKGycpje8kszj3uwHN6tU_fd4gLVFy9z7hf…</td><td>&quot;SKGflorida@bellsouth.net DAVID S&quot;</td><td>&quot;https://play-lh.googleusercontent.com/-75aK0WFnia…</td><td>&quot;Used to keep me organized, but all the 2020 UPDAT…</td><td>1</td><td>0</td><td>null</td><td>&quot;2020-10-26 13:28:07&quot;</td><td>&quot;What do you find troublesome about the update? We…</td><td>&quot;2020-10-26 14:58:29&quot;</td><td>&quot;newest&quot;</td><td>&quot;com.anydo&quot;</td></tr><tr><td>&quot;gp:AOqpTOHls7DW8wmDFzTkHwxuqFkdNQtKHmO6Pt9jhZEQ0Q…</td><td>&quot;Louann Stoker&quot;</td><td>&quot;https://play-lh.googleusercontent.com/-pBcY_Z-qfB…</td><td>&quot;Dan Birthday Oct 28&quot;</td><td>1</td><td>0</td><td>&quot;5.6.0.7&quot;</td><td>&quot;2020-10-26 06:10:50&quot;</td><td>null</td><td>null</td><td>&quot;newest&quot;</td><td>&quot;com.anydo&quot;</td></tr></tbody></table></div>"
      ],
      "text/plain": [
       "shape: (5, 12)\n",
       "┌───────────┬───────────┬───────────┬───────────┬───┬───────────┬───────────┬───────────┬──────────┐\n",
       "│ reviewId  ┆ userName  ┆ userImage ┆ content   ┆ … ┆ replyCont ┆ repliedAt ┆ sortOrder ┆ appId    │\n",
       "│ ---       ┆ ---       ┆ ---       ┆ ---       ┆   ┆ ent       ┆ ---       ┆ ---       ┆ ---      │\n",
       "│ str       ┆ str       ┆ str       ┆ str       ┆   ┆ ---       ┆ str       ┆ str       ┆ str      │\n",
       "│           ┆           ┆           ┆           ┆   ┆ str       ┆           ┆           ┆          │\n",
       "╞═══════════╪═══════════╪═══════════╪═══════════╪═══╪═══════════╪═══════════╪═══════════╪══════════╡\n",
       "│ gp:AOqpTO ┆ Eric Tie  ┆ https://p ┆ I cannot  ┆ … ┆ null      ┆ null      ┆ newest    ┆ com.anyd │\n",
       "│ EhZuqSqqW ┆           ┆ lay-lh.go ┆ open the  ┆   ┆           ┆           ┆           ┆ o        │\n",
       "│ naKRgv-9A ┆           ┆ ogleuserc ┆ app       ┆   ┆           ┆           ┆           ┆          │\n",
       "│ BYdajFUB0 ┆           ┆ ontent.co ┆ anymore   ┆   ┆           ┆           ┆           ┆          │\n",
       "│ WugPGh-SG ┆           ┆ m/a-/AOh1 ┆           ┆   ┆           ┆           ┆           ┆          │\n",
       "│ -fgH3…    ┆           ┆ 4GiGE…    ┆           ┆   ┆           ┆           ┆           ┆          │\n",
       "│ gp:AOqpTO ┆ john      ┆ https://p ┆ I have    ┆ … ┆ Please    ┆ 2020-10-2 ┆ newest    ┆ com.anyd │\n",
       "│ H0WP4IQKB ┆ alpha     ┆ lay-lh.go ┆ been      ┆   ┆ note that ┆ 7         ┆           ┆ o        │\n",
       "│ Z2LrdNmFy ┆           ┆ ogleuserc ┆ begging   ┆   ┆ from      ┆ 15:05:52  ┆           ┆          │\n",
       "│ _YmpPCVrV ┆           ┆ ontent.co ┆ for a     ┆   ┆ checking  ┆           ┆           ┆          │\n",
       "│ 3diEU9KGm ┆           ┆ m/a-/AOh1 ┆ refund    ┆   ┆ our       ┆           ┆           ┆          │\n",
       "│ 3fAX6…    ┆           ┆ 4Gjpf…    ┆ from this ┆   ┆ records,  ┆           ┆           ┆          │\n",
       "│           ┆           ┆           ┆ app for…  ┆   ┆ your e…   ┆           ┆           ┆          │\n",
       "│ gp:AOqpTO ┆ Sudhakar  ┆ https://p ┆ Very      ┆ … ┆ null      ┆ null      ┆ newest    ┆ com.anyd │\n",
       "│ EMCkJB8Iq ┆ .S        ┆ lay-lh.go ┆ costly    ┆   ┆           ┆           ┆           ┆ o        │\n",
       "│ 1p-r9dPwn ┆           ┆ ogleuserc ┆ for the   ┆   ┆           ┆           ┆           ┆          │\n",
       "│ SYadA5BkP ┆           ┆ ontent.co ┆ premium   ┆   ┆           ┆           ┆           ┆          │\n",
       "│ WTf32Z1az ┆           ┆ m/a-/AOh1 ┆ version   ┆   ┆           ┆           ┆           ┆          │\n",
       "│ uuTvq…    ┆           ┆ 4GidH…    ┆ (approx   ┆   ┆           ┆           ┆           ┆          │\n",
       "│           ┆           ┆           ┆ Indian…   ┆   ┆           ┆           ┆           ┆          │\n",
       "│ gp:AOqpTO ┆ SKGflorid ┆ https://p ┆ Used to   ┆ … ┆ What do   ┆ 2020-10-2 ┆ newest    ┆ com.anyd │\n",
       "│ GFrUWuKGy ┆ a@bellsou ┆ lay-lh.go ┆ keep me   ┆   ┆ you find  ┆ 6         ┆           ┆ o        │\n",
       "│ cpje8kszj ┆ th.net    ┆ ogleuserc ┆ organized ┆   ┆ troubleso ┆ 14:58:29  ┆           ┆          │\n",
       "│ 3uwHN6tU_ ┆ DAVID S   ┆ ontent.co ┆ , but all ┆   ┆ me about  ┆           ┆           ┆          │\n",
       "│ fd4gLVFy9 ┆           ┆ m/-75aK0W ┆ the 2020  ┆   ┆ the       ┆           ┆           ┆          │\n",
       "│ z7hfG…    ┆           ┆ Fniac…    ┆ UPDATE…   ┆   ┆ update?   ┆           ┆           ┆          │\n",
       "│           ┆           ┆           ┆           ┆   ┆ We'…      ┆           ┆           ┆          │\n",
       "│ gp:AOqpTO ┆ Louann    ┆ https://p ┆ Dan       ┆ … ┆ null      ┆ null      ┆ newest    ┆ com.anyd │\n",
       "│ Hls7DW8wm ┆ Stoker    ┆ lay-lh.go ┆ Birthday  ┆   ┆           ┆           ┆           ┆ o        │\n",
       "│ DFzTkHwxu ┆           ┆ ogleuserc ┆ Oct 28    ┆   ┆           ┆           ┆           ┆          │\n",
       "│ qFkdNQtKH ┆           ┆ ontent.co ┆           ┆   ┆           ┆           ┆           ┆          │\n",
       "│ mO6Pt9jhZ ┆           ┆ m/-pBcY_Z ┆           ┆   ┆           ┆           ┆           ┆          │\n",
       "│ EQ0Q2…    ┆           ┆ -qfB4…    ┆           ┆   ┆           ┆           ┆           ┆          │\n",
       "└───────────┴───────────┴───────────┴───────────┴───┴───────────┴───────────┴───────────┴──────────┘"
      ]
     },
     "execution_count": 81,
     "metadata": {},
     "output_type": "execute_result"
    }
   ],
   "source": [
    "df = pl.read_csv('../data/google_store_reviews.csv')\n",
    "df.head()"
   ]
  },
  {
   "cell_type": "code",
   "execution_count": 48,
   "metadata": {},
   "outputs": [],
   "source": [
    "# pl.Config.set_fmt_str_lengths=50  # for .py scripts\n",
    "import os\n",
    "os.environ['POLARS_FMT_STR_LEN'] = str(50)"
   ]
  },
  {
   "cell_type": "code",
   "execution_count": 49,
   "metadata": {},
   "outputs": [
    {
     "data": {
      "text/html": [
       "<div><style>\n",
       ".dataframe > thead > tr,\n",
       ".dataframe > tbody > tr {\n",
       "  text-align: right;\n",
       "  white-space: pre-wrap;\n",
       "}\n",
       "</style>\n",
       "<small>shape: (5, 1)</small><table border=\"1\" class=\"dataframe\"><thead><tr><th>content</th></tr><tr><td>str</td></tr></thead><tbody><tr><td>&quot;Very costly for the premium version (approx India…</td></tr><tr><td>&quot;Very bad&quot;</td></tr><tr><td>&quot;Very bad&quot;</td></tr><tr><td>&quot;Very slow app it took me 10 min just to start the…</td></tr><tr><td>&quot;Very average app, not intuitive . Will probably s…</td></tr></tbody></table></div>"
      ],
      "text/plain": [
       "shape: (5, 1)\n",
       "┌─────────────────────────────────────────────────────┐\n",
       "│ content                                             │\n",
       "│ ---                                                 │\n",
       "│ str                                                 │\n",
       "╞═════════════════════════════════════════════════════╡\n",
       "│ Very costly for the premium version (approx Indian… │\n",
       "│ Very bad                                            │\n",
       "│ Very bad                                            │\n",
       "│ Very slow app it took me 10 min just to start the … │\n",
       "│ Very average app, not intuitive . Will probably sp… │\n",
       "└─────────────────────────────────────────────────────┘"
      ]
     },
     "execution_count": 49,
     "metadata": {},
     "output_type": "execute_result"
    }
   ],
   "source": [
    "(\n",
    "    df\n",
    "    .filter(pl.col('content').str.starts_with('Very'))\n",
    "    .select('content')\n",
    "    .head()\n",
    ")"
   ]
  },
  {
   "cell_type": "code",
   "execution_count": 50,
   "metadata": {},
   "outputs": [
    {
     "data": {
      "text/html": [
       "<div><style>\n",
       ".dataframe > thead > tr,\n",
       ".dataframe > tbody > tr {\n",
       "  text-align: right;\n",
       "  white-space: pre-wrap;\n",
       "}\n",
       "</style>\n",
       "<small>shape: (5, 1)</small><table border=\"1\" class=\"dataframe\"><thead><tr><th>userName</th></tr><tr><td>str</td></tr></thead><tbody><tr><td>&quot;James Smith&quot;</td></tr><tr><td>&quot;J Smith&quot;</td></tr><tr><td>&quot;Fj Smith&quot;</td></tr><tr><td>&quot;Martyn Smith&quot;</td></tr><tr><td>&quot;D Smith&quot;</td></tr></tbody></table></div>"
      ],
      "text/plain": [
       "shape: (5, 1)\n",
       "┌──────────────┐\n",
       "│ userName     │\n",
       "│ ---          │\n",
       "│ str          │\n",
       "╞══════════════╡\n",
       "│ James Smith  │\n",
       "│ J Smith      │\n",
       "│ Fj Smith     │\n",
       "│ Martyn Smith │\n",
       "│ D Smith      │\n",
       "└──────────────┘"
      ]
     },
     "execution_count": 50,
     "metadata": {},
     "output_type": "execute_result"
    }
   ],
   "source": [
    "(\n",
    "    df\n",
    "    .filter(pl.col('userName').str.ends_with('Smith'))\n",
    "    .select('userName')\n",
    "    .head()\n",
    ")"
   ]
  },
  {
   "cell_type": "code",
   "execution_count": 56,
   "metadata": {},
   "outputs": [
    {
     "data": {
      "text/html": [
       "<div><style>\n",
       ".dataframe > thead > tr,\n",
       ".dataframe > tbody > tr {\n",
       "  text-align: right;\n",
       "  white-space: pre-wrap;\n",
       "}\n",
       "</style>\n",
       "<small>shape: (5, 1)</small><table border=\"1\" class=\"dataframe\"><thead><tr><th>content</th></tr><tr><td>str</td></tr></thead><tbody><tr><td>&quot;I love this app, but I do have one major gripe - …</td></tr><tr><td>&quot;Not happy, app just asked me to &#x27;sign in&#x27; and now…</td></tr><tr><td>&quot;Will be happy if this app comes with time duratio…</td></tr><tr><td>&quot;V usefull app i love it v much I use it daily wor…</td></tr><tr><td>&quot;I was super happy to download this app but that I…</td></tr></tbody></table></div>"
      ],
      "text/plain": [
       "shape: (5, 1)\n",
       "┌─────────────────────────────────────────────────────┐\n",
       "│ content                                             │\n",
       "│ ---                                                 │\n",
       "│ str                                                 │\n",
       "╞═════════════════════════════════════════════════════╡\n",
       "│ I love this app, but I do have one major gripe - I… │\n",
       "│ Not happy, app just asked me to 'sign in' and now … │\n",
       "│ Will be happy if this app comes with time duration… │\n",
       "│ V usefull app i love it v much I use it daily work… │\n",
       "│ I was super happy to download this app but that I … │\n",
       "└─────────────────────────────────────────────────────┘"
      ]
     },
     "execution_count": 56,
     "metadata": {},
     "output_type": "execute_result"
    }
   ],
   "source": [
    "(\n",
    "    df\n",
    "    .filter(pl.col('content').str.contains('happy', literal=True))\n",
    "    .select('content')\n",
    "    .head()\n",
    ")"
   ]
  },
  {
   "cell_type": "code",
   "execution_count": 62,
   "metadata": {},
   "outputs": [
    {
     "data": {
      "text/html": [
       "<div><style>\n",
       ".dataframe > thead > tr,\n",
       ".dataframe > tbody > tr {\n",
       "  text-align: right;\n",
       "  white-space: pre-wrap;\n",
       "}\n",
       "</style>\n",
       "<small>shape: (5, 1)</small><table border=\"1\" class=\"dataframe\"><thead><tr><th>content</th></tr><tr><td>str</td></tr></thead><tbody><tr><td>&quot;I love this app, but I do have one major gripe - …</td></tr><tr><td>&quot;Why are random items popping up on our Grocery Li…</td></tr><tr><td>&quot;I love using this app however when I installed it…</td></tr><tr><td>&quot;There are certain things I love like the fact tha…</td></tr><tr><td>&quot;I love this app, but recently the app keeps crash…</td></tr></tbody></table></div>"
      ],
      "text/plain": [
       "shape: (5, 1)\n",
       "┌─────────────────────────────────────────────────────┐\n",
       "│ content                                             │\n",
       "│ ---                                                 │\n",
       "│ str                                                 │\n",
       "╞═════════════════════════════════════════════════════╡\n",
       "│ I love this app, but I do have one major gripe - I… │\n",
       "│ Why are random items popping up on our Grocery Lis… │\n",
       "│ I love using this app however when I installed it … │\n",
       "│ There are certain things I love like the fact that… │\n",
       "│ I love this app, but recently the app keeps crashi… │\n",
       "└─────────────────────────────────────────────────────┘"
      ]
     },
     "execution_count": 62,
     "metadata": {},
     "output_type": "execute_result"
    }
   ],
   "source": [
    "(\n",
    "    df\n",
    "    .filter(pl.col('content').str.contains('very happy|best app|I love'))\n",
    "    .select('content')\n",
    "    .head()\n",
    ")"
   ]
  },
  {
   "cell_type": "code",
   "execution_count": 90,
   "metadata": {},
   "outputs": [
    {
     "data": {
      "text/html": [
       "<div><style>\n",
       ".dataframe > thead > tr,\n",
       ".dataframe > tbody > tr {\n",
       "  text-align: right;\n",
       "  white-space: pre-wrap;\n",
       "}\n",
       "</style>\n",
       "<small>shape: (4, 1)</small><table border=\"1\" class=\"dataframe\"><thead><tr><th>content</th></tr><tr><td>str</td></tr></thead><tbody><tr><td>&quot;I love it :D I met great and fun people and this …</td></tr><tr><td>&quot;I love Habitica! I&#x27;ve used it for several years, …</td></tr><tr><td>&quot;A lot of work was put into this. I love the idea …</td></tr><tr><td>&quot;Very nice app I downloaded many app but it is the…</td></tr></tbody></table></div>"
      ],
      "text/plain": [
       "shape: (4, 1)\n",
       "┌─────────────────────────────────────────────────────┐\n",
       "│ content                                             │\n",
       "│ ---                                                 │\n",
       "│ str                                                 │\n",
       "╞═════════════════════════════════════════════════════╡\n",
       "│ I love it :D I met great and fun people and this i… │\n",
       "│ I love Habitica! I've used it for several years, b… │\n",
       "│ A lot of work was put into this. I love the idea o… │\n",
       "│ Very nice app I downloaded many app but it is the … │\n",
       "└─────────────────────────────────────────────────────┘"
      ]
     },
     "execution_count": 90,
     "metadata": {},
     "output_type": "execute_result"
    }
   ],
   "source": [
    "(\n",
    "    df\n",
    "    .filter(pl.col('content').str.count_matches('very happy|best app|I love') > 2)\n",
    "    .select('content')\n",
    ")"
   ]
  },
  {
   "cell_type": "code",
   "execution_count": 91,
   "metadata": {},
   "outputs": [
    {
     "data": {
      "text/html": [
       "<div><style>\n",
       ".dataframe > thead > tr,\n",
       ".dataframe > tbody > tr {\n",
       "  text-align: right;\n",
       "  white-space: pre-wrap;\n",
       "}\n",
       "</style>\n",
       "<small>shape: (5, 1)</small><table border=\"1\" class=\"dataframe\"><thead><tr><th>userName</th></tr><tr><td>str</td></tr></thead><tbody><tr><td>&quot;Sudhakar .S&quot;</td></tr><tr><td>&quot;SKGflorida@bellsouth.net DAVID S&quot;</td></tr><tr><td>&quot;Louann Stoker&quot;</td></tr><tr><td>&quot;Jon Clemens&quot;</td></tr><tr><td>&quot;I Dewa Gede Nopi Ariana&quot;</td></tr></tbody></table></div>"
      ],
      "text/plain": [
       "shape: (5, 1)\n",
       "┌──────────────────────────────────┐\n",
       "│ userName                         │\n",
       "│ ---                              │\n",
       "│ str                              │\n",
       "╞══════════════════════════════════╡\n",
       "│ Sudhakar .S                      │\n",
       "│ SKGflorida@bellsouth.net DAVID S │\n",
       "│ Louann Stoker                    │\n",
       "│ Jon Clemens                      │\n",
       "│ I Dewa Gede Nopi Ariana          │\n",
       "└──────────────────────────────────┘"
      ]
     },
     "execution_count": 91,
     "metadata": {},
     "output_type": "execute_result"
    }
   ],
   "source": [
    "( \n",
    "    df \n",
    "    .filter(pl.col('userName').str.len_chars() > 10) \n",
    "    .select('userName') \n",
    "    .head() \n",
    ") "
   ]
  },
  {
   "cell_type": "markdown",
   "metadata": {},
   "source": [
    "## Converting strings into date, time, and datetime "
   ]
  },
  {
   "cell_type": "markdown",
   "metadata": {},
   "source": [
    "### How to do it..."
   ]
  },
  {
   "cell_type": "code",
   "execution_count": 92,
   "metadata": {},
   "outputs": [
    {
     "data": {
      "text/html": [
       "<div><style>\n",
       ".dataframe > thead > tr,\n",
       ".dataframe > tbody > tr {\n",
       "  text-align: right;\n",
       "  white-space: pre-wrap;\n",
       "}\n",
       "</style>\n",
       "<small>shape: (5, 12)</small><table border=\"1\" class=\"dataframe\"><thead><tr><th>reviewId</th><th>userName</th><th>userImage</th><th>content</th><th>score</th><th>thumbsUpCount</th><th>reviewCreatedVersion</th><th>at</th><th>replyContent</th><th>repliedAt</th><th>sortOrder</th><th>appId</th></tr><tr><td>str</td><td>str</td><td>str</td><td>str</td><td>i64</td><td>i64</td><td>str</td><td>str</td><td>str</td><td>str</td><td>str</td><td>str</td></tr></thead><tbody><tr><td>&quot;gp:AOqpTOEhZuqSqqWnaKRgv-9ABYdajFUB0WugPGh-SG-fgH…</td><td>&quot;Eric Tie&quot;</td><td>&quot;https://play-lh.googleusercontent.com/a-/AOh14GiG…</td><td>&quot;I cannot open the app anymore&quot;</td><td>1</td><td>0</td><td>&quot;5.4.0.6&quot;</td><td>&quot;2020-10-27 21:24:41&quot;</td><td>null</td><td>null</td><td>&quot;newest&quot;</td><td>&quot;com.anydo&quot;</td></tr><tr><td>&quot;gp:AOqpTOH0WP4IQKBZ2LrdNmFy_YmpPCVrV3diEU9KGm3fAX…</td><td>&quot;john alpha&quot;</td><td>&quot;https://play-lh.googleusercontent.com/a-/AOh14Gjp…</td><td>&quot;I have been begging for a refund from this app fo…</td><td>1</td><td>0</td><td>null</td><td>&quot;2020-10-27 14:03:28&quot;</td><td>&quot;Please note that from checking our records, your …</td><td>&quot;2020-10-27 15:05:52&quot;</td><td>&quot;newest&quot;</td><td>&quot;com.anydo&quot;</td></tr><tr><td>&quot;gp:AOqpTOEMCkJB8Iq1p-r9dPwnSYadA5BkPWTf32Z1azuuTv…</td><td>&quot;Sudhakar .S&quot;</td><td>&quot;https://play-lh.googleusercontent.com/a-/AOh14Gid…</td><td>&quot;Very costly for the premium version (approx India…</td><td>1</td><td>0</td><td>null</td><td>&quot;2020-10-27 08:18:40&quot;</td><td>null</td><td>null</td><td>&quot;newest&quot;</td><td>&quot;com.anydo&quot;</td></tr><tr><td>&quot;gp:AOqpTOGFrUWuKGycpje8kszj3uwHN6tU_fd4gLVFy9z7hf…</td><td>&quot;SKGflorida@bellsouth.net DAVID S&quot;</td><td>&quot;https://play-lh.googleusercontent.com/-75aK0WFnia…</td><td>&quot;Used to keep me organized, but all the 2020 UPDAT…</td><td>1</td><td>0</td><td>null</td><td>&quot;2020-10-26 13:28:07&quot;</td><td>&quot;What do you find troublesome about the update? We…</td><td>&quot;2020-10-26 14:58:29&quot;</td><td>&quot;newest&quot;</td><td>&quot;com.anydo&quot;</td></tr><tr><td>&quot;gp:AOqpTOHls7DW8wmDFzTkHwxuqFkdNQtKHmO6Pt9jhZEQ0Q…</td><td>&quot;Louann Stoker&quot;</td><td>&quot;https://play-lh.googleusercontent.com/-pBcY_Z-qfB…</td><td>&quot;Dan Birthday Oct 28&quot;</td><td>1</td><td>0</td><td>&quot;5.6.0.7&quot;</td><td>&quot;2020-10-26 06:10:50&quot;</td><td>null</td><td>null</td><td>&quot;newest&quot;</td><td>&quot;com.anydo&quot;</td></tr></tbody></table></div>"
      ],
      "text/plain": [
       "shape: (5, 12)\n",
       "┌───────────┬───────────┬───────────┬───────────┬───┬───────────┬───────────┬───────────┬──────────┐\n",
       "│ reviewId  ┆ userName  ┆ userImage ┆ content   ┆ … ┆ replyCont ┆ repliedAt ┆ sortOrder ┆ appId    │\n",
       "│ ---       ┆ ---       ┆ ---       ┆ ---       ┆   ┆ ent       ┆ ---       ┆ ---       ┆ ---      │\n",
       "│ str       ┆ str       ┆ str       ┆ str       ┆   ┆ ---       ┆ str       ┆ str       ┆ str      │\n",
       "│           ┆           ┆           ┆           ┆   ┆ str       ┆           ┆           ┆          │\n",
       "╞═══════════╪═══════════╪═══════════╪═══════════╪═══╪═══════════╪═══════════╪═══════════╪══════════╡\n",
       "│ gp:AOqpTO ┆ Eric Tie  ┆ https://p ┆ I cannot  ┆ … ┆ null      ┆ null      ┆ newest    ┆ com.anyd │\n",
       "│ EhZuqSqqW ┆           ┆ lay-lh.go ┆ open the  ┆   ┆           ┆           ┆           ┆ o        │\n",
       "│ naKRgv-9A ┆           ┆ ogleuserc ┆ app       ┆   ┆           ┆           ┆           ┆          │\n",
       "│ BYdajFUB0 ┆           ┆ ontent.co ┆ anymore   ┆   ┆           ┆           ┆           ┆          │\n",
       "│ WugPGh-SG ┆           ┆ m/a-/AOh1 ┆           ┆   ┆           ┆           ┆           ┆          │\n",
       "│ -fgH3…    ┆           ┆ 4GiGE…    ┆           ┆   ┆           ┆           ┆           ┆          │\n",
       "│ gp:AOqpTO ┆ john      ┆ https://p ┆ I have    ┆ … ┆ Please    ┆ 2020-10-2 ┆ newest    ┆ com.anyd │\n",
       "│ H0WP4IQKB ┆ alpha     ┆ lay-lh.go ┆ been      ┆   ┆ note that ┆ 7         ┆           ┆ o        │\n",
       "│ Z2LrdNmFy ┆           ┆ ogleuserc ┆ begging   ┆   ┆ from      ┆ 15:05:52  ┆           ┆          │\n",
       "│ _YmpPCVrV ┆           ┆ ontent.co ┆ for a     ┆   ┆ checking  ┆           ┆           ┆          │\n",
       "│ 3diEU9KGm ┆           ┆ m/a-/AOh1 ┆ refund    ┆   ┆ our       ┆           ┆           ┆          │\n",
       "│ 3fAX6…    ┆           ┆ 4Gjpf…    ┆ from this ┆   ┆ records,  ┆           ┆           ┆          │\n",
       "│           ┆           ┆           ┆ app for…  ┆   ┆ your e…   ┆           ┆           ┆          │\n",
       "│ gp:AOqpTO ┆ Sudhakar  ┆ https://p ┆ Very      ┆ … ┆ null      ┆ null      ┆ newest    ┆ com.anyd │\n",
       "│ EMCkJB8Iq ┆ .S        ┆ lay-lh.go ┆ costly    ┆   ┆           ┆           ┆           ┆ o        │\n",
       "│ 1p-r9dPwn ┆           ┆ ogleuserc ┆ for the   ┆   ┆           ┆           ┆           ┆          │\n",
       "│ SYadA5BkP ┆           ┆ ontent.co ┆ premium   ┆   ┆           ┆           ┆           ┆          │\n",
       "│ WTf32Z1az ┆           ┆ m/a-/AOh1 ┆ version   ┆   ┆           ┆           ┆           ┆          │\n",
       "│ uuTvq…    ┆           ┆ 4GidH…    ┆ (approx   ┆   ┆           ┆           ┆           ┆          │\n",
       "│           ┆           ┆           ┆ Indian…   ┆   ┆           ┆           ┆           ┆          │\n",
       "│ gp:AOqpTO ┆ SKGflorid ┆ https://p ┆ Used to   ┆ … ┆ What do   ┆ 2020-10-2 ┆ newest    ┆ com.anyd │\n",
       "│ GFrUWuKGy ┆ a@bellsou ┆ lay-lh.go ┆ keep me   ┆   ┆ you find  ┆ 6         ┆           ┆ o        │\n",
       "│ cpje8kszj ┆ th.net    ┆ ogleuserc ┆ organized ┆   ┆ troubleso ┆ 14:58:29  ┆           ┆          │\n",
       "│ 3uwHN6tU_ ┆ DAVID S   ┆ ontent.co ┆ , but all ┆   ┆ me about  ┆           ┆           ┆          │\n",
       "│ fd4gLVFy9 ┆           ┆ m/-75aK0W ┆ the 2020  ┆   ┆ the       ┆           ┆           ┆          │\n",
       "│ z7hfG…    ┆           ┆ Fniac…    ┆ UPDATE…   ┆   ┆ update?   ┆           ┆           ┆          │\n",
       "│           ┆           ┆           ┆           ┆   ┆ We'…      ┆           ┆           ┆          │\n",
       "│ gp:AOqpTO ┆ Louann    ┆ https://p ┆ Dan       ┆ … ┆ null      ┆ null      ┆ newest    ┆ com.anyd │\n",
       "│ Hls7DW8wm ┆ Stoker    ┆ lay-lh.go ┆ Birthday  ┆   ┆           ┆           ┆           ┆ o        │\n",
       "│ DFzTkHwxu ┆           ┆ ogleuserc ┆ Oct 28    ┆   ┆           ┆           ┆           ┆          │\n",
       "│ qFkdNQtKH ┆           ┆ ontent.co ┆           ┆   ┆           ┆           ┆           ┆          │\n",
       "│ mO6Pt9jhZ ┆           ┆ m/-pBcY_Z ┆           ┆   ┆           ┆           ┆           ┆          │\n",
       "│ EQ0Q2…    ┆           ┆ -qfB4…    ┆           ┆   ┆           ┆           ┆           ┆          │\n",
       "└───────────┴───────────┴───────────┴───────────┴───┴───────────┴───────────┴───────────┴──────────┘"
      ]
     },
     "execution_count": 92,
     "metadata": {},
     "output_type": "execute_result"
    }
   ],
   "source": [
    "df = pl.read_csv('../data/google_store_reviews.csv')\n",
    "df.head()"
   ]
  },
  {
   "cell_type": "code",
   "execution_count": 98,
   "metadata": {},
   "outputs": [
    {
     "data": {
      "text/html": [
       "<div><style>\n",
       ".dataframe > thead > tr,\n",
       ".dataframe > tbody > tr {\n",
       "  text-align: right;\n",
       "  white-space: pre-wrap;\n",
       "}\n",
       "</style>\n",
       "<small>shape: (5, 2)</small><table border=\"1\" class=\"dataframe\"><thead><tr><th>at</th><th>at(date)</th></tr><tr><td>str</td><td>date</td></tr></thead><tbody><tr><td>&quot;2020-10-27 21:24:41&quot;</td><td>2020-10-27</td></tr><tr><td>&quot;2020-10-27 14:03:28&quot;</td><td>2020-10-27</td></tr><tr><td>&quot;2020-10-27 08:18:40&quot;</td><td>2020-10-27</td></tr><tr><td>&quot;2020-10-26 13:28:07&quot;</td><td>2020-10-26</td></tr><tr><td>&quot;2020-10-26 06:10:50&quot;</td><td>2020-10-26</td></tr></tbody></table></div>"
      ],
      "text/plain": [
       "shape: (5, 2)\n",
       "┌─────────────────────┬────────────┐\n",
       "│ at                  ┆ at(date)   │\n",
       "│ ---                 ┆ ---        │\n",
       "│ str                 ┆ date       │\n",
       "╞═════════════════════╪════════════╡\n",
       "│ 2020-10-27 21:24:41 ┆ 2020-10-27 │\n",
       "│ 2020-10-27 14:03:28 ┆ 2020-10-27 │\n",
       "│ 2020-10-27 08:18:40 ┆ 2020-10-27 │\n",
       "│ 2020-10-26 13:28:07 ┆ 2020-10-26 │\n",
       "│ 2020-10-26 06:10:50 ┆ 2020-10-26 │\n",
       "└─────────────────────┴────────────┘"
      ]
     },
     "execution_count": 98,
     "metadata": {},
     "output_type": "execute_result"
    }
   ],
   "source": [
    "df.select(\n",
    "    'at',\n",
    "    pl.col('at').str.to_date(format='%Y-%m-%d %H:%M:%S').alias('at(date)')\n",
    ").head()"
   ]
  },
  {
   "cell_type": "code",
   "execution_count": 99,
   "metadata": {},
   "outputs": [
    {
     "data": {
      "text/html": [
       "<div><style>\n",
       ".dataframe > thead > tr,\n",
       ".dataframe > tbody > tr {\n",
       "  text-align: right;\n",
       "  white-space: pre-wrap;\n",
       "}\n",
       "</style>\n",
       "<small>shape: (5, 2)</small><table border=\"1\" class=\"dataframe\"><thead><tr><th>at</th><th>at(time)</th></tr><tr><td>str</td><td>time</td></tr></thead><tbody><tr><td>&quot;2020-10-27 21:24:41&quot;</td><td>21:24:41</td></tr><tr><td>&quot;2020-10-27 14:03:28&quot;</td><td>14:03:28</td></tr><tr><td>&quot;2020-10-27 08:18:40&quot;</td><td>08:18:40</td></tr><tr><td>&quot;2020-10-26 13:28:07&quot;</td><td>13:28:07</td></tr><tr><td>&quot;2020-10-26 06:10:50&quot;</td><td>06:10:50</td></tr></tbody></table></div>"
      ],
      "text/plain": [
       "shape: (5, 2)\n",
       "┌─────────────────────┬──────────┐\n",
       "│ at                  ┆ at(time) │\n",
       "│ ---                 ┆ ---      │\n",
       "│ str                 ┆ time     │\n",
       "╞═════════════════════╪══════════╡\n",
       "│ 2020-10-27 21:24:41 ┆ 21:24:41 │\n",
       "│ 2020-10-27 14:03:28 ┆ 14:03:28 │\n",
       "│ 2020-10-27 08:18:40 ┆ 08:18:40 │\n",
       "│ 2020-10-26 13:28:07 ┆ 13:28:07 │\n",
       "│ 2020-10-26 06:10:50 ┆ 06:10:50 │\n",
       "└─────────────────────┴──────────┘"
      ]
     },
     "execution_count": 99,
     "metadata": {},
     "output_type": "execute_result"
    }
   ],
   "source": [
    "df.select(\n",
    "    'at',\n",
    "    pl.col('at').str.to_time(format='%Y-%m-%d %H:%M:%S').alias('at(time)')\n",
    ").head()"
   ]
  },
  {
   "cell_type": "code",
   "execution_count": 111,
   "metadata": {},
   "outputs": [
    {
     "data": {
      "text/html": [
       "<div><style>\n",
       ".dataframe > thead > tr,\n",
       ".dataframe > tbody > tr {\n",
       "  text-align: right;\n",
       "  white-space: pre-wrap;\n",
       "}\n",
       "</style>\n",
       "<small>shape: (5, 2)</small><table border=\"1\" class=\"dataframe\"><thead><tr><th>at</th><th>at(datetime)</th></tr><tr><td>str</td><td>datetime[μs]</td></tr></thead><tbody><tr><td>&quot;2020-10-27 21:24:41&quot;</td><td>2020-10-27 21:24:41</td></tr><tr><td>&quot;2020-10-27 14:03:28&quot;</td><td>2020-10-27 14:03:28</td></tr><tr><td>&quot;2020-10-27 08:18:40&quot;</td><td>2020-10-27 08:18:40</td></tr><tr><td>&quot;2020-10-26 13:28:07&quot;</td><td>2020-10-26 13:28:07</td></tr><tr><td>&quot;2020-10-26 06:10:50&quot;</td><td>2020-10-26 06:10:50</td></tr></tbody></table></div>"
      ],
      "text/plain": [
       "shape: (5, 2)\n",
       "┌─────────────────────┬─────────────────────┐\n",
       "│ at                  ┆ at(datetime)        │\n",
       "│ ---                 ┆ ---                 │\n",
       "│ str                 ┆ datetime[μs]        │\n",
       "╞═════════════════════╪═════════════════════╡\n",
       "│ 2020-10-27 21:24:41 ┆ 2020-10-27 21:24:41 │\n",
       "│ 2020-10-27 14:03:28 ┆ 2020-10-27 14:03:28 │\n",
       "│ 2020-10-27 08:18:40 ┆ 2020-10-27 08:18:40 │\n",
       "│ 2020-10-26 13:28:07 ┆ 2020-10-26 13:28:07 │\n",
       "│ 2020-10-26 06:10:50 ┆ 2020-10-26 06:10:50 │\n",
       "└─────────────────────┴─────────────────────┘"
      ]
     },
     "execution_count": 111,
     "metadata": {},
     "output_type": "execute_result"
    }
   ],
   "source": [
    "df.select(\n",
    "    'at',\n",
    "    pl.col('at').str.to_datetime(format='%Y-%m-%d %H:%M:%S').alias('at(datetime)')\n",
    ").head()"
   ]
  },
  {
   "cell_type": "code",
   "execution_count": 110,
   "metadata": {},
   "outputs": [
    {
     "data": {
      "text/html": [
       "<div><style>\n",
       ".dataframe > thead > tr,\n",
       ".dataframe > tbody > tr {\n",
       "  text-align: right;\n",
       "  white-space: pre-wrap;\n",
       "}\n",
       "</style>\n",
       "<small>shape: (5, 4)</small><table border=\"1\" class=\"dataframe\"><thead><tr><th>at</th><th>at(date)</th><th>at(time)</th><th>at(datetime)</th></tr><tr><td>str</td><td>date</td><td>time</td><td>datetime[μs]</td></tr></thead><tbody><tr><td>&quot;2020-10-27 21:24:41&quot;</td><td>2020-10-27</td><td>21:24:41</td><td>2020-10-27 21:24:41</td></tr><tr><td>&quot;2020-10-27 14:03:28&quot;</td><td>2020-10-27</td><td>14:03:28</td><td>2020-10-27 14:03:28</td></tr><tr><td>&quot;2020-10-27 08:18:40&quot;</td><td>2020-10-27</td><td>08:18:40</td><td>2020-10-27 08:18:40</td></tr><tr><td>&quot;2020-10-26 13:28:07&quot;</td><td>2020-10-26</td><td>13:28:07</td><td>2020-10-26 13:28:07</td></tr><tr><td>&quot;2020-10-26 06:10:50&quot;</td><td>2020-10-26</td><td>06:10:50</td><td>2020-10-26 06:10:50</td></tr></tbody></table></div>"
      ],
      "text/plain": [
       "shape: (5, 4)\n",
       "┌─────────────────────┬────────────┬──────────┬─────────────────────┐\n",
       "│ at                  ┆ at(date)   ┆ at(time) ┆ at(datetime)        │\n",
       "│ ---                 ┆ ---        ┆ ---      ┆ ---                 │\n",
       "│ str                 ┆ date       ┆ time     ┆ datetime[μs]        │\n",
       "╞═════════════════════╪════════════╪══════════╪═════════════════════╡\n",
       "│ 2020-10-27 21:24:41 ┆ 2020-10-27 ┆ 21:24:41 ┆ 2020-10-27 21:24:41 │\n",
       "│ 2020-10-27 14:03:28 ┆ 2020-10-27 ┆ 14:03:28 ┆ 2020-10-27 14:03:28 │\n",
       "│ 2020-10-27 08:18:40 ┆ 2020-10-27 ┆ 08:18:40 ┆ 2020-10-27 08:18:40 │\n",
       "│ 2020-10-26 13:28:07 ┆ 2020-10-26 ┆ 13:28:07 ┆ 2020-10-26 13:28:07 │\n",
       "│ 2020-10-26 06:10:50 ┆ 2020-10-26 ┆ 06:10:50 ┆ 2020-10-26 06:10:50 │\n",
       "└─────────────────────┴────────────┴──────────┴─────────────────────┘"
      ]
     },
     "execution_count": 110,
     "metadata": {},
     "output_type": "execute_result"
    }
   ],
   "source": [
    "df.select(\n",
    "    'at',\n",
    "    pl.col('at').str.strptime(pl.Date, '%Y-%m-%d %H:%M:%S').alias('at(date)'),\n",
    "    pl.col('at').str.strptime(pl.Time, '%Y-%m-%d %H:%M:%S').alias('at(time)'),\n",
    "    pl.col('at').str.strptime(pl.Datetime, '%Y-%m-%d %H:%M:%S').alias('at(datetime)')\n",
    ").head()"
   ]
  },
  {
   "cell_type": "code",
   "execution_count": null,
   "metadata": {},
   "outputs": [],
   "source": []
  }
 ],
 "metadata": {
  "kernelspec": {
   "display_name": ".venv",
   "language": "python",
   "name": "python3"
  },
  "language_info": {
   "codemirror_mode": {
    "name": "ipython",
    "version": 3
   },
   "file_extension": ".py",
   "mimetype": "text/x-python",
   "name": "python",
   "nbconvert_exporter": "python",
   "pygments_lexer": "ipython3",
   "version": "3.11.3"
  }
 },
 "nbformat": 4,
 "nbformat_minor": 2
}
