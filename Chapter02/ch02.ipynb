{
 "cells": [
  {
   "cell_type": "markdown",
   "metadata": {},
   "source": [
    "# Chapter 2: Reading and Writing Files"
   ]
  },
  {
   "cell_type": "markdown",
   "metadata": {},
   "source": [
    "## Reading and writing CSV files"
   ]
  },
  {
   "cell_type": "markdown",
   "metadata": {},
   "source": [
    "### Getting ready"
   ]
  },
  {
   "cell_type": "code",
   "execution_count": 56,
   "metadata": {},
   "outputs": [],
   "source": [
    "import polars as pl"
   ]
  },
  {
   "cell_type": "markdown",
   "metadata": {},
   "source": [
    "### How to do it..."
   ]
  },
  {
   "cell_type": "code",
   "execution_count": 28,
   "metadata": {},
   "outputs": [
    {
     "data": {
      "text/html": [
       "<div><style>\n",
       ".dataframe > thead > tr > th,\n",
       ".dataframe > tbody > tr > td {\n",
       "  text-align: right;\n",
       "  white-space: pre-wrap;\n",
       "}\n",
       "</style>\n",
       "<small>shape: (5, 10)</small><table border=\"1\" class=\"dataframe\"><thead><tr><th>invoice_no</th><th>customer_id</th><th>gender</th><th>age</th><th>category</th><th>quantity</th><th>price</th><th>payment_method</th><th>invoice_date</th><th>shopping_mall</th></tr><tr><td>str</td><td>str</td><td>str</td><td>i64</td><td>str</td><td>i64</td><td>f64</td><td>str</td><td>str</td><td>str</td></tr></thead><tbody><tr><td>&quot;I138884&quot;</td><td>&quot;C241288&quot;</td><td>&quot;Female&quot;</td><td>28</td><td>&quot;Clothing&quot;</td><td>5</td><td>1500.4</td><td>&quot;Credit Card&quot;</td><td>&quot;5/8/2022&quot;</td><td>&quot;Kanyon&quot;</td></tr><tr><td>&quot;I317333&quot;</td><td>&quot;C111565&quot;</td><td>&quot;Male&quot;</td><td>21</td><td>&quot;Shoes&quot;</td><td>3</td><td>1800.51</td><td>&quot;Debit Card&quot;</td><td>&quot;12/12/2021&quot;</td><td>&quot;Forum Istanbul…</td></tr><tr><td>&quot;I127801&quot;</td><td>&quot;C266599&quot;</td><td>&quot;Male&quot;</td><td>20</td><td>&quot;Clothing&quot;</td><td>1</td><td>300.08</td><td>&quot;Cash&quot;</td><td>&quot;9/11/2021&quot;</td><td>&quot;Metrocity&quot;</td></tr><tr><td>&quot;I173702&quot;</td><td>&quot;C988172&quot;</td><td>&quot;Female&quot;</td><td>66</td><td>&quot;Shoes&quot;</td><td>5</td><td>3000.85</td><td>&quot;Credit Card&quot;</td><td>&quot;16/05/2021&quot;</td><td>&quot;Metropol AVM&quot;</td></tr><tr><td>&quot;I337046&quot;</td><td>&quot;C189076&quot;</td><td>&quot;Female&quot;</td><td>53</td><td>&quot;Books&quot;</td><td>4</td><td>60.6</td><td>&quot;Cash&quot;</td><td>&quot;24/10/2021&quot;</td><td>&quot;Kanyon&quot;</td></tr></tbody></table></div>"
      ],
      "text/plain": [
       "shape: (5, 10)\n",
       "┌────────────┬─────────────┬────────┬─────┬───┬─────────┬──────────────┬─────────────┬─────────────┐\n",
       "│ invoice_no ┆ customer_id ┆ gender ┆ age ┆ … ┆ price   ┆ payment_meth ┆ invoice_dat ┆ shopping_ma │\n",
       "│ ---        ┆ ---         ┆ ---    ┆ --- ┆   ┆ ---     ┆ od           ┆ e           ┆ ll          │\n",
       "│ str        ┆ str         ┆ str    ┆ i64 ┆   ┆ f64     ┆ ---          ┆ ---         ┆ ---         │\n",
       "│            ┆             ┆        ┆     ┆   ┆         ┆ str          ┆ str         ┆ str         │\n",
       "╞════════════╪═════════════╪════════╪═════╪═══╪═════════╪══════════════╪═════════════╪═════════════╡\n",
       "│ I138884    ┆ C241288     ┆ Female ┆ 28  ┆ … ┆ 1500.4  ┆ Credit Card  ┆ 5/8/2022    ┆ Kanyon      │\n",
       "│ I317333    ┆ C111565     ┆ Male   ┆ 21  ┆ … ┆ 1800.51 ┆ Debit Card   ┆ 12/12/2021  ┆ Forum       │\n",
       "│            ┆             ┆        ┆     ┆   ┆         ┆              ┆             ┆ Istanbul    │\n",
       "│ I127801    ┆ C266599     ┆ Male   ┆ 20  ┆ … ┆ 300.08  ┆ Cash         ┆ 9/11/2021   ┆ Metrocity   │\n",
       "│ I173702    ┆ C988172     ┆ Female ┆ 66  ┆ … ┆ 3000.85 ┆ Credit Card  ┆ 16/05/2021  ┆ Metropol    │\n",
       "│            ┆             ┆        ┆     ┆   ┆         ┆              ┆             ┆ AVM         │\n",
       "│ I337046    ┆ C189076     ┆ Female ┆ 53  ┆ … ┆ 60.6    ┆ Cash         ┆ 24/10/2021  ┆ Kanyon      │\n",
       "└────────────┴─────────────┴────────┴─────┴───┴─────────┴──────────────┴─────────────┴─────────────┘"
      ]
     },
     "execution_count": 28,
     "metadata": {},
     "output_type": "execute_result"
    }
   ],
   "source": [
    "df = pl.read_csv('../data/customer_shopping_data.csv')\n",
    "df.head()"
   ]
  },
  {
   "cell_type": "code",
   "execution_count": 24,
   "metadata": {},
   "outputs": [
    {
     "data": {
      "text/html": [
       "<div><style>\n",
       ".dataframe > thead > tr > th,\n",
       ".dataframe > tbody > tr > td {\n",
       "  text-align: right;\n",
       "  white-space: pre-wrap;\n",
       "}\n",
       "</style>\n",
       "<small>shape: (5, 10)</small><table border=\"1\" class=\"dataframe\"><thead><tr><th>I138884</th><th>C241288</th><th>Female</th><th>28</th><th>Clothing</th><th>5</th><th>1500.4</th><th>Credit Card</th><th>5/8/2022</th><th>Kanyon</th></tr><tr><td>str</td><td>str</td><td>str</td><td>i64</td><td>str</td><td>i64</td><td>f64</td><td>str</td><td>str</td><td>str</td></tr></thead><tbody><tr><td>&quot;I317333&quot;</td><td>&quot;C111565&quot;</td><td>&quot;Male&quot;</td><td>21</td><td>&quot;Shoes&quot;</td><td>3</td><td>1800.51</td><td>&quot;Debit Card&quot;</td><td>&quot;12/12/2021&quot;</td><td>&quot;Forum Istanbul…</td></tr><tr><td>&quot;I127801&quot;</td><td>&quot;C266599&quot;</td><td>&quot;Male&quot;</td><td>20</td><td>&quot;Clothing&quot;</td><td>1</td><td>300.08</td><td>&quot;Cash&quot;</td><td>&quot;9/11/2021&quot;</td><td>&quot;Metrocity&quot;</td></tr><tr><td>&quot;I173702&quot;</td><td>&quot;C988172&quot;</td><td>&quot;Female&quot;</td><td>66</td><td>&quot;Shoes&quot;</td><td>5</td><td>3000.85</td><td>&quot;Credit Card&quot;</td><td>&quot;16/05/2021&quot;</td><td>&quot;Metropol AVM&quot;</td></tr><tr><td>&quot;I337046&quot;</td><td>&quot;C189076&quot;</td><td>&quot;Female&quot;</td><td>53</td><td>&quot;Books&quot;</td><td>4</td><td>60.6</td><td>&quot;Cash&quot;</td><td>&quot;24/10/2021&quot;</td><td>&quot;Kanyon&quot;</td></tr><tr><td>&quot;I227836&quot;</td><td>&quot;C657758&quot;</td><td>&quot;Female&quot;</td><td>28</td><td>&quot;Clothing&quot;</td><td>5</td><td>1500.4</td><td>&quot;Credit Card&quot;</td><td>&quot;24/05/2022&quot;</td><td>&quot;Forum Istanbul…</td></tr></tbody></table></div>"
      ],
      "text/plain": [
       "shape: (5, 10)\n",
       "┌─────────┬─────────┬────────┬─────┬───┬─────────┬─────────────┬────────────┬────────────────┐\n",
       "│ I138884 ┆ C241288 ┆ Female ┆ 28  ┆ … ┆ 1500.4  ┆ Credit Card ┆ 5/8/2022   ┆ Kanyon         │\n",
       "│ ---     ┆ ---     ┆ ---    ┆ --- ┆   ┆ ---     ┆ ---         ┆ ---        ┆ ---            │\n",
       "│ str     ┆ str     ┆ str    ┆ i64 ┆   ┆ f64     ┆ str         ┆ str        ┆ str            │\n",
       "╞═════════╪═════════╪════════╪═════╪═══╪═════════╪═════════════╪════════════╪════════════════╡\n",
       "│ I317333 ┆ C111565 ┆ Male   ┆ 21  ┆ … ┆ 1800.51 ┆ Debit Card  ┆ 12/12/2021 ┆ Forum Istanbul │\n",
       "│ I127801 ┆ C266599 ┆ Male   ┆ 20  ┆ … ┆ 300.08  ┆ Cash        ┆ 9/11/2021  ┆ Metrocity      │\n",
       "│ I173702 ┆ C988172 ┆ Female ┆ 66  ┆ … ┆ 3000.85 ┆ Credit Card ┆ 16/05/2021 ┆ Metropol AVM   │\n",
       "│ I337046 ┆ C189076 ┆ Female ┆ 53  ┆ … ┆ 60.6    ┆ Cash        ┆ 24/10/2021 ┆ Kanyon         │\n",
       "│ I227836 ┆ C657758 ┆ Female ┆ 28  ┆ … ┆ 1500.4  ┆ Credit Card ┆ 24/05/2022 ┆ Forum Istanbul │\n",
       "└─────────┴─────────┴────────┴─────┴───┴─────────┴─────────────┴────────────┴────────────────┘"
      ]
     },
     "execution_count": 24,
     "metadata": {},
     "output_type": "execute_result"
    }
   ],
   "source": [
    "df = pl.read_csv('../data/customer_shopping_data_no_header.csv')\n",
    "df.head()"
   ]
  },
  {
   "cell_type": "code",
   "execution_count": 25,
   "metadata": {},
   "outputs": [
    {
     "data": {
      "text/html": [
       "<div><style>\n",
       ".dataframe > thead > tr > th,\n",
       ".dataframe > tbody > tr > td {\n",
       "  text-align: right;\n",
       "  white-space: pre-wrap;\n",
       "}\n",
       "</style>\n",
       "<small>shape: (5, 10)</small><table border=\"1\" class=\"dataframe\"><thead><tr><th>column_1</th><th>column_2</th><th>column_3</th><th>column_4</th><th>column_5</th><th>column_6</th><th>column_7</th><th>column_8</th><th>column_9</th><th>column_10</th></tr><tr><td>str</td><td>str</td><td>str</td><td>i64</td><td>str</td><td>i64</td><td>f64</td><td>str</td><td>str</td><td>str</td></tr></thead><tbody><tr><td>&quot;I138884&quot;</td><td>&quot;C241288&quot;</td><td>&quot;Female&quot;</td><td>28</td><td>&quot;Clothing&quot;</td><td>5</td><td>1500.4</td><td>&quot;Credit Card&quot;</td><td>&quot;5/8/2022&quot;</td><td>&quot;Kanyon&quot;</td></tr><tr><td>&quot;I317333&quot;</td><td>&quot;C111565&quot;</td><td>&quot;Male&quot;</td><td>21</td><td>&quot;Shoes&quot;</td><td>3</td><td>1800.51</td><td>&quot;Debit Card&quot;</td><td>&quot;12/12/2021&quot;</td><td>&quot;Forum Istanbul…</td></tr><tr><td>&quot;I127801&quot;</td><td>&quot;C266599&quot;</td><td>&quot;Male&quot;</td><td>20</td><td>&quot;Clothing&quot;</td><td>1</td><td>300.08</td><td>&quot;Cash&quot;</td><td>&quot;9/11/2021&quot;</td><td>&quot;Metrocity&quot;</td></tr><tr><td>&quot;I173702&quot;</td><td>&quot;C988172&quot;</td><td>&quot;Female&quot;</td><td>66</td><td>&quot;Shoes&quot;</td><td>5</td><td>3000.85</td><td>&quot;Credit Card&quot;</td><td>&quot;16/05/2021&quot;</td><td>&quot;Metropol AVM&quot;</td></tr><tr><td>&quot;I337046&quot;</td><td>&quot;C189076&quot;</td><td>&quot;Female&quot;</td><td>53</td><td>&quot;Books&quot;</td><td>4</td><td>60.6</td><td>&quot;Cash&quot;</td><td>&quot;24/10/2021&quot;</td><td>&quot;Kanyon&quot;</td></tr></tbody></table></div>"
      ],
      "text/plain": [
       "shape: (5, 10)\n",
       "┌──────────┬──────────┬──────────┬──────────┬───┬──────────┬─────────────┬────────────┬────────────┐\n",
       "│ column_1 ┆ column_2 ┆ column_3 ┆ column_4 ┆ … ┆ column_7 ┆ column_8    ┆ column_9   ┆ column_10  │\n",
       "│ ---      ┆ ---      ┆ ---      ┆ ---      ┆   ┆ ---      ┆ ---         ┆ ---        ┆ ---        │\n",
       "│ str      ┆ str      ┆ str      ┆ i64      ┆   ┆ f64      ┆ str         ┆ str        ┆ str        │\n",
       "╞══════════╪══════════╪══════════╪══════════╪═══╪══════════╪═════════════╪════════════╪════════════╡\n",
       "│ I138884  ┆ C241288  ┆ Female   ┆ 28       ┆ … ┆ 1500.4   ┆ Credit Card ┆ 5/8/2022   ┆ Kanyon     │\n",
       "│ I317333  ┆ C111565  ┆ Male     ┆ 21       ┆ … ┆ 1800.51  ┆ Debit Card  ┆ 12/12/2021 ┆ Forum      │\n",
       "│          ┆          ┆          ┆          ┆   ┆          ┆             ┆            ┆ Istanbul   │\n",
       "│ I127801  ┆ C266599  ┆ Male     ┆ 20       ┆ … ┆ 300.08   ┆ Cash        ┆ 9/11/2021  ┆ Metrocity  │\n",
       "│ I173702  ┆ C988172  ┆ Female   ┆ 66       ┆ … ┆ 3000.85  ┆ Credit Card ┆ 16/05/2021 ┆ Metropol   │\n",
       "│          ┆          ┆          ┆          ┆   ┆          ┆             ┆            ┆ AVM        │\n",
       "│ I337046  ┆ C189076  ┆ Female   ┆ 53       ┆ … ┆ 60.6     ┆ Cash        ┆ 24/10/2021 ┆ Kanyon     │\n",
       "└──────────┴──────────┴──────────┴──────────┴───┴──────────┴─────────────┴────────────┴────────────┘"
      ]
     },
     "execution_count": 25,
     "metadata": {},
     "output_type": "execute_result"
    }
   ],
   "source": [
    "df = pl.read_csv('../data/customer_shopping_data_no_header.csv', has_header=False)\n",
    "df.head()"
   ]
  },
  {
   "cell_type": "code",
   "execution_count": 30,
   "metadata": {},
   "outputs": [
    {
     "data": {
      "text/html": [
       "<div><style>\n",
       ".dataframe > thead > tr > th,\n",
       ".dataframe > tbody > tr > td {\n",
       "  text-align: right;\n",
       "  white-space: pre-wrap;\n",
       "}\n",
       "</style>\n",
       "<small>shape: (5, 10)</small><table border=\"1\" class=\"dataframe\"><thead><tr><th>invoice_no</th><th>customer_id</th><th>gender</th><th>age</th><th>category</th><th>quantity</th><th>price</th><th>payment_method</th><th>invoice_date</th><th>shopping_mall</th></tr><tr><td>str</td><td>str</td><td>str</td><td>i64</td><td>str</td><td>i64</td><td>f64</td><td>str</td><td>str</td><td>str</td></tr></thead><tbody><tr><td>&quot;I138884&quot;</td><td>&quot;C241288&quot;</td><td>&quot;Female&quot;</td><td>28</td><td>&quot;Clothing&quot;</td><td>5</td><td>1500.4</td><td>&quot;Credit Card&quot;</td><td>&quot;5/8/2022&quot;</td><td>&quot;Kanyon&quot;</td></tr><tr><td>&quot;I317333&quot;</td><td>&quot;C111565&quot;</td><td>&quot;Male&quot;</td><td>21</td><td>&quot;Shoes&quot;</td><td>3</td><td>1800.51</td><td>&quot;Debit Card&quot;</td><td>&quot;12/12/2021&quot;</td><td>&quot;Forum Istanbul…</td></tr><tr><td>&quot;I127801&quot;</td><td>&quot;C266599&quot;</td><td>&quot;Male&quot;</td><td>20</td><td>&quot;Clothing&quot;</td><td>1</td><td>300.08</td><td>&quot;Cash&quot;</td><td>&quot;9/11/2021&quot;</td><td>&quot;Metrocity&quot;</td></tr><tr><td>&quot;I173702&quot;</td><td>&quot;C988172&quot;</td><td>&quot;Female&quot;</td><td>66</td><td>&quot;Shoes&quot;</td><td>5</td><td>3000.85</td><td>&quot;Credit Card&quot;</td><td>&quot;16/05/2021&quot;</td><td>&quot;Metropol AVM&quot;</td></tr><tr><td>&quot;I337046&quot;</td><td>&quot;C189076&quot;</td><td>&quot;Female&quot;</td><td>53</td><td>&quot;Books&quot;</td><td>4</td><td>60.6</td><td>&quot;Cash&quot;</td><td>&quot;24/10/2021&quot;</td><td>&quot;Kanyon&quot;</td></tr></tbody></table></div>"
      ],
      "text/plain": [
       "shape: (5, 10)\n",
       "┌────────────┬─────────────┬────────┬─────┬───┬─────────┬──────────────┬─────────────┬─────────────┐\n",
       "│ invoice_no ┆ customer_id ┆ gender ┆ age ┆ … ┆ price   ┆ payment_meth ┆ invoice_dat ┆ shopping_ma │\n",
       "│ ---        ┆ ---         ┆ ---    ┆ --- ┆   ┆ ---     ┆ od           ┆ e           ┆ ll          │\n",
       "│ str        ┆ str         ┆ str    ┆ i64 ┆   ┆ f64     ┆ ---          ┆ ---         ┆ ---         │\n",
       "│            ┆             ┆        ┆     ┆   ┆         ┆ str          ┆ str         ┆ str         │\n",
       "╞════════════╪═════════════╪════════╪═════╪═══╪═════════╪══════════════╪═════════════╪═════════════╡\n",
       "│ I138884    ┆ C241288     ┆ Female ┆ 28  ┆ … ┆ 1500.4  ┆ Credit Card  ┆ 5/8/2022    ┆ Kanyon      │\n",
       "│ I317333    ┆ C111565     ┆ Male   ┆ 21  ┆ … ┆ 1800.51 ┆ Debit Card   ┆ 12/12/2021  ┆ Forum       │\n",
       "│            ┆             ┆        ┆     ┆   ┆         ┆              ┆             ┆ Istanbul    │\n",
       "│ I127801    ┆ C266599     ┆ Male   ┆ 20  ┆ … ┆ 300.08  ┆ Cash         ┆ 9/11/2021   ┆ Metrocity   │\n",
       "│ I173702    ┆ C988172     ┆ Female ┆ 66  ┆ … ┆ 3000.85 ┆ Credit Card  ┆ 16/05/2021  ┆ Metropol    │\n",
       "│            ┆             ┆        ┆     ┆   ┆         ┆              ┆             ┆ AVM         │\n",
       "│ I337046    ┆ C189076     ┆ Female ┆ 53  ┆ … ┆ 60.6    ┆ Cash         ┆ 24/10/2021  ┆ Kanyon      │\n",
       "└────────────┴─────────────┴────────┴─────┴───┴─────────┴──────────────┴─────────────┴─────────────┘"
      ]
     },
     "execution_count": 30,
     "metadata": {},
     "output_type": "execute_result"
    }
   ],
   "source": [
    "column_names = ['invoice_no', 'customer_id', 'gender', 'age', 'category', 'quantity', 'price', 'payment_method', 'invoice_date', 'shopping_mall']\n",
    "df = pl.read_csv('../data/customer_shopping_data_no_header.csv', \n",
    "                 has_header=False, \n",
    "                 new_columns=column_names)\n",
    "df.head()"
   ]
  },
  {
   "cell_type": "code",
   "execution_count": 31,
   "metadata": {},
   "outputs": [
    {
     "data": {
      "text/html": [
       "<div><style>\n",
       ".dataframe > thead > tr > th,\n",
       ".dataframe > tbody > tr > td {\n",
       "  text-align: right;\n",
       "  white-space: pre-wrap;\n",
       "}\n",
       "</style>\n",
       "<small>shape: (5, 10)</small><table border=\"1\" class=\"dataframe\"><thead><tr><th>invoice_no</th><th>customer_id</th><th>gender</th><th>age</th><th>category</th><th>quantity</th><th>price</th><th>payment_method</th><th>invoice_date</th><th>shopping_mall</th></tr><tr><td>str</td><td>str</td><td>str</td><td>i64</td><td>str</td><td>i64</td><td>f64</td><td>str</td><td>date</td><td>str</td></tr></thead><tbody><tr><td>&quot;I138884&quot;</td><td>&quot;C241288&quot;</td><td>&quot;Female&quot;</td><td>28</td><td>&quot;Clothing&quot;</td><td>5</td><td>1500.4</td><td>&quot;Credit Card&quot;</td><td>2022-08-05</td><td>&quot;Kanyon&quot;</td></tr><tr><td>&quot;I317333&quot;</td><td>&quot;C111565&quot;</td><td>&quot;Male&quot;</td><td>21</td><td>&quot;Shoes&quot;</td><td>3</td><td>1800.51</td><td>&quot;Debit Card&quot;</td><td>2021-12-12</td><td>&quot;Forum Istanbul…</td></tr><tr><td>&quot;I127801&quot;</td><td>&quot;C266599&quot;</td><td>&quot;Male&quot;</td><td>20</td><td>&quot;Clothing&quot;</td><td>1</td><td>300.08</td><td>&quot;Cash&quot;</td><td>2021-11-09</td><td>&quot;Metrocity&quot;</td></tr><tr><td>&quot;I173702&quot;</td><td>&quot;C988172&quot;</td><td>&quot;Female&quot;</td><td>66</td><td>&quot;Shoes&quot;</td><td>5</td><td>3000.85</td><td>&quot;Credit Card&quot;</td><td>2021-05-16</td><td>&quot;Metropol AVM&quot;</td></tr><tr><td>&quot;I337046&quot;</td><td>&quot;C189076&quot;</td><td>&quot;Female&quot;</td><td>53</td><td>&quot;Books&quot;</td><td>4</td><td>60.6</td><td>&quot;Cash&quot;</td><td>2021-10-24</td><td>&quot;Kanyon&quot;</td></tr></tbody></table></div>"
      ],
      "text/plain": [
       "shape: (5, 10)\n",
       "┌────────────┬─────────────┬────────┬─────┬───┬─────────┬──────────────┬─────────────┬─────────────┐\n",
       "│ invoice_no ┆ customer_id ┆ gender ┆ age ┆ … ┆ price   ┆ payment_meth ┆ invoice_dat ┆ shopping_ma │\n",
       "│ ---        ┆ ---         ┆ ---    ┆ --- ┆   ┆ ---     ┆ od           ┆ e           ┆ ll          │\n",
       "│ str        ┆ str         ┆ str    ┆ i64 ┆   ┆ f64     ┆ ---          ┆ ---         ┆ ---         │\n",
       "│            ┆             ┆        ┆     ┆   ┆         ┆ str          ┆ date        ┆ str         │\n",
       "╞════════════╪═════════════╪════════╪═════╪═══╪═════════╪══════════════╪═════════════╪═════════════╡\n",
       "│ I138884    ┆ C241288     ┆ Female ┆ 28  ┆ … ┆ 1500.4  ┆ Credit Card  ┆ 2022-08-05  ┆ Kanyon      │\n",
       "│ I317333    ┆ C111565     ┆ Male   ┆ 21  ┆ … ┆ 1800.51 ┆ Debit Card   ┆ 2021-12-12  ┆ Forum       │\n",
       "│            ┆             ┆        ┆     ┆   ┆         ┆              ┆             ┆ Istanbul    │\n",
       "│ I127801    ┆ C266599     ┆ Male   ┆ 20  ┆ … ┆ 300.08  ┆ Cash         ┆ 2021-11-09  ┆ Metrocity   │\n",
       "│ I173702    ┆ C988172     ┆ Female ┆ 66  ┆ … ┆ 3000.85 ┆ Credit Card  ┆ 2021-05-16  ┆ Metropol    │\n",
       "│            ┆             ┆        ┆     ┆   ┆         ┆              ┆             ┆ AVM         │\n",
       "│ I337046    ┆ C189076     ┆ Female ┆ 53  ┆ … ┆ 60.6    ┆ Cash         ┆ 2021-10-24  ┆ Kanyon      │\n",
       "└────────────┴─────────────┴────────┴─────┴───┴─────────┴──────────────┴─────────────┴─────────────┘"
      ]
     },
     "execution_count": 31,
     "metadata": {},
     "output_type": "execute_result"
    }
   ],
   "source": [
    "df = pl.read_csv('../data/customer_shopping_data_no_header.csv', \n",
    "                 has_header=False, \n",
    "                 new_columns=column_names, \n",
    "                 try_parse_dates=True)\n",
    "df.head()"
   ]
  },
  {
   "cell_type": "code",
   "execution_count": 35,
   "metadata": {},
   "outputs": [
    {
     "data": {
      "text/html": [
       "<div><style>\n",
       ".dataframe > thead > tr > th,\n",
       ".dataframe > tbody > tr > td {\n",
       "  text-align: right;\n",
       "  white-space: pre-wrap;\n",
       "}\n",
       "</style>\n",
       "<small>shape: (5, 10)</small><table border=\"1\" class=\"dataframe\"><thead><tr><th>invoice_no</th><th>customer_id</th><th>gender</th><th>age</th><th>category</th><th>quantity</th><th>price</th><th>payment_method</th><th>invoice_date</th><th>shopping_mall</th></tr><tr><td>str</td><td>str</td><td>str</td><td>i8</td><td>str</td><td>i32</td><td>f64</td><td>str</td><td>date</td><td>str</td></tr></thead><tbody><tr><td>&quot;I138884&quot;</td><td>&quot;C241288&quot;</td><td>&quot;Female&quot;</td><td>28</td><td>&quot;Clothing&quot;</td><td>5</td><td>1500.4</td><td>&quot;Credit Card&quot;</td><td>2022-08-05</td><td>&quot;Kanyon&quot;</td></tr><tr><td>&quot;I317333&quot;</td><td>&quot;C111565&quot;</td><td>&quot;Male&quot;</td><td>21</td><td>&quot;Shoes&quot;</td><td>3</td><td>1800.51</td><td>&quot;Debit Card&quot;</td><td>2021-12-12</td><td>&quot;Forum Istanbul…</td></tr><tr><td>&quot;I127801&quot;</td><td>&quot;C266599&quot;</td><td>&quot;Male&quot;</td><td>20</td><td>&quot;Clothing&quot;</td><td>1</td><td>300.08</td><td>&quot;Cash&quot;</td><td>2021-11-09</td><td>&quot;Metrocity&quot;</td></tr><tr><td>&quot;I173702&quot;</td><td>&quot;C988172&quot;</td><td>&quot;Female&quot;</td><td>66</td><td>&quot;Shoes&quot;</td><td>5</td><td>3000.85</td><td>&quot;Credit Card&quot;</td><td>2021-05-16</td><td>&quot;Metropol AVM&quot;</td></tr><tr><td>&quot;I337046&quot;</td><td>&quot;C189076&quot;</td><td>&quot;Female&quot;</td><td>53</td><td>&quot;Books&quot;</td><td>4</td><td>60.6</td><td>&quot;Cash&quot;</td><td>2021-10-24</td><td>&quot;Kanyon&quot;</td></tr></tbody></table></div>"
      ],
      "text/plain": [
       "shape: (5, 10)\n",
       "┌────────────┬─────────────┬────────┬─────┬───┬─────────┬──────────────┬─────────────┬─────────────┐\n",
       "│ invoice_no ┆ customer_id ┆ gender ┆ age ┆ … ┆ price   ┆ payment_meth ┆ invoice_dat ┆ shopping_ma │\n",
       "│ ---        ┆ ---         ┆ ---    ┆ --- ┆   ┆ ---     ┆ od           ┆ e           ┆ ll          │\n",
       "│ str        ┆ str         ┆ str    ┆ i8  ┆   ┆ f64     ┆ ---          ┆ ---         ┆ ---         │\n",
       "│            ┆             ┆        ┆     ┆   ┆         ┆ str          ┆ date        ┆ str         │\n",
       "╞════════════╪═════════════╪════════╪═════╪═══╪═════════╪══════════════╪═════════════╪═════════════╡\n",
       "│ I138884    ┆ C241288     ┆ Female ┆ 28  ┆ … ┆ 1500.4  ┆ Credit Card  ┆ 2022-08-05  ┆ Kanyon      │\n",
       "│ I317333    ┆ C111565     ┆ Male   ┆ 21  ┆ … ┆ 1800.51 ┆ Debit Card   ┆ 2021-12-12  ┆ Forum       │\n",
       "│            ┆             ┆        ┆     ┆   ┆         ┆              ┆             ┆ Istanbul    │\n",
       "│ I127801    ┆ C266599     ┆ Male   ┆ 20  ┆ … ┆ 300.08  ┆ Cash         ┆ 2021-11-09  ┆ Metrocity   │\n",
       "│ I173702    ┆ C988172     ┆ Female ┆ 66  ┆ … ┆ 3000.85 ┆ Credit Card  ┆ 2021-05-16  ┆ Metropol    │\n",
       "│            ┆             ┆        ┆     ┆   ┆         ┆              ┆             ┆ AVM         │\n",
       "│ I337046    ┆ C189076     ┆ Female ┆ 53  ┆ … ┆ 60.6    ┆ Cash         ┆ 2021-10-24  ┆ Kanyon      │\n",
       "└────────────┴─────────────┴────────┴─────┴───┴─────────┴──────────────┴─────────────┴─────────────┘"
      ]
     },
     "execution_count": 35,
     "metadata": {},
     "output_type": "execute_result"
    }
   ],
   "source": [
    "df = pl.read_csv('../data/customer_shopping_data_no_header.csv', \n",
    "                 has_header=False, \n",
    "                 new_columns=column_names, \n",
    "                 try_parse_dates=True, \n",
    "                 dtypes={'age': pl.Int8, 'quantity': pl.Int32})\n",
    "df.head()"
   ]
  },
  {
   "cell_type": "code",
   "execution_count": 43,
   "metadata": {},
   "outputs": [],
   "source": [
    "df.write_csv('../data/output/shopping_data_output.csv', \n",
    "             has_header=False, \n",
    "             separator=',')"
   ]
  },
  {
   "cell_type": "markdown",
   "metadata": {},
   "source": [
    "### There is more..."
   ]
  },
  {
   "cell_type": "code",
   "execution_count": 45,
   "metadata": {},
   "outputs": [
    {
     "data": {
      "text/html": [
       "<div><style>\n",
       ".dataframe > thead > tr > th,\n",
       ".dataframe > tbody > tr > td {\n",
       "  text-align: right;\n",
       "  white-space: pre-wrap;\n",
       "}\n",
       "</style>\n",
       "<small>shape: (5, 10)</small><table border=\"1\" class=\"dataframe\"><thead><tr><th>invoice_no</th><th>customer_id</th><th>gender</th><th>age</th><th>category</th><th>quantity</th><th>price</th><th>payment_method</th><th>invoice_date</th><th>shopping_mall</th></tr><tr><td>str</td><td>str</td><td>str</td><td>i8</td><td>str</td><td>i32</td><td>f64</td><td>str</td><td>date</td><td>str</td></tr></thead><tbody><tr><td>&quot;I138884&quot;</td><td>&quot;C241288&quot;</td><td>&quot;Female&quot;</td><td>28</td><td>&quot;Clothing&quot;</td><td>5</td><td>1500.4</td><td>&quot;Credit Card&quot;</td><td>2022-08-05</td><td>&quot;Kanyon&quot;</td></tr><tr><td>&quot;I317333&quot;</td><td>&quot;C111565&quot;</td><td>&quot;Male&quot;</td><td>21</td><td>&quot;Shoes&quot;</td><td>3</td><td>1800.51</td><td>&quot;Debit Card&quot;</td><td>2021-12-12</td><td>&quot;Forum Istanbul…</td></tr><tr><td>&quot;I127801&quot;</td><td>&quot;C266599&quot;</td><td>&quot;Male&quot;</td><td>20</td><td>&quot;Clothing&quot;</td><td>1</td><td>300.08</td><td>&quot;Cash&quot;</td><td>2021-11-09</td><td>&quot;Metrocity&quot;</td></tr><tr><td>&quot;I173702&quot;</td><td>&quot;C988172&quot;</td><td>&quot;Female&quot;</td><td>66</td><td>&quot;Shoes&quot;</td><td>5</td><td>3000.85</td><td>&quot;Credit Card&quot;</td><td>2021-05-16</td><td>&quot;Metropol AVM&quot;</td></tr><tr><td>&quot;I337046&quot;</td><td>&quot;C189076&quot;</td><td>&quot;Female&quot;</td><td>53</td><td>&quot;Books&quot;</td><td>4</td><td>60.6</td><td>&quot;Cash&quot;</td><td>2021-10-24</td><td>&quot;Kanyon&quot;</td></tr></tbody></table></div>"
      ],
      "text/plain": [
       "shape: (5, 10)\n",
       "┌────────────┬─────────────┬────────┬─────┬───┬─────────┬──────────────┬─────────────┬─────────────┐\n",
       "│ invoice_no ┆ customer_id ┆ gender ┆ age ┆ … ┆ price   ┆ payment_meth ┆ invoice_dat ┆ shopping_ma │\n",
       "│ ---        ┆ ---         ┆ ---    ┆ --- ┆   ┆ ---     ┆ od           ┆ e           ┆ ll          │\n",
       "│ str        ┆ str         ┆ str    ┆ i8  ┆   ┆ f64     ┆ ---          ┆ ---         ┆ ---         │\n",
       "│            ┆             ┆        ┆     ┆   ┆         ┆ str          ┆ date        ┆ str         │\n",
       "╞════════════╪═════════════╪════════╪═════╪═══╪═════════╪══════════════╪═════════════╪═════════════╡\n",
       "│ I138884    ┆ C241288     ┆ Female ┆ 28  ┆ … ┆ 1500.4  ┆ Credit Card  ┆ 2022-08-05  ┆ Kanyon      │\n",
       "│ I317333    ┆ C111565     ┆ Male   ┆ 21  ┆ … ┆ 1800.51 ┆ Debit Card   ┆ 2021-12-12  ┆ Forum       │\n",
       "│            ┆             ┆        ┆     ┆   ┆         ┆              ┆             ┆ Istanbul    │\n",
       "│ I127801    ┆ C266599     ┆ Male   ┆ 20  ┆ … ┆ 300.08  ┆ Cash         ┆ 2021-11-09  ┆ Metrocity   │\n",
       "│ I173702    ┆ C988172     ┆ Female ┆ 66  ┆ … ┆ 3000.85 ┆ Credit Card  ┆ 2021-05-16  ┆ Metropol    │\n",
       "│            ┆             ┆        ┆     ┆   ┆         ┆              ┆             ┆ AVM         │\n",
       "│ I337046    ┆ C189076     ┆ Female ┆ 53  ┆ … ┆ 60.6    ┆ Cash         ┆ 2021-10-24  ┆ Kanyon      │\n",
       "└────────────┴─────────────┴────────┴─────┴───┴─────────┴──────────────┴─────────────┴─────────────┘"
      ]
     },
     "execution_count": 45,
     "metadata": {},
     "output_type": "execute_result"
    }
   ],
   "source": [
    "lf = pl.scan_csv('../data/customer_shopping_data_no_header.csv', \n",
    "                 has_header=False, \n",
    "                 new_columns=column_names, \n",
    "                 try_parse_dates=True, \n",
    "                 dtypes={'age': pl.Int8, 'quantity': pl.Int32})\n",
    "lf.fetch(5)"
   ]
  },
  {
   "cell_type": "code",
   "execution_count": 47,
   "metadata": {},
   "outputs": [],
   "source": [
    "lf.sink_csv('../data/output/shopping_data_output_sink.csv')"
   ]
  },
  {
   "cell_type": "markdown",
   "metadata": {},
   "source": [
    "## Reading and writing parquet files"
   ]
  },
  {
   "cell_type": "markdown",
   "metadata": {},
   "source": [
    "### How to do it..."
   ]
  },
  {
   "cell_type": "code",
   "execution_count": 57,
   "metadata": {},
   "outputs": [
    {
     "data": {
      "text/html": [
       "<div><style>\n",
       ".dataframe > thead > tr > th,\n",
       ".dataframe > tbody > tr > td {\n",
       "  text-align: right;\n",
       "  white-space: pre-wrap;\n",
       "}\n",
       "</style>\n",
       "<small>shape: (5, 5)</small><table border=\"1\" class=\"dataframe\"><thead><tr><th>row_cnt</th><th>Company</th><th>Amount</th><th>Valuation</th><th>Industry</th></tr><tr><td>u32</td><td>str</td><td>str</td><td>str</td><td>str</td></tr></thead><tbody><tr><td>0</td><td>&quot;OpenAI&quot;</td><td>&quot;$10,000,000,00…</td><td>&quot;n/a&quot;</td><td>&quot;Artificial int…</td></tr><tr><td>1</td><td>&quot;Stripe&quot;</td><td>&quot;$6,500,000,000…</td><td>&quot;$50,000,000,00…</td><td>&quot;Fintech&quot;</td></tr><tr><td>2</td><td>&quot;Inflection AI&quot;</td><td>&quot;$1,300,000,000…</td><td>&quot;$4,000,000,000…</td><td>&quot;Artificial int…</td></tr><tr><td>3</td><td>&quot;Anthropic&quot;</td><td>&quot;$1,250,000,000…</td><td>&quot;$4,000,000,000…</td><td>&quot;Artificial int…</td></tr><tr><td>4</td><td>&quot;Generate Capit…</td><td>&quot;$1,030,900,000…</td><td>&quot;n/a&quot;</td><td>&quot;Energy&quot;</td></tr></tbody></table></div>"
      ],
      "text/plain": [
       "shape: (5, 5)\n",
       "┌─────────┬──────────────────┬─────────────────┬─────────────────┬─────────────────────────┐\n",
       "│ row_cnt ┆ Company          ┆ Amount          ┆ Valuation       ┆ Industry                │\n",
       "│ ---     ┆ ---              ┆ ---             ┆ ---             ┆ ---                     │\n",
       "│ u32     ┆ str              ┆ str             ┆ str             ┆ str                     │\n",
       "╞═════════╪══════════════════╪═════════════════╪═════════════════╪═════════════════════════╡\n",
       "│ 0       ┆ OpenAI           ┆ $10,000,000,000 ┆ n/a             ┆ Artificial intelligence │\n",
       "│ 1       ┆ Stripe           ┆ $6,500,000,000  ┆ $50,000,000,000 ┆ Fintech                 │\n",
       "│ 2       ┆ Inflection AI    ┆ $1,300,000,000  ┆ $4,000,000,000  ┆ Artificial intelligence │\n",
       "│ 3       ┆ Anthropic        ┆ $1,250,000,000  ┆ $4,000,000,000  ┆ Artificial intelligence │\n",
       "│ 4       ┆ Generate Capital ┆ $1,030,900,000  ┆ n/a             ┆ Energy                  │\n",
       "└─────────┴──────────────────┴─────────────────┴─────────────────┴─────────────────────────┘"
      ]
     },
     "execution_count": 57,
     "metadata": {},
     "output_type": "execute_result"
    }
   ],
   "source": [
    "parquet_input_file_path = '../data/largest_us_venture_funding_deals_2023.parquet'\n",
    "df = pl.read_parquet(parquet_input_file_path, \n",
    "                     columns=['Company', 'Amount', 'Valuation', 'Industry'], \n",
    "                     row_count_name='row_cnt')\n",
    "df.head()"
   ]
  },
  {
   "cell_type": "code",
   "execution_count": 58,
   "metadata": {},
   "outputs": [
    {
     "data": {
      "text/plain": [
       "{'Company': Utf8,\n",
       " 'Amount': Utf8,\n",
       " 'Lead investors': Utf8,\n",
       " 'Valuation': Utf8,\n",
       " 'Industry': Utf8,\n",
       " 'Date reported': Utf8}"
      ]
     },
     "execution_count": 58,
     "metadata": {},
     "output_type": "execute_result"
    }
   ],
   "source": [
    "pl.read_parquet_schema(parquet_input_file_path)"
   ]
  },
  {
   "cell_type": "code",
   "execution_count": 59,
   "metadata": {},
   "outputs": [],
   "source": [
    "parquet_output_file_path = '../data/output/largest_us_venture_funding_deals_2023_output.parquet'\n",
    "df.write_parquet(parquet_output_file_path, compression='zstd', compression_level=10)"
   ]
  },
  {
   "cell_type": "code",
   "execution_count": 60,
   "metadata": {},
   "outputs": [
    {
     "data": {
      "text/html": [
       "<div><style>\n",
       ".dataframe > thead > tr > th,\n",
       ".dataframe > tbody > tr > td {\n",
       "  text-align: right;\n",
       "  white-space: pre-wrap;\n",
       "}\n",
       "</style>\n",
       "<small>shape: (5, 6)</small><table border=\"1\" class=\"dataframe\"><thead><tr><th>Company</th><th>Amount</th><th>Lead investors</th><th>Valuation</th><th>Industry</th><th>Date reported</th></tr><tr><td>str</td><td>str</td><td>str</td><td>str</td><td>str</td><td>str</td></tr></thead><tbody><tr><td>&quot;OpenAI&quot;</td><td>&quot;$10,000,000,00…</td><td>&quot;Microsoft&quot;</td><td>&quot;n/a&quot;</td><td>&quot;Artificial int…</td><td>&quot;1/23/23&quot;</td></tr><tr><td>&quot;Stripe&quot;</td><td>&quot;$6,500,000,000…</td><td>&quot;n/a&quot;</td><td>&quot;$50,000,000,00…</td><td>&quot;Fintech&quot;</td><td>&quot;3/15/23&quot;</td></tr><tr><td>&quot;Inflection AI&quot;</td><td>&quot;$1,300,000,000…</td><td>&quot;Microsoft, Rei…</td><td>&quot;$4,000,000,000…</td><td>&quot;Artificial int…</td><td>&quot;6/29/23&quot;</td></tr><tr><td>&quot;Anthropic&quot;</td><td>&quot;$1,250,000,000…</td><td>&quot;Amazon&quot;</td><td>&quot;$4,000,000,000…</td><td>&quot;Artificial int…</td><td>&quot;9/25/23&quot;</td></tr><tr><td>&quot;Generate Capit…</td><td>&quot;$1,030,900,000…</td><td>&quot;n/a&quot;</td><td>&quot;n/a&quot;</td><td>&quot;Energy&quot;</td><td>&quot;1/6/23&quot;</td></tr></tbody></table></div>"
      ],
      "text/plain": [
       "shape: (5, 6)\n",
       "┌────────────────┬────────────────┬────────────────┬───────────────┬───────────────┬───────────────┐\n",
       "│ Company        ┆ Amount         ┆ Lead investors ┆ Valuation     ┆ Industry      ┆ Date reported │\n",
       "│ ---            ┆ ---            ┆ ---            ┆ ---           ┆ ---           ┆ ---           │\n",
       "│ str            ┆ str            ┆ str            ┆ str           ┆ str           ┆ str           │\n",
       "╞════════════════╪════════════════╪════════════════╪═══════════════╪═══════════════╪═══════════════╡\n",
       "│ OpenAI         ┆ $10,000,000,00 ┆ Microsoft      ┆ n/a           ┆ Artificial    ┆ 1/23/23       │\n",
       "│                ┆ 0              ┆                ┆               ┆ intelligence  ┆               │\n",
       "│ Stripe         ┆ $6,500,000,000 ┆ n/a            ┆ $50,000,000,0 ┆ Fintech       ┆ 3/15/23       │\n",
       "│                ┆                ┆                ┆ 00            ┆               ┆               │\n",
       "│ Inflection AI  ┆ $1,300,000,000 ┆ Microsoft,     ┆ $4,000,000,00 ┆ Artificial    ┆ 6/29/23       │\n",
       "│                ┆                ┆ Reid Hoffman,  ┆ 0             ┆ intelligence  ┆               │\n",
       "│                ┆                ┆ Bill Ga…       ┆               ┆               ┆               │\n",
       "│ Anthropic      ┆ $1,250,000,000 ┆ Amazon         ┆ $4,000,000,00 ┆ Artificial    ┆ 9/25/23       │\n",
       "│                ┆                ┆                ┆ 0             ┆ intelligence  ┆               │\n",
       "│ Generate       ┆ $1,030,900,000 ┆ n/a            ┆ n/a           ┆ Energy        ┆ 1/6/23        │\n",
       "│ Capital        ┆                ┆                ┆               ┆               ┆               │\n",
       "└────────────────┴────────────────┴────────────────┴───────────────┴───────────────┴───────────────┘"
      ]
     },
     "execution_count": 60,
     "metadata": {},
     "output_type": "execute_result"
    }
   ],
   "source": [
    "lf = pl.scan_parquet(parquet_input_file_path)\n",
    "lf.collect().head()"
   ]
  },
  {
   "cell_type": "code",
   "execution_count": 61,
   "metadata": {},
   "outputs": [],
   "source": [
    "lf.sink_parquet(parquet_output_file_path, maintain_order=False)"
   ]
  },
  {
   "cell_type": "markdown",
   "metadata": {},
   "source": [
    "### There is more..."
   ]
  },
  {
   "cell_type": "code",
   "execution_count": 65,
   "metadata": {},
   "outputs": [
    {
     "data": {
      "text/html": [
       "<div><style>\n",
       ".dataframe > thead > tr > th,\n",
       ".dataframe > tbody > tr > td {\n",
       "  text-align: right;\n",
       "  white-space: pre-wrap;\n",
       "}\n",
       "</style>\n",
       "<small>shape: (5, 6)</small><table border=\"1\" class=\"dataframe\"><thead><tr><th>Company</th><th>Amount</th><th>Lead investors</th><th>Valuation</th><th>Date reported</th><th>Industry</th></tr><tr><td>str</td><td>str</td><td>str</td><td>str</td><td>str</td><td>cat</td></tr></thead><tbody><tr><td>&quot;Restaurant365&quot;</td><td>&quot;$135,000,000&quot;</td><td>&quot;KKR, L Cattert…</td><td>&quot;$1,000,000,000…</td><td>&quot;5/19/23&quot;</td><td>&quot;Accounting&quot;</td></tr><tr><td>&quot;Madhive&quot;</td><td>&quot;$300,000,000&quot;</td><td>&quot;Goldman Sachs …</td><td>&quot;$1,000,000,000…</td><td>&quot;6/13/23&quot;</td><td>&quot;Advertising&quot;</td></tr><tr><td>&quot;Ursa Major,&quot;</td><td>&quot;$100,000,000&quot;</td><td>&quot;BlackRock, Spa…</td><td>&quot;n/a&quot;</td><td>&quot;4/26/23&quot;</td><td>&quot;Aerospace&quot;</td></tr><tr><td>&quot;Indigo&quot;</td><td>&quot;$250,000,000&quot;</td><td>&quot;Flagship Pione…</td><td>&quot;na&quot;</td><td>&quot;9/15/23&quot;</td><td>&quot;Agriculture&quot;</td></tr><tr><td>&quot;Chronosphere&quot;</td><td>&quot;$115,000,000&quot;</td><td>&quot;GV&quot;</td><td>&quot;n/a&quot;</td><td>&quot;1/9/23&quot;</td><td>&quot;Analytics&quot;</td></tr></tbody></table></div>"
      ],
      "text/plain": [
       "shape: (5, 6)\n",
       "┌───────────────┬──────────────┬────────────────────┬────────────────┬───────────────┬─────────────┐\n",
       "│ Company       ┆ Amount       ┆ Lead investors     ┆ Valuation      ┆ Date reported ┆ Industry    │\n",
       "│ ---           ┆ ---          ┆ ---                ┆ ---            ┆ ---           ┆ ---         │\n",
       "│ str           ┆ str          ┆ str                ┆ str            ┆ str           ┆ cat         │\n",
       "╞═══════════════╪══════════════╪════════════════════╪════════════════╪═══════════════╪═════════════╡\n",
       "│ Restaurant365 ┆ $135,000,000 ┆ KKR, L Catterton   ┆ $1,000,000,000 ┆ 5/19/23       ┆ Accounting  │\n",
       "│ Madhive       ┆ $300,000,000 ┆ Goldman Sachs      ┆ $1,000,000,000 ┆ 6/13/23       ┆ Advertising │\n",
       "│               ┆              ┆ Asset Management   ┆                ┆               ┆             │\n",
       "│ Ursa Major,   ┆ $100,000,000 ┆ BlackRock, Space   ┆ n/a            ┆ 4/26/23       ┆ Aerospace   │\n",
       "│               ┆              ┆ Capital            ┆                ┆               ┆             │\n",
       "│ Indigo        ┆ $250,000,000 ┆ Flagship           ┆ na             ┆ 9/15/23       ┆ Agriculture │\n",
       "│               ┆              ┆ Pioneering, State  ┆                ┆               ┆             │\n",
       "│               ┆              ┆ of Mi…             ┆                ┆               ┆             │\n",
       "│ Chronosphere  ┆ $115,000,000 ┆ GV                 ┆ n/a            ┆ 1/9/23        ┆ Analytics   │\n",
       "└───────────────┴──────────────┴────────────────────┴────────────────┴───────────────┴─────────────┘"
      ]
     },
     "execution_count": 65,
     "metadata": {},
     "output_type": "execute_result"
    }
   ],
   "source": [
    "partitioned_parquet_input_file_path = '../data/largest_us_venture_funding_deals_2023_partitioned'\n",
    "df = pl.read_parquet(\n",
    "    partitioned_parquet_input_file_path, \n",
    "    use_pyarrow=True, \n",
    "    pyarrow_options={'partitioning': 'hive'}\n",
    ")\n",
    "df.head()"
   ]
  },
  {
   "cell_type": "code",
   "execution_count": 12,
   "metadata": {},
   "outputs": [],
   "source": [
    "partitioned_parquet_output_file_path = '../data/output/largest_us_venture_funding_deals_2023_partitioned_output'\n",
    "df.write_parquet(\n",
    "    partitioned_parquet_output_file_path, \n",
    "    use_pyarrow=True, \n",
    "    pyarrow_options={\n",
    "        'partition_cols': ['Industry'],\n",
    "        'existing_data_behavior': 'overwrite_or_ignore'\n",
    "        }\n",
    ")"
   ]
  },
  {
   "cell_type": "markdown",
   "metadata": {},
   "source": [
    "## Reading and writing Delta Lake tables"
   ]
  },
  {
   "cell_type": "markdown",
   "metadata": {},
   "source": [
    "### Getting ready"
   ]
  },
  {
   "cell_type": "code",
   "execution_count": 1,
   "metadata": {},
   "outputs": [],
   "source": [
    "import polars as pl"
   ]
  },
  {
   "cell_type": "markdown",
   "metadata": {},
   "source": [
    "### How to do it..."
   ]
  },
  {
   "cell_type": "code",
   "execution_count": 2,
   "metadata": {},
   "outputs": [
    {
     "data": {
      "text/html": [
       "<div><style>\n",
       ".dataframe > thead > tr > th,\n",
       ".dataframe > tbody > tr > td {\n",
       "  text-align: right;\n",
       "  white-space: pre-wrap;\n",
       "}\n",
       "</style>\n",
       "<small>shape: (5, 6)</small><table border=\"1\" class=\"dataframe\"><thead><tr><th>Company</th><th>Amount</th><th>Lead investors</th><th>Valuation</th><th>Industry</th><th>Date reported</th></tr><tr><td>str</td><td>str</td><td>str</td><td>str</td><td>str</td><td>str</td></tr></thead><tbody><tr><td>&quot;OpenAI&quot;</td><td>&quot;$10,000,000,00…</td><td>&quot;Microsoft&quot;</td><td>&quot;n/a&quot;</td><td>&quot;Artificial int…</td><td>&quot;1/23/23&quot;</td></tr><tr><td>&quot;Stripe&quot;</td><td>&quot;$6,500,000,000…</td><td>&quot;n/a&quot;</td><td>&quot;$50,000,000,00…</td><td>&quot;Fintech&quot;</td><td>&quot;3/15/23&quot;</td></tr><tr><td>&quot;Inflection AI&quot;</td><td>&quot;$1,300,000,000…</td><td>&quot;Microsoft, Rei…</td><td>&quot;$4,000,000,000…</td><td>&quot;Artificial int…</td><td>&quot;6/29/23&quot;</td></tr><tr><td>&quot;Anthropic&quot;</td><td>&quot;$1,250,000,000…</td><td>&quot;Amazon&quot;</td><td>&quot;$4,000,000,000…</td><td>&quot;Artificial int…</td><td>&quot;9/25/23&quot;</td></tr><tr><td>&quot;Generate Capit…</td><td>&quot;$1,030,900,000…</td><td>&quot;n/a&quot;</td><td>&quot;n/a&quot;</td><td>&quot;Energy&quot;</td><td>&quot;1/6/23&quot;</td></tr></tbody></table></div>"
      ],
      "text/plain": [
       "shape: (5, 6)\n",
       "┌────────────────┬────────────────┬────────────────┬───────────────┬───────────────┬───────────────┐\n",
       "│ Company        ┆ Amount         ┆ Lead investors ┆ Valuation     ┆ Industry      ┆ Date reported │\n",
       "│ ---            ┆ ---            ┆ ---            ┆ ---           ┆ ---           ┆ ---           │\n",
       "│ str            ┆ str            ┆ str            ┆ str           ┆ str           ┆ str           │\n",
       "╞════════════════╪════════════════╪════════════════╪═══════════════╪═══════════════╪═══════════════╡\n",
       "│ OpenAI         ┆ $10,000,000,00 ┆ Microsoft      ┆ n/a           ┆ Artificial    ┆ 1/23/23       │\n",
       "│                ┆ 0              ┆                ┆               ┆ intelligence  ┆               │\n",
       "│ Stripe         ┆ $6,500,000,000 ┆ n/a            ┆ $50,000,000,0 ┆ Fintech       ┆ 3/15/23       │\n",
       "│                ┆                ┆                ┆ 00            ┆               ┆               │\n",
       "│ Inflection AI  ┆ $1,300,000,000 ┆ Microsoft,     ┆ $4,000,000,00 ┆ Artificial    ┆ 6/29/23       │\n",
       "│                ┆                ┆ Reid Hoffman,  ┆ 0             ┆ intelligence  ┆               │\n",
       "│                ┆                ┆ Bill Ga…       ┆               ┆               ┆               │\n",
       "│ Anthropic      ┆ $1,250,000,000 ┆ Amazon         ┆ $4,000,000,00 ┆ Artificial    ┆ 9/25/23       │\n",
       "│                ┆                ┆                ┆ 0             ┆ intelligence  ┆               │\n",
       "│ Generate       ┆ $1,030,900,000 ┆ n/a            ┆ n/a           ┆ Energy        ┆ 1/6/23        │\n",
       "│ Capital        ┆                ┆                ┆               ┆               ┆               │\n",
       "└────────────────┴────────────────┴────────────────┴───────────────┴───────────────┴───────────────┘"
      ]
     },
     "execution_count": 2,
     "metadata": {},
     "output_type": "execute_result"
    }
   ],
   "source": [
    "delta_input_file_path = '../data/largest_us_venture_funding_deals_2023_delta'\n",
    "df = pl.read_delta(delta_input_file_path)\n",
    "df.head()"
   ]
  },
  {
   "cell_type": "code",
   "execution_count": null,
   "metadata": {},
   "outputs": [],
   "source": []
  },
  {
   "cell_type": "code",
   "execution_count": null,
   "metadata": {},
   "outputs": [],
   "source": []
  },
  {
   "cell_type": "code",
   "execution_count": null,
   "metadata": {},
   "outputs": [],
   "source": []
  },
  {
   "cell_type": "code",
   "execution_count": null,
   "metadata": {},
   "outputs": [],
   "source": []
  },
  {
   "cell_type": "code",
   "execution_count": null,
   "metadata": {},
   "outputs": [],
   "source": []
  },
  {
   "cell_type": "markdown",
   "metadata": {},
   "source": [
    "## Reading and writing JSON files"
   ]
  },
  {
   "cell_type": "markdown",
   "metadata": {},
   "source": [
    "### Getting ready"
   ]
  },
  {
   "cell_type": "code",
   "execution_count": null,
   "metadata": {},
   "outputs": [],
   "source": []
  },
  {
   "cell_type": "markdown",
   "metadata": {},
   "source": [
    "### How to do it..."
   ]
  },
  {
   "cell_type": "code",
   "execution_count": 122,
   "metadata": {},
   "outputs": [
    {
     "data": {
      "text/html": [
       "<div><style>\n",
       ".dataframe > thead > tr > th,\n",
       ".dataframe > tbody > tr > td {\n",
       "  text-align: right;\n",
       "  white-space: pre-wrap;\n",
       "}\n",
       "</style>\n",
       "<small>shape: (5, 10)</small><table border=\"1\" class=\"dataframe\"><thead><tr><th>place</th><th>pop1980</th><th>pop2000</th><th>pop2010</th><th>pop2022</th><th>pop2023</th><th>pop2030</th><th>pop2050</th><th>country</th><th>area</th></tr><tr><td>i64</td><td>f64</td><td>f64</td><td>f64</td><td>f64</td><td>i64</td><td>f64</td><td>f64</td><td>str</td><td>i64</td></tr></thead><tbody><tr><td>356</td><td>6.96828385e8</td><td>1.0596e9</td><td>1.2406e9</td><td>1.4172e9</td><td>1428627663</td><td>1.5150e9</td><td>1.6705e9</td><td>&quot;India&quot;</td><td>3287590</td></tr><tr><td>156</td><td>9.82372466e8</td><td>1.2641e9</td><td>1.3482e9</td><td>1.4259e9</td><td>1425671352</td><td>1.4156e9</td><td>1.3126e9</td><td>&quot;China&quot;</td><td>9706961</td></tr><tr><td>840</td><td>2.23140018e8</td><td>2.82398554e8</td><td>3.11182845e8</td><td>3.38289857e8</td><td>339996563</td><td>3.52162301e8</td><td>3.75391963e8</td><td>&quot;United States&quot;</td><td>9372610</td></tr><tr><td>360</td><td>1.48177096e8</td><td>2.14072421e8</td><td>2.44016173e8</td><td>2.75501339e8</td><td>277534122</td><td>2.921501e8</td><td>3.17225213e8</td><td>&quot;Indonesia&quot;</td><td>1904569</td></tr><tr><td>586</td><td>8.0624057e7</td><td>1.54369924e8</td><td>1.94454498e8</td><td>2.35824862e8</td><td>240485658</td><td>2.74029836e8</td><td>3.67808468e8</td><td>&quot;Pakistan&quot;</td><td>881912</td></tr></tbody></table></div>"
      ],
      "text/plain": [
       "shape: (5, 10)\n",
       "┌───────┬────────────┬────────────┬────────────┬───┬────────────┬────────────┬───────────┬─────────┐\n",
       "│ place ┆ pop1980    ┆ pop2000    ┆ pop2010    ┆ … ┆ pop2030    ┆ pop2050    ┆ country   ┆ area    │\n",
       "│ ---   ┆ ---        ┆ ---        ┆ ---        ┆   ┆ ---        ┆ ---        ┆ ---       ┆ ---     │\n",
       "│ i64   ┆ f64        ┆ f64        ┆ f64        ┆   ┆ f64        ┆ f64        ┆ str       ┆ i64     │\n",
       "╞═══════╪════════════╪════════════╪════════════╪═══╪════════════╪════════════╪═══════════╪═════════╡\n",
       "│ 356   ┆ 6.96828385 ┆ 1.0596e9   ┆ 1.2406e9   ┆ … ┆ 1.5150e9   ┆ 1.6705e9   ┆ India     ┆ 3287590 │\n",
       "│       ┆ e8         ┆            ┆            ┆   ┆            ┆            ┆           ┆         │\n",
       "│ 156   ┆ 9.82372466 ┆ 1.2641e9   ┆ 1.3482e9   ┆ … ┆ 1.4156e9   ┆ 1.3126e9   ┆ China     ┆ 9706961 │\n",
       "│       ┆ e8         ┆            ┆            ┆   ┆            ┆            ┆           ┆         │\n",
       "│ 840   ┆ 2.23140018 ┆ 2.82398554 ┆ 3.11182845 ┆ … ┆ 3.52162301 ┆ 3.75391963 ┆ United    ┆ 9372610 │\n",
       "│       ┆ e8         ┆ e8         ┆ e8         ┆   ┆ e8         ┆ e8         ┆ States    ┆         │\n",
       "│ 360   ┆ 1.48177096 ┆ 2.14072421 ┆ 2.44016173 ┆ … ┆ 2.921501e8 ┆ 3.17225213 ┆ Indonesia ┆ 1904569 │\n",
       "│       ┆ e8         ┆ e8         ┆ e8         ┆   ┆            ┆ e8         ┆           ┆         │\n",
       "│ 586   ┆ 8.0624057e ┆ 1.54369924 ┆ 1.94454498 ┆ … ┆ 2.74029836 ┆ 3.67808468 ┆ Pakistan  ┆ 881912  │\n",
       "│       ┆ 7          ┆ e8         ┆ e8         ┆   ┆ e8         ┆ e8         ┆           ┆         │\n",
       "└───────┴────────────┴────────────┴────────────┴───┴────────────┴────────────┴───────────┴─────────┘"
      ]
     },
     "execution_count": 122,
     "metadata": {},
     "output_type": "execute_result"
    }
   ],
   "source": [
    "df = pl.read_json('../data/world_population.json')\n",
    "df.select(df.columns[:10]).head()"
   ]
  },
  {
   "cell_type": "code",
   "execution_count": 102,
   "metadata": {},
   "outputs": [],
   "source": [
    "df.write_json('../data/output/world_population_output.json')"
   ]
  },
  {
   "cell_type": "code",
   "execution_count": 121,
   "metadata": {},
   "outputs": [
    {
     "data": {
      "text/html": [
       "<div><style>\n",
       ".dataframe > thead > tr > th,\n",
       ".dataframe > tbody > tr > td {\n",
       "  text-align: right;\n",
       "  white-space: pre-wrap;\n",
       "}\n",
       "</style>\n",
       "<small>shape: (5, 10)</small><table border=\"1\" class=\"dataframe\"><thead><tr><th>place</th><th>pop1980</th><th>pop2000</th><th>pop2010</th><th>pop2022</th><th>pop2023</th><th>pop2030</th><th>pop2050</th><th>country</th><th>area</th></tr><tr><td>i64</td><td>f32</td><td>f64</td><td>f64</td><td>f64</td><td>i64</td><td>f64</td><td>f64</td><td>str</td><td>i64</td></tr></thead><tbody><tr><td>356</td><td>6.96828416e8</td><td>1.0596e9</td><td>1.2406e9</td><td>1.4172e9</td><td>1428627663</td><td>1.5150e9</td><td>1.6705e9</td><td>&quot;India&quot;</td><td>3287590</td></tr><tr><td>156</td><td>9.8237248e8</td><td>1.2641e9</td><td>1.3482e9</td><td>1.4259e9</td><td>1425671352</td><td>1.4156e9</td><td>1.3126e9</td><td>&quot;China&quot;</td><td>9706961</td></tr><tr><td>840</td><td>2.23140016e8</td><td>2.82398554e8</td><td>3.11182845e8</td><td>3.38289857e8</td><td>339996563</td><td>3.52162301e8</td><td>3.75391963e8</td><td>&quot;United States&quot;</td><td>9372610</td></tr><tr><td>360</td><td>1.48177088e8</td><td>2.14072421e8</td><td>2.44016173e8</td><td>2.75501339e8</td><td>277534122</td><td>2.921501e8</td><td>3.17225213e8</td><td>&quot;Indonesia&quot;</td><td>1904569</td></tr><tr><td>586</td><td>8.0624056e7</td><td>1.54369924e8</td><td>1.94454498e8</td><td>2.35824862e8</td><td>240485658</td><td>2.74029836e8</td><td>3.67808468e8</td><td>&quot;Pakistan&quot;</td><td>881912</td></tr></tbody></table></div>"
      ],
      "text/plain": [
       "shape: (5, 10)\n",
       "┌───────┬────────────┬────────────┬────────────┬───┬────────────┬────────────┬───────────┬─────────┐\n",
       "│ place ┆ pop1980    ┆ pop2000    ┆ pop2010    ┆ … ┆ pop2030    ┆ pop2050    ┆ country   ┆ area    │\n",
       "│ ---   ┆ ---        ┆ ---        ┆ ---        ┆   ┆ ---        ┆ ---        ┆ ---       ┆ ---     │\n",
       "│ i64   ┆ f32        ┆ f64        ┆ f64        ┆   ┆ f64        ┆ f64        ┆ str       ┆ i64     │\n",
       "╞═══════╪════════════╪════════════╪════════════╪═══╪════════════╪════════════╪═══════════╪═════════╡\n",
       "│ 356   ┆ 6.96828416 ┆ 1.0596e9   ┆ 1.2406e9   ┆ … ┆ 1.5150e9   ┆ 1.6705e9   ┆ India     ┆ 3287590 │\n",
       "│       ┆ e8         ┆            ┆            ┆   ┆            ┆            ┆           ┆         │\n",
       "│ 156   ┆ 9.8237248e ┆ 1.2641e9   ┆ 1.3482e9   ┆ … ┆ 1.4156e9   ┆ 1.3126e9   ┆ China     ┆ 9706961 │\n",
       "│       ┆ 8          ┆            ┆            ┆   ┆            ┆            ┆           ┆         │\n",
       "│ 840   ┆ 2.23140016 ┆ 2.82398554 ┆ 3.11182845 ┆ … ┆ 3.52162301 ┆ 3.75391963 ┆ United    ┆ 9372610 │\n",
       "│       ┆ e8         ┆ e8         ┆ e8         ┆   ┆ e8         ┆ e8         ┆ States    ┆         │\n",
       "│ 360   ┆ 1.48177088 ┆ 2.14072421 ┆ 2.44016173 ┆ … ┆ 2.921501e8 ┆ 3.17225213 ┆ Indonesia ┆ 1904569 │\n",
       "│       ┆ e8         ┆ e8         ┆ e8         ┆   ┆            ┆ e8         ┆           ┆         │\n",
       "│ 586   ┆ 8.0624056e ┆ 1.54369924 ┆ 1.94454498 ┆ … ┆ 2.74029836 ┆ 3.67808468 ┆ Pakistan  ┆ 881912  │\n",
       "│       ┆ 7          ┆ e8         ┆ e8         ┆   ┆ e8         ┆ e8         ┆           ┆         │\n",
       "└───────┴────────────┴────────────┴────────────┴───┴────────────┴────────────┴───────────┴─────────┘"
      ]
     },
     "execution_count": 121,
     "metadata": {},
     "output_type": "execute_result"
    }
   ],
   "source": [
    "df = pl.read_ndjson('../data/world_population.jsonl')\n",
    "df.select(df.columns[:10]).head()"
   ]
  },
  {
   "cell_type": "code",
   "execution_count": 104,
   "metadata": {},
   "outputs": [],
   "source": [
    "df.write_ndjson('../data/output/world_population_output.jsonl')"
   ]
  },
  {
   "cell_type": "markdown",
   "metadata": {},
   "source": [
    "### There is more..."
   ]
  },
  {
   "cell_type": "code",
   "execution_count": 119,
   "metadata": {},
   "outputs": [
    {
     "data": {
      "text/html": [
       "<div><style>\n",
       ".dataframe > thead > tr > th,\n",
       ".dataframe > tbody > tr > td {\n",
       "  text-align: right;\n",
       "  white-space: pre-wrap;\n",
       "}\n",
       "</style>\n",
       "<small>shape: (5, 10)</small><table border=\"1\" class=\"dataframe\"><thead><tr><th>place</th><th>pop1980</th><th>pop2000</th><th>pop2010</th><th>pop2022</th><th>pop2023</th><th>pop2030</th><th>pop2050</th><th>country</th><th>area</th></tr><tr><td>i64</td><td>f64</td><td>f64</td><td>f64</td><td>f64</td><td>i64</td><td>f64</td><td>f64</td><td>str</td><td>i64</td></tr></thead><tbody><tr><td>356</td><td>6.96828385e8</td><td>1.0596e9</td><td>1.2406e9</td><td>1.4172e9</td><td>1428627663</td><td>1.5150e9</td><td>1.6705e9</td><td>&quot;India&quot;</td><td>3287590</td></tr><tr><td>156</td><td>9.82372466e8</td><td>1.2641e9</td><td>1.3482e9</td><td>1.4259e9</td><td>1425671352</td><td>1.4156e9</td><td>1.3126e9</td><td>&quot;China&quot;</td><td>9706961</td></tr><tr><td>840</td><td>2.23140018e8</td><td>2.82398554e8</td><td>3.11182845e8</td><td>3.38289857e8</td><td>339996563</td><td>3.52162301e8</td><td>3.75391963e8</td><td>&quot;United States&quot;</td><td>9372610</td></tr><tr><td>360</td><td>1.48177096e8</td><td>2.14072421e8</td><td>2.44016173e8</td><td>2.75501339e8</td><td>277534122</td><td>2.921501e8</td><td>3.17225213e8</td><td>&quot;Indonesia&quot;</td><td>1904569</td></tr><tr><td>586</td><td>8.0624057e7</td><td>1.54369924e8</td><td>1.94454498e8</td><td>2.35824862e8</td><td>240485658</td><td>2.74029836e8</td><td>3.67808468e8</td><td>&quot;Pakistan&quot;</td><td>881912</td></tr></tbody></table></div>"
      ],
      "text/plain": [
       "shape: (5, 10)\n",
       "┌───────┬────────────┬────────────┬────────────┬───┬────────────┬────────────┬───────────┬─────────┐\n",
       "│ place ┆ pop1980    ┆ pop2000    ┆ pop2010    ┆ … ┆ pop2030    ┆ pop2050    ┆ country   ┆ area    │\n",
       "│ ---   ┆ ---        ┆ ---        ┆ ---        ┆   ┆ ---        ┆ ---        ┆ ---       ┆ ---     │\n",
       "│ i64   ┆ f64        ┆ f64        ┆ f64        ┆   ┆ f64        ┆ f64        ┆ str       ┆ i64     │\n",
       "╞═══════╪════════════╪════════════╪════════════╪═══╪════════════╪════════════╪═══════════╪═════════╡\n",
       "│ 356   ┆ 6.96828385 ┆ 1.0596e9   ┆ 1.2406e9   ┆ … ┆ 1.5150e9   ┆ 1.6705e9   ┆ India     ┆ 3287590 │\n",
       "│       ┆ e8         ┆            ┆            ┆   ┆            ┆            ┆           ┆         │\n",
       "│ 156   ┆ 9.82372466 ┆ 1.2641e9   ┆ 1.3482e9   ┆ … ┆ 1.4156e9   ┆ 1.3126e9   ┆ China     ┆ 9706961 │\n",
       "│       ┆ e8         ┆            ┆            ┆   ┆            ┆            ┆           ┆         │\n",
       "│ 840   ┆ 2.23140018 ┆ 2.82398554 ┆ 3.11182845 ┆ … ┆ 3.52162301 ┆ 3.75391963 ┆ United    ┆ 9372610 │\n",
       "│       ┆ e8         ┆ e8         ┆ e8         ┆   ┆ e8         ┆ e8         ┆ States    ┆         │\n",
       "│ 360   ┆ 1.48177096 ┆ 2.14072421 ┆ 2.44016173 ┆ … ┆ 2.921501e8 ┆ 3.17225213 ┆ Indonesia ┆ 1904569 │\n",
       "│       ┆ e8         ┆ e8         ┆ e8         ┆   ┆            ┆ e8         ┆           ┆         │\n",
       "│ 586   ┆ 8.0624057e ┆ 1.54369924 ┆ 1.94454498 ┆ … ┆ 2.74029836 ┆ 3.67808468 ┆ Pakistan  ┆ 881912  │\n",
       "│       ┆ 7          ┆ e8         ┆ e8         ┆   ┆ e8         ┆ e8         ┆           ┆         │\n",
       "└───────┴────────────┴────────────┴────────────┴───┴────────────┴────────────┴───────────┴─────────┘"
      ]
     },
     "execution_count": 119,
     "metadata": {},
     "output_type": "execute_result"
    }
   ],
   "source": [
    "lf = pl.scan_ndjson('../data/world_population.jsonl')\n",
    "lf.select(lf.columns[:10]).collect().head()"
   ]
  },
  {
   "cell_type": "markdown",
   "metadata": {},
   "source": [
    "## Reading and writing CSV files"
   ]
  },
  {
   "cell_type": "markdown",
   "metadata": {},
   "source": [
    "## Reading and writing CSV files"
   ]
  },
  {
   "cell_type": "markdown",
   "metadata": {},
   "source": [
    "## Reading and writing CSV files"
   ]
  },
  {
   "cell_type": "markdown",
   "metadata": {},
   "source": []
  }
 ],
 "metadata": {
  "kernelspec": {
   "display_name": ".venv",
   "language": "python",
   "name": "python3"
  },
  "language_info": {
   "codemirror_mode": {
    "name": "ipython",
    "version": 3
   },
   "file_extension": ".py",
   "mimetype": "text/x-python",
   "name": "python",
   "nbconvert_exporter": "python",
   "pygments_lexer": "ipython3",
   "version": "3.11.3"
  },
  "orig_nbformat": 4
 },
 "nbformat": 4,
 "nbformat_minor": 2
}
