{
 "cells": [
  {
   "cell_type": "markdown",
   "metadata": {},
   "source": [
    "# Chapter 2: Reading and Writing Files"
   ]
  },
  {
   "cell_type": "markdown",
   "metadata": {},
   "source": [
    "## Reading and writing CSV files"
   ]
  },
  {
   "cell_type": "markdown",
   "metadata": {},
   "source": [
    "### Getting ready"
   ]
  },
  {
   "cell_type": "code",
   "execution_count": 1,
   "metadata": {},
   "outputs": [],
   "source": [
    "import polars as pl"
   ]
  },
  {
   "cell_type": "markdown",
   "metadata": {},
   "source": [
    "### How to do it..."
   ]
  },
  {
   "cell_type": "code",
   "execution_count": 28,
   "metadata": {},
   "outputs": [
    {
     "data": {
      "text/html": [
       "<div><style>\n",
       ".dataframe > thead > tr > th,\n",
       ".dataframe > tbody > tr > td {\n",
       "  text-align: right;\n",
       "  white-space: pre-wrap;\n",
       "}\n",
       "</style>\n",
       "<small>shape: (5, 10)</small><table border=\"1\" class=\"dataframe\"><thead><tr><th>invoice_no</th><th>customer_id</th><th>gender</th><th>age</th><th>category</th><th>quantity</th><th>price</th><th>payment_method</th><th>invoice_date</th><th>shopping_mall</th></tr><tr><td>str</td><td>str</td><td>str</td><td>i64</td><td>str</td><td>i64</td><td>f64</td><td>str</td><td>str</td><td>str</td></tr></thead><tbody><tr><td>&quot;I138884&quot;</td><td>&quot;C241288&quot;</td><td>&quot;Female&quot;</td><td>28</td><td>&quot;Clothing&quot;</td><td>5</td><td>1500.4</td><td>&quot;Credit Card&quot;</td><td>&quot;5/8/2022&quot;</td><td>&quot;Kanyon&quot;</td></tr><tr><td>&quot;I317333&quot;</td><td>&quot;C111565&quot;</td><td>&quot;Male&quot;</td><td>21</td><td>&quot;Shoes&quot;</td><td>3</td><td>1800.51</td><td>&quot;Debit Card&quot;</td><td>&quot;12/12/2021&quot;</td><td>&quot;Forum Istanbul…</td></tr><tr><td>&quot;I127801&quot;</td><td>&quot;C266599&quot;</td><td>&quot;Male&quot;</td><td>20</td><td>&quot;Clothing&quot;</td><td>1</td><td>300.08</td><td>&quot;Cash&quot;</td><td>&quot;9/11/2021&quot;</td><td>&quot;Metrocity&quot;</td></tr><tr><td>&quot;I173702&quot;</td><td>&quot;C988172&quot;</td><td>&quot;Female&quot;</td><td>66</td><td>&quot;Shoes&quot;</td><td>5</td><td>3000.85</td><td>&quot;Credit Card&quot;</td><td>&quot;16/05/2021&quot;</td><td>&quot;Metropol AVM&quot;</td></tr><tr><td>&quot;I337046&quot;</td><td>&quot;C189076&quot;</td><td>&quot;Female&quot;</td><td>53</td><td>&quot;Books&quot;</td><td>4</td><td>60.6</td><td>&quot;Cash&quot;</td><td>&quot;24/10/2021&quot;</td><td>&quot;Kanyon&quot;</td></tr></tbody></table></div>"
      ],
      "text/plain": [
       "shape: (5, 10)\n",
       "┌────────────┬─────────────┬────────┬─────┬───┬─────────┬──────────────┬─────────────┬─────────────┐\n",
       "│ invoice_no ┆ customer_id ┆ gender ┆ age ┆ … ┆ price   ┆ payment_meth ┆ invoice_dat ┆ shopping_ma │\n",
       "│ ---        ┆ ---         ┆ ---    ┆ --- ┆   ┆ ---     ┆ od           ┆ e           ┆ ll          │\n",
       "│ str        ┆ str         ┆ str    ┆ i64 ┆   ┆ f64     ┆ ---          ┆ ---         ┆ ---         │\n",
       "│            ┆             ┆        ┆     ┆   ┆         ┆ str          ┆ str         ┆ str         │\n",
       "╞════════════╪═════════════╪════════╪═════╪═══╪═════════╪══════════════╪═════════════╪═════════════╡\n",
       "│ I138884    ┆ C241288     ┆ Female ┆ 28  ┆ … ┆ 1500.4  ┆ Credit Card  ┆ 5/8/2022    ┆ Kanyon      │\n",
       "│ I317333    ┆ C111565     ┆ Male   ┆ 21  ┆ … ┆ 1800.51 ┆ Debit Card   ┆ 12/12/2021  ┆ Forum       │\n",
       "│            ┆             ┆        ┆     ┆   ┆         ┆              ┆             ┆ Istanbul    │\n",
       "│ I127801    ┆ C266599     ┆ Male   ┆ 20  ┆ … ┆ 300.08  ┆ Cash         ┆ 9/11/2021   ┆ Metrocity   │\n",
       "│ I173702    ┆ C988172     ┆ Female ┆ 66  ┆ … ┆ 3000.85 ┆ Credit Card  ┆ 16/05/2021  ┆ Metropol    │\n",
       "│            ┆             ┆        ┆     ┆   ┆         ┆              ┆             ┆ AVM         │\n",
       "│ I337046    ┆ C189076     ┆ Female ┆ 53  ┆ … ┆ 60.6    ┆ Cash         ┆ 24/10/2021  ┆ Kanyon      │\n",
       "└────────────┴─────────────┴────────┴─────┴───┴─────────┴──────────────┴─────────────┴─────────────┘"
      ]
     },
     "execution_count": 28,
     "metadata": {},
     "output_type": "execute_result"
    }
   ],
   "source": [
    "df = pl.read_csv('../data/customer_shopping_data.csv')\n",
    "df.head()"
   ]
  },
  {
   "cell_type": "code",
   "execution_count": 24,
   "metadata": {},
   "outputs": [
    {
     "data": {
      "text/html": [
       "<div><style>\n",
       ".dataframe > thead > tr > th,\n",
       ".dataframe > tbody > tr > td {\n",
       "  text-align: right;\n",
       "  white-space: pre-wrap;\n",
       "}\n",
       "</style>\n",
       "<small>shape: (5, 10)</small><table border=\"1\" class=\"dataframe\"><thead><tr><th>I138884</th><th>C241288</th><th>Female</th><th>28</th><th>Clothing</th><th>5</th><th>1500.4</th><th>Credit Card</th><th>5/8/2022</th><th>Kanyon</th></tr><tr><td>str</td><td>str</td><td>str</td><td>i64</td><td>str</td><td>i64</td><td>f64</td><td>str</td><td>str</td><td>str</td></tr></thead><tbody><tr><td>&quot;I317333&quot;</td><td>&quot;C111565&quot;</td><td>&quot;Male&quot;</td><td>21</td><td>&quot;Shoes&quot;</td><td>3</td><td>1800.51</td><td>&quot;Debit Card&quot;</td><td>&quot;12/12/2021&quot;</td><td>&quot;Forum Istanbul…</td></tr><tr><td>&quot;I127801&quot;</td><td>&quot;C266599&quot;</td><td>&quot;Male&quot;</td><td>20</td><td>&quot;Clothing&quot;</td><td>1</td><td>300.08</td><td>&quot;Cash&quot;</td><td>&quot;9/11/2021&quot;</td><td>&quot;Metrocity&quot;</td></tr><tr><td>&quot;I173702&quot;</td><td>&quot;C988172&quot;</td><td>&quot;Female&quot;</td><td>66</td><td>&quot;Shoes&quot;</td><td>5</td><td>3000.85</td><td>&quot;Credit Card&quot;</td><td>&quot;16/05/2021&quot;</td><td>&quot;Metropol AVM&quot;</td></tr><tr><td>&quot;I337046&quot;</td><td>&quot;C189076&quot;</td><td>&quot;Female&quot;</td><td>53</td><td>&quot;Books&quot;</td><td>4</td><td>60.6</td><td>&quot;Cash&quot;</td><td>&quot;24/10/2021&quot;</td><td>&quot;Kanyon&quot;</td></tr><tr><td>&quot;I227836&quot;</td><td>&quot;C657758&quot;</td><td>&quot;Female&quot;</td><td>28</td><td>&quot;Clothing&quot;</td><td>5</td><td>1500.4</td><td>&quot;Credit Card&quot;</td><td>&quot;24/05/2022&quot;</td><td>&quot;Forum Istanbul…</td></tr></tbody></table></div>"
      ],
      "text/plain": [
       "shape: (5, 10)\n",
       "┌─────────┬─────────┬────────┬─────┬───┬─────────┬─────────────┬────────────┬────────────────┐\n",
       "│ I138884 ┆ C241288 ┆ Female ┆ 28  ┆ … ┆ 1500.4  ┆ Credit Card ┆ 5/8/2022   ┆ Kanyon         │\n",
       "│ ---     ┆ ---     ┆ ---    ┆ --- ┆   ┆ ---     ┆ ---         ┆ ---        ┆ ---            │\n",
       "│ str     ┆ str     ┆ str    ┆ i64 ┆   ┆ f64     ┆ str         ┆ str        ┆ str            │\n",
       "╞═════════╪═════════╪════════╪═════╪═══╪═════════╪═════════════╪════════════╪════════════════╡\n",
       "│ I317333 ┆ C111565 ┆ Male   ┆ 21  ┆ … ┆ 1800.51 ┆ Debit Card  ┆ 12/12/2021 ┆ Forum Istanbul │\n",
       "│ I127801 ┆ C266599 ┆ Male   ┆ 20  ┆ … ┆ 300.08  ┆ Cash        ┆ 9/11/2021  ┆ Metrocity      │\n",
       "│ I173702 ┆ C988172 ┆ Female ┆ 66  ┆ … ┆ 3000.85 ┆ Credit Card ┆ 16/05/2021 ┆ Metropol AVM   │\n",
       "│ I337046 ┆ C189076 ┆ Female ┆ 53  ┆ … ┆ 60.6    ┆ Cash        ┆ 24/10/2021 ┆ Kanyon         │\n",
       "│ I227836 ┆ C657758 ┆ Female ┆ 28  ┆ … ┆ 1500.4  ┆ Credit Card ┆ 24/05/2022 ┆ Forum Istanbul │\n",
       "└─────────┴─────────┴────────┴─────┴───┴─────────┴─────────────┴────────────┴────────────────┘"
      ]
     },
     "execution_count": 24,
     "metadata": {},
     "output_type": "execute_result"
    }
   ],
   "source": [
    "df = pl.read_csv('../data/customer_shopping_data_no_header.csv')\n",
    "df.head()"
   ]
  },
  {
   "cell_type": "code",
   "execution_count": 25,
   "metadata": {},
   "outputs": [
    {
     "data": {
      "text/html": [
       "<div><style>\n",
       ".dataframe > thead > tr > th,\n",
       ".dataframe > tbody > tr > td {\n",
       "  text-align: right;\n",
       "  white-space: pre-wrap;\n",
       "}\n",
       "</style>\n",
       "<small>shape: (5, 10)</small><table border=\"1\" class=\"dataframe\"><thead><tr><th>column_1</th><th>column_2</th><th>column_3</th><th>column_4</th><th>column_5</th><th>column_6</th><th>column_7</th><th>column_8</th><th>column_9</th><th>column_10</th></tr><tr><td>str</td><td>str</td><td>str</td><td>i64</td><td>str</td><td>i64</td><td>f64</td><td>str</td><td>str</td><td>str</td></tr></thead><tbody><tr><td>&quot;I138884&quot;</td><td>&quot;C241288&quot;</td><td>&quot;Female&quot;</td><td>28</td><td>&quot;Clothing&quot;</td><td>5</td><td>1500.4</td><td>&quot;Credit Card&quot;</td><td>&quot;5/8/2022&quot;</td><td>&quot;Kanyon&quot;</td></tr><tr><td>&quot;I317333&quot;</td><td>&quot;C111565&quot;</td><td>&quot;Male&quot;</td><td>21</td><td>&quot;Shoes&quot;</td><td>3</td><td>1800.51</td><td>&quot;Debit Card&quot;</td><td>&quot;12/12/2021&quot;</td><td>&quot;Forum Istanbul…</td></tr><tr><td>&quot;I127801&quot;</td><td>&quot;C266599&quot;</td><td>&quot;Male&quot;</td><td>20</td><td>&quot;Clothing&quot;</td><td>1</td><td>300.08</td><td>&quot;Cash&quot;</td><td>&quot;9/11/2021&quot;</td><td>&quot;Metrocity&quot;</td></tr><tr><td>&quot;I173702&quot;</td><td>&quot;C988172&quot;</td><td>&quot;Female&quot;</td><td>66</td><td>&quot;Shoes&quot;</td><td>5</td><td>3000.85</td><td>&quot;Credit Card&quot;</td><td>&quot;16/05/2021&quot;</td><td>&quot;Metropol AVM&quot;</td></tr><tr><td>&quot;I337046&quot;</td><td>&quot;C189076&quot;</td><td>&quot;Female&quot;</td><td>53</td><td>&quot;Books&quot;</td><td>4</td><td>60.6</td><td>&quot;Cash&quot;</td><td>&quot;24/10/2021&quot;</td><td>&quot;Kanyon&quot;</td></tr></tbody></table></div>"
      ],
      "text/plain": [
       "shape: (5, 10)\n",
       "┌──────────┬──────────┬──────────┬──────────┬───┬──────────┬─────────────┬────────────┬────────────┐\n",
       "│ column_1 ┆ column_2 ┆ column_3 ┆ column_4 ┆ … ┆ column_7 ┆ column_8    ┆ column_9   ┆ column_10  │\n",
       "│ ---      ┆ ---      ┆ ---      ┆ ---      ┆   ┆ ---      ┆ ---         ┆ ---        ┆ ---        │\n",
       "│ str      ┆ str      ┆ str      ┆ i64      ┆   ┆ f64      ┆ str         ┆ str        ┆ str        │\n",
       "╞══════════╪══════════╪══════════╪══════════╪═══╪══════════╪═════════════╪════════════╪════════════╡\n",
       "│ I138884  ┆ C241288  ┆ Female   ┆ 28       ┆ … ┆ 1500.4   ┆ Credit Card ┆ 5/8/2022   ┆ Kanyon     │\n",
       "│ I317333  ┆ C111565  ┆ Male     ┆ 21       ┆ … ┆ 1800.51  ┆ Debit Card  ┆ 12/12/2021 ┆ Forum      │\n",
       "│          ┆          ┆          ┆          ┆   ┆          ┆             ┆            ┆ Istanbul   │\n",
       "│ I127801  ┆ C266599  ┆ Male     ┆ 20       ┆ … ┆ 300.08   ┆ Cash        ┆ 9/11/2021  ┆ Metrocity  │\n",
       "│ I173702  ┆ C988172  ┆ Female   ┆ 66       ┆ … ┆ 3000.85  ┆ Credit Card ┆ 16/05/2021 ┆ Metropol   │\n",
       "│          ┆          ┆          ┆          ┆   ┆          ┆             ┆            ┆ AVM        │\n",
       "│ I337046  ┆ C189076  ┆ Female   ┆ 53       ┆ … ┆ 60.6     ┆ Cash        ┆ 24/10/2021 ┆ Kanyon     │\n",
       "└──────────┴──────────┴──────────┴──────────┴───┴──────────┴─────────────┴────────────┴────────────┘"
      ]
     },
     "execution_count": 25,
     "metadata": {},
     "output_type": "execute_result"
    }
   ],
   "source": [
    "df = pl.read_csv('../data/customer_shopping_data_no_header.csv', has_header=False)\n",
    "df.head()"
   ]
  },
  {
   "cell_type": "code",
   "execution_count": 30,
   "metadata": {},
   "outputs": [
    {
     "data": {
      "text/html": [
       "<div><style>\n",
       ".dataframe > thead > tr > th,\n",
       ".dataframe > tbody > tr > td {\n",
       "  text-align: right;\n",
       "  white-space: pre-wrap;\n",
       "}\n",
       "</style>\n",
       "<small>shape: (5, 10)</small><table border=\"1\" class=\"dataframe\"><thead><tr><th>invoice_no</th><th>customer_id</th><th>gender</th><th>age</th><th>category</th><th>quantity</th><th>price</th><th>payment_method</th><th>invoice_date</th><th>shopping_mall</th></tr><tr><td>str</td><td>str</td><td>str</td><td>i64</td><td>str</td><td>i64</td><td>f64</td><td>str</td><td>str</td><td>str</td></tr></thead><tbody><tr><td>&quot;I138884&quot;</td><td>&quot;C241288&quot;</td><td>&quot;Female&quot;</td><td>28</td><td>&quot;Clothing&quot;</td><td>5</td><td>1500.4</td><td>&quot;Credit Card&quot;</td><td>&quot;5/8/2022&quot;</td><td>&quot;Kanyon&quot;</td></tr><tr><td>&quot;I317333&quot;</td><td>&quot;C111565&quot;</td><td>&quot;Male&quot;</td><td>21</td><td>&quot;Shoes&quot;</td><td>3</td><td>1800.51</td><td>&quot;Debit Card&quot;</td><td>&quot;12/12/2021&quot;</td><td>&quot;Forum Istanbul…</td></tr><tr><td>&quot;I127801&quot;</td><td>&quot;C266599&quot;</td><td>&quot;Male&quot;</td><td>20</td><td>&quot;Clothing&quot;</td><td>1</td><td>300.08</td><td>&quot;Cash&quot;</td><td>&quot;9/11/2021&quot;</td><td>&quot;Metrocity&quot;</td></tr><tr><td>&quot;I173702&quot;</td><td>&quot;C988172&quot;</td><td>&quot;Female&quot;</td><td>66</td><td>&quot;Shoes&quot;</td><td>5</td><td>3000.85</td><td>&quot;Credit Card&quot;</td><td>&quot;16/05/2021&quot;</td><td>&quot;Metropol AVM&quot;</td></tr><tr><td>&quot;I337046&quot;</td><td>&quot;C189076&quot;</td><td>&quot;Female&quot;</td><td>53</td><td>&quot;Books&quot;</td><td>4</td><td>60.6</td><td>&quot;Cash&quot;</td><td>&quot;24/10/2021&quot;</td><td>&quot;Kanyon&quot;</td></tr></tbody></table></div>"
      ],
      "text/plain": [
       "shape: (5, 10)\n",
       "┌────────────┬─────────────┬────────┬─────┬───┬─────────┬──────────────┬─────────────┬─────────────┐\n",
       "│ invoice_no ┆ customer_id ┆ gender ┆ age ┆ … ┆ price   ┆ payment_meth ┆ invoice_dat ┆ shopping_ma │\n",
       "│ ---        ┆ ---         ┆ ---    ┆ --- ┆   ┆ ---     ┆ od           ┆ e           ┆ ll          │\n",
       "│ str        ┆ str         ┆ str    ┆ i64 ┆   ┆ f64     ┆ ---          ┆ ---         ┆ ---         │\n",
       "│            ┆             ┆        ┆     ┆   ┆         ┆ str          ┆ str         ┆ str         │\n",
       "╞════════════╪═════════════╪════════╪═════╪═══╪═════════╪══════════════╪═════════════╪═════════════╡\n",
       "│ I138884    ┆ C241288     ┆ Female ┆ 28  ┆ … ┆ 1500.4  ┆ Credit Card  ┆ 5/8/2022    ┆ Kanyon      │\n",
       "│ I317333    ┆ C111565     ┆ Male   ┆ 21  ┆ … ┆ 1800.51 ┆ Debit Card   ┆ 12/12/2021  ┆ Forum       │\n",
       "│            ┆             ┆        ┆     ┆   ┆         ┆              ┆             ┆ Istanbul    │\n",
       "│ I127801    ┆ C266599     ┆ Male   ┆ 20  ┆ … ┆ 300.08  ┆ Cash         ┆ 9/11/2021   ┆ Metrocity   │\n",
       "│ I173702    ┆ C988172     ┆ Female ┆ 66  ┆ … ┆ 3000.85 ┆ Credit Card  ┆ 16/05/2021  ┆ Metropol    │\n",
       "│            ┆             ┆        ┆     ┆   ┆         ┆              ┆             ┆ AVM         │\n",
       "│ I337046    ┆ C189076     ┆ Female ┆ 53  ┆ … ┆ 60.6    ┆ Cash         ┆ 24/10/2021  ┆ Kanyon      │\n",
       "└────────────┴─────────────┴────────┴─────┴───┴─────────┴──────────────┴─────────────┴─────────────┘"
      ]
     },
     "execution_count": 30,
     "metadata": {},
     "output_type": "execute_result"
    }
   ],
   "source": [
    "column_names = ['invoice_no', 'customer_id', 'gender', 'age', 'category', 'quantity', 'price', 'payment_method', 'invoice_date', 'shopping_mall']\n",
    "df = pl.read_csv('../data/customer_shopping_data_no_header.csv', \n",
    "                 has_header=False, \n",
    "                 new_columns=column_names)\n",
    "df.head()"
   ]
  },
  {
   "cell_type": "code",
   "execution_count": 31,
   "metadata": {},
   "outputs": [
    {
     "data": {
      "text/html": [
       "<div><style>\n",
       ".dataframe > thead > tr > th,\n",
       ".dataframe > tbody > tr > td {\n",
       "  text-align: right;\n",
       "  white-space: pre-wrap;\n",
       "}\n",
       "</style>\n",
       "<small>shape: (5, 10)</small><table border=\"1\" class=\"dataframe\"><thead><tr><th>invoice_no</th><th>customer_id</th><th>gender</th><th>age</th><th>category</th><th>quantity</th><th>price</th><th>payment_method</th><th>invoice_date</th><th>shopping_mall</th></tr><tr><td>str</td><td>str</td><td>str</td><td>i64</td><td>str</td><td>i64</td><td>f64</td><td>str</td><td>date</td><td>str</td></tr></thead><tbody><tr><td>&quot;I138884&quot;</td><td>&quot;C241288&quot;</td><td>&quot;Female&quot;</td><td>28</td><td>&quot;Clothing&quot;</td><td>5</td><td>1500.4</td><td>&quot;Credit Card&quot;</td><td>2022-08-05</td><td>&quot;Kanyon&quot;</td></tr><tr><td>&quot;I317333&quot;</td><td>&quot;C111565&quot;</td><td>&quot;Male&quot;</td><td>21</td><td>&quot;Shoes&quot;</td><td>3</td><td>1800.51</td><td>&quot;Debit Card&quot;</td><td>2021-12-12</td><td>&quot;Forum Istanbul…</td></tr><tr><td>&quot;I127801&quot;</td><td>&quot;C266599&quot;</td><td>&quot;Male&quot;</td><td>20</td><td>&quot;Clothing&quot;</td><td>1</td><td>300.08</td><td>&quot;Cash&quot;</td><td>2021-11-09</td><td>&quot;Metrocity&quot;</td></tr><tr><td>&quot;I173702&quot;</td><td>&quot;C988172&quot;</td><td>&quot;Female&quot;</td><td>66</td><td>&quot;Shoes&quot;</td><td>5</td><td>3000.85</td><td>&quot;Credit Card&quot;</td><td>2021-05-16</td><td>&quot;Metropol AVM&quot;</td></tr><tr><td>&quot;I337046&quot;</td><td>&quot;C189076&quot;</td><td>&quot;Female&quot;</td><td>53</td><td>&quot;Books&quot;</td><td>4</td><td>60.6</td><td>&quot;Cash&quot;</td><td>2021-10-24</td><td>&quot;Kanyon&quot;</td></tr></tbody></table></div>"
      ],
      "text/plain": [
       "shape: (5, 10)\n",
       "┌────────────┬─────────────┬────────┬─────┬───┬─────────┬──────────────┬─────────────┬─────────────┐\n",
       "│ invoice_no ┆ customer_id ┆ gender ┆ age ┆ … ┆ price   ┆ payment_meth ┆ invoice_dat ┆ shopping_ma │\n",
       "│ ---        ┆ ---         ┆ ---    ┆ --- ┆   ┆ ---     ┆ od           ┆ e           ┆ ll          │\n",
       "│ str        ┆ str         ┆ str    ┆ i64 ┆   ┆ f64     ┆ ---          ┆ ---         ┆ ---         │\n",
       "│            ┆             ┆        ┆     ┆   ┆         ┆ str          ┆ date        ┆ str         │\n",
       "╞════════════╪═════════════╪════════╪═════╪═══╪═════════╪══════════════╪═════════════╪═════════════╡\n",
       "│ I138884    ┆ C241288     ┆ Female ┆ 28  ┆ … ┆ 1500.4  ┆ Credit Card  ┆ 2022-08-05  ┆ Kanyon      │\n",
       "│ I317333    ┆ C111565     ┆ Male   ┆ 21  ┆ … ┆ 1800.51 ┆ Debit Card   ┆ 2021-12-12  ┆ Forum       │\n",
       "│            ┆             ┆        ┆     ┆   ┆         ┆              ┆             ┆ Istanbul    │\n",
       "│ I127801    ┆ C266599     ┆ Male   ┆ 20  ┆ … ┆ 300.08  ┆ Cash         ┆ 2021-11-09  ┆ Metrocity   │\n",
       "│ I173702    ┆ C988172     ┆ Female ┆ 66  ┆ … ┆ 3000.85 ┆ Credit Card  ┆ 2021-05-16  ┆ Metropol    │\n",
       "│            ┆             ┆        ┆     ┆   ┆         ┆              ┆             ┆ AVM         │\n",
       "│ I337046    ┆ C189076     ┆ Female ┆ 53  ┆ … ┆ 60.6    ┆ Cash         ┆ 2021-10-24  ┆ Kanyon      │\n",
       "└────────────┴─────────────┴────────┴─────┴───┴─────────┴──────────────┴─────────────┴─────────────┘"
      ]
     },
     "execution_count": 31,
     "metadata": {},
     "output_type": "execute_result"
    }
   ],
   "source": [
    "df = pl.read_csv('../data/customer_shopping_data_no_header.csv', \n",
    "                 has_header=False, \n",
    "                 new_columns=column_names, \n",
    "                 try_parse_dates=True)\n",
    "df.head()"
   ]
  },
  {
   "cell_type": "code",
   "execution_count": 35,
   "metadata": {},
   "outputs": [
    {
     "data": {
      "text/html": [
       "<div><style>\n",
       ".dataframe > thead > tr > th,\n",
       ".dataframe > tbody > tr > td {\n",
       "  text-align: right;\n",
       "  white-space: pre-wrap;\n",
       "}\n",
       "</style>\n",
       "<small>shape: (5, 10)</small><table border=\"1\" class=\"dataframe\"><thead><tr><th>invoice_no</th><th>customer_id</th><th>gender</th><th>age</th><th>category</th><th>quantity</th><th>price</th><th>payment_method</th><th>invoice_date</th><th>shopping_mall</th></tr><tr><td>str</td><td>str</td><td>str</td><td>i8</td><td>str</td><td>i32</td><td>f64</td><td>str</td><td>date</td><td>str</td></tr></thead><tbody><tr><td>&quot;I138884&quot;</td><td>&quot;C241288&quot;</td><td>&quot;Female&quot;</td><td>28</td><td>&quot;Clothing&quot;</td><td>5</td><td>1500.4</td><td>&quot;Credit Card&quot;</td><td>2022-08-05</td><td>&quot;Kanyon&quot;</td></tr><tr><td>&quot;I317333&quot;</td><td>&quot;C111565&quot;</td><td>&quot;Male&quot;</td><td>21</td><td>&quot;Shoes&quot;</td><td>3</td><td>1800.51</td><td>&quot;Debit Card&quot;</td><td>2021-12-12</td><td>&quot;Forum Istanbul…</td></tr><tr><td>&quot;I127801&quot;</td><td>&quot;C266599&quot;</td><td>&quot;Male&quot;</td><td>20</td><td>&quot;Clothing&quot;</td><td>1</td><td>300.08</td><td>&quot;Cash&quot;</td><td>2021-11-09</td><td>&quot;Metrocity&quot;</td></tr><tr><td>&quot;I173702&quot;</td><td>&quot;C988172&quot;</td><td>&quot;Female&quot;</td><td>66</td><td>&quot;Shoes&quot;</td><td>5</td><td>3000.85</td><td>&quot;Credit Card&quot;</td><td>2021-05-16</td><td>&quot;Metropol AVM&quot;</td></tr><tr><td>&quot;I337046&quot;</td><td>&quot;C189076&quot;</td><td>&quot;Female&quot;</td><td>53</td><td>&quot;Books&quot;</td><td>4</td><td>60.6</td><td>&quot;Cash&quot;</td><td>2021-10-24</td><td>&quot;Kanyon&quot;</td></tr></tbody></table></div>"
      ],
      "text/plain": [
       "shape: (5, 10)\n",
       "┌────────────┬─────────────┬────────┬─────┬───┬─────────┬──────────────┬─────────────┬─────────────┐\n",
       "│ invoice_no ┆ customer_id ┆ gender ┆ age ┆ … ┆ price   ┆ payment_meth ┆ invoice_dat ┆ shopping_ma │\n",
       "│ ---        ┆ ---         ┆ ---    ┆ --- ┆   ┆ ---     ┆ od           ┆ e           ┆ ll          │\n",
       "│ str        ┆ str         ┆ str    ┆ i8  ┆   ┆ f64     ┆ ---          ┆ ---         ┆ ---         │\n",
       "│            ┆             ┆        ┆     ┆   ┆         ┆ str          ┆ date        ┆ str         │\n",
       "╞════════════╪═════════════╪════════╪═════╪═══╪═════════╪══════════════╪═════════════╪═════════════╡\n",
       "│ I138884    ┆ C241288     ┆ Female ┆ 28  ┆ … ┆ 1500.4  ┆ Credit Card  ┆ 2022-08-05  ┆ Kanyon      │\n",
       "│ I317333    ┆ C111565     ┆ Male   ┆ 21  ┆ … ┆ 1800.51 ┆ Debit Card   ┆ 2021-12-12  ┆ Forum       │\n",
       "│            ┆             ┆        ┆     ┆   ┆         ┆              ┆             ┆ Istanbul    │\n",
       "│ I127801    ┆ C266599     ┆ Male   ┆ 20  ┆ … ┆ 300.08  ┆ Cash         ┆ 2021-11-09  ┆ Metrocity   │\n",
       "│ I173702    ┆ C988172     ┆ Female ┆ 66  ┆ … ┆ 3000.85 ┆ Credit Card  ┆ 2021-05-16  ┆ Metropol    │\n",
       "│            ┆             ┆        ┆     ┆   ┆         ┆              ┆             ┆ AVM         │\n",
       "│ I337046    ┆ C189076     ┆ Female ┆ 53  ┆ … ┆ 60.6    ┆ Cash         ┆ 2021-10-24  ┆ Kanyon      │\n",
       "└────────────┴─────────────┴────────┴─────┴───┴─────────┴──────────────┴─────────────┴─────────────┘"
      ]
     },
     "execution_count": 35,
     "metadata": {},
     "output_type": "execute_result"
    }
   ],
   "source": [
    "df = pl.read_csv('../data/customer_shopping_data_no_header.csv', \n",
    "                 has_header=False, \n",
    "                 new_columns=column_names, \n",
    "                 try_parse_dates=True, \n",
    "                 dtypes={'age': pl.Int8, 'quantity': pl.Int32})\n",
    "df.head()"
   ]
  },
  {
   "cell_type": "code",
   "execution_count": 43,
   "metadata": {},
   "outputs": [],
   "source": [
    "df.write_csv('../data/output/shopping_data_output.csv', \n",
    "             has_header=False, \n",
    "             separator=',')"
   ]
  },
  {
   "cell_type": "markdown",
   "metadata": {},
   "source": [
    "### There is more..."
   ]
  },
  {
   "cell_type": "code",
   "execution_count": 45,
   "metadata": {},
   "outputs": [
    {
     "data": {
      "text/html": [
       "<div><style>\n",
       ".dataframe > thead > tr > th,\n",
       ".dataframe > tbody > tr > td {\n",
       "  text-align: right;\n",
       "  white-space: pre-wrap;\n",
       "}\n",
       "</style>\n",
       "<small>shape: (5, 10)</small><table border=\"1\" class=\"dataframe\"><thead><tr><th>invoice_no</th><th>customer_id</th><th>gender</th><th>age</th><th>category</th><th>quantity</th><th>price</th><th>payment_method</th><th>invoice_date</th><th>shopping_mall</th></tr><tr><td>str</td><td>str</td><td>str</td><td>i8</td><td>str</td><td>i32</td><td>f64</td><td>str</td><td>date</td><td>str</td></tr></thead><tbody><tr><td>&quot;I138884&quot;</td><td>&quot;C241288&quot;</td><td>&quot;Female&quot;</td><td>28</td><td>&quot;Clothing&quot;</td><td>5</td><td>1500.4</td><td>&quot;Credit Card&quot;</td><td>2022-08-05</td><td>&quot;Kanyon&quot;</td></tr><tr><td>&quot;I317333&quot;</td><td>&quot;C111565&quot;</td><td>&quot;Male&quot;</td><td>21</td><td>&quot;Shoes&quot;</td><td>3</td><td>1800.51</td><td>&quot;Debit Card&quot;</td><td>2021-12-12</td><td>&quot;Forum Istanbul…</td></tr><tr><td>&quot;I127801&quot;</td><td>&quot;C266599&quot;</td><td>&quot;Male&quot;</td><td>20</td><td>&quot;Clothing&quot;</td><td>1</td><td>300.08</td><td>&quot;Cash&quot;</td><td>2021-11-09</td><td>&quot;Metrocity&quot;</td></tr><tr><td>&quot;I173702&quot;</td><td>&quot;C988172&quot;</td><td>&quot;Female&quot;</td><td>66</td><td>&quot;Shoes&quot;</td><td>5</td><td>3000.85</td><td>&quot;Credit Card&quot;</td><td>2021-05-16</td><td>&quot;Metropol AVM&quot;</td></tr><tr><td>&quot;I337046&quot;</td><td>&quot;C189076&quot;</td><td>&quot;Female&quot;</td><td>53</td><td>&quot;Books&quot;</td><td>4</td><td>60.6</td><td>&quot;Cash&quot;</td><td>2021-10-24</td><td>&quot;Kanyon&quot;</td></tr></tbody></table></div>"
      ],
      "text/plain": [
       "shape: (5, 10)\n",
       "┌────────────┬─────────────┬────────┬─────┬───┬─────────┬──────────────┬─────────────┬─────────────┐\n",
       "│ invoice_no ┆ customer_id ┆ gender ┆ age ┆ … ┆ price   ┆ payment_meth ┆ invoice_dat ┆ shopping_ma │\n",
       "│ ---        ┆ ---         ┆ ---    ┆ --- ┆   ┆ ---     ┆ od           ┆ e           ┆ ll          │\n",
       "│ str        ┆ str         ┆ str    ┆ i8  ┆   ┆ f64     ┆ ---          ┆ ---         ┆ ---         │\n",
       "│            ┆             ┆        ┆     ┆   ┆         ┆ str          ┆ date        ┆ str         │\n",
       "╞════════════╪═════════════╪════════╪═════╪═══╪═════════╪══════════════╪═════════════╪═════════════╡\n",
       "│ I138884    ┆ C241288     ┆ Female ┆ 28  ┆ … ┆ 1500.4  ┆ Credit Card  ┆ 2022-08-05  ┆ Kanyon      │\n",
       "│ I317333    ┆ C111565     ┆ Male   ┆ 21  ┆ … ┆ 1800.51 ┆ Debit Card   ┆ 2021-12-12  ┆ Forum       │\n",
       "│            ┆             ┆        ┆     ┆   ┆         ┆              ┆             ┆ Istanbul    │\n",
       "│ I127801    ┆ C266599     ┆ Male   ┆ 20  ┆ … ┆ 300.08  ┆ Cash         ┆ 2021-11-09  ┆ Metrocity   │\n",
       "│ I173702    ┆ C988172     ┆ Female ┆ 66  ┆ … ┆ 3000.85 ┆ Credit Card  ┆ 2021-05-16  ┆ Metropol    │\n",
       "│            ┆             ┆        ┆     ┆   ┆         ┆              ┆             ┆ AVM         │\n",
       "│ I337046    ┆ C189076     ┆ Female ┆ 53  ┆ … ┆ 60.6    ┆ Cash         ┆ 2021-10-24  ┆ Kanyon      │\n",
       "└────────────┴─────────────┴────────┴─────┴───┴─────────┴──────────────┴─────────────┴─────────────┘"
      ]
     },
     "execution_count": 45,
     "metadata": {},
     "output_type": "execute_result"
    }
   ],
   "source": [
    "lf = pl.scan_csv('../data/customer_shopping_data_no_header.csv', \n",
    "                 has_header=False, \n",
    "                 new_columns=column_names, \n",
    "                 try_parse_dates=True, \n",
    "                 dtypes={'age': pl.Int8, 'quantity': pl.Int32})\n",
    "lf.fetch(5)"
   ]
  },
  {
   "cell_type": "code",
   "execution_count": 47,
   "metadata": {},
   "outputs": [],
   "source": [
    "lf.sink_csv('../data/output/shopping_data_output_sink.csv')"
   ]
  },
  {
   "cell_type": "markdown",
   "metadata": {},
   "source": [
    "## Reading and writing parquet files"
   ]
  },
  {
   "cell_type": "markdown",
   "metadata": {},
   "source": [
    "## Reading and writing CSV files"
   ]
  },
  {
   "cell_type": "markdown",
   "metadata": {},
   "source": [
    "## Reading and writing CSV files"
   ]
  },
  {
   "cell_type": "markdown",
   "metadata": {},
   "source": [
    "## Reading and writing CSV files"
   ]
  },
  {
   "cell_type": "markdown",
   "metadata": {},
   "source": [
    "## Reading and writing CSV files"
   ]
  },
  {
   "cell_type": "markdown",
   "metadata": {},
   "source": [
    "## Reading and writing CSV files"
   ]
  },
  {
   "cell_type": "markdown",
   "metadata": {},
   "source": []
  }
 ],
 "metadata": {
  "kernelspec": {
   "display_name": ".venv",
   "language": "python",
   "name": "python3"
  },
  "language_info": {
   "codemirror_mode": {
    "name": "ipython",
    "version": 3
   },
   "file_extension": ".py",
   "mimetype": "text/x-python",
   "name": "python",
   "nbconvert_exporter": "python",
   "pygments_lexer": "ipython3",
   "version": "3.11.3"
  },
  "orig_nbformat": 4
 },
 "nbformat": 4,
 "nbformat_minor": 2
}
