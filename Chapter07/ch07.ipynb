{
 "cells": [
  {
   "cell_type": "markdown",
   "metadata": {},
   "source": [
    "# Working with Nested Data Structures"
   ]
  },
  {
   "cell_type": "markdown",
   "metadata": {},
   "source": [
    "## Technical Requirements"
   ]
  },
  {
   "cell_type": "code",
   "execution_count": 167,
   "metadata": {},
   "outputs": [],
   "source": [
    "import polars as pl"
   ]
  },
  {
   "cell_type": "code",
   "execution_count": 168,
   "metadata": {},
   "outputs": [
    {
     "name": "stdout",
     "output_type": "stream",
     "text": [
      "Rows: 40949\n",
      "Columns: 16\n",
      "$ video_id                             <str> '2kyS6SvSYSE', '1ZAPwfrtAFY'\n",
      "$ trending_date                        <str> '17.14.11', '17.14.11'\n",
      "$ title                                <str> 'WE WANT TO TALK ABOUT OUR MARRIAGE', 'The Trump Presidency: Last Week Tonight with John Oliver (HBO)'\n",
      "$ channel_title                        <str> 'CaseyNeistat', 'LastWeekTonight'\n",
      "$ category_id                          <i64> 22, 24\n",
      "$ publish_time           <datetime[μs, UTC]> 2017-11-13 17:13:01+00:00, 2017-11-13 07:30:00+00:00\n",
      "$ tags                                 <str> 'SHANtell martin', 'last week tonight trump presidency|last week tonight donald trump|john oliver trump|donald trump'\n",
      "$ views                                <i64> 748374, 2418783\n",
      "$ likes                                <i64> 57527, 97185\n",
      "$ dislikes                             <i64> 2966, 6146\n",
      "$ comment_count                        <i64> 15954, 12703\n",
      "$ thumbnail_link                       <str> 'https://i.ytimg.com/vi/2kyS6SvSYSE/default.jpg', 'https://i.ytimg.com/vi/1ZAPwfrtAFY/default.jpg'\n",
      "$ comments_disabled                   <bool> False, False\n",
      "$ ratings_disabled                    <bool> False, False\n",
      "$ video_error_or_removed              <bool> False, False\n",
      "$ description                          <str> \"SHANTELL'S CHANNEL - https://www.youtube.com/shantellmartin\\\\nCANDICE - https://www.lovebilly.com\\\\n\\\\nfilmed this video in 4k on this -- http://amzn.to/2sTDnRZ\\\\nwith this lens -- http://amzn.to/2rUJOmD\\\\nbig drone - http://tinyurl.com/h4ft3oy\\\\nOTHER GEAR ---  http://amzn.to/2o3GLX5\\\\nSony CAMERA http://amzn.to/2nOBmnv\\\\nOLD CAMERA; http://amzn.to/2o2cQBT\\\\nMAIN LENS; http://amzn.to/2od5gBJ\\\\nBIG SONY CAMERA; http://amzn.to/2nrdJRO\\\\nBIG Canon CAMERA; http://tinyurl.com/jn4q4vz\\\\nBENDY TRIPOD THING; http://tinyurl.com/gw3ylz2\\\\nYOU NEED THIS FOR THE BENDY TRIPOD; http://tinyurl.com/j8mzzua\\\\nWIDE LENS; http://tinyurl.com/jkfcm8t\\\\nMORE EXPENSIVE WIDE LENS; http://tinyurl.com/zrdgtou\\\\nSMALL CAMERA; http://tinyurl.com/hrrzhor\\\\nMICROPHONE; http://tinyurl.com/zefm4jy\\\\nOTHER MICROPHONE; http://tinyurl.com/jxgpj86\\\\nOLD DRONE (cheaper but still great);http://tinyurl.com/zcfmnmd\\\\n\\\\nfollow me; on http://instagram.com/caseyneistat\\\\non https://www.facebook.com/cneistat\\\\non https://twitter.com/CaseyNeistat\\\\n\\\\namazing intro song by https://soundcloud.com/discoteeth\\\\n\\\\nad disclosure.  THIS IS NOT AN AD.  not selling or promoting anything.  but samsung did produce the Shantell Video as a 'GALAXY PROJECT' which is an initiative that enables creators like Shantell and me to make projects we might otherwise not have the opportunity to make.  hope that's clear.  if not ask in the comments and i'll answer any specifics.\", \"One year after the presidential election, John Oliver discusses what we've learned so far and enlists our catheter cowboy to teach Donald Trump what he hasn't.\\\\n\\\\nConnect with Last Week Tonight online...\\\\n\\\\nSubscribe to the Last Week Tonight YouTube channel for more almost news as it almost happens: www.youtube.com/user/LastWeekTonight\\\\n\\\\nFind Last Week Tonight on Facebook like your mom would: http://Facebook.com/LastWeekTonight\\\\n\\\\nFollow us on Twitter for news about jokes and jokes about news: http://Twitter.com/LastWeekTonight\\\\n\\\\nVisit our official site for all that other stuff at once: http://www.hbo.com/lastweektonight\"\n",
      "\n"
     ]
    }
   ],
   "source": [
    "df = pl.read_csv(\"../data/us_videos.csv\", try_parse_dates=True)\n",
    "df.glimpse(max_items_per_column=2)"
   ]
  },
  {
   "cell_type": "code",
   "execution_count": 169,
   "metadata": {},
   "outputs": [
    {
     "data": {
      "text/html": [
       "<div><style>\n",
       ".dataframe > thead > tr,\n",
       ".dataframe > tbody > tr {\n",
       "  text-align: right;\n",
       "  white-space: pre-wrap;\n",
       "}\n",
       "</style>\n",
       "<small>shape: (5, 16)</small><table border=\"1\" class=\"dataframe\"><thead><tr><th>video_id</th><th>trending_date</th><th>title</th><th>channel_title</th><th>category_id</th><th>publish_time</th><th>tags</th><th>views</th><th>likes</th><th>dislikes</th><th>comment_count</th><th>thumbnail_link</th><th>comments_disabled</th><th>ratings_disabled</th><th>video_error_or_removed</th><th>description</th></tr><tr><td>str</td><td>str</td><td>str</td><td>str</td><td>i64</td><td>datetime[μs, UTC]</td><td>str</td><td>i64</td><td>i64</td><td>i64</td><td>i64</td><td>str</td><td>bool</td><td>bool</td><td>bool</td><td>str</td></tr></thead><tbody><tr><td>&quot;2kyS6SvSYSE&quot;</td><td>&quot;17.14.11&quot;</td><td>&quot;WE WANT TO TAL…</td><td>&quot;CaseyNeistat&quot;</td><td>22</td><td>2017-11-13 17:13:01 UTC</td><td>&quot;SHANtell marti…</td><td>748374</td><td>57527</td><td>2966</td><td>15954</td><td>&quot;https://i.ytim…</td><td>false</td><td>false</td><td>false</td><td>&quot;SHANTELL&#x27;S CHA…</td></tr><tr><td>&quot;1ZAPwfrtAFY&quot;</td><td>&quot;17.14.11&quot;</td><td>&quot;The Trump Pres…</td><td>&quot;LastWeekTonigh…</td><td>24</td><td>2017-11-13 07:30:00 UTC</td><td>&quot;last week toni…</td><td>2418783</td><td>97185</td><td>6146</td><td>12703</td><td>&quot;https://i.ytim…</td><td>false</td><td>false</td><td>false</td><td>&quot;One year after…</td></tr><tr><td>&quot;5qpjK5DgCt4&quot;</td><td>&quot;17.14.11&quot;</td><td>&quot;Racist Superma…</td><td>&quot;Rudy Mancuso&quot;</td><td>23</td><td>2017-11-12 19:05:24 UTC</td><td>&quot;racist superma…</td><td>3191434</td><td>146033</td><td>5339</td><td>8181</td><td>&quot;https://i.ytim…</td><td>false</td><td>false</td><td>false</td><td>&quot;WATCH MY PREVI…</td></tr><tr><td>&quot;puqaWrEC7tY&quot;</td><td>&quot;17.14.11&quot;</td><td>&quot;Nickelback Lyr…</td><td>&quot;Good Mythical …</td><td>24</td><td>2017-11-13 11:00:04 UTC</td><td>&quot;rhett and link…</td><td>343168</td><td>10172</td><td>666</td><td>2146</td><td>&quot;https://i.ytim…</td><td>false</td><td>false</td><td>false</td><td>&quot;Today we find …</td></tr><tr><td>&quot;d380meD0W0M&quot;</td><td>&quot;17.14.11&quot;</td><td>&quot;I Dare You: GO…</td><td>&quot;nigahiga&quot;</td><td>24</td><td>2017-11-12 18:01:41 UTC</td><td>&quot;ryan|higa|higa…</td><td>2095731</td><td>132235</td><td>1989</td><td>17518</td><td>&quot;https://i.ytim…</td><td>false</td><td>false</td><td>false</td><td>&quot;I know it&#x27;s be…</td></tr></tbody></table></div>"
      ],
      "text/plain": [
       "shape: (5, 16)\n",
       "┌───────────┬───────────┬───────────┬───────────┬───┬───────────┬───────────┬───────────┬──────────┐\n",
       "│ video_id  ┆ trending_ ┆ title     ┆ channel_t ┆ … ┆ comments_ ┆ ratings_d ┆ video_err ┆ descript │\n",
       "│ ---       ┆ date      ┆ ---       ┆ itle      ┆   ┆ disabled  ┆ isabled   ┆ or_or_rem ┆ ion      │\n",
       "│ str       ┆ ---       ┆ str       ┆ ---       ┆   ┆ ---       ┆ ---       ┆ oved      ┆ ---      │\n",
       "│           ┆ str       ┆           ┆ str       ┆   ┆ bool      ┆ bool      ┆ ---       ┆ str      │\n",
       "│           ┆           ┆           ┆           ┆   ┆           ┆           ┆ bool      ┆          │\n",
       "╞═══════════╪═══════════╪═══════════╪═══════════╪═══╪═══════════╪═══════════╪═══════════╪══════════╡\n",
       "│ 2kyS6SvSY ┆ 17.14.11  ┆ WE WANT   ┆ CaseyNeis ┆ … ┆ false     ┆ false     ┆ false     ┆ SHANTELL │\n",
       "│ SE        ┆           ┆ TO TALK   ┆ tat       ┆   ┆           ┆           ┆           ┆ 'S       │\n",
       "│           ┆           ┆ ABOUT OUR ┆           ┆   ┆           ┆           ┆           ┆ CHANNEL  │\n",
       "│           ┆           ┆ MARRIA…   ┆           ┆   ┆           ┆           ┆           ┆ - https: │\n",
       "│           ┆           ┆           ┆           ┆   ┆           ┆           ┆           ┆ //www…   │\n",
       "│ 1ZAPwfrtA ┆ 17.14.11  ┆ The Trump ┆ LastWeekT ┆ … ┆ false     ┆ false     ┆ false     ┆ One year │\n",
       "│ FY        ┆           ┆ Presidenc ┆ onight    ┆   ┆           ┆           ┆           ┆ after    │\n",
       "│           ┆           ┆ y: Last   ┆           ┆   ┆           ┆           ┆           ┆ the pres │\n",
       "│           ┆           ┆ Week …    ┆           ┆   ┆           ┆           ┆           ┆ idential │\n",
       "│           ┆           ┆           ┆           ┆   ┆           ┆           ┆           ┆ …        │\n",
       "│ 5qpjK5DgC ┆ 17.14.11  ┆ Racist    ┆ Rudy      ┆ … ┆ false     ┆ false     ┆ false     ┆ WATCH MY │\n",
       "│ t4        ┆           ┆ Superman  ┆ Mancuso   ┆   ┆           ┆           ┆           ┆ PREVIOUS │\n",
       "│           ┆           ┆ | Rudy    ┆           ┆   ┆           ┆           ┆           ┆ VIDEO ▶  │\n",
       "│           ┆           ┆ Mancuso,  ┆           ┆   ┆           ┆           ┆           ┆ \\n\\nSU…  │\n",
       "│           ┆           ┆ …         ┆           ┆   ┆           ┆           ┆           ┆          │\n",
       "│ puqaWrEC7 ┆ 17.14.11  ┆ Nickelbac ┆ Good      ┆ … ┆ false     ┆ false     ┆ false     ┆ Today we │\n",
       "│ tY        ┆           ┆ k Lyrics: ┆ Mythical  ┆   ┆           ┆           ┆           ┆ find out │\n",
       "│           ┆           ┆ Real or   ┆ Morning   ┆   ┆           ┆           ┆           ┆ if Link  │\n",
       "│           ┆           ┆ Fake?     ┆           ┆   ┆           ┆           ┆           ┆ is a N…  │\n",
       "│ d380meD0W ┆ 17.14.11  ┆ I Dare    ┆ nigahiga  ┆ … ┆ false     ┆ false     ┆ false     ┆ I know   │\n",
       "│ 0M        ┆           ┆ You:      ┆           ┆   ┆           ┆           ┆           ┆ it's     │\n",
       "│           ┆           ┆ GOING     ┆           ┆   ┆           ┆           ┆           ┆ been a   │\n",
       "│           ┆           ┆ BALD!?    ┆           ┆   ┆           ┆           ┆           ┆ while    │\n",
       "│           ┆           ┆           ┆           ┆   ┆           ┆           ┆           ┆ since w… │\n",
       "└───────────┴───────────┴───────────┴───────────┴───┴───────────┴───────────┴───────────┴──────────┘"
      ]
     },
     "execution_count": 169,
     "metadata": {},
     "output_type": "execute_result"
    }
   ],
   "source": [
    "df.head()"
   ]
  },
  {
   "cell_type": "code",
   "execution_count": 170,
   "metadata": {},
   "outputs": [],
   "source": [
    "df = df.with_columns(pl.col(\"trending_date\").str.strptime(pl.Date, format=\"%y.%d.%m\"))"
   ]
  },
  {
   "cell_type": "code",
   "execution_count": 171,
   "metadata": {},
   "outputs": [
    {
     "data": {
      "text/plain": [
       "Date"
      ]
     },
     "execution_count": 171,
     "metadata": {},
     "output_type": "execute_result"
    }
   ],
   "source": [
    "df.select('trending_date').dtypes[0]"
   ]
  },
  {
   "cell_type": "markdown",
   "metadata": {},
   "source": [
    "## Creating lists"
   ]
  },
  {
   "cell_type": "markdown",
   "metadata": {},
   "source": [
    "### How to do it..."
   ]
  },
  {
   "cell_type": "code",
   "execution_count": 63,
   "metadata": {},
   "outputs": [
    {
     "data": {
      "text/html": [
       "<div><style>\n",
       ".dataframe > thead > tr,\n",
       ".dataframe > tbody > tr {\n",
       "  text-align: right;\n",
       "  white-space: pre-wrap;\n",
       "}\n",
       "</style>\n",
       "<small>shape: (5, 2)</small><table border=\"1\" class=\"dataframe\"><thead><tr><th>tags</th><th>tags in list</th></tr><tr><td>str</td><td>list[str]</td></tr></thead><tbody><tr><td>&quot;SHANtell marti…</td><td>[&quot;SHANtell martin&quot;]</td></tr><tr><td>&quot;last week toni…</td><td>[&quot;last week tonight trump presidency&quot;, &quot;last week tonight donald trump&quot;, … &quot;donald trump&quot;]</td></tr><tr><td>&quot;racist superma…</td><td>[&quot;racist superman&quot;, &quot;rudy&quot;, … &quot; Lele Pons&quot;]</td></tr><tr><td>&quot;rhett and link…</td><td>[&quot;rhett and link&quot;, &quot;gmm&quot;, … &quot;challenge&quot;]</td></tr><tr><td>&quot;ryan|higa|higa…</td><td>[&quot;ryan&quot;, &quot;higa&quot;, … &quot;fail&quot;]</td></tr></tbody></table></div>"
      ],
      "text/plain": [
       "shape: (5, 2)\n",
       "┌───────────────────────────────────┬───────────────────────────────────┐\n",
       "│ tags                              ┆ tags in list                      │\n",
       "│ ---                               ┆ ---                               │\n",
       "│ str                               ┆ list[str]                         │\n",
       "╞═══════════════════════════════════╪═══════════════════════════════════╡\n",
       "│ SHANtell martin                   ┆ [\"SHANtell martin\"]               │\n",
       "│ last week tonight trump presiden… ┆ [\"last week tonight trump presid… │\n",
       "│ racist superman|rudy|mancuso|kin… ┆ [\"racist superman\", \"rudy\", … \" … │\n",
       "│ rhett and link|gmm|good mythical… ┆ [\"rhett and link\", \"gmm\", … \"cha… │\n",
       "│ ryan|higa|higatv|nigahiga|i dare… ┆ [\"ryan\", \"higa\", … \"fail\"]        │\n",
       "└───────────────────────────────────┴───────────────────────────────────┘"
      ]
     },
     "execution_count": 63,
     "metadata": {},
     "output_type": "execute_result"
    }
   ],
   "source": [
    "df.select(\n",
    "    'tags',\n",
    "    pl.col('tags').str.split('|').alias('tags in list')\n",
    ").head()    "
   ]
  },
  {
   "cell_type": "code",
   "execution_count": 67,
   "metadata": {},
   "outputs": [
    {
     "data": {
      "text/html": [
       "<div><style>\n",
       ".dataframe > thead > tr,\n",
       ".dataframe > tbody > tr {\n",
       "  text-align: right;\n",
       "  white-space: pre-wrap;\n",
       "}\n",
       "</style>\n",
       "<small>shape: (5, 2)</small><table border=\"1\" class=\"dataframe\"><thead><tr><th>trending_date</th><th>video_id</th></tr><tr><td>date</td><td>list[str]</td></tr></thead><tbody><tr><td>2018-03-03</td><td>[&quot;HgknAaKNaMM&quot;, &quot;tugFFhML7VY&quot;, … &quot;rZQepOFnYi8&quot;]</td></tr><tr><td>2018-02-28</td><td>[&quot;I8Umj580ls0&quot;, &quot;YskVs5VyqHk&quot;, … &quot;cy9W-ZywVPc&quot;]</td></tr><tr><td>2018-02-13</td><td>[&quot;uzK1OmxS4CE&quot;, &quot;Nsm8l89x2H4&quot;, … &quot;9reizHjwuNY&quot;]</td></tr><tr><td>2018-02-07</td><td>[&quot;wbSwFU6tY1c&quot;, &quot;JQbjS0_ZfJ0&quot;, … &quot;LtlkeMfbdpM&quot;]</td></tr><tr><td>2018-02-10</td><td>[&quot;7kLO2AB5SPM&quot;, &quot;m4faDISwSVo&quot;, … &quot;Bhplg8YCu-M&quot;]</td></tr></tbody></table></div>"
      ],
      "text/plain": [
       "shape: (5, 2)\n",
       "┌───────────────┬───────────────────────────────────┐\n",
       "│ trending_date ┆ video_id                          │\n",
       "│ ---           ┆ ---                               │\n",
       "│ date          ┆ list[str]                         │\n",
       "╞═══════════════╪═══════════════════════════════════╡\n",
       "│ 2018-03-03    ┆ [\"HgknAaKNaMM\", \"tugFFhML7VY\", …… │\n",
       "│ 2018-02-28    ┆ [\"I8Umj580ls0\", \"YskVs5VyqHk\", …… │\n",
       "│ 2018-02-13    ┆ [\"uzK1OmxS4CE\", \"Nsm8l89x2H4\", …… │\n",
       "│ 2018-02-07    ┆ [\"wbSwFU6tY1c\", \"JQbjS0_ZfJ0\", …… │\n",
       "│ 2018-02-10    ┆ [\"7kLO2AB5SPM\", \"m4faDISwSVo\", …… │\n",
       "└───────────────┴───────────────────────────────────┘"
      ]
     },
     "execution_count": 67,
     "metadata": {},
     "output_type": "execute_result"
    }
   ],
   "source": [
    "(\n",
    "    df\n",
    "    .group_by('trending_date')\n",
    "    .agg(pl.col('video_id'))\n",
    ").head()"
   ]
  },
  {
   "cell_type": "code",
   "execution_count": 76,
   "metadata": {},
   "outputs": [
    {
     "data": {
      "text/html": [
       "<div><style>\n",
       ".dataframe > thead > tr,\n",
       ".dataframe > tbody > tr {\n",
       "  text-align: right;\n",
       "  white-space: pre-wrap;\n",
       "}\n",
       "</style>\n",
       "<small>shape: (5, 1)</small><table border=\"1\" class=\"dataframe\"><thead><tr><th>engagement</th></tr><tr><td>list[i64]</td></tr></thead><tbody><tr><td>[748374, 57527, … 15954]</td></tr><tr><td>[2418783, 97185, … 12703]</td></tr><tr><td>[3191434, 146033, … 8181]</td></tr><tr><td>[343168, 10172, … 2146]</td></tr><tr><td>[2095731, 132235, … 17518]</td></tr></tbody></table></div>"
      ],
      "text/plain": [
       "shape: (5, 1)\n",
       "┌────────────────────────────┐\n",
       "│ engagement                 │\n",
       "│ ---                        │\n",
       "│ list[i64]                  │\n",
       "╞════════════════════════════╡\n",
       "│ [748374, 57527, … 15954]   │\n",
       "│ [2418783, 97185, … 12703]  │\n",
       "│ [3191434, 146033, … 8181]  │\n",
       "│ [343168, 10172, … 2146]    │\n",
       "│ [2095731, 132235, … 17518] │\n",
       "└────────────────────────────┘"
      ]
     },
     "execution_count": 76,
     "metadata": {},
     "output_type": "execute_result"
    }
   ],
   "source": [
    "df.select(\n",
    "    pl.concat_list(\n",
    "        pl.col('views'),\n",
    "        pl.col('likes'),\n",
    "        pl.col('dislikes'),\n",
    "        pl.col('comment_count')\n",
    "    ).alias('engagement')\n",
    ").head()"
   ]
  },
  {
   "cell_type": "markdown",
   "metadata": {},
   "source": [
    "### There is more..."
   ]
  },
  {
   "cell_type": "code",
   "execution_count": 124,
   "metadata": {},
   "outputs": [],
   "source": [
    "df = pl.DataFrame({\n",
    "    'nested_list': [\n",
    "        [\n",
    "            [1,2,3], [4,5,6], \n",
    "            [7,8,9], [10,11,12]\n",
    "        ], \n",
    "        [\n",
    "            [1,2,3], [4,5,6], \n",
    "            [7,8,9], [10,11,12]\n",
    "        ]\n",
    "    ]\n",
    "})\n"
   ]
  },
  {
   "cell_type": "code",
   "execution_count": 125,
   "metadata": {},
   "outputs": [
    {
     "data": {
      "text/html": [
       "<div><style>\n",
       ".dataframe > thead > tr,\n",
       ".dataframe > tbody > tr {\n",
       "  text-align: right;\n",
       "  white-space: pre-wrap;\n",
       "}\n",
       "</style>\n",
       "<small>shape: (2, 1)</small><table border=\"1\" class=\"dataframe\"><thead><tr><th>nested_list</th></tr><tr><td>list[list[i64]]</td></tr></thead><tbody><tr><td>[[1, 2, 3], [4, 5, 6], … [10, 11, 12]]</td></tr><tr><td>[[1, 2, 3], [4, 5, 6], … [10, 11, 12]]</td></tr></tbody></table></div>"
      ],
      "text/plain": [
       "shape: (2, 1)\n",
       "┌───────────────────────────────────┐\n",
       "│ nested_list                       │\n",
       "│ ---                               │\n",
       "│ list[list[i64]]                   │\n",
       "╞═══════════════════════════════════╡\n",
       "│ [[1, 2, 3], [4, 5, 6], … [10, 11… │\n",
       "│ [[1, 2, 3], [4, 5, 6], … [10, 11… │\n",
       "└───────────────────────────────────┘"
      ]
     },
     "execution_count": 125,
     "metadata": {},
     "output_type": "execute_result"
    }
   ],
   "source": [
    "df"
   ]
  },
  {
   "cell_type": "code",
   "execution_count": 128,
   "metadata": {},
   "outputs": [],
   "source": [
    "df = pl.DataFrame({\n",
    "    'nested_list': [\n",
    "        [\n",
    "            ['a',2,3], [4,5,6], \n",
    "            [7,8,9], [10,11,12]\n",
    "        ], \n",
    "        [\n",
    "            [1,2,3], [4,5,6], \n",
    "            [7,8,9], [10,11,12]\n",
    "        ]\n",
    "    ]\n",
    "})"
   ]
  },
  {
   "cell_type": "code",
   "execution_count": 129,
   "metadata": {},
   "outputs": [
    {
     "data": {
      "text/html": [
       "<div><style>\n",
       ".dataframe > thead > tr,\n",
       ".dataframe > tbody > tr {\n",
       "  text-align: right;\n",
       "  white-space: pre-wrap;\n",
       "}\n",
       "</style>\n",
       "<small>shape: (2, 1)</small><table border=\"1\" class=\"dataframe\"><thead><tr><th>nested_list</th></tr><tr><td>object</td></tr></thead><tbody><tr><td>[[&#x27;a&#x27;, 2, 3], [4, 5, 6], [7, 8, 9], [10, 11, 12]]</td></tr><tr><td>[[1, 2, 3], [4, 5, 6], [7, 8, 9], [10, 11, 12]]</td></tr></tbody></table></div>"
      ],
      "text/plain": [
       "shape: (2, 1)\n",
       "┌───────────────────────────────────┐\n",
       "│ nested_list                       │\n",
       "│ ---                               │\n",
       "│ object                            │\n",
       "╞═══════════════════════════════════╡\n",
       "│ [['a', 2, 3], [4, 5, 6], [7, 8, … │\n",
       "│ [[1, 2, 3], [4, 5, 6], [7, 8, 9]… │\n",
       "└───────────────────────────────────┘"
      ]
     },
     "execution_count": 129,
     "metadata": {},
     "output_type": "execute_result"
    }
   ],
   "source": [
    "df"
   ]
  },
  {
   "cell_type": "markdown",
   "metadata": {},
   "source": [
    "## Aggregating elements in lists"
   ]
  },
  {
   "cell_type": "markdown",
   "metadata": {},
   "source": [
    "### How to do it..."
   ]
  },
  {
   "cell_type": "code",
   "execution_count": 1,
   "metadata": {},
   "outputs": [],
   "source": [
    "import polars as pl"
   ]
  },
  {
   "cell_type": "code",
   "execution_count": 8,
   "metadata": {},
   "outputs": [
    {
     "data": {
      "text/html": [
       "<div><style>\n",
       ".dataframe > thead > tr,\n",
       ".dataframe > tbody > tr {\n",
       "  text-align: right;\n",
       "  white-space: pre-wrap;\n",
       "}\n",
       "</style>\n",
       "<small>shape: (5, 16)</small><table border=\"1\" class=\"dataframe\"><thead><tr><th>video_id</th><th>trending_date</th><th>title</th><th>channel_title</th><th>category_id</th><th>publish_time</th><th>tags</th><th>views</th><th>likes</th><th>dislikes</th><th>comment_count</th><th>thumbnail_link</th><th>comments_disabled</th><th>ratings_disabled</th><th>video_error_or_removed</th><th>description</th></tr><tr><td>str</td><td>date</td><td>str</td><td>str</td><td>i64</td><td>datetime[μs, UTC]</td><td>str</td><td>i64</td><td>i64</td><td>i64</td><td>i64</td><td>str</td><td>bool</td><td>bool</td><td>bool</td><td>str</td></tr></thead><tbody><tr><td>&quot;2kyS6SvSYSE&quot;</td><td>2017-11-14</td><td>&quot;WE WANT TO TAL…</td><td>&quot;CaseyNeistat&quot;</td><td>22</td><td>2017-11-13 17:13:01 UTC</td><td>&quot;SHANtell marti…</td><td>748374</td><td>57527</td><td>2966</td><td>15954</td><td>&quot;https://i.ytim…</td><td>false</td><td>false</td><td>false</td><td>&quot;SHANTELL&#x27;S CHA…</td></tr><tr><td>&quot;1ZAPwfrtAFY&quot;</td><td>2017-11-14</td><td>&quot;The Trump Pres…</td><td>&quot;LastWeekTonigh…</td><td>24</td><td>2017-11-13 07:30:00 UTC</td><td>&quot;last week toni…</td><td>2418783</td><td>97185</td><td>6146</td><td>12703</td><td>&quot;https://i.ytim…</td><td>false</td><td>false</td><td>false</td><td>&quot;One year after…</td></tr><tr><td>&quot;5qpjK5DgCt4&quot;</td><td>2017-11-14</td><td>&quot;Racist Superma…</td><td>&quot;Rudy Mancuso&quot;</td><td>23</td><td>2017-11-12 19:05:24 UTC</td><td>&quot;racist superma…</td><td>3191434</td><td>146033</td><td>5339</td><td>8181</td><td>&quot;https://i.ytim…</td><td>false</td><td>false</td><td>false</td><td>&quot;WATCH MY PREVI…</td></tr><tr><td>&quot;puqaWrEC7tY&quot;</td><td>2017-11-14</td><td>&quot;Nickelback Lyr…</td><td>&quot;Good Mythical …</td><td>24</td><td>2017-11-13 11:00:04 UTC</td><td>&quot;rhett and link…</td><td>343168</td><td>10172</td><td>666</td><td>2146</td><td>&quot;https://i.ytim…</td><td>false</td><td>false</td><td>false</td><td>&quot;Today we find …</td></tr><tr><td>&quot;d380meD0W0M&quot;</td><td>2017-11-14</td><td>&quot;I Dare You: GO…</td><td>&quot;nigahiga&quot;</td><td>24</td><td>2017-11-12 18:01:41 UTC</td><td>&quot;ryan|higa|higa…</td><td>2095731</td><td>132235</td><td>1989</td><td>17518</td><td>&quot;https://i.ytim…</td><td>false</td><td>false</td><td>false</td><td>&quot;I know it&#x27;s be…</td></tr></tbody></table></div>"
      ],
      "text/plain": [
       "shape: (5, 16)\n",
       "┌───────────┬───────────┬───────────┬───────────┬───┬───────────┬───────────┬───────────┬──────────┐\n",
       "│ video_id  ┆ trending_ ┆ title     ┆ channel_t ┆ … ┆ comments_ ┆ ratings_d ┆ video_err ┆ descript │\n",
       "│ ---       ┆ date      ┆ ---       ┆ itle      ┆   ┆ disabled  ┆ isabled   ┆ or_or_rem ┆ ion      │\n",
       "│ str       ┆ ---       ┆ str       ┆ ---       ┆   ┆ ---       ┆ ---       ┆ oved      ┆ ---      │\n",
       "│           ┆ date      ┆           ┆ str       ┆   ┆ bool      ┆ bool      ┆ ---       ┆ str      │\n",
       "│           ┆           ┆           ┆           ┆   ┆           ┆           ┆ bool      ┆          │\n",
       "╞═══════════╪═══════════╪═══════════╪═══════════╪═══╪═══════════╪═══════════╪═══════════╪══════════╡\n",
       "│ 2kyS6SvSY ┆ 2017-11-1 ┆ WE WANT   ┆ CaseyNeis ┆ … ┆ false     ┆ false     ┆ false     ┆ SHANTELL │\n",
       "│ SE        ┆ 4         ┆ TO TALK   ┆ tat       ┆   ┆           ┆           ┆           ┆ 'S       │\n",
       "│           ┆           ┆ ABOUT OUR ┆           ┆   ┆           ┆           ┆           ┆ CHANNEL  │\n",
       "│           ┆           ┆ MARRIA…   ┆           ┆   ┆           ┆           ┆           ┆ - https: │\n",
       "│           ┆           ┆           ┆           ┆   ┆           ┆           ┆           ┆ //www…   │\n",
       "│ 1ZAPwfrtA ┆ 2017-11-1 ┆ The Trump ┆ LastWeekT ┆ … ┆ false     ┆ false     ┆ false     ┆ One year │\n",
       "│ FY        ┆ 4         ┆ Presidenc ┆ onight    ┆   ┆           ┆           ┆           ┆ after    │\n",
       "│           ┆           ┆ y: Last   ┆           ┆   ┆           ┆           ┆           ┆ the pres │\n",
       "│           ┆           ┆ Week …    ┆           ┆   ┆           ┆           ┆           ┆ idential │\n",
       "│           ┆           ┆           ┆           ┆   ┆           ┆           ┆           ┆ …        │\n",
       "│ 5qpjK5DgC ┆ 2017-11-1 ┆ Racist    ┆ Rudy      ┆ … ┆ false     ┆ false     ┆ false     ┆ WATCH MY │\n",
       "│ t4        ┆ 4         ┆ Superman  ┆ Mancuso   ┆   ┆           ┆           ┆           ┆ PREVIOUS │\n",
       "│           ┆           ┆ | Rudy    ┆           ┆   ┆           ┆           ┆           ┆ VIDEO ▶  │\n",
       "│           ┆           ┆ Mancuso,  ┆           ┆   ┆           ┆           ┆           ┆ \\n\\nSU…  │\n",
       "│           ┆           ┆ …         ┆           ┆   ┆           ┆           ┆           ┆          │\n",
       "│ puqaWrEC7 ┆ 2017-11-1 ┆ Nickelbac ┆ Good      ┆ … ┆ false     ┆ false     ┆ false     ┆ Today we │\n",
       "│ tY        ┆ 4         ┆ k Lyrics: ┆ Mythical  ┆   ┆           ┆           ┆           ┆ find out │\n",
       "│           ┆           ┆ Real or   ┆ Morning   ┆   ┆           ┆           ┆           ┆ if Link  │\n",
       "│           ┆           ┆ Fake?     ┆           ┆   ┆           ┆           ┆           ┆ is a N…  │\n",
       "│ d380meD0W ┆ 2017-11-1 ┆ I Dare    ┆ nigahiga  ┆ … ┆ false     ┆ false     ┆ false     ┆ I know   │\n",
       "│ 0M        ┆ 4         ┆ You:      ┆           ┆   ┆           ┆           ┆           ┆ it's     │\n",
       "│           ┆           ┆ GOING     ┆           ┆   ┆           ┆           ┆           ┆ been a   │\n",
       "│           ┆           ┆ BALD!?    ┆           ┆   ┆           ┆           ┆           ┆ while    │\n",
       "│           ┆           ┆           ┆           ┆   ┆           ┆           ┆           ┆ since w… │\n",
       "└───────────┴───────────┴───────────┴───────────┴───┴───────────┴───────────┴───────────┴──────────┘"
      ]
     },
     "execution_count": 8,
     "metadata": {},
     "output_type": "execute_result"
    }
   ],
   "source": [
    "df = (\n",
    "    pl.read_csv('../data/us_videos.csv', try_parse_dates=True)\n",
    "    .with_columns(\n",
    "        pl.col('trending_date').str.strptime(pl.Date, format='%y.%d.%m')\n",
    "    )\n",
    ")\n",
    "df.head()"
   ]
  },
  {
   "cell_type": "code",
   "execution_count": 9,
   "metadata": {},
   "outputs": [
    {
     "data": {
      "text/html": [
       "<div><style>\n",
       ".dataframe > thead > tr,\n",
       ".dataframe > tbody > tr {\n",
       "  text-align: right;\n",
       "  white-space: pre-wrap;\n",
       "}\n",
       "</style>\n",
       "<small>shape: (5, 5)</small><table border=\"1\" class=\"dataframe\"><thead><tr><th>trending_date</th><th>views</th><th>likes</th><th>dislikes</th><th>comment_count</th></tr><tr><td>date</td><td>list[i64]</td><td>list[i64]</td><td>list[i64]</td><td>list[i64]</td></tr></thead><tbody><tr><td>2018-03-09</td><td>[904177, 3008740, … 1159497]</td><td>[38381, 402827, … 54838]</td><td>[820, 9020, … 2742]</td><td>[14888, 35006, … 3687]</td></tr><tr><td>2018-02-22</td><td>[2841864, 1234544, … 111619]</td><td>[55049, 170540, … 4993]</td><td>[2432, 4176, … 291]</td><td>[4420, 26091, … 941]</td></tr><tr><td>2018-02-25</td><td>[237081, 1747075, … 295145]</td><td>[19147, 28340, … 4891]</td><td>[791, 8928, … 212]</td><td>[3869, 44864, … 340]</td></tr><tr><td>2018-02-28</td><td>[2311760, 1397595, … 2926283]</td><td>[34425, 64068, … 189088]</td><td>[6094, 685, … 1214]</td><td>[9453, 3001, … 30892]</td></tr><tr><td>2018-03-03</td><td>[716096, 1108125, … 1327815]</td><td>[23734, 146294, … 32895]</td><td>[1159, 831, … 1240]</td><td>[2057, 17196, … 2020]</td></tr></tbody></table></div>"
      ],
      "text/plain": [
       "shape: (5, 5)\n",
       "┌───────────────┬──────────────────────┬───────────────────┬────────────────┬──────────────────┐\n",
       "│ trending_date ┆ views                ┆ likes             ┆ dislikes       ┆ comment_count    │\n",
       "│ ---           ┆ ---                  ┆ ---               ┆ ---            ┆ ---              │\n",
       "│ date          ┆ list[i64]            ┆ list[i64]         ┆ list[i64]      ┆ list[i64]        │\n",
       "╞═══════════════╪══════════════════════╪═══════════════════╪════════════════╪══════════════════╡\n",
       "│ 2018-03-09    ┆ [904177, 3008740, …  ┆ [38381, 402827, … ┆ [820, 9020, …  ┆ [14888, 35006, … │\n",
       "│               ┆ 1159497]             ┆ 54838]            ┆ 2742]          ┆ 3687]            │\n",
       "│ 2018-02-22    ┆ [2841864, 1234544, … ┆ [55049, 170540, … ┆ [2432, 4176, … ┆ [4420, 26091, …  │\n",
       "│               ┆ 111619]              ┆ 4993]             ┆ 291]           ┆ 941]             │\n",
       "│ 2018-02-25    ┆ [237081, 1747075, …  ┆ [19147, 28340, …  ┆ [791, 8928, …  ┆ [3869, 44864, …  │\n",
       "│               ┆ 295145]              ┆ 4891]             ┆ 212]           ┆ 340]             │\n",
       "│ 2018-02-28    ┆ [2311760, 1397595, … ┆ [34425, 64068, …  ┆ [6094, 685, …  ┆ [9453, 3001, …   │\n",
       "│               ┆ 2926283]             ┆ 189088]           ┆ 1214]          ┆ 30892]           │\n",
       "│ 2018-03-03    ┆ [716096, 1108125, …  ┆ [23734, 146294, … ┆ [1159, 831, …  ┆ [2057, 17196, …  │\n",
       "│               ┆ 1327815]             ┆ 32895]            ┆ 1240]          ┆ 2020]            │\n",
       "└───────────────┴──────────────────────┴───────────────────┴────────────────┴──────────────────┘"
      ]
     },
     "execution_count": 9,
     "metadata": {},
     "output_type": "execute_result"
    }
   ],
   "source": [
    "agg_df = (\n",
    "    df\n",
    "    .group_by('trending_date')\n",
    "    .agg(\n",
    "        'views',\n",
    "        'likes',\n",
    "        'dislikes',\n",
    "        'comment_count'\n",
    "    )\n",
    ")\n",
    "agg_df.head()"
   ]
  },
  {
   "cell_type": "code",
   "execution_count": 20,
   "metadata": {},
   "outputs": [
    {
     "data": {
      "text/html": [
       "<div><style>\n",
       ".dataframe > thead > tr,\n",
       ".dataframe > tbody > tr {\n",
       "  text-align: right;\n",
       "  white-space: pre-wrap;\n",
       "}\n",
       "</style>\n",
       "<small>shape: (5, 5)</small><table border=\"1\" class=\"dataframe\"><thead><tr><th>trending_date</th><th>views_min</th><th>likes_max</th><th>dislikes_mean</th><th>comment_sum</th></tr><tr><td>date</td><td>i64</td><td>i64</td><td>f64</td><td>i64</td></tr></thead><tbody><tr><td>2018-03-09</td><td>25280</td><td>1621717</td><td>1756.455</td><td>1147010</td></tr><tr><td>2018-02-22</td><td>1464</td><td>1121018</td><td>2218.824121</td><td>905231</td></tr><tr><td>2018-02-25</td><td>9197</td><td>787827</td><td>2340.44</td><td>1094805</td></tr><tr><td>2018-02-28</td><td>7613</td><td>1042192</td><td>2192.477387</td><td>1290226</td></tr><tr><td>2018-03-03</td><td>7332</td><td>2392582</td><td>1388.407035</td><td>1608245</td></tr></tbody></table></div>"
      ],
      "text/plain": [
       "shape: (5, 5)\n",
       "┌───────────────┬───────────┬───────────┬───────────────┬─────────────┐\n",
       "│ trending_date ┆ views_min ┆ likes_max ┆ dislikes_mean ┆ comment_sum │\n",
       "│ ---           ┆ ---       ┆ ---       ┆ ---           ┆ ---         │\n",
       "│ date          ┆ i64       ┆ i64       ┆ f64           ┆ i64         │\n",
       "╞═══════════════╪═══════════╪═══════════╪═══════════════╪═════════════╡\n",
       "│ 2018-03-09    ┆ 25280     ┆ 1621717   ┆ 1756.455      ┆ 1147010     │\n",
       "│ 2018-02-22    ┆ 1464      ┆ 1121018   ┆ 2218.824121   ┆ 905231      │\n",
       "│ 2018-02-25    ┆ 9197      ┆ 787827    ┆ 2340.44       ┆ 1094805     │\n",
       "│ 2018-02-28    ┆ 7613      ┆ 1042192   ┆ 2192.477387   ┆ 1290226     │\n",
       "│ 2018-03-03    ┆ 7332      ┆ 2392582   ┆ 1388.407035   ┆ 1608245     │\n",
       "└───────────────┴───────────┴───────────┴───────────────┴─────────────┘"
      ]
     },
     "execution_count": 20,
     "metadata": {},
     "output_type": "execute_result"
    }
   ],
   "source": [
    "(\n",
    "    agg_df\n",
    "    .select(\n",
    "        'trending_date',\n",
    "        pl.col('views').list.min().alias('views_min'),\n",
    "        pl.col('likes').list.max().alias('likes_max'),\n",
    "        pl.col('dislikes').list.mean().alias('dislikes_mean'),\n",
    "        pl.col('comment_count').list.sum().alias('comment_sum'),\n",
    "    )\n",
    ").head()"
   ]
  },
  {
   "cell_type": "code",
   "execution_count": 37,
   "metadata": {},
   "outputs": [
    {
     "data": {
      "text/html": [
       "<div><style>\n",
       ".dataframe > thead > tr,\n",
       ".dataframe > tbody > tr {\n",
       "  text-align: right;\n",
       "  white-space: pre-wrap;\n",
       "}\n",
       "</style>\n",
       "<small>shape: (5, 2)</small><table border=\"1\" class=\"dataframe\"><thead><tr><th>trending_date</th><th>channel_title</th></tr><tr><td>date</td><td>str</td></tr></thead><tbody><tr><td>2018-02-28</td><td>&quot;The Late Show …</td></tr><tr><td>2018-03-06</td><td>&quot;Dude Perfect:D…</td></tr><tr><td>2018-03-09</td><td>&quot;Nintendo:Camil…</td></tr><tr><td>2018-02-16</td><td>&quot;Disney•Pixar:M…</td></tr><tr><td>2018-02-19</td><td>&quot;What&#x27;s Inside?…</td></tr></tbody></table></div>"
      ],
      "text/plain": [
       "shape: (5, 2)\n",
       "┌───────────────┬───────────────────────────────────┐\n",
       "│ trending_date ┆ channel_title                     │\n",
       "│ ---           ┆ ---                               │\n",
       "│ date          ┆ str                               │\n",
       "╞═══════════════╪═══════════════════════════════════╡\n",
       "│ 2018-02-28    ┆ The Late Show with Stephen Colbe… │\n",
       "│ 2018-03-06    ┆ Dude Perfect:Disney Movie Traile… │\n",
       "│ 2018-03-09    ┆ Nintendo:CamilaCabelloVEVO:Call … │\n",
       "│ 2018-02-16    ┆ Disney•Pixar:Mr. Kate:Muse:Blond… │\n",
       "│ 2018-02-19    ┆ What's Inside?:Strictly Dumpling… │\n",
       "└───────────────┴───────────────────────────────────┘"
      ]
     },
     "execution_count": 37,
     "metadata": {},
     "output_type": "execute_result"
    }
   ],
   "source": [
    "(\n",
    "    df\n",
    "    .group_by('trending_date')\n",
    "    .agg(pl.col('channel_title'))\n",
    "    .with_columns(\n",
    "        pl.col('channel_title').list.join(':')\n",
    "    )\n",
    ").head()"
   ]
  },
  {
   "cell_type": "markdown",
   "metadata": {},
   "source": [
    "### There is more..."
   ]
  },
  {
   "cell_type": "code",
   "execution_count": 44,
   "metadata": {},
   "outputs": [
    {
     "data": {
      "text/html": [
       "<div><style>\n",
       ".dataframe > thead > tr,\n",
       ".dataframe > tbody > tr {\n",
       "  text-align: right;\n",
       "  white-space: pre-wrap;\n",
       "}\n",
       "</style>\n",
       "<small>shape: (5, 2)</small><table border=\"1\" class=\"dataframe\"><thead><tr><th>trending_date</th><th>item_cnt</th></tr><tr><td>date</td><td>u32</td></tr></thead><tbody><tr><td>2018-03-09</td><td>200</td></tr><tr><td>2018-02-22</td><td>199</td></tr><tr><td>2018-02-25</td><td>200</td></tr><tr><td>2018-02-28</td><td>199</td></tr><tr><td>2018-03-03</td><td>199</td></tr></tbody></table></div>"
      ],
      "text/plain": [
       "shape: (5, 2)\n",
       "┌───────────────┬──────────┐\n",
       "│ trending_date ┆ item_cnt │\n",
       "│ ---           ┆ ---      │\n",
       "│ date          ┆ u32      │\n",
       "╞═══════════════╪══════════╡\n",
       "│ 2018-03-09    ┆ 200      │\n",
       "│ 2018-02-22    ┆ 199      │\n",
       "│ 2018-02-25    ┆ 200      │\n",
       "│ 2018-02-28    ┆ 199      │\n",
       "│ 2018-03-03    ┆ 199      │\n",
       "└───────────────┴──────────┘"
      ]
     },
     "execution_count": 44,
     "metadata": {},
     "output_type": "execute_result"
    }
   ],
   "source": [
    "(\n",
    "    agg_df\n",
    "    .select(\n",
    "        'trending_date',\n",
    "        pl.col('views').list.len().alias('item_cnt')\n",
    "    )\n",
    ").head()"
   ]
  },
  {
   "cell_type": "markdown",
   "metadata": {},
   "source": [
    "## Accessing and selecting elements in lists"
   ]
  },
  {
   "cell_type": "markdown",
   "metadata": {},
   "source": [
    "### Getting ready"
   ]
  },
  {
   "cell_type": "code",
   "execution_count": 40,
   "metadata": {},
   "outputs": [],
   "source": [
    "import polars as pl"
   ]
  },
  {
   "cell_type": "code",
   "execution_count": 48,
   "metadata": {},
   "outputs": [],
   "source": [
    "trending_dates_by_channel = (\n",
    "    df\n",
    "    .group_by('channel_title')\n",
    "    .agg('trending_date')\n",
    "    .with_columns(pl.col('trending_date').list.sort())\n",
    ")"
   ]
  },
  {
   "cell_type": "code",
   "execution_count": 50,
   "metadata": {},
   "outputs": [
    {
     "data": {
      "text/html": [
       "<div><style>\n",
       ".dataframe > thead > tr,\n",
       ".dataframe > tbody > tr {\n",
       "  text-align: right;\n",
       "  white-space: pre-wrap;\n",
       "}\n",
       "</style>\n",
       "<small>shape: (5, 2)</small><table border=\"1\" class=\"dataframe\"><thead><tr><th>channel_title</th><th>trending_date</th></tr><tr><td>str</td><td>list[date]</td></tr></thead><tbody><tr><td>&quot;Drew Lynch&quot;</td><td>[2018-01-24, 2018-01-25, … 2018-02-12]</td></tr><tr><td>&quot;FIFATV&quot;</td><td>[2017-12-02, 2017-12-03, … 2017-12-07]</td></tr><tr><td>&quot;SmarterEveryDa…</td><td>[2017-12-29, 2017-12-30, … 2018-03-03]</td></tr><tr><td>&quot;GingerPale&quot;</td><td>[2018-04-19, 2018-04-20, … 2018-05-14]</td></tr><tr><td>&quot;Linkin Park&quot;</td><td>[2017-11-28, 2017-11-29, … 2018-01-05]</td></tr></tbody></table></div>"
      ],
      "text/plain": [
       "shape: (5, 2)\n",
       "┌─────────────────┬───────────────────────────────────┐\n",
       "│ channel_title   ┆ trending_date                     │\n",
       "│ ---             ┆ ---                               │\n",
       "│ str             ┆ list[date]                        │\n",
       "╞═════════════════╪═══════════════════════════════════╡\n",
       "│ Drew Lynch      ┆ [2018-01-24, 2018-01-25, … 2018-… │\n",
       "│ FIFATV          ┆ [2017-12-02, 2017-12-03, … 2017-… │\n",
       "│ SmarterEveryDay ┆ [2017-12-29, 2017-12-30, … 2018-… │\n",
       "│ GingerPale      ┆ [2018-04-19, 2018-04-20, … 2018-… │\n",
       "│ Linkin Park     ┆ [2017-11-28, 2017-11-29, … 2018-… │\n",
       "└─────────────────┴───────────────────────────────────┘"
      ]
     },
     "execution_count": 50,
     "metadata": {},
     "output_type": "execute_result"
    }
   ],
   "source": [
    "trending_dates_by_channel.head()"
   ]
  },
  {
   "cell_type": "markdown",
   "metadata": {},
   "source": [
    "### How to do it..."
   ]
  },
  {
   "cell_type": "code",
   "execution_count": 52,
   "metadata": {},
   "outputs": [
    {
     "data": {
      "text/html": [
       "<div><style>\n",
       ".dataframe > thead > tr,\n",
       ".dataframe > tbody > tr {\n",
       "  text-align: right;\n",
       "  white-space: pre-wrap;\n",
       "}\n",
       "</style>\n",
       "<small>shape: (5, 4)</small><table border=\"1\" class=\"dataframe\"><thead><tr><th>channel_title</th><th>trending_date</th><th>first_trending_date</th><th>last_trending_date</th></tr><tr><td>str</td><td>list[date]</td><td>date</td><td>date</td></tr></thead><tbody><tr><td>&quot;Drew Lynch&quot;</td><td>[2018-01-24, 2018-01-25, … 2018-02-12]</td><td>2018-01-24</td><td>2018-02-12</td></tr><tr><td>&quot;FIFATV&quot;</td><td>[2017-12-02, 2017-12-03, … 2017-12-07]</td><td>2017-12-02</td><td>2017-12-07</td></tr><tr><td>&quot;SmarterEveryDa…</td><td>[2017-12-29, 2017-12-30, … 2018-03-03]</td><td>2017-12-29</td><td>2018-03-03</td></tr><tr><td>&quot;GingerPale&quot;</td><td>[2018-04-19, 2018-04-20, … 2018-05-14]</td><td>2018-04-19</td><td>2018-05-14</td></tr><tr><td>&quot;Linkin Park&quot;</td><td>[2017-11-28, 2017-11-29, … 2018-01-05]</td><td>2017-11-28</td><td>2018-01-05</td></tr></tbody></table></div>"
      ],
      "text/plain": [
       "shape: (5, 4)\n",
       "┌─────────────────┬───────────────────────────────────┬─────────────────────┬────────────────────┐\n",
       "│ channel_title   ┆ trending_date                     ┆ first_trending_date ┆ last_trending_date │\n",
       "│ ---             ┆ ---                               ┆ ---                 ┆ ---                │\n",
       "│ str             ┆ list[date]                        ┆ date                ┆ date               │\n",
       "╞═════════════════╪═══════════════════════════════════╪═════════════════════╪════════════════════╡\n",
       "│ Drew Lynch      ┆ [2018-01-24, 2018-01-25, … 2018-… ┆ 2018-01-24          ┆ 2018-02-12         │\n",
       "│ FIFATV          ┆ [2017-12-02, 2017-12-03, … 2017-… ┆ 2017-12-02          ┆ 2017-12-07         │\n",
       "│ SmarterEveryDay ┆ [2017-12-29, 2017-12-30, … 2018-… ┆ 2017-12-29          ┆ 2018-03-03         │\n",
       "│ GingerPale      ┆ [2018-04-19, 2018-04-20, … 2018-… ┆ 2018-04-19          ┆ 2018-05-14         │\n",
       "│ Linkin Park     ┆ [2017-11-28, 2017-11-29, … 2018-… ┆ 2017-11-28          ┆ 2018-01-05         │\n",
       "└─────────────────┴───────────────────────────────────┴─────────────────────┴────────────────────┘"
      ]
     },
     "execution_count": 52,
     "metadata": {},
     "output_type": "execute_result"
    }
   ],
   "source": [
    "trending_dates_by_channel.with_columns(\n",
    "    pl.col('trending_date').list.first().alias('first_trending_date'),\n",
    "    pl.col('trending_date').list.last().alias('last_trending_date')\n",
    ").head()"
   ]
  },
  {
   "cell_type": "code",
   "execution_count": 73,
   "metadata": {},
   "outputs": [
    {
     "data": {
      "text/html": [
       "<div><style>\n",
       ".dataframe > thead > tr,\n",
       ".dataframe > tbody > tr {\n",
       "  text-align: right;\n",
       "  white-space: pre-wrap;\n",
       "}\n",
       "</style>\n",
       "<small>shape: (5, 3)</small><table border=\"1\" class=\"dataframe\"><thead><tr><th>channel_title</th><th>trending_date</th><th>8th_element</th></tr><tr><td>str</td><td>list[date]</td><td>date</td></tr></thead><tbody><tr><td>&quot;Drew Lynch&quot;</td><td>[2018-01-24, 2018-01-25, … 2018-02-12]</td><td>2018-01-25</td></tr><tr><td>&quot;FIFATV&quot;</td><td>[2017-12-02, 2017-12-03, … 2017-12-07]</td><td>2017-12-03</td></tr><tr><td>&quot;SmarterEveryDa…</td><td>[2017-12-29, 2017-12-30, … 2018-03-03]</td><td>2017-12-30</td></tr><tr><td>&quot;GingerPale&quot;</td><td>[2018-04-19, 2018-04-20, … 2018-05-14]</td><td>2018-04-20</td></tr><tr><td>&quot;Linkin Park&quot;</td><td>[2017-11-28, 2017-11-29, … 2018-01-05]</td><td>2017-11-29</td></tr></tbody></table></div>"
      ],
      "text/plain": [
       "shape: (5, 3)\n",
       "┌─────────────────┬───────────────────────────────────┬─────────────┐\n",
       "│ channel_title   ┆ trending_date                     ┆ 8th_element │\n",
       "│ ---             ┆ ---                               ┆ ---         │\n",
       "│ str             ┆ list[date]                        ┆ date        │\n",
       "╞═════════════════╪═══════════════════════════════════╪═════════════╡\n",
       "│ Drew Lynch      ┆ [2018-01-24, 2018-01-25, … 2018-… ┆ 2018-01-25  │\n",
       "│ FIFATV          ┆ [2017-12-02, 2017-12-03, … 2017-… ┆ 2017-12-03  │\n",
       "│ SmarterEveryDay ┆ [2017-12-29, 2017-12-30, … 2018-… ┆ 2017-12-30  │\n",
       "│ GingerPale      ┆ [2018-04-19, 2018-04-20, … 2018-… ┆ 2018-04-20  │\n",
       "│ Linkin Park     ┆ [2017-11-28, 2017-11-29, … 2018-… ┆ 2017-11-29  │\n",
       "└─────────────────┴───────────────────────────────────┴─────────────┘"
      ]
     },
     "execution_count": 73,
     "metadata": {},
     "output_type": "execute_result"
    }
   ],
   "source": [
    "trending_dates_by_channel.with_columns(\n",
    "    pl.col('trending_date').list.get(1).alias('8th_element')\n",
    ").head()"
   ]
  },
  {
   "cell_type": "code",
   "execution_count": 74,
   "metadata": {},
   "outputs": [
    {
     "data": {
      "text/html": [
       "<div><style>\n",
       ".dataframe > thead > tr,\n",
       ".dataframe > tbody > tr {\n",
       "  text-align: right;\n",
       "  white-space: pre-wrap;\n",
       "}\n",
       "</style>\n",
       "<small>shape: (5, 4)</small><table border=\"1\" class=\"dataframe\"><thead><tr><th>channel_title</th><th>trending_date</th><th>first_5</th><th>last_10</th></tr><tr><td>str</td><td>list[date]</td><td>list[date]</td><td>list[date]</td></tr></thead><tbody><tr><td>&quot;Drew Lynch&quot;</td><td>[2018-01-24, 2018-01-25, … 2018-02-12]</td><td>[2018-01-24, 2018-01-25, … 2018-01-28]</td><td>[2018-01-25, 2018-01-26, … 2018-02-12]</td></tr><tr><td>&quot;FIFATV&quot;</td><td>[2017-12-02, 2017-12-03, … 2017-12-07]</td><td>[2017-12-02, 2017-12-03, … 2017-12-06]</td><td>[2017-12-02, 2017-12-03, … 2017-12-07]</td></tr><tr><td>&quot;SmarterEveryDa…</td><td>[2017-12-29, 2017-12-30, … 2018-03-03]</td><td>[2017-12-29, 2017-12-30, … 2018-01-02]</td><td>[2018-02-06, 2018-02-07, … 2018-03-03]</td></tr><tr><td>&quot;GingerPale&quot;</td><td>[2018-04-19, 2018-04-20, … 2018-05-14]</td><td>[2018-04-19, 2018-04-20, … 2018-04-23]</td><td>[2018-04-26, 2018-04-27, … 2018-05-14]</td></tr><tr><td>&quot;Linkin Park&quot;</td><td>[2017-11-28, 2017-11-29, … 2018-01-05]</td><td>[2017-11-28, 2017-11-29, … 2017-12-07]</td><td>[2017-12-27, 2017-12-28, … 2018-01-05]</td></tr></tbody></table></div>"
      ],
      "text/plain": [
       "shape: (5, 4)\n",
       "┌─────────────────┬──────────────────────────┬──────────────────────────┬──────────────────────────┐\n",
       "│ channel_title   ┆ trending_date            ┆ first_5                  ┆ last_10                  │\n",
       "│ ---             ┆ ---                      ┆ ---                      ┆ ---                      │\n",
       "│ str             ┆ list[date]               ┆ list[date]               ┆ list[date]               │\n",
       "╞═════════════════╪══════════════════════════╪══════════════════════════╪══════════════════════════╡\n",
       "│ Drew Lynch      ┆ [2018-01-24, 2018-01-25, ┆ [2018-01-24, 2018-01-25, ┆ [2018-01-25, 2018-01-26, │\n",
       "│                 ┆ … 2018-…                 ┆ … 2018-…                 ┆ … 2018-…                 │\n",
       "│ FIFATV          ┆ [2017-12-02, 2017-12-03, ┆ [2017-12-02, 2017-12-03, ┆ [2017-12-02, 2017-12-03, │\n",
       "│                 ┆ … 2017-…                 ┆ … 2017-…                 ┆ … 2017-…                 │\n",
       "│ SmarterEveryDay ┆ [2017-12-29, 2017-12-30, ┆ [2017-12-29, 2017-12-30, ┆ [2018-02-06, 2018-02-07, │\n",
       "│                 ┆ … 2018-…                 ┆ … 2018-…                 ┆ … 2018-…                 │\n",
       "│ GingerPale      ┆ [2018-04-19, 2018-04-20, ┆ [2018-04-19, 2018-04-20, ┆ [2018-04-26, 2018-04-27, │\n",
       "│                 ┆ … 2018-…                 ┆ … 2018-…                 ┆ … 2018-…                 │\n",
       "│ Linkin Park     ┆ [2017-11-28, 2017-11-29, ┆ [2017-11-28, 2017-11-29, ┆ [2017-12-27, 2017-12-28, │\n",
       "│                 ┆ … 2018-…                 ┆ … 2017-…                 ┆ … 2018-…                 │\n",
       "└─────────────────┴──────────────────────────┴──────────────────────────┴──────────────────────────┘"
      ]
     },
     "execution_count": 74,
     "metadata": {},
     "output_type": "execute_result"
    }
   ],
   "source": [
    "trending_dates_by_channel.with_columns(\n",
    "    pl.col('trending_date').list.head().alias('first_5'),\n",
    "    pl.col('trending_date').list.tail(10).alias('last_10')\n",
    ").head()"
   ]
  },
  {
   "cell_type": "code",
   "execution_count": 76,
   "metadata": {},
   "outputs": [
    {
     "data": {
      "text/html": [
       "<div><style>\n",
       ".dataframe > thead > tr,\n",
       ".dataframe > tbody > tr {\n",
       "  text-align: right;\n",
       "  white-space: pre-wrap;\n",
       "}\n",
       "</style>\n",
       "<small>shape: (5, 3)</small><table border=\"1\" class=\"dataframe\"><thead><tr><th>channel_title</th><th>trending_date</th><th>3_most_recent_dates</th></tr><tr><td>str</td><td>list[date]</td><td>list[date]</td></tr></thead><tbody><tr><td>&quot;Drew Lynch&quot;</td><td>[2018-01-24, 2018-01-25, … 2018-02-12]</td><td>[2018-02-12, 2018-02-11, 2018-02-10]</td></tr><tr><td>&quot;FIFATV&quot;</td><td>[2017-12-02, 2017-12-03, … 2017-12-07]</td><td>[2017-12-07, 2017-12-06, 2017-12-05]</td></tr><tr><td>&quot;SmarterEveryDa…</td><td>[2017-12-29, 2017-12-30, … 2018-03-03]</td><td>[2018-03-03, 2018-03-02, 2018-02-13]</td></tr><tr><td>&quot;GingerPale&quot;</td><td>[2018-04-19, 2018-04-20, … 2018-05-14]</td><td>[2018-05-14, 2018-05-04, 2018-05-03]</td></tr><tr><td>&quot;Linkin Park&quot;</td><td>[2017-11-28, 2017-11-29, … 2018-01-05]</td><td>[2018-01-05, 2018-01-04, 2018-01-03]</td></tr></tbody></table></div>"
      ],
      "text/plain": [
       "shape: (5, 3)\n",
       "┌─────────────────┬───────────────────────────────────┬───────────────────────────────────┐\n",
       "│ channel_title   ┆ trending_date                     ┆ 3_most_recent_dates               │\n",
       "│ ---             ┆ ---                               ┆ ---                               │\n",
       "│ str             ┆ list[date]                        ┆ list[date]                        │\n",
       "╞═════════════════╪═══════════════════════════════════╪═══════════════════════════════════╡\n",
       "│ Drew Lynch      ┆ [2018-01-24, 2018-01-25, … 2018-… ┆ [2018-02-12, 2018-02-11, 2018-02… │\n",
       "│ FIFATV          ┆ [2017-12-02, 2017-12-03, … 2017-… ┆ [2017-12-07, 2017-12-06, 2017-12… │\n",
       "│ SmarterEveryDay ┆ [2017-12-29, 2017-12-30, … 2018-… ┆ [2018-03-03, 2018-03-02, 2018-02… │\n",
       "│ GingerPale      ┆ [2018-04-19, 2018-04-20, … 2018-… ┆ [2018-05-14, 2018-05-04, 2018-05… │\n",
       "│ Linkin Park     ┆ [2017-11-28, 2017-11-29, … 2018-… ┆ [2018-01-05, 2018-01-04, 2018-01… │\n",
       "└─────────────────┴───────────────────────────────────┴───────────────────────────────────┘"
      ]
     },
     "execution_count": 76,
     "metadata": {},
     "output_type": "execute_result"
    }
   ],
   "source": [
    "trending_dates_by_channel.with_columns(\n",
    "    pl.col('trending_date')\n",
    "    .list.sort(descending=True)\n",
    "    .list.head(3)\n",
    "    .alias('3_most_recent_dates')\n",
    ").head()"
   ]
  },
  {
   "cell_type": "code",
   "execution_count": 77,
   "metadata": {},
   "outputs": [
    {
     "data": {
      "text/html": [
       "<div><style>\n",
       ".dataframe > thead > tr,\n",
       ".dataframe > tbody > tr {\n",
       "  text-align: right;\n",
       "  white-space: pre-wrap;\n",
       "}\n",
       "</style>\n",
       "<small>shape: (5, 3)</small><table border=\"1\" class=\"dataframe\"><thead><tr><th>channel_title</th><th>trending_date</th><th>3_most_recent_dates</th></tr><tr><td>str</td><td>list[date]</td><td>list[date]</td></tr></thead><tbody><tr><td>&quot;Drew Lynch&quot;</td><td>[2018-01-24, 2018-01-25, … 2018-02-12]</td><td>[2018-02-12, 2018-02-11, 2018-02-10]</td></tr><tr><td>&quot;FIFATV&quot;</td><td>[2017-12-02, 2017-12-03, … 2017-12-07]</td><td>[2017-12-07, 2017-12-06, 2017-12-05]</td></tr><tr><td>&quot;SmarterEveryDa…</td><td>[2017-12-29, 2017-12-30, … 2018-03-03]</td><td>[2018-03-03, 2018-03-02, 2018-02-13]</td></tr><tr><td>&quot;GingerPale&quot;</td><td>[2018-04-19, 2018-04-20, … 2018-05-14]</td><td>[2018-05-14, 2018-05-04, 2018-05-03]</td></tr><tr><td>&quot;Linkin Park&quot;</td><td>[2017-11-28, 2017-11-29, … 2018-01-05]</td><td>[2018-01-05, 2018-01-04, 2018-01-03]</td></tr></tbody></table></div>"
      ],
      "text/plain": [
       "shape: (5, 3)\n",
       "┌─────────────────┬───────────────────────────────────┬───────────────────────────────────┐\n",
       "│ channel_title   ┆ trending_date                     ┆ 3_most_recent_dates               │\n",
       "│ ---             ┆ ---                               ┆ ---                               │\n",
       "│ str             ┆ list[date]                        ┆ list[date]                        │\n",
       "╞═════════════════╪═══════════════════════════════════╪═══════════════════════════════════╡\n",
       "│ Drew Lynch      ┆ [2018-01-24, 2018-01-25, … 2018-… ┆ [2018-02-12, 2018-02-11, 2018-02… │\n",
       "│ FIFATV          ┆ [2017-12-02, 2017-12-03, … 2017-… ┆ [2017-12-07, 2017-12-06, 2017-12… │\n",
       "│ SmarterEveryDay ┆ [2017-12-29, 2017-12-30, … 2018-… ┆ [2018-03-03, 2018-03-02, 2018-02… │\n",
       "│ GingerPale      ┆ [2018-04-19, 2018-04-20, … 2018-… ┆ [2018-05-14, 2018-05-04, 2018-05… │\n",
       "│ Linkin Park     ┆ [2017-11-28, 2017-11-29, … 2018-… ┆ [2018-01-05, 2018-01-04, 2018-01… │\n",
       "└─────────────────┴───────────────────────────────────┴───────────────────────────────────┘"
      ]
     },
     "execution_count": 77,
     "metadata": {},
     "output_type": "execute_result"
    }
   ],
   "source": [
    "trending_dates_by_channel.with_columns(\n",
    "    pl.col('trending_date')\n",
    "    .list.sort(descending=True)\n",
    "    .list.head(3)\n",
    "    .alias('3_most_recent_dates')\n",
    ").head()"
   ]
  },
  {
   "cell_type": "code",
   "execution_count": 91,
   "metadata": {},
   "outputs": [
    {
     "data": {
      "text/html": [
       "<div><style>\n",
       ".dataframe > thead > tr,\n",
       ".dataframe > tbody > tr {\n",
       "  text-align: right;\n",
       "  white-space: pre-wrap;\n",
       "}\n",
       "</style>\n",
       "<small>shape: (5, 4)</small><table border=\"1\" class=\"dataframe\"><thead><tr><th>trending_date</th><th>first_2_dates</th><th>3rd_date_to_last</th><th>from_6th_date_to_end</th></tr><tr><td>list[date]</td><td>list[date]</td><td>list[date]</td><td>list[date]</td></tr></thead><tbody><tr><td>[2018-01-24, 2018-01-25, … 2018-02-12]</td><td>[2018-01-24, 2018-01-25]</td><td>[2018-02-10]</td><td>[2018-02-09, 2018-02-10, … 2018-02-12]</td></tr><tr><td>[2017-12-02, 2017-12-03, … 2017-12-07]</td><td>[2017-12-02, 2017-12-03]</td><td>[2017-12-05]</td><td>[]</td></tr><tr><td>[2017-12-29, 2017-12-30, … 2018-03-03]</td><td>[2017-12-29, 2017-12-30]</td><td>[2018-02-13]</td><td>[2018-02-06, 2018-02-07, … 2018-03-03]</td></tr><tr><td>[2018-04-19, 2018-04-20, … 2018-05-14]</td><td>[2018-04-19, 2018-04-20]</td><td>[2018-05-03]</td><td>[2018-04-26, 2018-04-27, … 2018-05-14]</td></tr><tr><td>[2017-11-28, 2017-11-29, … 2018-01-05]</td><td>[2017-11-28, 2017-11-29]</td><td>[2018-01-03]</td><td>[2017-12-10, 2017-12-11, … 2018-01-05]</td></tr></tbody></table></div>"
      ],
      "text/plain": [
       "shape: (5, 4)\n",
       "┌──────────────────────┬────────────────────────────┬──────────────────┬───────────────────────────┐\n",
       "│ trending_date        ┆ first_2_dates              ┆ 3rd_date_to_last ┆ from_6th_date_to_end      │\n",
       "│ ---                  ┆ ---                        ┆ ---              ┆ ---                       │\n",
       "│ list[date]           ┆ list[date]                 ┆ list[date]       ┆ list[date]                │\n",
       "╞══════════════════════╪════════════════════════════╪══════════════════╪═══════════════════════════╡\n",
       "│ [2018-01-24,         ┆ [2018-01-24, 2018-01-25]   ┆ [2018-02-10]     ┆ [2018-02-09, 2018-02-10,  │\n",
       "│ 2018-01-25, … 2018-… ┆                            ┆                  ┆ … 2018-…                  │\n",
       "│ [2017-12-02,         ┆ [2017-12-02, 2017-12-03]   ┆ [2017-12-05]     ┆ []                        │\n",
       "│ 2017-12-03, … 2017-… ┆                            ┆                  ┆                           │\n",
       "│ [2017-12-29,         ┆ [2017-12-29, 2017-12-30]   ┆ [2018-02-13]     ┆ [2018-02-06, 2018-02-07,  │\n",
       "│ 2017-12-30, … 2018-… ┆                            ┆                  ┆ … 2018-…                  │\n",
       "│ [2018-04-19,         ┆ [2018-04-19, 2018-04-20]   ┆ [2018-05-03]     ┆ [2018-04-26, 2018-04-27,  │\n",
       "│ 2018-04-20, … 2018-… ┆                            ┆                  ┆ … 2018-…                  │\n",
       "│ [2017-11-28,         ┆ [2017-11-28, 2017-11-29]   ┆ [2018-01-03]     ┆ [2017-12-10, 2017-12-11,  │\n",
       "│ 2017-11-29, … 2018-… ┆                            ┆                  ┆ … 2018-…                  │\n",
       "└──────────────────────┴────────────────────────────┴──────────────────┴───────────────────────────┘"
      ]
     },
     "execution_count": 91,
     "metadata": {},
     "output_type": "execute_result"
    }
   ],
   "source": [
    "trending_dates_by_channel.select(\n",
    "    'trending_date',\n",
    "    pl.col('trending_date').list.slice(0, 2).alias('first_2_dates'),\n",
    "    pl.col('trending_date').list.slice(-3, 1).alias('3rd_date_to_last'),\n",
    "    pl.col('trending_date').list.slice(7).alias('from_6th_date_to_end')\n",
    ").head()"
   ]
  },
  {
   "cell_type": "code",
   "execution_count": 115,
   "metadata": {},
   "outputs": [
    {
     "data": {
      "text/html": [
       "<div><style>\n",
       ".dataframe > thead > tr,\n",
       ".dataframe > tbody > tr {\n",
       "  text-align: right;\n",
       "  white-space: pre-wrap;\n",
       "}\n",
       "</style>\n",
       "<small>shape: (5, 4)</small><table border=\"1\" class=\"dataframe\"><thead><tr><th>trending_date</th><th>first_and_last</th><th>first_repeated</th><th>first_and_10th_or_null</th></tr><tr><td>list[date]</td><td>list[date]</td><td>list[date]</td><td>list[date]</td></tr></thead><tbody><tr><td>[2018-01-24, 2018-01-25, … 2018-02-12]</td><td>[2018-01-24, 2018-02-12]</td><td>[2018-01-24, 2018-01-24, … 2018-01-24]</td><td>[2018-01-24, 2018-02-12]</td></tr><tr><td>[2017-12-02, 2017-12-03, … 2017-12-07]</td><td>[2017-12-02, 2017-12-07]</td><td>[2017-12-02, 2017-12-02, … 2017-12-02]</td><td>[2017-12-02, null]</td></tr><tr><td>[2017-12-29, 2017-12-30, … 2018-03-03]</td><td>[2017-12-29, 2018-03-03]</td><td>[2017-12-29, 2017-12-29, … 2017-12-29]</td><td>[2017-12-29, 2018-02-09]</td></tr><tr><td>[2018-04-19, 2018-04-20, … 2018-05-14]</td><td>[2018-04-19, 2018-05-14]</td><td>[2018-04-19, 2018-04-19, … 2018-04-19]</td><td>[2018-04-19, 2018-04-29]</td></tr><tr><td>[2017-11-28, 2017-11-29, … 2018-01-05]</td><td>[2017-11-28, 2018-01-05]</td><td>[2017-11-28, 2017-11-28, … 2017-11-28]</td><td>[2017-11-28, 2017-12-24]</td></tr></tbody></table></div>"
      ],
      "text/plain": [
       "shape: (5, 4)\n",
       "┌───────────────────────────┬────────────────┬──────────────────────────┬──────────────────────────┐\n",
       "│ trending_date             ┆ first_and_last ┆ first_repeated           ┆ first_and_10th_or_null   │\n",
       "│ ---                       ┆ ---            ┆ ---                      ┆ ---                      │\n",
       "│ list[date]                ┆ list[date]     ┆ list[date]               ┆ list[date]               │\n",
       "╞═══════════════════════════╪════════════════╪══════════════════════════╪══════════════════════════╡\n",
       "│ [2018-01-24, 2018-01-25,  ┆ [2018-01-24,   ┆ [2018-01-24, 2018-01-24, ┆ [2018-01-24, 2018-02-12] │\n",
       "│ … 2018-…                  ┆ 2018-02-12]    ┆ … 2018-…                 ┆                          │\n",
       "│ [2017-12-02, 2017-12-03,  ┆ [2017-12-02,   ┆ [2017-12-02, 2017-12-02, ┆ [2017-12-02, null]       │\n",
       "│ … 2017-…                  ┆ 2017-12-07]    ┆ … 2017-…                 ┆                          │\n",
       "│ [2017-12-29, 2017-12-30,  ┆ [2017-12-29,   ┆ [2017-12-29, 2017-12-29, ┆ [2017-12-29, 2018-02-09] │\n",
       "│ … 2018-…                  ┆ 2018-03-03]    ┆ … 2017-…                 ┆                          │\n",
       "│ [2018-04-19, 2018-04-20,  ┆ [2018-04-19,   ┆ [2018-04-19, 2018-04-19, ┆ [2018-04-19, 2018-04-29] │\n",
       "│ … 2018-…                  ┆ 2018-05-14]    ┆ … 2018-…                 ┆                          │\n",
       "│ [2017-11-28, 2017-11-29,  ┆ [2017-11-28,   ┆ [2017-11-28, 2017-11-28, ┆ [2017-11-28, 2017-12-24] │\n",
       "│ … 2018-…                  ┆ 2018-01-05]    ┆ … 2017-…                 ┆                          │\n",
       "└───────────────────────────┴────────────────┴──────────────────────────┴──────────────────────────┘"
      ]
     },
     "execution_count": 115,
     "metadata": {},
     "output_type": "execute_result"
    }
   ],
   "source": [
    "trending_dates_by_channel.select(\n",
    "    'trending_date',\n",
    "    pl.col('trending_date').list.gather([0, -1]).alias('first_and_last'),\n",
    "    pl.col('trending_date').list.gather([0, 0, 0, 0]).alias('first_repeated'),\n",
    "    pl.col('trending_date').list.gather([0, 10], null_on_oob=True).alias('first_and_10th_or_null'),\n",
    ").head()"
   ]
  },
  {
   "cell_type": "markdown",
   "metadata": {},
   "source": [
    "### There is more..."
   ]
  },
  {
   "cell_type": "code",
   "execution_count": 168,
   "metadata": {},
   "outputs": [
    {
     "data": {
      "text/html": [
       "<div><style>\n",
       ".dataframe > thead > tr,\n",
       ".dataframe > tbody > tr {\n",
       "  text-align: right;\n",
       "  white-space: pre-wrap;\n",
       "}\n",
       "</style>\n",
       "<small>shape: (5, 5)</small><table border=\"1\" class=\"dataframe\"><thead><tr><th>trending_date</th><th>category_id</th><th>category_id_cnt</th><th>category_id_unique</th><th>category_id_unique_cnt</th></tr><tr><td>date</td><td>list[i64]</td><td>u32</td><td>list[i64]</td><td>u32</td></tr></thead><tbody><tr><td>2018-02-13</td><td>[1, 1, … 28]</td><td>199</td><td>[1, 2, … 28]</td><td>14</td></tr><tr><td>2018-03-09</td><td>[1, 1, … 28]</td><td>200</td><td>[1, 10, … 28]</td><td>13</td></tr><tr><td>2018-02-28</td><td>[1, 1, … 28]</td><td>199</td><td>[1, 2, … 28]</td><td>14</td></tr><tr><td>2018-02-19</td><td>[1, 1, … 29]</td><td>200</td><td>[1, 2, … 29]</td><td>15</td></tr><tr><td>2018-03-06</td><td>[1, 1, … 28]</td><td>200</td><td>[1, 2, … 28]</td><td>14</td></tr></tbody></table></div>"
      ],
      "text/plain": [
       "shape: (5, 5)\n",
       "┌───────────────┬──────────────┬─────────────────┬────────────────────┬────────────────────────┐\n",
       "│ trending_date ┆ category_id  ┆ category_id_cnt ┆ category_id_unique ┆ category_id_unique_cnt │\n",
       "│ ---           ┆ ---          ┆ ---             ┆ ---                ┆ ---                    │\n",
       "│ date          ┆ list[i64]    ┆ u32             ┆ list[i64]          ┆ u32                    │\n",
       "╞═══════════════╪══════════════╪═════════════════╪════════════════════╪════════════════════════╡\n",
       "│ 2018-02-13    ┆ [1, 1, … 28] ┆ 199             ┆ [1, 2, … 28]       ┆ 14                     │\n",
       "│ 2018-03-09    ┆ [1, 1, … 28] ┆ 200             ┆ [1, 10, … 28]      ┆ 13                     │\n",
       "│ 2018-02-28    ┆ [1, 1, … 28] ┆ 199             ┆ [1, 2, … 28]       ┆ 14                     │\n",
       "│ 2018-02-19    ┆ [1, 1, … 29] ┆ 200             ┆ [1, 2, … 29]       ┆ 15                     │\n",
       "│ 2018-03-06    ┆ [1, 1, … 28] ┆ 200             ┆ [1, 2, … 28]       ┆ 14                     │\n",
       "└───────────────┴──────────────┴─────────────────┴────────────────────┴────────────────────────┘"
      ]
     },
     "execution_count": 168,
     "metadata": {},
     "output_type": "execute_result"
    }
   ],
   "source": [
    "(\n",
    "    df\n",
    "    .group_by('trending_date')\n",
    "    .agg('category_id')\n",
    "    .with_columns(pl.col('category_id').list.sort())\n",
    "    .with_columns(\n",
    "        pl.col('category_id'),\n",
    "        pl.col('category_id').list.len().alias('category_id_cnt'),\n",
    "        pl.col('category_id').list.unique().alias('category_id_unique'),\n",
    "        pl.col('category_id').list.unique().list.len().alias('category_id_unique_cnt')\n",
    "    )\n",
    ").head()"
   ]
  },
  {
   "cell_type": "code",
   "execution_count": 9,
   "metadata": {},
   "outputs": [
    {
     "ename": "NameError",
     "evalue": "name 'trending_dates_by_channel' is not defined",
     "output_type": "error",
     "traceback": [
      "\u001b[0;31m---------------------------------------------------------------------------\u001b[0m",
      "\u001b[0;31mNameError\u001b[0m                                 Traceback (most recent call last)",
      "Cell \u001b[0;32mIn[9], line 1\u001b[0m\n\u001b[0;32m----> 1\u001b[0m \u001b[43mtrending_dates_by_channel\u001b[49m\u001b[38;5;241m.\u001b[39mwith_columns(\n\u001b[1;32m      2\u001b[0m     pl\u001b[38;5;241m.\u001b[39mcol(\u001b[38;5;124m\"\u001b[39m\u001b[38;5;124mtrending_date\u001b[39m\u001b[38;5;124m\"\u001b[39m)\n\u001b[1;32m      3\u001b[0m     \u001b[38;5;241m.\u001b[39mlist\u001b[38;5;241m.\u001b[39msample(n\u001b[38;5;241m=\u001b[39m\u001b[38;5;241m3\u001b[39m, with_replacement\u001b[38;5;241m=\u001b[39m\u001b[38;5;28;01mTrue\u001b[39;00m, seed\u001b[38;5;241m=\u001b[39m\u001b[38;5;241m0\u001b[39m)\n\u001b[1;32m      4\u001b[0m     \u001b[38;5;241m.\u001b[39malias(\u001b[38;5;124m\"\u001b[39m\u001b[38;5;124msamples\u001b[39m\u001b[38;5;124m\"\u001b[39m)\n\u001b[1;32m      5\u001b[0m )\u001b[38;5;241m.\u001b[39mhead()\n",
      "\u001b[0;31mNameError\u001b[0m: name 'trending_dates_by_channel' is not defined"
     ]
    }
   ],
   "source": [
    "trending_dates_by_channel.with_columns(\n",
    "    pl.col(\"trending_date\")\n",
    "    .list.sample(n=3, with_replacement=True, seed=0)\n",
    "    .alias(\"samples\")\n",
    ").head()"
   ]
  },
  {
   "cell_type": "markdown",
   "metadata": {},
   "source": [
    "## Applying logic to each element in lists"
   ]
  },
  {
   "cell_type": "markdown",
   "metadata": {},
   "source": [
    "### Getting ready"
   ]
  },
  {
   "cell_type": "code",
   "execution_count": 172,
   "metadata": {},
   "outputs": [],
   "source": [
    "agg_df = (\n",
    "    df\n",
    "    .group_by('trending_date')\n",
    "    .agg('views', 'channel_title')\n",
    ")"
   ]
  },
  {
   "cell_type": "code",
   "execution_count": 173,
   "metadata": {},
   "outputs": [
    {
     "data": {
      "text/html": [
       "<div><style>\n",
       ".dataframe > thead > tr,\n",
       ".dataframe > tbody > tr {\n",
       "  text-align: right;\n",
       "  white-space: pre-wrap;\n",
       "}\n",
       "</style>\n",
       "<small>shape: (5, 3)</small><table border=\"1\" class=\"dataframe\"><thead><tr><th>trending_date</th><th>views</th><th>channel_title</th></tr><tr><td>date</td><td>list[i64]</td><td>list[str]</td></tr></thead><tbody><tr><td>2018-02-13</td><td>[266874, 953801, … 736748]</td><td>[&quot;NBC Sports&quot;, &quot;The King of Random&quot;, … &quot;SmarterEveryDay&quot;]</td></tr><tr><td>2018-03-03</td><td>[716096, 1108125, … 1327815]</td><td>[&quot;carrieunderwoodVEVO&quot;, &quot;nigahiga&quot;, … &quot;Brian Hull&quot;]</td></tr><tr><td>2018-02-25</td><td>[237081, 1747075, … 295145]</td><td>[&quot;Thomas Sanders&quot;, &quot;Breakfast Club Power 105.1 FM&quot;, … &quot;Crusoe the Celebrity Dachshund&quot;]</td></tr><tr><td>2018-03-12</td><td>[1611772, 1498364, … 422979]</td><td>[&quot;Saturday Night Live&quot;, &quot;Liza Koshy Too&quot;, … &quot;BBC News&quot;]</td></tr><tr><td>2018-03-09</td><td>[904177, 3008740, … 1159497]</td><td>[&quot;Nintendo&quot;, &quot;CamilaCabelloVEVO&quot;, … &quot;Hannah Stocking&quot;]</td></tr></tbody></table></div>"
      ],
      "text/plain": [
       "shape: (5, 3)\n",
       "┌───────────────┬──────────────────────────────┬───────────────────────────────────┐\n",
       "│ trending_date ┆ views                        ┆ channel_title                     │\n",
       "│ ---           ┆ ---                          ┆ ---                               │\n",
       "│ date          ┆ list[i64]                    ┆ list[str]                         │\n",
       "╞═══════════════╪══════════════════════════════╪═══════════════════════════════════╡\n",
       "│ 2018-02-13    ┆ [266874, 953801, … 736748]   ┆ [\"NBC Sports\", \"The King of Rand… │\n",
       "│ 2018-03-03    ┆ [716096, 1108125, … 1327815] ┆ [\"carrieunderwoodVEVO\", \"nigahig… │\n",
       "│ 2018-02-25    ┆ [237081, 1747075, … 295145]  ┆ [\"Thomas Sanders\", \"Breakfast Cl… │\n",
       "│ 2018-03-12    ┆ [1611772, 1498364, … 422979] ┆ [\"Saturday Night Live\", \"Liza Ko… │\n",
       "│ 2018-03-09    ┆ [904177, 3008740, … 1159497] ┆ [\"Nintendo\", \"CamilaCabelloVEVO\"… │\n",
       "└───────────────┴──────────────────────────────┴───────────────────────────────────┘"
      ]
     },
     "execution_count": 173,
     "metadata": {},
     "output_type": "execute_result"
    }
   ],
   "source": [
    "agg_df.head()"
   ]
  },
  {
   "cell_type": "markdown",
   "metadata": {},
   "source": [
    "### How to do it..."
   ]
  },
  {
   "cell_type": "code",
   "execution_count": 174,
   "metadata": {},
   "outputs": [
    {
     "data": {
      "text/html": [
       "<div><style>\n",
       ".dataframe > thead > tr,\n",
       ".dataframe > tbody > tr {\n",
       "  text-align: right;\n",
       "  white-space: pre-wrap;\n",
       "}\n",
       "</style>\n",
       "<small>shape: (5, 5)</small><table border=\"1\" class=\"dataframe\"><thead><tr><th>views</th><th>pl.element</th><th>pl.first</th><th>pl.last</th><th>pl.col</th></tr><tr><td>list[i64]</td><td>list[i64]</td><td>list[i64]</td><td>list[i64]</td><td>list[i64]</td></tr></thead><tbody><tr><td>[266874, 953801, … 736748]</td><td>[266874, 953801, … 736748]</td><td>[266874, 953801, … 736748]</td><td>[266874, 953801, … 736748]</td><td>[266874, 953801, … 736748]</td></tr><tr><td>[716096, 1108125, … 1327815]</td><td>[716096, 1108125, … 1327815]</td><td>[716096, 1108125, … 1327815]</td><td>[716096, 1108125, … 1327815]</td><td>[716096, 1108125, … 1327815]</td></tr><tr><td>[237081, 1747075, … 295145]</td><td>[237081, 1747075, … 295145]</td><td>[237081, 1747075, … 295145]</td><td>[237081, 1747075, … 295145]</td><td>[237081, 1747075, … 295145]</td></tr><tr><td>[1611772, 1498364, … 422979]</td><td>[1611772, 1498364, … 422979]</td><td>[1611772, 1498364, … 422979]</td><td>[1611772, 1498364, … 422979]</td><td>[1611772, 1498364, … 422979]</td></tr><tr><td>[904177, 3008740, … 1159497]</td><td>[904177, 3008740, … 1159497]</td><td>[904177, 3008740, … 1159497]</td><td>[904177, 3008740, … 1159497]</td><td>[904177, 3008740, … 1159497]</td></tr></tbody></table></div>"
      ],
      "text/plain": [
       "shape: (5, 5)\n",
       "┌───────────────────┬───────────────────┬───────────────────┬───────────────────┬──────────────────┐\n",
       "│ views             ┆ pl.element        ┆ pl.first          ┆ pl.last           ┆ pl.col           │\n",
       "│ ---               ┆ ---               ┆ ---               ┆ ---               ┆ ---              │\n",
       "│ list[i64]         ┆ list[i64]         ┆ list[i64]         ┆ list[i64]         ┆ list[i64]        │\n",
       "╞═══════════════════╪═══════════════════╪═══════════════════╪═══════════════════╪══════════════════╡\n",
       "│ [266874, 953801,  ┆ [266874, 953801,  ┆ [266874, 953801,  ┆ [266874, 953801,  ┆ [266874, 953801, │\n",
       "│ … 736748]         ┆ … 736748]         ┆ … 736748]         ┆ … 736748]         ┆ … 736748]        │\n",
       "│ [716096, 1108125, ┆ [716096, 1108125, ┆ [716096, 1108125, ┆ [716096, 1108125, ┆ [716096,         │\n",
       "│ … 1327815]        ┆ … 1327815]        ┆ … 1327815]        ┆ … 1327815]        ┆ 1108125, …       │\n",
       "│                   ┆                   ┆                   ┆                   ┆ 1327815]         │\n",
       "│ [237081, 1747075, ┆ [237081, 1747075, ┆ [237081, 1747075, ┆ [237081, 1747075, ┆ [237081,         │\n",
       "│ … 295145]         ┆ … 295145]         ┆ … 295145]         ┆ … 295145]         ┆ 1747075, …       │\n",
       "│                   ┆                   ┆                   ┆                   ┆ 295145]          │\n",
       "│ [1611772,         ┆ [1611772,         ┆ [1611772,         ┆ [1611772,         ┆ [1611772,        │\n",
       "│ 1498364, …        ┆ 1498364, …        ┆ 1498364, …        ┆ 1498364, …        ┆ 1498364, …       │\n",
       "│ 422979]           ┆ 422979]           ┆ 422979]           ┆ 422979]           ┆ 422979]          │\n",
       "│ [904177, 3008740, ┆ [904177, 3008740, ┆ [904177, 3008740, ┆ [904177, 3008740, ┆ [904177,         │\n",
       "│ … 1159497]        ┆ … 1159497]        ┆ … 1159497]        ┆ … 1159497]        ┆ 3008740, …       │\n",
       "│                   ┆                   ┆                   ┆                   ┆ 1159497]         │\n",
       "└───────────────────┴───────────────────┴───────────────────┴───────────────────┴──────────────────┘"
      ]
     },
     "execution_count": 174,
     "metadata": {},
     "output_type": "execute_result"
    }
   ],
   "source": [
    "(\n",
    "    agg_df\n",
    "    .select(\n",
    "        'views',\n",
    "        pl.col('views').list.eval(pl.element()).alias('pl.element'),\n",
    "        pl.col('views').list.eval(pl.first()).alias('pl.first'),\n",
    "        pl.col('views').list.eval(pl.last()).alias('pl.last'),\n",
    "        pl.col('views').list.eval(pl.col('')).alias('pl.col')\n",
    "    )\n",
    ").head()"
   ]
  },
  {
   "cell_type": "code",
   "execution_count": 175,
   "metadata": {},
   "outputs": [
    {
     "data": {
      "text/html": [
       "<div><style>\n",
       ".dataframe > thead > tr,\n",
       ".dataframe > tbody > tr {\n",
       "  text-align: right;\n",
       "  white-space: pre-wrap;\n",
       "}\n",
       "</style>\n",
       "<small>shape: (5, 2)</small><table border=\"1\" class=\"dataframe\"><thead><tr><th>channel_title</th><th>channel_title_upper</th></tr><tr><td>list[str]</td><td>list[str]</td></tr></thead><tbody><tr><td>[&quot;NBC Sports&quot;, &quot;The King of Random&quot;]</td><td>[&quot;NBC SPORTS&quot;, &quot;THE KING OF RANDOM&quot;]</td></tr><tr><td>[&quot;carrieunderwoodVEVO&quot;, &quot;nigahiga&quot;]</td><td>[&quot;CARRIEUNDERWOODVEVO&quot;, &quot;NIGAHIGA&quot;]</td></tr><tr><td>[&quot;Thomas Sanders&quot;, &quot;Breakfast Club Power 105.1 FM&quot;]</td><td>[&quot;THOMAS SANDERS&quot;, &quot;BREAKFAST CLUB POWER 105.1 FM&quot;]</td></tr><tr><td>[&quot;Saturday Night Live&quot;, &quot;Liza Koshy Too&quot;]</td><td>[&quot;SATURDAY NIGHT LIVE&quot;, &quot;LIZA KOSHY TOO&quot;]</td></tr><tr><td>[&quot;Nintendo&quot;, &quot;CamilaCabelloVEVO&quot;]</td><td>[&quot;NINTENDO&quot;, &quot;CAMILACABELLOVEVO&quot;]</td></tr></tbody></table></div>"
      ],
      "text/plain": [
       "shape: (5, 2)\n",
       "┌───────────────────────────────────┬───────────────────────────────────┐\n",
       "│ channel_title                     ┆ channel_title_upper               │\n",
       "│ ---                               ┆ ---                               │\n",
       "│ list[str]                         ┆ list[str]                         │\n",
       "╞═══════════════════════════════════╪═══════════════════════════════════╡\n",
       "│ [\"NBC Sports\", \"The King of Rand… ┆ [\"NBC SPORTS\", \"THE KING OF RAND… │\n",
       "│ [\"carrieunderwoodVEVO\", \"nigahig… ┆ [\"CARRIEUNDERWOODVEVO\", \"NIGAHIG… │\n",
       "│ [\"Thomas Sanders\", \"Breakfast Cl… ┆ [\"THOMAS SANDERS\", \"BREAKFAST CL… │\n",
       "│ [\"Saturday Night Live\", \"Liza Ko… ┆ [\"SATURDAY NIGHT LIVE\", \"LIZA KO… │\n",
       "│ [\"Nintendo\", \"CamilaCabelloVEVO\"… ┆ [\"NINTENDO\", \"CAMILACABELLOVEVO\"… │\n",
       "└───────────────────────────────────┴───────────────────────────────────┘"
      ]
     },
     "execution_count": 175,
     "metadata": {},
     "output_type": "execute_result"
    }
   ],
   "source": [
    "channel_titles_df = (\n",
    "    agg_df\n",
    "    .select(\n",
    "        pl.col(\"channel_title\").list.head(2),\n",
    "        pl.col(\"channel_title\")\n",
    "        .list.eval(pl.element().str.to_uppercase())\n",
    "        .list.head(2)\n",
    "        .alias(\"channel_title_upper\")\n",
    "    )\n",
    ")\n",
    "channel_titles_df.head()"
   ]
  },
  {
   "cell_type": "code",
   "execution_count": 176,
   "metadata": {},
   "outputs": [
    {
     "data": {
      "text/html": [
       "<div><style>\n",
       ".dataframe > thead > tr,\n",
       ".dataframe > tbody > tr {\n",
       "  text-align: right;\n",
       "  white-space: pre-wrap;\n",
       "}\n",
       "</style>\n",
       "<small>shape: (5, 2)</small><table border=\"1\" class=\"dataframe\"><thead><tr><th>channel_title</th><th>channel_title_upper</th></tr><tr><td>list[str]</td><td>list[str]</td></tr></thead><tbody><tr><td>[&quot;NBC Sports&quot;, &quot;The King of Random&quot;]</td><td>[&quot;THE KING OF RANDOM&quot;]</td></tr><tr><td>[&quot;carrieunderwoodVEVO&quot;, &quot;nigahiga&quot;]</td><td>[&quot;CARRIEUNDERWOODVEVO&quot;, &quot;NIGAHIGA&quot;]</td></tr><tr><td>[&quot;Thomas Sanders&quot;, &quot;Breakfast Club Power 105.1 FM&quot;]</td><td>[&quot;THOMAS SANDERS&quot;, &quot;BREAKFAST CLUB POWER 105.1 FM&quot;]</td></tr><tr><td>[&quot;Saturday Night Live&quot;, &quot;Liza Koshy Too&quot;]</td><td>[&quot;SATURDAY NIGHT LIVE&quot;, &quot;LIZA KOSHY TOO&quot;]</td></tr><tr><td>[&quot;Nintendo&quot;, &quot;CamilaCabelloVEVO&quot;]</td><td>[&quot;CAMILACABELLOVEVO&quot;]</td></tr></tbody></table></div>"
      ],
      "text/plain": [
       "shape: (5, 2)\n",
       "┌───────────────────────────────────┬───────────────────────────────────┐\n",
       "│ channel_title                     ┆ channel_title_upper               │\n",
       "│ ---                               ┆ ---                               │\n",
       "│ list[str]                         ┆ list[str]                         │\n",
       "╞═══════════════════════════════════╪═══════════════════════════════════╡\n",
       "│ [\"NBC Sports\", \"The King of Rand… ┆ [\"THE KING OF RANDOM\"]            │\n",
       "│ [\"carrieunderwoodVEVO\", \"nigahig… ┆ [\"CARRIEUNDERWOODVEVO\", \"NIGAHIG… │\n",
       "│ [\"Thomas Sanders\", \"Breakfast Cl… ┆ [\"THOMAS SANDERS\", \"BREAKFAST CL… │\n",
       "│ [\"Saturday Night Live\", \"Liza Ko… ┆ [\"SATURDAY NIGHT LIVE\", \"LIZA KO… │\n",
       "│ [\"Nintendo\", \"CamilaCabelloVEVO\"… ┆ [\"CAMILACABELLOVEVO\"]             │\n",
       "└───────────────────────────────────┴───────────────────────────────────┘"
      ]
     },
     "execution_count": 176,
     "metadata": {},
     "output_type": "execute_result"
    }
   ],
   "source": [
    "(\n",
    "    channel_titles_df\n",
    "    .with_columns(\n",
    "        pl.col('channel_title_upper')\n",
    "        .list.eval(\n",
    "            pl.element().filter(\n",
    "                pl.element().str.contains('A', literal=True)\n",
    "            )\n",
    "        )\n",
    "    )\n",
    ").head()"
   ]
  },
  {
   "cell_type": "code",
   "execution_count": 177,
   "metadata": {},
   "outputs": [
    {
     "data": {
      "text/html": [
       "<div><style>\n",
       ".dataframe > thead > tr,\n",
       ".dataframe > tbody > tr {\n",
       "  text-align: right;\n",
       "  white-space: pre-wrap;\n",
       "}\n",
       "</style>\n",
       "<small>shape: (5, 3)</small><table border=\"1\" class=\"dataframe\"><thead><tr><th>trending_date</th><th>views</th><th>views_rank</th></tr><tr><td>date</td><td>list[i64]</td><td>list[u32]</td></tr></thead><tbody><tr><td>2018-02-13</td><td>[266874, 953801, … 736748]</td><td>[133, 66, … 79]</td></tr><tr><td>2018-03-03</td><td>[716096, 1108125, … 1327815]</td><td>[80, 55, … 47]</td></tr><tr><td>2018-02-25</td><td>[237081, 1747075, … 295145]</td><td>[115, 35, … 109]</td></tr><tr><td>2018-03-12</td><td>[1611772, 1498364, … 422979]</td><td>[54, 61, … 132]</td></tr><tr><td>2018-03-09</td><td>[904177, 3008740, … 1159497]</td><td>[75, 18, … 65]</td></tr></tbody></table></div>"
      ],
      "text/plain": [
       "shape: (5, 3)\n",
       "┌───────────────┬──────────────────────────────┬──────────────────┐\n",
       "│ trending_date ┆ views                        ┆ views_rank       │\n",
       "│ ---           ┆ ---                          ┆ ---              │\n",
       "│ date          ┆ list[i64]                    ┆ list[u32]        │\n",
       "╞═══════════════╪══════════════════════════════╪══════════════════╡\n",
       "│ 2018-02-13    ┆ [266874, 953801, … 736748]   ┆ [133, 66, … 79]  │\n",
       "│ 2018-03-03    ┆ [716096, 1108125, … 1327815] ┆ [80, 55, … 47]   │\n",
       "│ 2018-02-25    ┆ [237081, 1747075, … 295145]  ┆ [115, 35, … 109] │\n",
       "│ 2018-03-12    ┆ [1611772, 1498364, … 422979] ┆ [54, 61, … 132]  │\n",
       "│ 2018-03-09    ┆ [904177, 3008740, … 1159497] ┆ [75, 18, … 65]   │\n",
       "└───────────────┴──────────────────────────────┴──────────────────┘"
      ]
     },
     "execution_count": 177,
     "metadata": {},
     "output_type": "execute_result"
    }
   ],
   "source": [
    "(\n",
    "    agg_df\n",
    "    .select(\n",
    "        'trending_date',\n",
    "        'views',\n",
    "        pl.col('views')\n",
    "        .list.eval(pl.element().rank('dense', descending=True))\n",
    "        .alias('views_rank'),\n",
    "    )\n",
    ").head()"
   ]
  },
  {
   "cell_type": "code",
   "execution_count": 178,
   "metadata": {},
   "outputs": [
    {
     "data": {
      "text/html": [
       "<div><style>\n",
       ".dataframe > thead > tr,\n",
       ".dataframe > tbody > tr {\n",
       "  text-align: right;\n",
       "  white-space: pre-wrap;\n",
       "}\n",
       "</style>\n",
       "<small>shape: (5, 3)</small><table border=\"1\" class=\"dataframe\"><thead><tr><th>trending_date</th><th>views</th><th>views_rank</th></tr><tr><td>date</td><td>list[i64]</td><td>list[u32]</td></tr></thead><tbody><tr><td>2018-02-13</td><td>[266874, 953801, … 736748]</td><td>[133, 66, … 79]</td></tr><tr><td>2018-03-03</td><td>[716096, 1108125, … 1327815]</td><td>[80, 55, … 47]</td></tr><tr><td>2018-02-25</td><td>[237081, 1747075, … 295145]</td><td>[115, 35, … 109]</td></tr><tr><td>2018-03-12</td><td>[1611772, 1498364, … 422979]</td><td>[54, 61, … 132]</td></tr><tr><td>2018-03-09</td><td>[904177, 3008740, … 1159497]</td><td>[75, 18, … 65]</td></tr></tbody></table></div>"
      ],
      "text/plain": [
       "shape: (5, 3)\n",
       "┌───────────────┬──────────────────────────────┬──────────────────┐\n",
       "│ trending_date ┆ views                        ┆ views_rank       │\n",
       "│ ---           ┆ ---                          ┆ ---              │\n",
       "│ date          ┆ list[i64]                    ┆ list[u32]        │\n",
       "╞═══════════════╪══════════════════════════════╪══════════════════╡\n",
       "│ 2018-02-13    ┆ [266874, 953801, … 736748]   ┆ [133, 66, … 79]  │\n",
       "│ 2018-03-03    ┆ [716096, 1108125, … 1327815] ┆ [80, 55, … 47]   │\n",
       "│ 2018-02-25    ┆ [237081, 1747075, … 295145]  ┆ [115, 35, … 109] │\n",
       "│ 2018-03-12    ┆ [1611772, 1498364, … 422979] ┆ [54, 61, … 132]  │\n",
       "│ 2018-03-09    ┆ [904177, 3008740, … 1159497] ┆ [75, 18, … 65]   │\n",
       "└───────────────┴──────────────────────────────┴──────────────────┘"
      ]
     },
     "execution_count": 178,
     "metadata": {},
     "output_type": "execute_result"
    }
   ],
   "source": [
    "views_rank_df = (\n",
    "    agg_df\n",
    "    .select(\n",
    "        'trending_date',\n",
    "        'views',\n",
    "        pl.col('views')\n",
    "        .list.eval(pl.element().rank('dense', descending=True))\n",
    "        .alias('views_rank'),\n",
    "    )\n",
    ")\n",
    "views_rank_df.head()"
   ]
  },
  {
   "cell_type": "code",
   "execution_count": 179,
   "metadata": {},
   "outputs": [
    {
     "data": {
      "text/html": [
       "<div><style>\n",
       ".dataframe > thead > tr,\n",
       ".dataframe > tbody > tr {\n",
       "  text-align: right;\n",
       "  white-space: pre-wrap;\n",
       "}\n",
       "</style>\n",
       "<small>shape: (5, 3)</small><table border=\"1\" class=\"dataframe\"><thead><tr><th>trending_date</th><th>views</th><th>views_rank</th></tr><tr><td>date</td><td>list[i64]</td><td>list[u32]</td></tr></thead><tbody><tr><td>2017-11-29</td><td>[30583293, 6969128, 19670964]</td><td>[1, 3, 2]</td></tr><tr><td>2018-06-02</td><td>[32523416, 42700273, 225211923]</td><td>[3, 2, 1]</td></tr><tr><td>2018-04-19</td><td>[52556278, 36908726, 39814522]</td><td>[1, 3, 2]</td></tr><tr><td>2018-05-21</td><td>[65396157, 162556776, 60207478]</td><td>[2, 1, 3]</td></tr><tr><td>2018-02-03</td><td>[15643726, 19392316, 10878906]</td><td>[2, 1, 3]</td></tr></tbody></table></div>"
      ],
      "text/plain": [
       "shape: (5, 3)\n",
       "┌───────────────┬─────────────────────────────────┬────────────┐\n",
       "│ trending_date ┆ views                           ┆ views_rank │\n",
       "│ ---           ┆ ---                             ┆ ---        │\n",
       "│ date          ┆ list[i64]                       ┆ list[u32]  │\n",
       "╞═══════════════╪═════════════════════════════════╪════════════╡\n",
       "│ 2017-11-29    ┆ [30583293, 6969128, 19670964]   ┆ [1, 3, 2]  │\n",
       "│ 2018-06-02    ┆ [32523416, 42700273, 225211923] ┆ [3, 2, 1]  │\n",
       "│ 2018-04-19    ┆ [52556278, 36908726, 39814522]  ┆ [1, 3, 2]  │\n",
       "│ 2018-05-21    ┆ [65396157, 162556776, 60207478] ┆ [2, 1, 3]  │\n",
       "│ 2018-02-03    ┆ [15643726, 19392316, 10878906]  ┆ [2, 1, 3]  │\n",
       "└───────────────┴─────────────────────────────────┴────────────┘"
      ]
     },
     "execution_count": 179,
     "metadata": {},
     "output_type": "execute_result"
    }
   ],
   "source": [
    "top3_views_df = (\n",
    "    views_rank_df\n",
    "    .explode('views', 'views_rank')\n",
    "    .filter(pl.col('views_rank')<=3)\n",
    "    .group_by('trending_date')\n",
    "    .agg(pl.all())\n",
    ")\n",
    "top3_views_df.head()"
   ]
  },
  {
   "cell_type": "code",
   "execution_count": 180,
   "metadata": {},
   "outputs": [
    {
     "data": {
      "text/html": [
       "<div><style>\n",
       ".dataframe > thead > tr,\n",
       ".dataframe > tbody > tr {\n",
       "  text-align: right;\n",
       "  white-space: pre-wrap;\n",
       "}\n",
       "</style>\n",
       "<small>shape: (5, 3)</small><table border=\"1\" class=\"dataframe\"><thead><tr><th>trending_date</th><th>views</th><th>views_rank</th></tr><tr><td>date</td><td>i64</td><td>u32</td></tr></thead><tbody><tr><td>2018-02-13</td><td>266874</td><td>133</td></tr><tr><td>2018-02-13</td><td>953801</td><td>66</td></tr><tr><td>2018-02-13</td><td>638618</td><td>85</td></tr><tr><td>2018-02-13</td><td>319444</td><td>122</td></tr><tr><td>2018-02-13</td><td>3780988</td><td>23</td></tr></tbody></table></div>"
      ],
      "text/plain": [
       "shape: (5, 3)\n",
       "┌───────────────┬─────────┬────────────┐\n",
       "│ trending_date ┆ views   ┆ views_rank │\n",
       "│ ---           ┆ ---     ┆ ---        │\n",
       "│ date          ┆ i64     ┆ u32        │\n",
       "╞═══════════════╪═════════╪════════════╡\n",
       "│ 2018-02-13    ┆ 266874  ┆ 133        │\n",
       "│ 2018-02-13    ┆ 953801  ┆ 66         │\n",
       "│ 2018-02-13    ┆ 638618  ┆ 85         │\n",
       "│ 2018-02-13    ┆ 319444  ┆ 122        │\n",
       "│ 2018-02-13    ┆ 3780988 ┆ 23         │\n",
       "└───────────────┴─────────┴────────────┘"
      ]
     },
     "execution_count": 180,
     "metadata": {},
     "output_type": "execute_result"
    }
   ],
   "source": [
    "(\n",
    "    views_rank_df\n",
    "    .explode('views', 'views_rank')\n",
    ").head()"
   ]
  },
  {
   "cell_type": "code",
   "execution_count": 181,
   "metadata": {},
   "outputs": [
    {
     "data": {
      "text/html": [
       "<div><style>\n",
       ".dataframe > thead > tr,\n",
       ".dataframe > tbody > tr {\n",
       "  text-align: right;\n",
       "  white-space: pre-wrap;\n",
       "}\n",
       "</style>\n",
       "<small>shape: (5, 3)</small><table border=\"1\" class=\"dataframe\"><thead><tr><th>views_rank</th><th>views</th><th>diff from the most views</th></tr><tr><td>list[u32]</td><td>list[i64]</td><td>list[i64]</td></tr></thead><tbody><tr><td>[1, 3, 2]</td><td>[30583293, 6969128, 19670964]</td><td>[0, 23614165, 10912329]</td></tr><tr><td>[3, 2, 1]</td><td>[32523416, 42700273, 225211923]</td><td>[192688507, 182511650, 0]</td></tr><tr><td>[1, 3, 2]</td><td>[52556278, 36908726, 39814522]</td><td>[0, 15647552, 12741756]</td></tr><tr><td>[2, 1, 3]</td><td>[65396157, 162556776, 60207478]</td><td>[97160619, 0, 102349298]</td></tr><tr><td>[2, 1, 3]</td><td>[15643726, 19392316, 10878906]</td><td>[3748590, 0, 8513410]</td></tr></tbody></table></div>"
      ],
      "text/plain": [
       "shape: (5, 3)\n",
       "┌────────────┬─────────────────────────────────┬───────────────────────────┐\n",
       "│ views_rank ┆ views                           ┆ diff from the most views  │\n",
       "│ ---        ┆ ---                             ┆ ---                       │\n",
       "│ list[u32]  ┆ list[i64]                       ┆ list[i64]                 │\n",
       "╞════════════╪═════════════════════════════════╪═══════════════════════════╡\n",
       "│ [1, 3, 2]  ┆ [30583293, 6969128, 19670964]   ┆ [0, 23614165, 10912329]   │\n",
       "│ [3, 2, 1]  ┆ [32523416, 42700273, 225211923] ┆ [192688507, 182511650, 0] │\n",
       "│ [1, 3, 2]  ┆ [52556278, 36908726, 39814522]  ┆ [0, 15647552, 12741756]   │\n",
       "│ [2, 1, 3]  ┆ [65396157, 162556776, 60207478] ┆ [97160619, 0, 102349298]  │\n",
       "│ [2, 1, 3]  ┆ [15643726, 19392316, 10878906]  ┆ [3748590, 0, 8513410]     │\n",
       "└────────────┴─────────────────────────────────┴───────────────────────────┘"
      ]
     },
     "execution_count": 181,
     "metadata": {},
     "output_type": "execute_result"
    }
   ],
   "source": [
    "(\n",
    "    top3_views_df\n",
    "    .select(\n",
    "        'views_rank',\n",
    "        'views',\n",
    "        pl.col('views')\n",
    "        .list.eval(pl.element().max() - pl.element())\n",
    "        .alias('diff from the most views')\n",
    "    )\n",
    ").head()"
   ]
  },
  {
   "cell_type": "markdown",
   "metadata": {},
   "source": [
    "### There is more..."
   ]
  },
  {
   "cell_type": "code",
   "execution_count": 184,
   "metadata": {},
   "outputs": [
    {
     "data": {
      "text/html": [
       "<div><style>\n",
       ".dataframe > thead > tr,\n",
       ".dataframe > tbody > tr {\n",
       "  text-align: right;\n",
       "  white-space: pre-wrap;\n",
       "}\n",
       "</style>\n",
       "<small>shape: (5, 3)</small><table border=\"1\" class=\"dataframe\"><thead><tr><th>trending_date</th><th>views</th><th>views_rank</th></tr><tr><td>date</td><td>list[i64]</td><td>list[u32]</td></tr></thead><tbody><tr><td>2017-11-29</td><td>[30583293, 6969128, 19670964]</td><td>[1, 3, 2]</td></tr><tr><td>2018-06-02</td><td>[32523416, 42700273, 225211923]</td><td>[3, 2, 1]</td></tr><tr><td>2018-04-19</td><td>[52556278, 36908726, 39814522]</td><td>[1, 3, 2]</td></tr><tr><td>2018-05-21</td><td>[65396157, 162556776, 60207478]</td><td>[2, 1, 3]</td></tr><tr><td>2018-02-03</td><td>[15643726, 19392316, 10878906]</td><td>[2, 1, 3]</td></tr></tbody></table></div>"
      ],
      "text/plain": [
       "shape: (5, 3)\n",
       "┌───────────────┬─────────────────────────────────┬────────────┐\n",
       "│ trending_date ┆ views                           ┆ views_rank │\n",
       "│ ---           ┆ ---                             ┆ ---        │\n",
       "│ date          ┆ list[i64]                       ┆ list[u32]  │\n",
       "╞═══════════════╪═════════════════════════════════╪════════════╡\n",
       "│ 2017-11-29    ┆ [30583293, 6969128, 19670964]   ┆ [1, 3, 2]  │\n",
       "│ 2018-06-02    ┆ [32523416, 42700273, 225211923] ┆ [3, 2, 1]  │\n",
       "│ 2018-04-19    ┆ [52556278, 36908726, 39814522]  ┆ [1, 3, 2]  │\n",
       "│ 2018-05-21    ┆ [65396157, 162556776, 60207478] ┆ [2, 1, 3]  │\n",
       "│ 2018-02-03    ┆ [15643726, 19392316, 10878906]  ┆ [2, 1, 3]  │\n",
       "└───────────────┴─────────────────────────────────┴────────────┘"
      ]
     },
     "execution_count": 184,
     "metadata": {},
     "output_type": "execute_result"
    }
   ],
   "source": [
    "top3_views_df.head()"
   ]
  },
  {
   "cell_type": "code",
   "execution_count": 232,
   "metadata": {},
   "outputs": [
    {
     "data": {
      "text/html": [
       "<div><style>\n",
       ".dataframe > thead > tr,\n",
       ".dataframe > tbody > tr {\n",
       "  text-align: right;\n",
       "  white-space: pre-wrap;\n",
       "}\n",
       "</style>\n",
       "<small>shape: (5, 6)</small><table border=\"1\" class=\"dataframe\"><thead><tr><th>views_rank_1</th><th>views_rank_2</th><th>intersection</th><th>union</th><th>difference</th><th>symmetric_difference</th></tr><tr><td>list[u32]</td><td>list[u32]</td><td>list[u32]</td><td>list[u32]</td><td>list[u32]</td><td>list[u32]</td></tr></thead><tbody><tr><td>[1, 3]</td><td>[3, 2]</td><td>[3]</td><td>[1, 3, 2]</td><td>[1]</td><td>[1, 2]</td></tr><tr><td>[3, 2]</td><td>[2, 1]</td><td>[2]</td><td>[3, 2, 1]</td><td>[3]</td><td>[3, 1]</td></tr><tr><td>[1, 3]</td><td>[3, 2]</td><td>[3]</td><td>[1, 3, 2]</td><td>[1]</td><td>[1, 2]</td></tr><tr><td>[2, 1]</td><td>[1, 3]</td><td>[1]</td><td>[2, 1, 3]</td><td>[2]</td><td>[2, 3]</td></tr><tr><td>[2, 1]</td><td>[1, 3]</td><td>[1]</td><td>[2, 1, 3]</td><td>[2]</td><td>[2, 3]</td></tr></tbody></table></div>"
      ],
      "text/plain": [
       "shape: (5, 6)\n",
       "┌──────────────┬──────────────┬──────────────┬───────────┬────────────┬──────────────────────┐\n",
       "│ views_rank_1 ┆ views_rank_2 ┆ intersection ┆ union     ┆ difference ┆ symmetric_difference │\n",
       "│ ---          ┆ ---          ┆ ---          ┆ ---       ┆ ---        ┆ ---                  │\n",
       "│ list[u32]    ┆ list[u32]    ┆ list[u32]    ┆ list[u32] ┆ list[u32]  ┆ list[u32]            │\n",
       "╞══════════════╪══════════════╪══════════════╪═══════════╪════════════╪══════════════════════╡\n",
       "│ [1, 3]       ┆ [3, 2]       ┆ [3]          ┆ [1, 3, 2] ┆ [1]        ┆ [1, 2]               │\n",
       "│ [3, 2]       ┆ [2, 1]       ┆ [2]          ┆ [3, 2, 1] ┆ [3]        ┆ [3, 1]               │\n",
       "│ [1, 3]       ┆ [3, 2]       ┆ [3]          ┆ [1, 3, 2] ┆ [1]        ┆ [1, 2]               │\n",
       "│ [2, 1]       ┆ [1, 3]       ┆ [1]          ┆ [2, 1, 3] ┆ [2]        ┆ [2, 3]               │\n",
       "│ [2, 1]       ┆ [1, 3]       ┆ [1]          ┆ [2, 1, 3] ┆ [2]        ┆ [2, 3]               │\n",
       "└──────────────┴──────────────┴──────────────┴───────────┴────────────┴──────────────────────┘"
      ]
     },
     "execution_count": 232,
     "metadata": {},
     "output_type": "execute_result"
    }
   ],
   "source": [
    "(\n",
    "    top3_views_df\n",
    "    .with_columns(\n",
    "        pl.col('views_rank').list.slice(0, 2).alias('views_rank_1'),\n",
    "        pl.col('views_rank').list.slice(-2, 2).alias('views_rank_2')\n",
    "    )\n",
    "    .select(\n",
    "        'views_rank_1',\n",
    "        'views_rank_2',\n",
    "        pl.col('views_rank_1').list.set_intersection('views_rank_2')\n",
    "        .alias('intersection'),\n",
    "        pl.col('views_rank_1').list.set_union('views_rank_2')\n",
    "        .alias('union'),\n",
    "        pl.col('views_rank_1').list.set_difference('views_rank_2')\n",
    "        .alias('difference'),\n",
    "        pl.col('views_rank_1').list.set_symmetric_difference('views_rank_2')\n",
    "        .alias('symmetric_difference'),\n",
    "    )\n",
    ").head()"
   ]
  },
  {
   "cell_type": "code",
   "execution_count": null,
   "metadata": {},
   "outputs": [],
   "source": []
  }
 ],
 "metadata": {
  "kernelspec": {
   "display_name": ".venv",
   "language": "python",
   "name": "python3"
  },
  "language_info": {
   "codemirror_mode": {
    "name": "ipython",
    "version": 3
   },
   "file_extension": ".py",
   "mimetype": "text/x-python",
   "name": "python",
   "nbconvert_exporter": "python",
   "pygments_lexer": "ipython3",
   "version": "3.11.3"
  }
 },
 "nbformat": 4,
 "nbformat_minor": 2
}
