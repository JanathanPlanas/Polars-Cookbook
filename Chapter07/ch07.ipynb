{
 "cells": [
  {
   "cell_type": "markdown",
   "metadata": {},
   "source": [
    "# Working with Nested Data Structures"
   ]
  },
  {
   "cell_type": "markdown",
   "metadata": {},
   "source": [
    "## Creating lists"
   ]
  },
  {
   "cell_type": "markdown",
   "metadata": {},
   "source": [
    "### How to do it..."
   ]
  },
  {
   "cell_type": "code",
   "execution_count": 21,
   "metadata": {},
   "outputs": [],
   "source": [
    "import polars as pl"
   ]
  },
  {
   "cell_type": "code",
   "execution_count": 106,
   "metadata": {},
   "outputs": [
    {
     "name": "stdout",
     "output_type": "stream",
     "text": [
      "Rows: 40949\n",
      "Columns: 16\n",
      "$ video_id                             <str> '2kyS6SvSYSE', '1ZAPwfrtAFY'\n",
      "$ trending_date                        <str> '17.14.11', '17.14.11'\n",
      "$ title                                <str> 'WE WANT TO TALK ABOUT OUR MARRIAGE', 'The Trump Presidency: Last Week Tonight with John Oliver (HBO)'\n",
      "$ channel_title                        <str> 'CaseyNeistat', 'LastWeekTonight'\n",
      "$ category_id                          <i64> 22, 24\n",
      "$ publish_time           <datetime[μs, UTC]> 2017-11-13 17:13:01+00:00, 2017-11-13 07:30:00+00:00\n",
      "$ tags                                 <str> 'SHANtell martin', 'last week tonight trump presidency|last week tonight donald trump|john oliver trump|donald trump'\n",
      "$ views                                <i64> 748374, 2418783\n",
      "$ likes                                <i64> 57527, 97185\n",
      "$ dislikes                             <i64> 2966, 6146\n",
      "$ comment_count                        <i64> 15954, 12703\n",
      "$ thumbnail_link                       <str> 'https://i.ytimg.com/vi/2kyS6SvSYSE/default.jpg', 'https://i.ytimg.com/vi/1ZAPwfrtAFY/default.jpg'\n",
      "$ comments_disabled                   <bool> False, False\n",
      "$ ratings_disabled                    <bool> False, False\n",
      "$ video_error_or_removed              <bool> False, False\n",
      "$ description                          <str> \"SHANTELL'S CHANNEL - https://www.youtube.com/shantellmartin\\\\nCANDICE - https://www.lovebilly.com\\\\n\\\\nfilmed this video in 4k on this -- http://amzn.to/2sTDnRZ\\\\nwith this lens -- http://amzn.to/2rUJOmD\\\\nbig drone - http://tinyurl.com/h4ft3oy\\\\nOTHER GEAR ---  http://amzn.to/2o3GLX5\\\\nSony CAMERA http://amzn.to/2nOBmnv\\\\nOLD CAMERA; http://amzn.to/2o2cQBT\\\\nMAIN LENS; http://amzn.to/2od5gBJ\\\\nBIG SONY CAMERA; http://amzn.to/2nrdJRO\\\\nBIG Canon CAMERA; http://tinyurl.com/jn4q4vz\\\\nBENDY TRIPOD THING; http://tinyurl.com/gw3ylz2\\\\nYOU NEED THIS FOR THE BENDY TRIPOD; http://tinyurl.com/j8mzzua\\\\nWIDE LENS; http://tinyurl.com/jkfcm8t\\\\nMORE EXPENSIVE WIDE LENS; http://tinyurl.com/zrdgtou\\\\nSMALL CAMERA; http://tinyurl.com/hrrzhor\\\\nMICROPHONE; http://tinyurl.com/zefm4jy\\\\nOTHER MICROPHONE; http://tinyurl.com/jxgpj86\\\\nOLD DRONE (cheaper but still great);http://tinyurl.com/zcfmnmd\\\\n\\\\nfollow me; on http://instagram.com/caseyneistat\\\\non https://www.facebook.com/cneistat\\\\non https://twitter.com/CaseyNeistat\\\\n\\\\namazing intro song by https://soundcloud.com/discoteeth\\\\n\\\\nad disclosure.  THIS IS NOT AN AD.  not selling or promoting anything.  but samsung did produce the Shantell Video as a 'GALAXY PROJECT' which is an initiative that enables creators like Shantell and me to make projects we might otherwise not have the opportunity to make.  hope that's clear.  if not ask in the comments and i'll answer any specifics.\", \"One year after the presidential election, John Oliver discusses what we've learned so far and enlists our catheter cowboy to teach Donald Trump what he hasn't.\\\\n\\\\nConnect with Last Week Tonight online...\\\\n\\\\nSubscribe to the Last Week Tonight YouTube channel for more almost news as it almost happens: www.youtube.com/user/LastWeekTonight\\\\n\\\\nFind Last Week Tonight on Facebook like your mom would: http://Facebook.com/LastWeekTonight\\\\n\\\\nFollow us on Twitter for news about jokes and jokes about news: http://Twitter.com/LastWeekTonight\\\\n\\\\nVisit our official site for all that other stuff at once: http://www.hbo.com/lastweektonight\"\n",
      "\n"
     ]
    }
   ],
   "source": [
    "df = pl.read_csv('../data/us_videos.csv', try_parse_dates=True)\n",
    "df.glimpse(max_items_per_column=2)"
   ]
  },
  {
   "cell_type": "code",
   "execution_count": 107,
   "metadata": {},
   "outputs": [
    {
     "data": {
      "text/html": [
       "<div><style>\n",
       ".dataframe > thead > tr,\n",
       ".dataframe > tbody > tr {\n",
       "  text-align: right;\n",
       "  white-space: pre-wrap;\n",
       "}\n",
       "</style>\n",
       "<small>shape: (5, 16)</small><table border=\"1\" class=\"dataframe\"><thead><tr><th>video_id</th><th>trending_date</th><th>title</th><th>channel_title</th><th>category_id</th><th>publish_time</th><th>tags</th><th>views</th><th>likes</th><th>dislikes</th><th>comment_count</th><th>thumbnail_link</th><th>comments_disabled</th><th>ratings_disabled</th><th>video_error_or_removed</th><th>description</th></tr><tr><td>str</td><td>str</td><td>str</td><td>str</td><td>i64</td><td>datetime[μs, UTC]</td><td>str</td><td>i64</td><td>i64</td><td>i64</td><td>i64</td><td>str</td><td>bool</td><td>bool</td><td>bool</td><td>str</td></tr></thead><tbody><tr><td>&quot;2kyS6SvSYSE&quot;</td><td>&quot;17.14.11&quot;</td><td>&quot;WE WANT TO TAL…</td><td>&quot;CaseyNeistat&quot;</td><td>22</td><td>2017-11-13 17:13:01 UTC</td><td>&quot;SHANtell marti…</td><td>748374</td><td>57527</td><td>2966</td><td>15954</td><td>&quot;https://i.ytim…</td><td>false</td><td>false</td><td>false</td><td>&quot;SHANTELL&#x27;S CHA…</td></tr><tr><td>&quot;1ZAPwfrtAFY&quot;</td><td>&quot;17.14.11&quot;</td><td>&quot;The Trump Pres…</td><td>&quot;LastWeekTonigh…</td><td>24</td><td>2017-11-13 07:30:00 UTC</td><td>&quot;last week toni…</td><td>2418783</td><td>97185</td><td>6146</td><td>12703</td><td>&quot;https://i.ytim…</td><td>false</td><td>false</td><td>false</td><td>&quot;One year after…</td></tr><tr><td>&quot;5qpjK5DgCt4&quot;</td><td>&quot;17.14.11&quot;</td><td>&quot;Racist Superma…</td><td>&quot;Rudy Mancuso&quot;</td><td>23</td><td>2017-11-12 19:05:24 UTC</td><td>&quot;racist superma…</td><td>3191434</td><td>146033</td><td>5339</td><td>8181</td><td>&quot;https://i.ytim…</td><td>false</td><td>false</td><td>false</td><td>&quot;WATCH MY PREVI…</td></tr><tr><td>&quot;puqaWrEC7tY&quot;</td><td>&quot;17.14.11&quot;</td><td>&quot;Nickelback Lyr…</td><td>&quot;Good Mythical …</td><td>24</td><td>2017-11-13 11:00:04 UTC</td><td>&quot;rhett and link…</td><td>343168</td><td>10172</td><td>666</td><td>2146</td><td>&quot;https://i.ytim…</td><td>false</td><td>false</td><td>false</td><td>&quot;Today we find …</td></tr><tr><td>&quot;d380meD0W0M&quot;</td><td>&quot;17.14.11&quot;</td><td>&quot;I Dare You: GO…</td><td>&quot;nigahiga&quot;</td><td>24</td><td>2017-11-12 18:01:41 UTC</td><td>&quot;ryan|higa|higa…</td><td>2095731</td><td>132235</td><td>1989</td><td>17518</td><td>&quot;https://i.ytim…</td><td>false</td><td>false</td><td>false</td><td>&quot;I know it&#x27;s be…</td></tr></tbody></table></div>"
      ],
      "text/plain": [
       "shape: (5, 16)\n",
       "┌───────────┬───────────┬───────────┬───────────┬───┬───────────┬───────────┬───────────┬──────────┐\n",
       "│ video_id  ┆ trending_ ┆ title     ┆ channel_t ┆ … ┆ comments_ ┆ ratings_d ┆ video_err ┆ descript │\n",
       "│ ---       ┆ date      ┆ ---       ┆ itle      ┆   ┆ disabled  ┆ isabled   ┆ or_or_rem ┆ ion      │\n",
       "│ str       ┆ ---       ┆ str       ┆ ---       ┆   ┆ ---       ┆ ---       ┆ oved      ┆ ---      │\n",
       "│           ┆ str       ┆           ┆ str       ┆   ┆ bool      ┆ bool      ┆ ---       ┆ str      │\n",
       "│           ┆           ┆           ┆           ┆   ┆           ┆           ┆ bool      ┆          │\n",
       "╞═══════════╪═══════════╪═══════════╪═══════════╪═══╪═══════════╪═══════════╪═══════════╪══════════╡\n",
       "│ 2kyS6SvSY ┆ 17.14.11  ┆ WE WANT   ┆ CaseyNeis ┆ … ┆ false     ┆ false     ┆ false     ┆ SHANTELL │\n",
       "│ SE        ┆           ┆ TO TALK   ┆ tat       ┆   ┆           ┆           ┆           ┆ 'S       │\n",
       "│           ┆           ┆ ABOUT OUR ┆           ┆   ┆           ┆           ┆           ┆ CHANNEL  │\n",
       "│           ┆           ┆ MARRIA…   ┆           ┆   ┆           ┆           ┆           ┆ - https: │\n",
       "│           ┆           ┆           ┆           ┆   ┆           ┆           ┆           ┆ //www…   │\n",
       "│ 1ZAPwfrtA ┆ 17.14.11  ┆ The Trump ┆ LastWeekT ┆ … ┆ false     ┆ false     ┆ false     ┆ One year │\n",
       "│ FY        ┆           ┆ Presidenc ┆ onight    ┆   ┆           ┆           ┆           ┆ after    │\n",
       "│           ┆           ┆ y: Last   ┆           ┆   ┆           ┆           ┆           ┆ the pres │\n",
       "│           ┆           ┆ Week …    ┆           ┆   ┆           ┆           ┆           ┆ idential │\n",
       "│           ┆           ┆           ┆           ┆   ┆           ┆           ┆           ┆ …        │\n",
       "│ 5qpjK5DgC ┆ 17.14.11  ┆ Racist    ┆ Rudy      ┆ … ┆ false     ┆ false     ┆ false     ┆ WATCH MY │\n",
       "│ t4        ┆           ┆ Superman  ┆ Mancuso   ┆   ┆           ┆           ┆           ┆ PREVIOUS │\n",
       "│           ┆           ┆ | Rudy    ┆           ┆   ┆           ┆           ┆           ┆ VIDEO ▶  │\n",
       "│           ┆           ┆ Mancuso,  ┆           ┆   ┆           ┆           ┆           ┆ \\n\\nSU…  │\n",
       "│           ┆           ┆ …         ┆           ┆   ┆           ┆           ┆           ┆          │\n",
       "│ puqaWrEC7 ┆ 17.14.11  ┆ Nickelbac ┆ Good      ┆ … ┆ false     ┆ false     ┆ false     ┆ Today we │\n",
       "│ tY        ┆           ┆ k Lyrics: ┆ Mythical  ┆   ┆           ┆           ┆           ┆ find out │\n",
       "│           ┆           ┆ Real or   ┆ Morning   ┆   ┆           ┆           ┆           ┆ if Link  │\n",
       "│           ┆           ┆ Fake?     ┆           ┆   ┆           ┆           ┆           ┆ is a N…  │\n",
       "│ d380meD0W ┆ 17.14.11  ┆ I Dare    ┆ nigahiga  ┆ … ┆ false     ┆ false     ┆ false     ┆ I know   │\n",
       "│ 0M        ┆           ┆ You:      ┆           ┆   ┆           ┆           ┆           ┆ it's     │\n",
       "│           ┆           ┆ GOING     ┆           ┆   ┆           ┆           ┆           ┆ been a   │\n",
       "│           ┆           ┆ BALD!?    ┆           ┆   ┆           ┆           ┆           ┆ while    │\n",
       "│           ┆           ┆           ┆           ┆   ┆           ┆           ┆           ┆ since w… │\n",
       "└───────────┴───────────┴───────────┴───────────┴───┴───────────┴───────────┴───────────┴──────────┘"
      ]
     },
     "execution_count": 107,
     "metadata": {},
     "output_type": "execute_result"
    }
   ],
   "source": [
    "df.head()"
   ]
  },
  {
   "cell_type": "code",
   "execution_count": 108,
   "metadata": {},
   "outputs": [],
   "source": [
    "df = df.with_columns(\n",
    "    pl.col('trending_date').str.strptime(pl.Date, format='%y.%d.%m')\n",
    ")"
   ]
  },
  {
   "cell_type": "code",
   "execution_count": 62,
   "metadata": {},
   "outputs": [
    {
     "data": {
      "text/plain": [
       "Date"
      ]
     },
     "execution_count": 62,
     "metadata": {},
     "output_type": "execute_result"
    }
   ],
   "source": [
    "df.select('trending_date').dtypes[0]"
   ]
  },
  {
   "cell_type": "code",
   "execution_count": 63,
   "metadata": {},
   "outputs": [
    {
     "data": {
      "text/html": [
       "<div><style>\n",
       ".dataframe > thead > tr,\n",
       ".dataframe > tbody > tr {\n",
       "  text-align: right;\n",
       "  white-space: pre-wrap;\n",
       "}\n",
       "</style>\n",
       "<small>shape: (5, 2)</small><table border=\"1\" class=\"dataframe\"><thead><tr><th>tags</th><th>tags in list</th></tr><tr><td>str</td><td>list[str]</td></tr></thead><tbody><tr><td>&quot;SHANtell marti…</td><td>[&quot;SHANtell martin&quot;]</td></tr><tr><td>&quot;last week toni…</td><td>[&quot;last week tonight trump presidency&quot;, &quot;last week tonight donald trump&quot;, … &quot;donald trump&quot;]</td></tr><tr><td>&quot;racist superma…</td><td>[&quot;racist superman&quot;, &quot;rudy&quot;, … &quot; Lele Pons&quot;]</td></tr><tr><td>&quot;rhett and link…</td><td>[&quot;rhett and link&quot;, &quot;gmm&quot;, … &quot;challenge&quot;]</td></tr><tr><td>&quot;ryan|higa|higa…</td><td>[&quot;ryan&quot;, &quot;higa&quot;, … &quot;fail&quot;]</td></tr></tbody></table></div>"
      ],
      "text/plain": [
       "shape: (5, 2)\n",
       "┌───────────────────────────────────┬───────────────────────────────────┐\n",
       "│ tags                              ┆ tags in list                      │\n",
       "│ ---                               ┆ ---                               │\n",
       "│ str                               ┆ list[str]                         │\n",
       "╞═══════════════════════════════════╪═══════════════════════════════════╡\n",
       "│ SHANtell martin                   ┆ [\"SHANtell martin\"]               │\n",
       "│ last week tonight trump presiden… ┆ [\"last week tonight trump presid… │\n",
       "│ racist superman|rudy|mancuso|kin… ┆ [\"racist superman\", \"rudy\", … \" … │\n",
       "│ rhett and link|gmm|good mythical… ┆ [\"rhett and link\", \"gmm\", … \"cha… │\n",
       "│ ryan|higa|higatv|nigahiga|i dare… ┆ [\"ryan\", \"higa\", … \"fail\"]        │\n",
       "└───────────────────────────────────┴───────────────────────────────────┘"
      ]
     },
     "execution_count": 63,
     "metadata": {},
     "output_type": "execute_result"
    }
   ],
   "source": [
    "df.select(\n",
    "    'tags',\n",
    "    pl.col('tags').str.split('|').alias('tags in list')\n",
    ").head()    "
   ]
  },
  {
   "cell_type": "code",
   "execution_count": 67,
   "metadata": {},
   "outputs": [
    {
     "data": {
      "text/html": [
       "<div><style>\n",
       ".dataframe > thead > tr,\n",
       ".dataframe > tbody > tr {\n",
       "  text-align: right;\n",
       "  white-space: pre-wrap;\n",
       "}\n",
       "</style>\n",
       "<small>shape: (5, 2)</small><table border=\"1\" class=\"dataframe\"><thead><tr><th>trending_date</th><th>video_id</th></tr><tr><td>date</td><td>list[str]</td></tr></thead><tbody><tr><td>2018-03-03</td><td>[&quot;HgknAaKNaMM&quot;, &quot;tugFFhML7VY&quot;, … &quot;rZQepOFnYi8&quot;]</td></tr><tr><td>2018-02-28</td><td>[&quot;I8Umj580ls0&quot;, &quot;YskVs5VyqHk&quot;, … &quot;cy9W-ZywVPc&quot;]</td></tr><tr><td>2018-02-13</td><td>[&quot;uzK1OmxS4CE&quot;, &quot;Nsm8l89x2H4&quot;, … &quot;9reizHjwuNY&quot;]</td></tr><tr><td>2018-02-07</td><td>[&quot;wbSwFU6tY1c&quot;, &quot;JQbjS0_ZfJ0&quot;, … &quot;LtlkeMfbdpM&quot;]</td></tr><tr><td>2018-02-10</td><td>[&quot;7kLO2AB5SPM&quot;, &quot;m4faDISwSVo&quot;, … &quot;Bhplg8YCu-M&quot;]</td></tr></tbody></table></div>"
      ],
      "text/plain": [
       "shape: (5, 2)\n",
       "┌───────────────┬───────────────────────────────────┐\n",
       "│ trending_date ┆ video_id                          │\n",
       "│ ---           ┆ ---                               │\n",
       "│ date          ┆ list[str]                         │\n",
       "╞═══════════════╪═══════════════════════════════════╡\n",
       "│ 2018-03-03    ┆ [\"HgknAaKNaMM\", \"tugFFhML7VY\", …… │\n",
       "│ 2018-02-28    ┆ [\"I8Umj580ls0\", \"YskVs5VyqHk\", …… │\n",
       "│ 2018-02-13    ┆ [\"uzK1OmxS4CE\", \"Nsm8l89x2H4\", …… │\n",
       "│ 2018-02-07    ┆ [\"wbSwFU6tY1c\", \"JQbjS0_ZfJ0\", …… │\n",
       "│ 2018-02-10    ┆ [\"7kLO2AB5SPM\", \"m4faDISwSVo\", …… │\n",
       "└───────────────┴───────────────────────────────────┘"
      ]
     },
     "execution_count": 67,
     "metadata": {},
     "output_type": "execute_result"
    }
   ],
   "source": [
    "(\n",
    "    df\n",
    "    .group_by('trending_date')\n",
    "    .agg(pl.col('video_id'))\n",
    ").head()"
   ]
  },
  {
   "cell_type": "code",
   "execution_count": 76,
   "metadata": {},
   "outputs": [
    {
     "data": {
      "text/html": [
       "<div><style>\n",
       ".dataframe > thead > tr,\n",
       ".dataframe > tbody > tr {\n",
       "  text-align: right;\n",
       "  white-space: pre-wrap;\n",
       "}\n",
       "</style>\n",
       "<small>shape: (5, 1)</small><table border=\"1\" class=\"dataframe\"><thead><tr><th>engagement</th></tr><tr><td>list[i64]</td></tr></thead><tbody><tr><td>[748374, 57527, … 15954]</td></tr><tr><td>[2418783, 97185, … 12703]</td></tr><tr><td>[3191434, 146033, … 8181]</td></tr><tr><td>[343168, 10172, … 2146]</td></tr><tr><td>[2095731, 132235, … 17518]</td></tr></tbody></table></div>"
      ],
      "text/plain": [
       "shape: (5, 1)\n",
       "┌────────────────────────────┐\n",
       "│ engagement                 │\n",
       "│ ---                        │\n",
       "│ list[i64]                  │\n",
       "╞════════════════════════════╡\n",
       "│ [748374, 57527, … 15954]   │\n",
       "│ [2418783, 97185, … 12703]  │\n",
       "│ [3191434, 146033, … 8181]  │\n",
       "│ [343168, 10172, … 2146]    │\n",
       "│ [2095731, 132235, … 17518] │\n",
       "└────────────────────────────┘"
      ]
     },
     "execution_count": 76,
     "metadata": {},
     "output_type": "execute_result"
    }
   ],
   "source": [
    "df.select(\n",
    "    pl.concat_list(\n",
    "        pl.col('views'),\n",
    "        pl.col('likes'),\n",
    "        pl.col('dislikes'),\n",
    "        pl.col('comment_count')\n",
    "    ).alias('engagement')\n",
    ").head()"
   ]
  },
  {
   "cell_type": "markdown",
   "metadata": {},
   "source": [
    "### There is more..."
   ]
  },
  {
   "cell_type": "code",
   "execution_count": 124,
   "metadata": {},
   "outputs": [],
   "source": [
    "df = pl.DataFrame({\n",
    "    'nested_list': [\n",
    "        [\n",
    "            [1,2,3], [4,5,6], \n",
    "            [7,8,9], [10,11,12]\n",
    "        ], \n",
    "        [\n",
    "            [1,2,3], [4,5,6], \n",
    "            [7,8,9], [10,11,12]\n",
    "        ]\n",
    "    ]\n",
    "})\n"
   ]
  },
  {
   "cell_type": "code",
   "execution_count": 125,
   "metadata": {},
   "outputs": [
    {
     "data": {
      "text/html": [
       "<div><style>\n",
       ".dataframe > thead > tr,\n",
       ".dataframe > tbody > tr {\n",
       "  text-align: right;\n",
       "  white-space: pre-wrap;\n",
       "}\n",
       "</style>\n",
       "<small>shape: (2, 1)</small><table border=\"1\" class=\"dataframe\"><thead><tr><th>nested_list</th></tr><tr><td>list[list[i64]]</td></tr></thead><tbody><tr><td>[[1, 2, 3], [4, 5, 6], … [10, 11, 12]]</td></tr><tr><td>[[1, 2, 3], [4, 5, 6], … [10, 11, 12]]</td></tr></tbody></table></div>"
      ],
      "text/plain": [
       "shape: (2, 1)\n",
       "┌───────────────────────────────────┐\n",
       "│ nested_list                       │\n",
       "│ ---                               │\n",
       "│ list[list[i64]]                   │\n",
       "╞═══════════════════════════════════╡\n",
       "│ [[1, 2, 3], [4, 5, 6], … [10, 11… │\n",
       "│ [[1, 2, 3], [4, 5, 6], … [10, 11… │\n",
       "└───────────────────────────────────┘"
      ]
     },
     "execution_count": 125,
     "metadata": {},
     "output_type": "execute_result"
    }
   ],
   "source": [
    "df"
   ]
  },
  {
   "cell_type": "code",
   "execution_count": 128,
   "metadata": {},
   "outputs": [],
   "source": [
    "df = pl.DataFrame({\n",
    "    'nested_list': [\n",
    "        [\n",
    "            ['a',2,3], [4,5,6], \n",
    "            [7,8,9], [10,11,12]\n",
    "        ], \n",
    "        [\n",
    "            [1,2,3], [4,5,6], \n",
    "            [7,8,9], [10,11,12]\n",
    "        ]\n",
    "    ]\n",
    "})"
   ]
  },
  {
   "cell_type": "code",
   "execution_count": 129,
   "metadata": {},
   "outputs": [
    {
     "data": {
      "text/html": [
       "<div><style>\n",
       ".dataframe > thead > tr,\n",
       ".dataframe > tbody > tr {\n",
       "  text-align: right;\n",
       "  white-space: pre-wrap;\n",
       "}\n",
       "</style>\n",
       "<small>shape: (2, 1)</small><table border=\"1\" class=\"dataframe\"><thead><tr><th>nested_list</th></tr><tr><td>object</td></tr></thead><tbody><tr><td>[[&#x27;a&#x27;, 2, 3], [4, 5, 6], [7, 8, 9], [10, 11, 12]]</td></tr><tr><td>[[1, 2, 3], [4, 5, 6], [7, 8, 9], [10, 11, 12]]</td></tr></tbody></table></div>"
      ],
      "text/plain": [
       "shape: (2, 1)\n",
       "┌───────────────────────────────────┐\n",
       "│ nested_list                       │\n",
       "│ ---                               │\n",
       "│ object                            │\n",
       "╞═══════════════════════════════════╡\n",
       "│ [['a', 2, 3], [4, 5, 6], [7, 8, … │\n",
       "│ [[1, 2, 3], [4, 5, 6], [7, 8, 9]… │\n",
       "└───────────────────────────────────┘"
      ]
     },
     "execution_count": 129,
     "metadata": {},
     "output_type": "execute_result"
    }
   ],
   "source": [
    "df"
   ]
  }
 ],
 "metadata": {
  "kernelspec": {
   "display_name": ".venv",
   "language": "python",
   "name": "python3"
  },
  "language_info": {
   "codemirror_mode": {
    "name": "ipython",
    "version": 3
   },
   "file_extension": ".py",
   "mimetype": "text/x-python",
   "name": "python",
   "nbconvert_exporter": "python",
   "pygments_lexer": "ipython3",
   "version": "3.11.3"
  }
 },
 "nbformat": 4,
 "nbformat_minor": 2
}
