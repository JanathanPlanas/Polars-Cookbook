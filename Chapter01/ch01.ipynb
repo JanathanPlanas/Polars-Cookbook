{
 "cells": [
  {
   "cell_type": "markdown",
   "metadata": {},
   "source": [
    "# Chapter 1: Getting Started with Python Polars "
   ]
  },
  {
   "cell_type": "markdown",
   "metadata": {},
   "source": [
    "### Importing the Polars library"
   ]
  },
  {
   "cell_type": "code",
   "execution_count": 2,
   "metadata": {},
   "outputs": [],
   "source": [
    "import polars as pl"
   ]
  },
  {
   "cell_type": "code",
   "execution_count": null,
   "metadata": {},
   "outputs": [],
   "source": []
  },
  {
   "cell_type": "code",
   "execution_count": null,
   "metadata": {},
   "outputs": [],
   "source": []
  },
  {
   "cell_type": "code",
   "execution_count": null,
   "metadata": {},
   "outputs": [],
   "source": []
  },
  {
   "cell_type": "markdown",
   "metadata": {},
   "source": [
    "### The Polars DataFrame"
   ]
  },
  {
   "cell_type": "code",
   "execution_count": 3,
   "metadata": {},
   "outputs": [
    {
     "data": {
      "text/html": [
       "<div><style>\n",
       ".dataframe > thead > tr > th,\n",
       ".dataframe > tbody > tr > td {\n",
       "  text-align: right;\n",
       "  white-space: pre-wrap;\n",
       "}\n",
       "</style>\n",
       "<small>shape: (5, 2)</small><table border=\"1\" class=\"dataframe\"><thead><tr><th>nums</th><th>letters</th></tr><tr><td>i64</td><td>str</td></tr></thead><tbody><tr><td>1</td><td>&quot;a&quot;</td></tr><tr><td>2</td><td>&quot;b&quot;</td></tr><tr><td>3</td><td>&quot;c&quot;</td></tr><tr><td>4</td><td>&quot;d&quot;</td></tr><tr><td>5</td><td>&quot;e&quot;</td></tr></tbody></table></div>"
      ],
      "text/plain": [
       "shape: (5, 2)\n",
       "┌──────┬─────────┐\n",
       "│ nums ┆ letters │\n",
       "│ ---  ┆ ---     │\n",
       "│ i64  ┆ str     │\n",
       "╞══════╪═════════╡\n",
       "│ 1    ┆ a       │\n",
       "│ 2    ┆ b       │\n",
       "│ 3    ┆ c       │\n",
       "│ 4    ┆ d       │\n",
       "│ 5    ┆ e       │\n",
       "└──────┴─────────┘"
      ]
     },
     "execution_count": 3,
     "metadata": {},
     "output_type": "execute_result"
    }
   ],
   "source": [
    "df = pl.DataFrame({\n",
    "    'nums': [1,2,3,4,5],\n",
    "    'letters': ['a','b','c','d','e']\n",
    "})\n",
    "df.head()"
   ]
  },
  {
   "cell_type": "code",
   "execution_count": 48,
   "metadata": {},
   "outputs": [
    {
     "data": {
      "text/html": [
       "<div><style>\n",
       ".dataframe > thead > tr > th,\n",
       ".dataframe > tbody > tr > td {\n",
       "  text-align: right;\n",
       "  white-space: pre-wrap;\n",
       "}\n",
       "</style>\n",
       "<small>shape: (5, 12)</small><table border=\"1\" class=\"dataframe\"><thead><tr><th>PassengerId</th><th>Survived</th><th>Pclass</th><th>Name</th><th>Sex</th><th>Age</th><th>SibSp</th><th>Parch</th><th>Ticket</th><th>Fare</th><th>Cabin</th><th>Embarked</th></tr><tr><td>i64</td><td>i64</td><td>i64</td><td>str</td><td>str</td><td>f64</td><td>i64</td><td>i64</td><td>str</td><td>f64</td><td>str</td><td>str</td></tr></thead><tbody><tr><td>1</td><td>0</td><td>3</td><td>&quot;Braund, Mr. Ow…</td><td>&quot;male&quot;</td><td>22.0</td><td>1</td><td>0</td><td>&quot;A/5 21171&quot;</td><td>7.25</td><td>null</td><td>&quot;S&quot;</td></tr><tr><td>2</td><td>1</td><td>1</td><td>&quot;Cumings, Mrs. …</td><td>&quot;female&quot;</td><td>38.0</td><td>1</td><td>0</td><td>&quot;PC 17599&quot;</td><td>71.2833</td><td>&quot;C85&quot;</td><td>&quot;C&quot;</td></tr><tr><td>3</td><td>1</td><td>3</td><td>&quot;Heikkinen, Mis…</td><td>&quot;female&quot;</td><td>26.0</td><td>0</td><td>0</td><td>&quot;STON/O2. 31012…</td><td>7.925</td><td>null</td><td>&quot;S&quot;</td></tr><tr><td>4</td><td>1</td><td>1</td><td>&quot;Futrelle, Mrs.…</td><td>&quot;female&quot;</td><td>35.0</td><td>1</td><td>0</td><td>&quot;113803&quot;</td><td>53.1</td><td>&quot;C123&quot;</td><td>&quot;S&quot;</td></tr><tr><td>5</td><td>0</td><td>3</td><td>&quot;Allen, Mr. Wil…</td><td>&quot;male&quot;</td><td>35.0</td><td>0</td><td>0</td><td>&quot;373450&quot;</td><td>8.05</td><td>null</td><td>&quot;S&quot;</td></tr></tbody></table></div>"
      ],
      "text/plain": [
       "shape: (5, 12)\n",
       "┌─────────────┬──────────┬────────┬───────────────────┬───┬───────────┬─────────┬───────┬──────────┐\n",
       "│ PassengerId ┆ Survived ┆ Pclass ┆ Name              ┆ … ┆ Ticket    ┆ Fare    ┆ Cabin ┆ Embarked │\n",
       "│ ---         ┆ ---      ┆ ---    ┆ ---               ┆   ┆ ---       ┆ ---     ┆ ---   ┆ ---      │\n",
       "│ i64         ┆ i64      ┆ i64    ┆ str               ┆   ┆ str       ┆ f64     ┆ str   ┆ str      │\n",
       "╞═════════════╪══════════╪════════╪═══════════════════╪═══╪═══════════╪═════════╪═══════╪══════════╡\n",
       "│ 1           ┆ 0        ┆ 3      ┆ Braund, Mr. Owen  ┆ … ┆ A/5 21171 ┆ 7.25    ┆ null  ┆ S        │\n",
       "│             ┆          ┆        ┆ Harris            ┆   ┆           ┆         ┆       ┆          │\n",
       "│ 2           ┆ 1        ┆ 1      ┆ Cumings, Mrs.     ┆ … ┆ PC 17599  ┆ 71.2833 ┆ C85   ┆ C        │\n",
       "│             ┆          ┆        ┆ John Bradley      ┆   ┆           ┆         ┆       ┆          │\n",
       "│             ┆          ┆        ┆ (Flor…            ┆   ┆           ┆         ┆       ┆          │\n",
       "│ 3           ┆ 1        ┆ 3      ┆ Heikkinen, Miss.  ┆ … ┆ STON/O2.  ┆ 7.925   ┆ null  ┆ S        │\n",
       "│             ┆          ┆        ┆ Laina             ┆   ┆ 3101282   ┆         ┆       ┆          │\n",
       "│ 4           ┆ 1        ┆ 1      ┆ Futrelle, Mrs.    ┆ … ┆ 113803    ┆ 53.1    ┆ C123  ┆ S        │\n",
       "│             ┆          ┆        ┆ Jacques Heath     ┆   ┆           ┆         ┆       ┆          │\n",
       "│             ┆          ┆        ┆ (Li…              ┆   ┆           ┆         ┆       ┆          │\n",
       "│ 5           ┆ 0        ┆ 3      ┆ Allen, Mr.        ┆ … ┆ 373450    ┆ 8.05    ┆ null  ┆ S        │\n",
       "│             ┆          ┆        ┆ William Henry     ┆   ┆           ┆         ┆       ┆          │\n",
       "└─────────────┴──────────┴────────┴───────────────────┴───┴───────────┴─────────┴───────┴──────────┘"
      ]
     },
     "execution_count": 48,
     "metadata": {},
     "output_type": "execute_result"
    }
   ],
   "source": [
    "df = pl.read_csv('../data/titanic_dataset.csv')\n",
    "df.head()"
   ]
  },
  {
   "cell_type": "code",
   "execution_count": 14,
   "metadata": {},
   "outputs": [
    {
     "data": {
      "text/plain": [
       "{'PassengerId': Int64,\n",
       " 'Survived': Int64,\n",
       " 'Pclass': Int64,\n",
       " 'Name': Utf8,\n",
       " 'Sex': Utf8,\n",
       " 'Age': Float64,\n",
       " 'SibSp': Int64,\n",
       " 'Parch': Int64,\n",
       " 'Ticket': Utf8,\n",
       " 'Fare': Float64,\n",
       " 'Cabin': Utf8,\n",
       " 'Embarked': Utf8}"
      ]
     },
     "execution_count": 14,
     "metadata": {},
     "output_type": "execute_result"
    }
   ],
   "source": [
    "df.schema"
   ]
  },
  {
   "cell_type": "code",
   "execution_count": 15,
   "metadata": {},
   "outputs": [
    {
     "data": {
      "text/plain": [
       "['PassengerId',\n",
       " 'Survived',\n",
       " 'Pclass',\n",
       " 'Name',\n",
       " 'Sex',\n",
       " 'Age',\n",
       " 'SibSp',\n",
       " 'Parch',\n",
       " 'Ticket',\n",
       " 'Fare',\n",
       " 'Cabin',\n",
       " 'Embarked']"
      ]
     },
     "execution_count": 15,
     "metadata": {},
     "output_type": "execute_result"
    }
   ],
   "source": [
    "df.columns"
   ]
  },
  {
   "cell_type": "code",
   "execution_count": 8,
   "metadata": {},
   "outputs": [
    {
     "data": {
      "text/plain": [
       "[Int64,\n",
       " Int64,\n",
       " Int64,\n",
       " Utf8,\n",
       " Utf8,\n",
       " Float64,\n",
       " Int64,\n",
       " Int64,\n",
       " Utf8,\n",
       " Float64,\n",
       " Utf8,\n",
       " Utf8]"
      ]
     },
     "execution_count": 8,
     "metadata": {},
     "output_type": "execute_result"
    }
   ],
   "source": [
    "df.dtypes"
   ]
  },
  {
   "cell_type": "code",
   "execution_count": 11,
   "metadata": {},
   "outputs": [
    {
     "data": {
      "text/plain": [
       "(891, 12)"
      ]
     },
     "execution_count": 11,
     "metadata": {},
     "output_type": "execute_result"
    }
   ],
   "source": [
    "df.shape"
   ]
  },
  {
   "cell_type": "code",
   "execution_count": 16,
   "metadata": {},
   "outputs": [
    {
     "data": {
      "text/plain": [
       "891"
      ]
     },
     "execution_count": 16,
     "metadata": {},
     "output_type": "execute_result"
    }
   ],
   "source": [
    "df.height"
   ]
  },
  {
   "cell_type": "code",
   "execution_count": 17,
   "metadata": {},
   "outputs": [
    {
     "data": {
      "text/plain": [
       "12"
      ]
     },
     "execution_count": 17,
     "metadata": {},
     "output_type": "execute_result"
    }
   ],
   "source": [
    "df.width"
   ]
  },
  {
   "cell_type": "code",
   "execution_count": 12,
   "metadata": {},
   "outputs": [
    {
     "data": {
      "text/plain": [
       "{'PassengerId': {'SORTED_ASC': False, 'SORTED_DESC': False},\n",
       " 'Survived': {'SORTED_ASC': False, 'SORTED_DESC': False},\n",
       " 'Pclass': {'SORTED_ASC': False, 'SORTED_DESC': False},\n",
       " 'Name': {'SORTED_ASC': False, 'SORTED_DESC': False},\n",
       " 'Sex': {'SORTED_ASC': False, 'SORTED_DESC': False},\n",
       " 'Age': {'SORTED_ASC': False, 'SORTED_DESC': False},\n",
       " 'SibSp': {'SORTED_ASC': False, 'SORTED_DESC': False},\n",
       " 'Parch': {'SORTED_ASC': False, 'SORTED_DESC': False},\n",
       " 'Ticket': {'SORTED_ASC': False, 'SORTED_DESC': False},\n",
       " 'Fare': {'SORTED_ASC': False, 'SORTED_DESC': False},\n",
       " 'Cabin': {'SORTED_ASC': False, 'SORTED_DESC': False},\n",
       " 'Embarked': {'SORTED_ASC': False, 'SORTED_DESC': False}}"
      ]
     },
     "execution_count": 12,
     "metadata": {},
     "output_type": "execute_result"
    }
   ],
   "source": [
    "df.flags"
   ]
  },
  {
   "cell_type": "code",
   "execution_count": 49,
   "metadata": {},
   "outputs": [
    {
     "ename": "TypeError",
     "evalue": "cannot use \"'SORTED_ASC'\" for indexing",
     "output_type": "error",
     "traceback": [
      "\u001b[0;31m---------------------------------------------------------------------------\u001b[0m",
      "\u001b[0;31mTypeError\u001b[0m                                 Traceback (most recent call last)",
      "Cell \u001b[0;32mIn[49], line 2\u001b[0m\n\u001b[1;32m      1\u001b[0m df \u001b[39m=\u001b[39m df\u001b[39m.\u001b[39msort([\u001b[39m'\u001b[39m\u001b[39mPassengerId\u001b[39m\u001b[39m'\u001b[39m], descending\u001b[39m=\u001b[39m\u001b[39mTrue\u001b[39;00m)\n\u001b[0;32m----> 2\u001b[0m df[\u001b[39m'\u001b[39;49m\u001b[39mPassengerId\u001b[39;49m\u001b[39m'\u001b[39;49m][\u001b[39m'\u001b[39;49m\u001b[39mSORTED_ASC\u001b[39;49m\u001b[39m'\u001b[39;49m]\u001b[39m=\u001b[39m\u001b[39mTrue\u001b[39;00m\n\u001b[1;32m      3\u001b[0m df\u001b[39m.\u001b[39mflags\n",
      "File \u001b[0;32m~/Desktop/Polars Cookbook/.venv/lib/python3.11/site-packages/polars/series/series.py:1089\u001b[0m, in \u001b[0;36mSeries.__setitem__\u001b[0;34m(self, key, value)\u001b[0m\n\u001b[1;32m   1087\u001b[0m     \u001b[39mself\u001b[39m\u001b[39m.\u001b[39m\u001b[39m__setitem__\u001b[39m(s, value)\n\u001b[1;32m   1088\u001b[0m \u001b[39melse\u001b[39;00m:\n\u001b[0;32m-> 1089\u001b[0m     \u001b[39mraise\u001b[39;00m \u001b[39mTypeError\u001b[39;00m(\u001b[39mf\u001b[39m\u001b[39m'\u001b[39m\u001b[39mcannot use \u001b[39m\u001b[39m\"\u001b[39m\u001b[39m{\u001b[39;00mkey\u001b[39m!r}\u001b[39;00m\u001b[39m\"\u001b[39m\u001b[39m for indexing\u001b[39m\u001b[39m'\u001b[39m)\n",
      "\u001b[0;31mTypeError\u001b[0m: cannot use \"'SORTED_ASC'\" for indexing"
     ]
    }
   ],
   "source": [
    "df = df.sort(['PassengerId'], descending=True)\n",
    "df['PassengerId']['SORTED_ASC']=True\n",
    "df.flags"
   ]
  },
  {
   "cell_type": "code",
   "execution_count": null,
   "metadata": {},
   "outputs": [],
   "source": []
  },
  {
   "cell_type": "code",
   "execution_count": null,
   "metadata": {},
   "outputs": [],
   "source": []
  },
  {
   "cell_type": "code",
   "execution_count": null,
   "metadata": {},
   "outputs": [],
   "source": []
  },
  {
   "cell_type": "code",
   "execution_count": null,
   "metadata": {},
   "outputs": [],
   "source": []
  },
  {
   "cell_type": "code",
   "execution_count": null,
   "metadata": {},
   "outputs": [],
   "source": []
  },
  {
   "cell_type": "code",
   "execution_count": null,
   "metadata": {},
   "outputs": [],
   "source": []
  },
  {
   "cell_type": "markdown",
   "metadata": {},
   "source": [
    "### Processing datasets larger than RAM"
   ]
  },
  {
   "cell_type": "code",
   "execution_count": 2,
   "metadata": {},
   "outputs": [],
   "source": [
    "import polars as pl "
   ]
  },
  {
   "cell_type": "code",
   "execution_count": 10,
   "metadata": {},
   "outputs": [
    {
     "data": {
      "text/html": [
       "<div><style>\n",
       ".dataframe > thead > tr > th,\n",
       ".dataframe > tbody > tr > td {\n",
       "  text-align: right;\n",
       "  white-space: pre-wrap;\n",
       "}\n",
       "</style>\n",
       "<small>shape: (5, 23)</small><table border=\"1\" class=\"dataframe\"><thead><tr><th>Trip ID</th><th>Taxi ID</th><th>Trip Start Timestamp</th><th>Trip End Timestamp</th><th>Trip Seconds</th><th>Trip Miles</th><th>Pickup Census Tract</th><th>Dropoff Census Tract</th><th>Pickup Community Area</th><th>Dropoff Community Area</th><th>Fare</th><th>Tips</th><th>Tolls</th><th>Extras</th><th>Trip Total</th><th>Payment Type</th><th>Company</th><th>Pickup Centroid Latitude</th><th>Pickup Centroid Longitude</th><th>Pickup Centroid Location</th><th>Dropoff Centroid Latitude</th><th>Dropoff Centroid Longitude</th><th>Dropoff Centroid  Location</th></tr><tr><td>str</td><td>str</td><td>str</td><td>str</td><td>i64</td><td>f64</td><td>i64</td><td>i64</td><td>i64</td><td>i64</td><td>f64</td><td>f64</td><td>f64</td><td>f64</td><td>f64</td><td>str</td><td>str</td><td>f64</td><td>f64</td><td>str</td><td>f64</td><td>f64</td><td>str</td></tr></thead><tbody><tr><td>&quot;2c4c7c96c03236…</td><td>&quot;f68fe1183e6d87…</td><td>&quot;10/23/2016 10:…</td><td>&quot;10/23/2016 10:…</td><td>360</td><td>1.1</td><td>17031320100</td><td>17031320100</td><td>32</td><td>32</td><td>6.75</td><td>0.0</td><td>0.0</td><td>1.5</td><td>8.25</td><td>&quot;Cash&quot;</td><td>&quot;Medallion Leas…</td><td>41.884987</td><td>-87.620993</td><td>&quot;POINT (-87.620…</td><td>41.884987</td><td>-87.620993</td><td>&quot;POINT (-87.620…</td></tr><tr><td>&quot;d3a30f8612e040…</td><td>&quot;97ca0053c70788…</td><td>&quot;10/23/2016 07:…</td><td>&quot;10/23/2016 07:…</td><td>300</td><td>1.0</td><td>17031320100</td><td>17031081700</td><td>32</td><td>8</td><td>6.25</td><td>0.0</td><td>0.0</td><td>0.0</td><td>6.25</td><td>&quot;Cash&quot;</td><td>&quot;Medallion Leas…</td><td>41.884987</td><td>-87.620993</td><td>&quot;POINT (-87.620…</td><td>41.892042</td><td>-87.631864</td><td>&quot;POINT (-87.631…</td></tr><tr><td>&quot;95178b9e52c980…</td><td>&quot;f0b96329a7e390…</td><td>&quot;10/27/2016 08:…</td><td>&quot;10/27/2016 09:…</td><td>636</td><td>2.23</td><td>17031833100</td><td>17031081403</td><td>28</td><td>8</td><td>9.75</td><td>0.0</td><td>0.0</td><td>0.0</td><td>9.75</td><td>&quot;Cash&quot;</td><td>&quot;City Service&quot;</td><td>41.879067</td><td>-87.657005</td><td>&quot;POINT (-87.657…</td><td>41.890922</td><td>-87.618868</td><td>&quot;POINT (-87.618…</td></tr><tr><td>&quot;b221f753f4fce4…</td><td>&quot;11b7c42b4edd22…</td><td>&quot;10/27/2016 08:…</td><td>&quot;10/27/2016 08:…</td><td>1000</td><td>2.13</td><td>17031320600</td><td>17031330100</td><td>32</td><td>33</td><td>10.75</td><td>0.0</td><td>0.0</td><td>1.5</td><td>12.25</td><td>&quot;Cash&quot;</td><td>&quot;Chicago Carria…</td><td>41.870607</td><td>-87.622173</td><td>&quot;POINT (-87.622…</td><td>41.85935</td><td>-87.617358</td><td>&quot;POINT (-87.617…</td></tr><tr><td>&quot;d6d73a306f0e46…</td><td>&quot;d49495206048d4…</td><td>&quot;10/27/2016 05:…</td><td>&quot;10/27/2016 05:…</td><td>540</td><td>1.5</td><td>17031081900</td><td>17031833000</td><td>8</td><td>28</td><td>7.5</td><td>0.0</td><td>0.0</td><td>0.0</td><td>7.5</td><td>&quot;Cash&quot;</td><td>&quot;Taxi Affiliati…</td><td>41.897984</td><td>-87.641492</td><td>&quot;POINT (-87.641…</td><td>41.885281</td><td>-87.657233</td><td>&quot;POINT (-87.657…</td></tr></tbody></table></div>"
      ],
      "text/plain": [
       "shape: (5, 23)\n",
       "┌───────────┬───────────┬───────────┬───────────┬───┬───────────┬───────────┬───────────┬──────────┐\n",
       "│ Trip ID   ┆ Taxi ID   ┆ Trip      ┆ Trip End  ┆ … ┆ Pickup    ┆ Dropoff   ┆ Dropoff   ┆ Dropoff  │\n",
       "│ ---       ┆ ---       ┆ Start     ┆ Timestamp ┆   ┆ Centroid  ┆ Centroid  ┆ Centroid  ┆ Centroid │\n",
       "│ str       ┆ str       ┆ Timestamp ┆ ---       ┆   ┆ Location  ┆ Latitude  ┆ Longitude ┆ Location │\n",
       "│           ┆           ┆ ---       ┆ str       ┆   ┆ ---       ┆ ---       ┆ ---       ┆ ---      │\n",
       "│           ┆           ┆ str       ┆           ┆   ┆ str       ┆ f64       ┆ f64       ┆ str      │\n",
       "╞═══════════╪═══════════╪═══════════╪═══════════╪═══╪═══════════╪═══════════╪═══════════╪══════════╡\n",
       "│ 2c4c7c96c ┆ f68fe1183 ┆ 10/23/201 ┆ 10/23/201 ┆ … ┆ POINT (-8 ┆ 41.884987 ┆ -87.62099 ┆ POINT    │\n",
       "│ 03236d94e ┆ e6d87a12b ┆ 6         ┆ 6         ┆   ┆ 7.6209929 ┆           ┆ 3         ┆ (-87.620 │\n",
       "│ f20192a33 ┆ d7db1c367 ┆ 10:15:00  ┆ 10:15:00  ┆   ┆ 134 41.88 ┆           ┆           ┆ 9929134  │\n",
       "│ cfe0d…    ┆ 3d616…    ┆ PM        ┆ PM        ┆   ┆ 49871…    ┆           ┆           ┆ 41.88498 │\n",
       "│           ┆           ┆           ┆           ┆   ┆           ┆           ┆           ┆ 71…      │\n",
       "│ d3a30f861 ┆ 97ca0053c ┆ 10/23/201 ┆ 10/23/201 ┆ … ┆ POINT (-8 ┆ 41.892042 ┆ -87.63186 ┆ POINT    │\n",
       "│ 2e040663e ┆ 7078857a1 ┆ 6         ┆ 6         ┆   ┆ 7.6209929 ┆           ┆ 4         ┆ (-87.631 │\n",
       "│ 3908306f4 ┆ faa9bfa7b ┆ 07:45:00  ┆ 07:45:00  ┆   ┆ 134 41.88 ┆           ┆           ┆ 8639497  │\n",
       "│ 70efd…    ┆ ae198…    ┆ AM        ┆ AM        ┆   ┆ 49871…    ┆           ┆           ┆ 41.89204 │\n",
       "│           ┆           ┆           ┆           ┆   ┆           ┆           ┆           ┆ 21…      │\n",
       "│ 95178b9e5 ┆ f0b96329a ┆ 10/27/201 ┆ 10/27/201 ┆ … ┆ POINT (-8 ┆ 41.890922 ┆ -87.61886 ┆ POINT    │\n",
       "│ 2c980cca9 ┆ 7e3906bb2 ┆ 6         ┆ 6         ┆   ┆ 7.6570050 ┆           ┆ 8         ┆ (-87.618 │\n",
       "│ d837de35f ┆ e11b8af45 ┆ 08:45:00  ┆ 09:00:00  ┆   ┆ 27 41.879 ┆           ┆           ┆ 8683546  │\n",
       "│ 2eeae…    ┆ 6f130…    ┆ PM        ┆ PM        ┆   ┆ 06699…    ┆           ┆           ┆ 41.89092 │\n",
       "│           ┆           ┆           ┆           ┆   ┆           ┆           ┆           ┆ 20…      │\n",
       "│ b221f753f ┆ 11b7c42b4 ┆ 10/27/201 ┆ 10/27/201 ┆ … ┆ POINT (-8 ┆ 41.85935  ┆ -87.61735 ┆ POINT    │\n",
       "│ 4fce49e4c ┆ edd22871e ┆ 6         ┆ 6         ┆   ┆ 7.6221729 ┆           ┆ 8         ┆ (-87.617 │\n",
       "│ fccf07102 ┆ 20345b6d6 ┆ 08:30:00  ┆ 08:45:00  ┆   ┆ 369 41.87 ┆           ┆           ┆ 3580061  │\n",
       "│ de429…    ┆ 60674…    ┆ AM        ┆ AM        ┆   ┆ 06073…    ┆           ┆           ┆ 41.85934 │\n",
       "│           ┆           ┆           ┆           ┆   ┆           ┆           ┆           ┆ 97…      │\n",
       "│ d6d73a306 ┆ d49495206 ┆ 10/27/201 ┆ 10/27/201 ┆ … ┆ POINT (-8 ┆ 41.885281 ┆ -87.65723 ┆ POINT    │\n",
       "│ f0e4607fe ┆ 048d4831e ┆ 6         ┆ 6         ┆   ┆ 7.6414915 ┆           ┆ 3         ┆ (-87.657 │\n",
       "│ 3dc0f8767 ┆ 63e19601e ┆ 05:00:00  ┆ 05:15:00  ┆   ┆ 334 41.89 ┆           ┆           ┆ 2331997  │\n",
       "│ 5fb85…    ┆ 8a6af…    ┆ PM        ┆ PM        ┆   ┆ 79838…    ┆           ┆           ┆ 41.88528 │\n",
       "│           ┆           ┆           ┆           ┆   ┆           ┆           ┆           ┆ 13…      │\n",
       "└───────────┴───────────┴───────────┴───────────┴───┴───────────┴───────────┴───────────┴──────────┘"
      ]
     },
     "execution_count": 10,
     "metadata": {},
     "output_type": "execute_result"
    }
   ],
   "source": [
    "taxi_trips = (\n",
    "    pl.scan_csv('~/Downloads/Taxi_Trips.csv')\n",
    "    .collect(streaming=True)\n",
    ")\n",
    "taxi_trips.head()"
   ]
  },
  {
   "cell_type": "code",
   "execution_count": 7,
   "metadata": {},
   "outputs": [
    {
     "name": "stdout",
     "output_type": "stream",
     "text": [
      "CPU times: user 57.7 s, sys: 1min 16s, total: 2min 13s\n",
      "Wall time: 1min 23s\n"
     ]
    },
    {
     "data": {
      "text/html": [
       "<div><style>\n",
       ".dataframe > thead > tr > th,\n",
       ".dataframe > tbody > tr > td {\n",
       "  text-align: right;\n",
       "  white-space: pre-wrap;\n",
       "}\n",
       "</style>\n",
       "<small>shape: (5, 2)</small><table border=\"1\" class=\"dataframe\"><thead><tr><th>Payment Type</th><th>Trip Total</th></tr><tr><td>str</td><td>f64</td></tr></thead><tbody><tr><td>&quot;Unknown&quot;</td><td>2.5932e7</td></tr><tr><td>&quot;Dispute&quot;</td><td>1.3884e6</td></tr><tr><td>&quot;Cash&quot;</td><td>1.4606e9</td></tr><tr><td>&quot;No Charge&quot;</td><td>1.3089e7</td></tr><tr><td>&quot;Split&quot;</td><td>64668.43</td></tr></tbody></table></div>"
      ],
      "text/plain": [
       "shape: (5, 2)\n",
       "┌──────────────┬────────────┐\n",
       "│ Payment Type ┆ Trip Total │\n",
       "│ ---          ┆ ---        │\n",
       "│ str          ┆ f64        │\n",
       "╞══════════════╪════════════╡\n",
       "│ Unknown      ┆ 2.5932e7   │\n",
       "│ Dispute      ┆ 1.3884e6   │\n",
       "│ Cash         ┆ 1.4606e9   │\n",
       "│ No Charge    ┆ 1.3089e7   │\n",
       "│ Split        ┆ 64668.43   │\n",
       "└──────────────┴────────────┘"
      ]
     },
     "execution_count": 7,
     "metadata": {},
     "output_type": "execute_result"
    }
   ],
   "source": [
    "%%time\n",
    "trip_total_by_pay_type = (\n",
    "    pl.scan_csv('~/Downloads/Taxi_Trips.csv')\n",
    "    .group_by('Payment Type')\n",
    "    .agg(pl.col('Trip Total').sum())\n",
    "    .collect()\n",
    ")\n",
    "trip_total_by_pay_type.head()"
   ]
  },
  {
   "cell_type": "code",
   "execution_count": null,
   "metadata": {},
   "outputs": [],
   "source": []
  }
 ],
 "metadata": {
  "kernelspec": {
   "display_name": "Python 3",
   "language": "python",
   "name": "python3"
  },
  "language_info": {
   "codemirror_mode": {
    "name": "ipython",
    "version": 3
   },
   "file_extension": ".py",
   "mimetype": "text/x-python",
   "name": "python",
   "nbconvert_exporter": "python",
   "pygments_lexer": "ipython3",
   "version": "3.11.3"
  },
  "orig_nbformat": 4
 },
 "nbformat": 4,
 "nbformat_minor": 2
}
