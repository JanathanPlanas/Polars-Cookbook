{
 "cells": [
  {
   "cell_type": "markdown",
   "metadata": {},
   "source": [
    "# Chapter 3: Introduction to Data Analysis in Python Polars "
   ]
  },
  {
   "cell_type": "markdown",
   "metadata": {},
   "source": [
    "## Inspecting a DataFrame"
   ]
  },
  {
   "cell_type": "markdown",
   "metadata": {},
   "source": [
    "### How to do it..."
   ]
  },
  {
   "cell_type": "code",
   "execution_count": 1,
   "metadata": {},
   "outputs": [],
   "source": [
    "import polars as pl"
   ]
  },
  {
   "cell_type": "code",
   "execution_count": 2,
   "metadata": {},
   "outputs": [],
   "source": [
    "df = pl.read_csv('../data/covid_19_dealths.csv')"
   ]
  },
  {
   "cell_type": "code",
   "execution_count": 13,
   "metadata": {},
   "outputs": [
    {
     "data": {
      "text/html": [
       "<div><style>\n",
       ".dataframe > thead > tr > th,\n",
       ".dataframe > tbody > tr > td {\n",
       "  text-align: right;\n",
       "  white-space: pre-wrap;\n",
       "}\n",
       "</style>\n",
       "<small>shape: (3, 16)</small><table border=\"1\" class=\"dataframe\"><thead><tr><th>Data As Of</th><th>Start Date</th><th>End Date</th><th>Group</th><th>Year</th><th>Month</th><th>State</th><th>Sex</th><th>Age Group</th><th>COVID-19 Deaths</th><th>Total Deaths</th><th>Pneumonia Deaths</th><th>Pneumonia and COVID-19 Deaths</th><th>Influenza Deaths</th><th>Pneumonia, Influenza, or COVID-19 Deaths</th><th>Footnote</th></tr><tr><td>str</td><td>str</td><td>str</td><td>str</td><td>str</td><td>str</td><td>str</td><td>str</td><td>str</td><td>i64</td><td>i64</td><td>i64</td><td>i64</td><td>i64</td><td>i64</td><td>str</td></tr></thead><tbody><tr><td>&quot;09/27/2023&quot;</td><td>&quot;01/01/2020&quot;</td><td>&quot;09/23/2023&quot;</td><td>&quot;By Total&quot;</td><td>null</td><td>null</td><td>&quot;United States&quot;</td><td>&quot;All Sexes&quot;</td><td>&quot;All Ages&quot;</td><td>1146774</td><td>12303399</td><td>1162844</td><td>569264</td><td>22229</td><td>1760095</td><td>null</td></tr><tr><td>&quot;09/27/2023&quot;</td><td>&quot;01/01/2020&quot;</td><td>&quot;09/23/2023&quot;</td><td>&quot;By Total&quot;</td><td>null</td><td>null</td><td>&quot;United States&quot;</td><td>&quot;All Sexes&quot;</td><td>&quot;Under 1 year&quot;</td><td>519</td><td>73213</td><td>1056</td><td>95</td><td>64</td><td>1541</td><td>null</td></tr><tr><td>&quot;09/27/2023&quot;</td><td>&quot;01/01/2020&quot;</td><td>&quot;09/23/2023&quot;</td><td>&quot;By Total&quot;</td><td>null</td><td>null</td><td>&quot;United States&quot;</td><td>&quot;All Sexes&quot;</td><td>&quot;0-17 years&quot;</td><td>1696</td><td>130970</td><td>2961</td><td>424</td><td>509</td><td>4716</td><td>null</td></tr></tbody></table></div>"
      ],
      "text/plain": [
       "shape: (3, 16)\n",
       "┌────────────┬───────────┬───────────┬──────────┬───┬───────────┬───────────┬───────────┬──────────┐\n",
       "│ Data As Of ┆ Start     ┆ End Date  ┆ Group    ┆ … ┆ Pneumonia ┆ Influenza ┆ Pneumonia ┆ Footnote │\n",
       "│ ---        ┆ Date      ┆ ---       ┆ ---      ┆   ┆ and       ┆ Deaths    ┆ , Influen ┆ ---      │\n",
       "│ str        ┆ ---       ┆ str       ┆ str      ┆   ┆ COVID-19  ┆ ---       ┆ za, or    ┆ str      │\n",
       "│            ┆ str       ┆           ┆          ┆   ┆ Deaths    ┆ i64       ┆ COVID-1…  ┆          │\n",
       "│            ┆           ┆           ┆          ┆   ┆ ---       ┆           ┆ ---       ┆          │\n",
       "│            ┆           ┆           ┆          ┆   ┆ i64       ┆           ┆ i64       ┆          │\n",
       "╞════════════╪═══════════╪═══════════╪══════════╪═══╪═══════════╪═══════════╪═══════════╪══════════╡\n",
       "│ 09/27/2023 ┆ 01/01/202 ┆ 09/23/202 ┆ By Total ┆ … ┆ 569264    ┆ 22229     ┆ 1760095   ┆ null     │\n",
       "│            ┆ 0         ┆ 3         ┆          ┆   ┆           ┆           ┆           ┆          │\n",
       "│ 09/27/2023 ┆ 01/01/202 ┆ 09/23/202 ┆ By Total ┆ … ┆ 95        ┆ 64        ┆ 1541      ┆ null     │\n",
       "│            ┆ 0         ┆ 3         ┆          ┆   ┆           ┆           ┆           ┆          │\n",
       "│ 09/27/2023 ┆ 01/01/202 ┆ 09/23/202 ┆ By Total ┆ … ┆ 424       ┆ 509       ┆ 4716      ┆ null     │\n",
       "│            ┆ 0         ┆ 3         ┆          ┆   ┆           ┆           ┆           ┆          │\n",
       "└────────────┴───────────┴───────────┴──────────┴───┴───────────┴───────────┴───────────┴──────────┘"
      ]
     },
     "execution_count": 13,
     "metadata": {},
     "output_type": "execute_result"
    }
   ],
   "source": [
    "df.head(3)"
   ]
  },
  {
   "cell_type": "code",
   "execution_count": 14,
   "metadata": {},
   "outputs": [
    {
     "data": {
      "text/html": [
       "<div><style>\n",
       ".dataframe > thead > tr > th,\n",
       ".dataframe > tbody > tr > td {\n",
       "  text-align: right;\n",
       "  white-space: pre-wrap;\n",
       "}\n",
       "</style>\n",
       "<small>shape: (5, 16)</small><table border=\"1\" class=\"dataframe\"><thead><tr><th>Data As Of</th><th>Start Date</th><th>End Date</th><th>Group</th><th>Year</th><th>Month</th><th>State</th><th>Sex</th><th>Age Group</th><th>COVID-19 Deaths</th><th>Total Deaths</th><th>Pneumonia Deaths</th><th>Pneumonia and COVID-19 Deaths</th><th>Influenza Deaths</th><th>Pneumonia, Influenza, or COVID-19 Deaths</th><th>Footnote</th></tr><tr><td>str</td><td>str</td><td>str</td><td>str</td><td>str</td><td>str</td><td>str</td><td>str</td><td>str</td><td>i64</td><td>i64</td><td>i64</td><td>i64</td><td>i64</td><td>i64</td><td>str</td></tr></thead><tbody><tr><td>&quot;09/27/2023&quot;</td><td>&quot;09/01/2023&quot;</td><td>&quot;09/23/2023&quot;</td><td>&quot;By Month&quot;</td><td>&quot;2023&quot;</td><td>&quot;9&quot;</td><td>&quot;Puerto Rico&quot;</td><td>&quot;Female&quot;</td><td>&quot;50-64 years&quot;</td><td>null</td><td>75</td><td>14</td><td>null</td><td>0</td><td>14</td><td>&quot;One or more da…</td></tr><tr><td>&quot;09/27/2023&quot;</td><td>&quot;09/01/2023&quot;</td><td>&quot;09/23/2023&quot;</td><td>&quot;By Month&quot;</td><td>&quot;2023&quot;</td><td>&quot;9&quot;</td><td>&quot;Puerto Rico&quot;</td><td>&quot;Female&quot;</td><td>&quot;55-64 years&quot;</td><td>0</td><td>65</td><td>10</td><td>0</td><td>0</td><td>10</td><td>null</td></tr><tr><td>&quot;09/27/2023&quot;</td><td>&quot;09/01/2023&quot;</td><td>&quot;09/23/2023&quot;</td><td>&quot;By Month&quot;</td><td>&quot;2023&quot;</td><td>&quot;9&quot;</td><td>&quot;Puerto Rico&quot;</td><td>&quot;Female&quot;</td><td>&quot;65-74 years&quot;</td><td>null</td><td>91</td><td>null</td><td>null</td><td>0</td><td>null</td><td>&quot;One or more da…</td></tr><tr><td>&quot;09/27/2023&quot;</td><td>&quot;09/01/2023&quot;</td><td>&quot;09/23/2023&quot;</td><td>&quot;By Month&quot;</td><td>&quot;2023&quot;</td><td>&quot;9&quot;</td><td>&quot;Puerto Rico&quot;</td><td>&quot;Female&quot;</td><td>&quot;75-84 years&quot;</td><td>null</td><td>211</td><td>36</td><td>null</td><td>0</td><td>38</td><td>&quot;One or more da…</td></tr><tr><td>&quot;09/27/2023&quot;</td><td>&quot;09/01/2023&quot;</td><td>&quot;09/23/2023&quot;</td><td>&quot;By Month&quot;</td><td>&quot;2023&quot;</td><td>&quot;9&quot;</td><td>&quot;Puerto Rico&quot;</td><td>&quot;Female&quot;</td><td>&quot;85 years and o…</td><td>null</td><td>265</td><td>42</td><td>null</td><td>null</td><td>44</td><td>&quot;One or more da…</td></tr></tbody></table></div>"
      ],
      "text/plain": [
       "shape: (5, 16)\n",
       "┌───────────┬───────────┬───────────┬──────────┬───┬───────────┬───────────┬───────────┬───────────┐\n",
       "│ Data As   ┆ Start     ┆ End Date  ┆ Group    ┆ … ┆ Pneumonia ┆ Influenza ┆ Pneumonia ┆ Footnote  │\n",
       "│ Of        ┆ Date      ┆ ---       ┆ ---      ┆   ┆ and       ┆ Deaths    ┆ , Influen ┆ ---       │\n",
       "│ ---       ┆ ---       ┆ str       ┆ str      ┆   ┆ COVID-19  ┆ ---       ┆ za, or    ┆ str       │\n",
       "│ str       ┆ str       ┆           ┆          ┆   ┆ Deaths    ┆ i64       ┆ COVID-1…  ┆           │\n",
       "│           ┆           ┆           ┆          ┆   ┆ ---       ┆           ┆ ---       ┆           │\n",
       "│           ┆           ┆           ┆          ┆   ┆ i64       ┆           ┆ i64       ┆           │\n",
       "╞═══════════╪═══════════╪═══════════╪══════════╪═══╪═══════════╪═══════════╪═══════════╪═══════════╡\n",
       "│ 09/27/202 ┆ 09/01/202 ┆ 09/23/202 ┆ By Month ┆ … ┆ null      ┆ 0         ┆ 14        ┆ One or    │\n",
       "│ 3         ┆ 3         ┆ 3         ┆          ┆   ┆           ┆           ┆           ┆ more data │\n",
       "│           ┆           ┆           ┆          ┆   ┆           ┆           ┆           ┆ cells     │\n",
       "│           ┆           ┆           ┆          ┆   ┆           ┆           ┆           ┆ have      │\n",
       "│           ┆           ┆           ┆          ┆   ┆           ┆           ┆           ┆ coun…     │\n",
       "│ 09/27/202 ┆ 09/01/202 ┆ 09/23/202 ┆ By Month ┆ … ┆ 0         ┆ 0         ┆ 10        ┆ null      │\n",
       "│ 3         ┆ 3         ┆ 3         ┆          ┆   ┆           ┆           ┆           ┆           │\n",
       "│ 09/27/202 ┆ 09/01/202 ┆ 09/23/202 ┆ By Month ┆ … ┆ null      ┆ 0         ┆ null      ┆ One or    │\n",
       "│ 3         ┆ 3         ┆ 3         ┆          ┆   ┆           ┆           ┆           ┆ more data │\n",
       "│           ┆           ┆           ┆          ┆   ┆           ┆           ┆           ┆ cells     │\n",
       "│           ┆           ┆           ┆          ┆   ┆           ┆           ┆           ┆ have      │\n",
       "│           ┆           ┆           ┆          ┆   ┆           ┆           ┆           ┆ coun…     │\n",
       "│ 09/27/202 ┆ 09/01/202 ┆ 09/23/202 ┆ By Month ┆ … ┆ null      ┆ 0         ┆ 38        ┆ One or    │\n",
       "│ 3         ┆ 3         ┆ 3         ┆          ┆   ┆           ┆           ┆           ┆ more data │\n",
       "│           ┆           ┆           ┆          ┆   ┆           ┆           ┆           ┆ cells     │\n",
       "│           ┆           ┆           ┆          ┆   ┆           ┆           ┆           ┆ have      │\n",
       "│           ┆           ┆           ┆          ┆   ┆           ┆           ┆           ┆ coun…     │\n",
       "│ 09/27/202 ┆ 09/01/202 ┆ 09/23/202 ┆ By Month ┆ … ┆ null      ┆ null      ┆ 44        ┆ One or    │\n",
       "│ 3         ┆ 3         ┆ 3         ┆          ┆   ┆           ┆           ┆           ┆ more data │\n",
       "│           ┆           ┆           ┆          ┆   ┆           ┆           ┆           ┆ cells     │\n",
       "│           ┆           ┆           ┆          ┆   ┆           ┆           ┆           ┆ have      │\n",
       "│           ┆           ┆           ┆          ┆   ┆           ┆           ┆           ┆ coun…     │\n",
       "└───────────┴───────────┴───────────┴──────────┴───┴───────────┴───────────┴───────────┴───────────┘"
      ]
     },
     "execution_count": 14,
     "metadata": {},
     "output_type": "execute_result"
    }
   ],
   "source": [
    "df.tail(5)"
   ]
  },
  {
   "cell_type": "code",
   "execution_count": 41,
   "metadata": {},
   "outputs": [
    {
     "name": "stdout",
     "output_type": "stream",
     "text": [
      "Rows: 137700\n",
      "Columns: 16\n",
      "$ Data As Of                               <str> '09/27/2023', '09/27/2023', '09/27/2023'\n",
      "$ Start Date                               <str> '01/01/2020', '01/01/2020', '01/01/2020'\n",
      "$ End Date                                 <str> '09/23/2023', '09/23/2023', '09/23/2023'\n",
      "$ Group                                    <str> 'By Total', 'By Total', 'By Total'\n",
      "$ Year                                     <str> None, None, None\n",
      "$ Month                                    <str> None, None, None\n",
      "$ State                                    <str> 'United States', 'United States', 'United States'\n",
      "$ Sex                                      <str> 'All Sexes', 'All Sexes', 'All Sexes'\n",
      "$ Age Group                                <str> 'All Ages', 'Under 1 year', '0-17 years'\n",
      "$ COVID-19 Deaths                          <i64> 1146774, 519, 1696\n",
      "$ Total Deaths                             <i64> 12303399, 73213, 130970\n",
      "$ Pneumonia Deaths                         <i64> 1162844, 1056, 2961\n",
      "$ Pneumonia and COVID-19 Deaths            <i64> 569264, 95, 424\n",
      "$ Influenza Deaths                         <i64> 22229, 64, 509\n",
      "$ Pneumonia, Influenza, or COVID-19 Deaths <i64> 1760095, 1541, 4716\n",
      "$ Footnote                                 <str> None, None, None\n",
      "\n"
     ]
    }
   ],
   "source": [
    "df.glimpse(max_items_per_column=3)"
   ]
  },
  {
   "cell_type": "code",
   "execution_count": 55,
   "metadata": {},
   "outputs": [
    {
     "data": {
      "text/plain": [
       "37.42431926727295"
      ]
     },
     "execution_count": 55,
     "metadata": {},
     "output_type": "execute_result"
    }
   ],
   "source": [
    "df.estimated_size('mb')"
   ]
  },
  {
   "cell_type": "code",
   "execution_count": 34,
   "metadata": {},
   "outputs": [
    {
     "data": {
      "text/html": [
       "<div><style>\n",
       ".dataframe > thead > tr > th,\n",
       ".dataframe > tbody > tr > td {\n",
       "  text-align: right;\n",
       "  white-space: pre-wrap;\n",
       "}\n",
       "</style>\n",
       "<small>shape: (9, 7)</small><table border=\"1\" class=\"dataframe\"><thead><tr><th>describe</th><th>COVID-19 Deaths</th><th>Total Deaths</th><th>Pneumonia Deaths</th><th>Pneumonia and COVID-19 Deaths</th><th>Influenza Deaths</th><th>Pneumonia, Influenza, or COVID-19 Deaths</th></tr><tr><td>str</td><td>f64</td><td>f64</td><td>f64</td><td>f64</td><td>f64</td><td>f64</td></tr></thead><tbody><tr><td>&quot;count&quot;</td><td>137700.0</td><td>137700.0</td><td>137700.0</td><td>137700.0</td><td>137700.0</td><td>137700.0</td></tr><tr><td>&quot;null_count&quot;</td><td>39430.0</td><td>19509.0</td><td>44864.0</td><td>36884.0</td><td>26688.0</td><td>44233.0</td></tr><tr><td>&quot;mean&quot;</td><td>313.586547</td><td>2841.952585</td><td>336.597085</td><td>152.513411</td><td>5.002468</td><td>505.491778</td></tr><tr><td>&quot;std&quot;</td><td>5992.341375</td><td>56201.384331</td><td>6126.573599</td><td>2980.886938</td><td>110.606691</td><td>9256.951591</td></tr><tr><td>&quot;min&quot;</td><td>0.0</td><td>0.0</td><td>0.0</td><td>0.0</td><td>0.0</td><td>0.0</td></tr><tr><td>&quot;25%&quot;</td><td>0.0</td><td>43.0</td><td>0.0</td><td>0.0</td><td>0.0</td><td>0.0</td></tr><tr><td>&quot;50%&quot;</td><td>0.0</td><td>153.0</td><td>18.0</td><td>0.0</td><td>0.0</td><td>25.0</td></tr><tr><td>&quot;75%&quot;</td><td>50.0</td><td>657.0</td><td>74.0</td><td>21.0</td><td>0.0</td><td>107.0</td></tr><tr><td>&quot;max&quot;</td><td>1.146774e6</td><td>1.2303399e7</td><td>1.162844e6</td><td>569264.0</td><td>22229.0</td><td>1.760095e6</td></tr></tbody></table></div>"
      ],
      "text/plain": [
       "shape: (9, 7)\n",
       "┌────────────┬──────────────┬──────────────┬─────────────┬─────────────┬─────────────┬─────────────┐\n",
       "│ describe   ┆ COVID-19     ┆ Total Deaths ┆ Pneumonia   ┆ Pneumonia   ┆ Influenza   ┆ Pneumonia,  │\n",
       "│ ---        ┆ Deaths       ┆ ---          ┆ Deaths      ┆ and         ┆ Deaths      ┆ Influenza,  │\n",
       "│ str        ┆ ---          ┆ f64          ┆ ---         ┆ COVID-19    ┆ ---         ┆ or COVID-1… │\n",
       "│            ┆ f64          ┆              ┆ f64         ┆ Deaths      ┆ f64         ┆ ---         │\n",
       "│            ┆              ┆              ┆             ┆ ---         ┆             ┆ f64         │\n",
       "│            ┆              ┆              ┆             ┆ f64         ┆             ┆             │\n",
       "╞════════════╪══════════════╪══════════════╪═════════════╪═════════════╪═════════════╪═════════════╡\n",
       "│ count      ┆ 137700.0     ┆ 137700.0     ┆ 137700.0    ┆ 137700.0    ┆ 137700.0    ┆ 137700.0    │\n",
       "│ null_count ┆ 39430.0      ┆ 19509.0      ┆ 44864.0     ┆ 36884.0     ┆ 26688.0     ┆ 44233.0     │\n",
       "│ mean       ┆ 313.586547   ┆ 2841.952585  ┆ 336.597085  ┆ 152.513411  ┆ 5.002468    ┆ 505.491778  │\n",
       "│ std        ┆ 5992.341375  ┆ 56201.384331 ┆ 6126.573599 ┆ 2980.886938 ┆ 110.606691  ┆ 9256.951591 │\n",
       "│ min        ┆ 0.0          ┆ 0.0          ┆ 0.0         ┆ 0.0         ┆ 0.0         ┆ 0.0         │\n",
       "│ 25%        ┆ 0.0          ┆ 43.0         ┆ 0.0         ┆ 0.0         ┆ 0.0         ┆ 0.0         │\n",
       "│ 50%        ┆ 0.0          ┆ 153.0        ┆ 18.0        ┆ 0.0         ┆ 0.0         ┆ 25.0        │\n",
       "│ 75%        ┆ 50.0         ┆ 657.0        ┆ 74.0        ┆ 21.0        ┆ 0.0         ┆ 107.0       │\n",
       "│ max        ┆ 1.146774e6   ┆ 1.2303399e7  ┆ 1.162844e6  ┆ 569264.0    ┆ 22229.0     ┆ 1.760095e6  │\n",
       "└────────────┴──────────────┴──────────────┴─────────────┴─────────────┴─────────────┴─────────────┘"
      ]
     },
     "execution_count": 34,
     "metadata": {},
     "output_type": "execute_result"
    }
   ],
   "source": [
    "import polars.selectors as cs\n",
    "df.select(cs.numeric()).describe()"
   ]
  },
  {
   "cell_type": "code",
   "execution_count": 53,
   "metadata": {},
   "outputs": [
    {
     "data": {
      "text/html": [
       "<div><style>\n",
       ".dataframe > thead > tr > th,\n",
       ".dataframe > tbody > tr > td {\n",
       "  text-align: right;\n",
       "  white-space: pre-wrap;\n",
       "}\n",
       "</style>\n",
       "<small>shape: (1, 16)</small><table border=\"1\" class=\"dataframe\"><thead><tr><th>Data As Of</th><th>Start Date</th><th>End Date</th><th>Group</th><th>Year</th><th>Month</th><th>State</th><th>Sex</th><th>Age Group</th><th>COVID-19 Deaths</th><th>Total Deaths</th><th>Pneumonia Deaths</th><th>Pneumonia and COVID-19 Deaths</th><th>Influenza Deaths</th><th>Pneumonia, Influenza, or COVID-19 Deaths</th><th>Footnote</th></tr><tr><td>u32</td><td>u32</td><td>u32</td><td>u32</td><td>u32</td><td>u32</td><td>u32</td><td>u32</td><td>u32</td><td>u32</td><td>u32</td><td>u32</td><td>u32</td><td>u32</td><td>u32</td><td>u32</td></tr></thead><tbody><tr><td>0</td><td>0</td><td>0</td><td>0</td><td>2754</td><td>13770</td><td>0</td><td>0</td><td>0</td><td>39430</td><td>19509</td><td>44864</td><td>36884</td><td>26688</td><td>44233</td><td>39804</td></tr></tbody></table></div>"
      ],
      "text/plain": [
       "shape: (1, 16)\n",
       "┌────────────┬────────────┬──────────┬───────┬───┬────────────┬────────────┬────────────┬──────────┐\n",
       "│ Data As Of ┆ Start Date ┆ End Date ┆ Group ┆ … ┆ Pneumonia  ┆ Influenza  ┆ Pneumonia, ┆ Footnote │\n",
       "│ ---        ┆ ---        ┆ ---      ┆ ---   ┆   ┆ and        ┆ Deaths     ┆ Influenza, ┆ ---      │\n",
       "│ u32        ┆ u32        ┆ u32      ┆ u32   ┆   ┆ COVID-19   ┆ ---        ┆ or         ┆ u32      │\n",
       "│            ┆            ┆          ┆       ┆   ┆ Deaths     ┆ u32        ┆ COVID-1…   ┆          │\n",
       "│            ┆            ┆          ┆       ┆   ┆ ---        ┆            ┆ ---        ┆          │\n",
       "│            ┆            ┆          ┆       ┆   ┆ u32        ┆            ┆ u32        ┆          │\n",
       "╞════════════╪════════════╪══════════╪═══════╪═══╪════════════╪════════════╪════════════╪══════════╡\n",
       "│ 0          ┆ 0          ┆ 0        ┆ 0     ┆ … ┆ 36884      ┆ 26688      ┆ 44233      ┆ 39804    │\n",
       "└────────────┴────────────┴──────────┴───────┴───┴────────────┴────────────┴────────────┴──────────┘"
      ]
     },
     "execution_count": 53,
     "metadata": {},
     "output_type": "execute_result"
    }
   ],
   "source": [
    "df.null_count()"
   ]
  },
  {
   "cell_type": "markdown",
   "metadata": {},
   "source": [
    "### There is more..."
   ]
  },
  {
   "cell_type": "code",
   "execution_count": 3,
   "metadata": {},
   "outputs": [
    {
     "name": "stdout",
     "output_type": "stream",
     "text": [
      "shape: (5, 16)\n",
      "┌────────────┬───────────┬───────────┬──────────┬───┬───────────┬───────────┬───────────┬──────────┐\n",
      "│ Data As Of ┆ Start     ┆ End Date  ┆ Group    ┆ … ┆ Pneumonia ┆ Influenza ┆ Pneumonia ┆ Footnote │\n",
      "│ ---        ┆ Date      ┆ ---       ┆ ---      ┆   ┆ and       ┆ Deaths    ┆ , Influen ┆ ---      │\n",
      "│ str        ┆ ---       ┆ str       ┆ str      ┆   ┆ COVID-19  ┆ ---       ┆ za, or    ┆ str      │\n",
      "│            ┆ str       ┆           ┆          ┆   ┆ Deaths    ┆ i64       ┆ COVID-1…  ┆          │\n",
      "│            ┆           ┆           ┆          ┆   ┆ ---       ┆           ┆ ---       ┆          │\n",
      "│            ┆           ┆           ┆          ┆   ┆ i64       ┆           ┆ i64       ┆          │\n",
      "╞════════════╪═══════════╪═══════════╪══════════╪═══╪═══════════╪═══════════╪═══════════╪══════════╡\n",
      "│ 09/27/2023 ┆ 01/01/202 ┆ 09/23/202 ┆ By Total ┆ … ┆ 569264    ┆ 22229     ┆ 1760095   ┆ null     │\n",
      "│            ┆ 0         ┆ 3         ┆          ┆   ┆           ┆           ┆           ┆          │\n",
      "│ 09/27/2023 ┆ 01/01/202 ┆ 09/23/202 ┆ By Total ┆ … ┆ 95        ┆ 64        ┆ 1541      ┆ null     │\n",
      "│            ┆ 0         ┆ 3         ┆          ┆   ┆           ┆           ┆           ┆          │\n",
      "│ 09/27/2023 ┆ 01/01/202 ┆ 09/23/202 ┆ By Total ┆ … ┆ 424       ┆ 509       ┆ 4716      ┆ null     │\n",
      "│            ┆ 0         ┆ 3         ┆          ┆   ┆           ┆           ┆           ┆          │\n",
      "│ 09/27/2023 ┆ 01/01/202 ┆ 09/23/202 ┆ By Total ┆ … ┆ 66        ┆ 177       ┆ 1079      ┆ null     │\n",
      "│            ┆ 0         ┆ 3         ┆          ┆   ┆           ┆           ┆           ┆          │\n",
      "│ 09/27/2023 ┆ 01/01/202 ┆ 09/23/202 ┆ By Total ┆ … ┆ 143       ┆ 219       ┆ 1390      ┆ null     │\n",
      "│            ┆ 0         ┆ 3         ┆          ┆   ┆           ┆           ┆           ┆          │\n",
      "└────────────┴───────────┴───────────┴──────────┴───┴───────────┴───────────┴───────────┴──────────┘\n"
     ]
    }
   ],
   "source": [
    "print(df.head())\n"
   ]
  },
  {
   "cell_type": "code",
   "execution_count": 10,
   "metadata": {},
   "outputs": [
    {
     "name": "stdout",
     "output_type": "stream",
     "text": [
      "shape: (2, 16)\n",
      "┌────────┬────────┬────────┬────────┬──────┬───────┬───┬────────┬────────┬────────┬────────┬───────┐\n",
      "│ Data   ┆ Start  ┆ End    ┆ Group  ┆ Year ┆ Month ┆ … ┆ Pneumo ┆ Pneumo ┆ Influe ┆ Pneumo ┆ Footn │\n",
      "│ As Of  ┆ Date   ┆ Date   ┆ ---    ┆ ---  ┆ ---   ┆   ┆ nia    ┆ nia    ┆ nza    ┆ nia,   ┆ ote   │\n",
      "│ ---    ┆ ---    ┆ ---    ┆ str    ┆ str  ┆ str   ┆   ┆ Deaths ┆ and    ┆ Deaths ┆ Influe ┆ ---   │\n",
      "│ str    ┆ str    ┆ str    ┆        ┆      ┆       ┆   ┆ ---    ┆ COVID- ┆ ---    ┆ nza,   ┆ str   │\n",
      "│        ┆        ┆        ┆        ┆      ┆       ┆   ┆ i64    ┆ 19     ┆ i64    ┆ or COV ┆       │\n",
      "│        ┆        ┆        ┆        ┆      ┆       ┆   ┆        ┆ Deaths ┆        ┆ ID-1…  ┆       │\n",
      "│        ┆        ┆        ┆        ┆      ┆       ┆   ┆        ┆ ---    ┆        ┆ ---    ┆       │\n",
      "│        ┆        ┆        ┆        ┆      ┆       ┆   ┆        ┆ i64    ┆        ┆ i64    ┆       │\n",
      "╞════════╪════════╪════════╪════════╪══════╪═══════╪═══╪════════╪════════╪════════╪════════╪═══════╡\n",
      "│ 09/27/ ┆ 01/01/ ┆ 09/23/ ┆ By     ┆ null ┆ null  ┆ … ┆ 116284 ┆ 569264 ┆ 22229  ┆ 176009 ┆ null  │\n",
      "│ 2023   ┆ 2020   ┆ 2023   ┆ Total  ┆      ┆       ┆   ┆ 4      ┆        ┆        ┆ 5      ┆       │\n",
      "│ 09/27/ ┆ 01/01/ ┆ 09/23/ ┆ By     ┆ null ┆ null  ┆ … ┆ 1056   ┆ 95     ┆ 64     ┆ 1541   ┆ null  │\n",
      "│ 2023   ┆ 2020   ┆ 2023   ┆ Total  ┆      ┆       ┆   ┆        ┆        ┆        ┆        ┆       │\n",
      "└────────┴────────┴────────┴────────┴──────┴───────┴───┴────────┴────────┴────────┴────────┴───────┘\n"
     ]
    }
   ],
   "source": [
    "with pl.Config() as config:\n",
    "    config.set_tbl_cols(11)\n",
    "    print(df.head(2))"
   ]
  },
  {
   "cell_type": "code",
   "execution_count": 13,
   "metadata": {},
   "outputs": [
    {
     "name": "stdout",
     "output_type": "stream",
     "text": [
      "shape: (2, 16)\n",
      "┌────────┬────────┬────────┬────────┬──────┬───────┬───┬────────┬────────┬────────┬────────┬───────┐\n",
      "│ Data   ┆ Start  ┆ End    ┆ Group  ┆ Year ┆ Month ┆ … ┆ Pneumo ┆ Pneumo ┆ Influe ┆ Pneumo ┆ Footn │\n",
      "│ As Of  ┆ Date   ┆ Date   ┆ ---    ┆ ---  ┆ ---   ┆   ┆ nia    ┆ nia    ┆ nza    ┆ nia,   ┆ ote   │\n",
      "│ ---    ┆ ---    ┆ ---    ┆ str    ┆ str  ┆ str   ┆   ┆ Deaths ┆ and    ┆ Deaths ┆ Influe ┆ ---   │\n",
      "│ str    ┆ str    ┆ str    ┆        ┆      ┆       ┆   ┆ ---    ┆ COVID- ┆ ---    ┆ nza,   ┆ str   │\n",
      "│        ┆        ┆        ┆        ┆      ┆       ┆   ┆ i64    ┆ 19     ┆ i64    ┆ or COV ┆       │\n",
      "│        ┆        ┆        ┆        ┆      ┆       ┆   ┆        ┆ Deaths ┆        ┆ ID-1…  ┆       │\n",
      "│        ┆        ┆        ┆        ┆      ┆       ┆   ┆        ┆ ---    ┆        ┆ ---    ┆       │\n",
      "│        ┆        ┆        ┆        ┆      ┆       ┆   ┆        ┆ i64    ┆        ┆ i64    ┆       │\n",
      "╞════════╪════════╪════════╪════════╪══════╪═══════╪═══╪════════╪════════╪════════╪════════╪═══════╡\n",
      "│ 09/27/ ┆ 01/01/ ┆ 09/23/ ┆ By     ┆ null ┆ null  ┆ … ┆ 116284 ┆ 569264 ┆ 22229  ┆ 176009 ┆ null  │\n",
      "│ 2023   ┆ 2020   ┆ 2023   ┆ Total  ┆      ┆       ┆   ┆ 4      ┆        ┆        ┆ 5      ┆       │\n",
      "│ 09/27/ ┆ 01/01/ ┆ 09/23/ ┆ By     ┆ null ┆ null  ┆ … ┆ 1056   ┆ 95     ┆ 64     ┆ 1541   ┆ null  │\n",
      "│ 2023   ┆ 2020   ┆ 2023   ┆ Total  ┆      ┆       ┆   ┆        ┆        ┆        ┆        ┆       │\n",
      "└────────┴────────┴────────┴────────┴──────┴───────┴───┴────────┴────────┴────────┴────────┴───────┘\n"
     ]
    }
   ],
   "source": [
    "pl.Config.set_tbl_cols(11)\n",
    "print(df.head(2))"
   ]
  },
  {
   "cell_type": "markdown",
   "metadata": {},
   "source": [
    "## Casting data types"
   ]
  },
  {
   "cell_type": "markdown",
   "metadata": {},
   "source": [
    "### How to do it..."
   ]
  },
  {
   "cell_type": "code",
   "execution_count": 14,
   "metadata": {},
   "outputs": [],
   "source": [
    "import polars as pl"
   ]
  },
  {
   "cell_type": "code",
   "execution_count": 48,
   "metadata": {},
   "outputs": [
    {
     "data": {
      "text/html": [
       "<div><style>\n",
       ".dataframe > thead > tr > th,\n",
       ".dataframe > tbody > tr > td {\n",
       "  text-align: right;\n",
       "  white-space: pre-wrap;\n",
       "}\n",
       "</style>\n",
       "<small>shape: (5, 16)</small><table border=\"1\" class=\"dataframe\"><thead><tr><th>Data As Of</th><th>Start Date</th><th>End Date</th><th>Group</th><th>Year</th><th>&hellip;</th><th>Pneumonia Deaths</th><th>Pneumonia and COVID-19 Deaths</th><th>Influenza Deaths</th><th>Pneumonia, Influenza, or COVID-19 Deaths</th><th>Footnote</th></tr><tr><td>str</td><td>str</td><td>str</td><td>str</td><td>str</td><td>&hellip;</td><td>i64</td><td>i64</td><td>i64</td><td>i64</td><td>str</td></tr></thead><tbody><tr><td>&quot;09/27/2023&quot;</td><td>&quot;01/01/2020&quot;</td><td>&quot;09/23/2023&quot;</td><td>&quot;By Total&quot;</td><td>null</td><td>&hellip;</td><td>1162844</td><td>569264</td><td>22229</td><td>1760095</td><td>null</td></tr><tr><td>&quot;09/27/2023&quot;</td><td>&quot;01/01/2020&quot;</td><td>&quot;09/23/2023&quot;</td><td>&quot;By Total&quot;</td><td>null</td><td>&hellip;</td><td>1056</td><td>95</td><td>64</td><td>1541</td><td>null</td></tr><tr><td>&quot;09/27/2023&quot;</td><td>&quot;01/01/2020&quot;</td><td>&quot;09/23/2023&quot;</td><td>&quot;By Total&quot;</td><td>null</td><td>&hellip;</td><td>2961</td><td>424</td><td>509</td><td>4716</td><td>null</td></tr><tr><td>&quot;09/27/2023&quot;</td><td>&quot;01/01/2020&quot;</td><td>&quot;09/23/2023&quot;</td><td>&quot;By Total&quot;</td><td>null</td><td>&hellip;</td><td>692</td><td>66</td><td>177</td><td>1079</td><td>null</td></tr><tr><td>&quot;09/27/2023&quot;</td><td>&quot;01/01/2020&quot;</td><td>&quot;09/23/2023&quot;</td><td>&quot;By Total&quot;</td><td>null</td><td>&hellip;</td><td>818</td><td>143</td><td>219</td><td>1390</td><td>null</td></tr></tbody></table></div>"
      ],
      "text/plain": [
       "shape: (5, 16)\n",
       "┌────────┬────────┬────────┬────────┬──────┬───────┬───┬────────┬────────┬────────┬────────┬───────┐\n",
       "│ Data   ┆ Start  ┆ End    ┆ Group  ┆ Year ┆ Month ┆ … ┆ Pneumo ┆ Pneumo ┆ Influe ┆ Pneumo ┆ Footn │\n",
       "│ As Of  ┆ Date   ┆ Date   ┆ ---    ┆ ---  ┆ ---   ┆   ┆ nia    ┆ nia    ┆ nza    ┆ nia,   ┆ ote   │\n",
       "│ ---    ┆ ---    ┆ ---    ┆ str    ┆ str  ┆ str   ┆   ┆ Deaths ┆ and    ┆ Deaths ┆ Influe ┆ ---   │\n",
       "│ str    ┆ str    ┆ str    ┆        ┆      ┆       ┆   ┆ ---    ┆ COVID- ┆ ---    ┆ nza,   ┆ str   │\n",
       "│        ┆        ┆        ┆        ┆      ┆       ┆   ┆ i64    ┆ 19     ┆ i64    ┆ or COV ┆       │\n",
       "│        ┆        ┆        ┆        ┆      ┆       ┆   ┆        ┆ Deaths ┆        ┆ ID-1…  ┆       │\n",
       "│        ┆        ┆        ┆        ┆      ┆       ┆   ┆        ┆ ---    ┆        ┆ ---    ┆       │\n",
       "│        ┆        ┆        ┆        ┆      ┆       ┆   ┆        ┆ i64    ┆        ┆ i64    ┆       │\n",
       "╞════════╪════════╪════════╪════════╪══════╪═══════╪═══╪════════╪════════╪════════╪════════╪═══════╡\n",
       "│ 09/27/ ┆ 01/01/ ┆ 09/23/ ┆ By     ┆ null ┆ null  ┆ … ┆ 116284 ┆ 569264 ┆ 22229  ┆ 176009 ┆ null  │\n",
       "│ 2023   ┆ 2020   ┆ 2023   ┆ Total  ┆      ┆       ┆   ┆ 4      ┆        ┆        ┆ 5      ┆       │\n",
       "│ 09/27/ ┆ 01/01/ ┆ 09/23/ ┆ By     ┆ null ┆ null  ┆ … ┆ 1056   ┆ 95     ┆ 64     ┆ 1541   ┆ null  │\n",
       "│ 2023   ┆ 2020   ┆ 2023   ┆ Total  ┆      ┆       ┆   ┆        ┆        ┆        ┆        ┆       │\n",
       "│ 09/27/ ┆ 01/01/ ┆ 09/23/ ┆ By     ┆ null ┆ null  ┆ … ┆ 2961   ┆ 424    ┆ 509    ┆ 4716   ┆ null  │\n",
       "│ 2023   ┆ 2020   ┆ 2023   ┆ Total  ┆      ┆       ┆   ┆        ┆        ┆        ┆        ┆       │\n",
       "│ 09/27/ ┆ 01/01/ ┆ 09/23/ ┆ By     ┆ null ┆ null  ┆ … ┆ 692    ┆ 66     ┆ 177    ┆ 1079   ┆ null  │\n",
       "│ 2023   ┆ 2020   ┆ 2023   ┆ Total  ┆      ┆       ┆   ┆        ┆        ┆        ┆        ┆       │\n",
       "│ 09/27/ ┆ 01/01/ ┆ 09/23/ ┆ By     ┆ null ┆ null  ┆ … ┆ 818    ┆ 143    ┆ 219    ┆ 1390   ┆ null  │\n",
       "│ 2023   ┆ 2020   ┆ 2023   ┆ Total  ┆      ┆       ┆   ┆        ┆        ┆        ┆        ┆       │\n",
       "└────────┴────────┴────────┴────────┴──────┴───────┴───┴────────┴────────┴────────┴────────┴───────┘"
      ]
     },
     "execution_count": 48,
     "metadata": {},
     "output_type": "execute_result"
    }
   ],
   "source": [
    "df = pl.read_csv('../data/covid_19_dealths.csv')\n",
    "df.head()"
   ]
  },
  {
   "cell_type": "code",
   "execution_count": 59,
   "metadata": {},
   "outputs": [
    {
     "data": {
      "text/html": [
       "<div><style>\n",
       ".dataframe > thead > tr > th,\n",
       ".dataframe > tbody > tr > td {\n",
       "  text-align: right;\n",
       "  white-space: pre-wrap;\n",
       "}\n",
       "</style>\n",
       "<small>shape: (5, 17)</small><table border=\"1\" class=\"dataframe\"><thead><tr><th>Data As Of</th><th>Start Date</th><th>End Date</th><th>Group</th><th>Year</th><th>&hellip;</th><th>Pneumonia and COVID-19 Deaths</th><th>Influenza Deaths</th><th>Pneumonia, Influenza, or COVID-19 Deaths</th><th>Footnote</th><th>End Date 2</th></tr><tr><td>date</td><td>date</td><td>date</td><td>str</td><td>i64</td><td>&hellip;</td><td>i64</td><td>i64</td><td>i64</td><td>str</td><td>date</td></tr></thead><tbody><tr><td>2023-09-27</td><td>2020-01-01</td><td>2023-09-23</td><td>&quot;By Total&quot;</td><td>null</td><td>&hellip;</td><td>569264</td><td>22229</td><td>1760095</td><td>null</td><td>2023-09-23</td></tr><tr><td>2023-09-27</td><td>2020-01-01</td><td>2023-09-23</td><td>&quot;By Total&quot;</td><td>null</td><td>&hellip;</td><td>95</td><td>64</td><td>1541</td><td>null</td><td>2023-09-23</td></tr><tr><td>2023-09-27</td><td>2020-01-01</td><td>2023-09-23</td><td>&quot;By Total&quot;</td><td>null</td><td>&hellip;</td><td>424</td><td>509</td><td>4716</td><td>null</td><td>2023-09-23</td></tr><tr><td>2023-09-27</td><td>2020-01-01</td><td>2023-09-23</td><td>&quot;By Total&quot;</td><td>null</td><td>&hellip;</td><td>66</td><td>177</td><td>1079</td><td>null</td><td>2023-09-23</td></tr><tr><td>2023-09-27</td><td>2020-01-01</td><td>2023-09-23</td><td>&quot;By Total&quot;</td><td>null</td><td>&hellip;</td><td>143</td><td>219</td><td>1390</td><td>null</td><td>2023-09-23</td></tr></tbody></table></div>"
      ],
      "text/plain": [
       "shape: (5, 17)\n",
       "┌────────┬────────┬────────┬────────┬──────┬───────┬───┬────────┬────────┬────────┬────────┬───────┐\n",
       "│ Data   ┆ Start  ┆ End    ┆ Group  ┆ Year ┆ Month ┆ … ┆ Pneumo ┆ Influe ┆ Pneumo ┆ Footno ┆ End   │\n",
       "│ As Of  ┆ Date   ┆ Date   ┆ ---    ┆ ---  ┆ ---   ┆   ┆ nia    ┆ nza    ┆ nia,   ┆ te     ┆ Date  │\n",
       "│ ---    ┆ ---    ┆ ---    ┆ str    ┆ i64  ┆ str   ┆   ┆ and    ┆ Deaths ┆ Influe ┆ ---    ┆ 2     │\n",
       "│ date   ┆ date   ┆ date   ┆        ┆      ┆       ┆   ┆ COVID- ┆ ---    ┆ nza,   ┆ str    ┆ ---   │\n",
       "│        ┆        ┆        ┆        ┆      ┆       ┆   ┆ 19     ┆ i64    ┆ or COV ┆        ┆ date  │\n",
       "│        ┆        ┆        ┆        ┆      ┆       ┆   ┆ Deaths ┆        ┆ ID-1…  ┆        ┆       │\n",
       "│        ┆        ┆        ┆        ┆      ┆       ┆   ┆ ---    ┆        ┆ ---    ┆        ┆       │\n",
       "│        ┆        ┆        ┆        ┆      ┆       ┆   ┆ i64    ┆        ┆ i64    ┆        ┆       │\n",
       "╞════════╪════════╪════════╪════════╪══════╪═══════╪═══╪════════╪════════╪════════╪════════╪═══════╡\n",
       "│ 2023-0 ┆ 2020-0 ┆ 2023-0 ┆ By     ┆ null ┆ null  ┆ … ┆ 569264 ┆ 22229  ┆ 176009 ┆ null   ┆ 2023- │\n",
       "│ 9-27   ┆ 1-01   ┆ 9-23   ┆ Total  ┆      ┆       ┆   ┆        ┆        ┆ 5      ┆        ┆ 09-23 │\n",
       "│ 2023-0 ┆ 2020-0 ┆ 2023-0 ┆ By     ┆ null ┆ null  ┆ … ┆ 95     ┆ 64     ┆ 1541   ┆ null   ┆ 2023- │\n",
       "│ 9-27   ┆ 1-01   ┆ 9-23   ┆ Total  ┆      ┆       ┆   ┆        ┆        ┆        ┆        ┆ 09-23 │\n",
       "│ 2023-0 ┆ 2020-0 ┆ 2023-0 ┆ By     ┆ null ┆ null  ┆ … ┆ 424    ┆ 509    ┆ 4716   ┆ null   ┆ 2023- │\n",
       "│ 9-27   ┆ 1-01   ┆ 9-23   ┆ Total  ┆      ┆       ┆   ┆        ┆        ┆        ┆        ┆ 09-23 │\n",
       "│ 2023-0 ┆ 2020-0 ┆ 2023-0 ┆ By     ┆ null ┆ null  ┆ … ┆ 66     ┆ 177    ┆ 1079   ┆ null   ┆ 2023- │\n",
       "│ 9-27   ┆ 1-01   ┆ 9-23   ┆ Total  ┆      ┆       ┆   ┆        ┆        ┆        ┆        ┆ 09-23 │\n",
       "│ 2023-0 ┆ 2020-0 ┆ 2023-0 ┆ By     ┆ null ┆ null  ┆ … ┆ 143    ┆ 219    ┆ 1390   ┆ null   ┆ 2023- │\n",
       "│ 9-27   ┆ 1-01   ┆ 9-23   ┆ Total  ┆      ┆       ┆   ┆        ┆        ┆        ┆        ┆ 09-23 │\n",
       "└────────┴────────┴────────┴────────┴──────┴───────┴───┴────────┴────────┴────────┴────────┴───────┘"
      ]
     },
     "execution_count": 59,
     "metadata": {},
     "output_type": "execute_result"
    }
   ],
   "source": [
    "df.with_columns(\n",
    "        pl.col('Data As Of').str.strptime(pl.Date, '%m/%d/%Y'),\n",
    "        pl.col('Start Date').str.strptime(pl.Date, '%m/%d/%Y'),\n",
    "        pl.col('End Date').str.strptime(pl.Date, '%m/%d/%Y'),\n",
    "        pl.col('End Date').str.to_date('%m/%d/%Y').alias('End Date 2'),\n",
    "        pl.col('Year').cast(pl.Int64)\n",
    ").head()\n"
   ]
  },
  {
   "cell_type": "code",
   "execution_count": 62,
   "metadata": {},
   "outputs": [],
   "source": [
    "updated_df = (\n",
    "    df.with_columns(\n",
    "        pl.col('Data As Of').str.strptime(pl.Date, '%m/%d/%Y'),\n",
    "        pl.col('Start Date').str.strptime(pl.Date, '%m/%d/%Y'),\n",
    "        pl.col('End Date').str.strptime(pl.Date, '%m/%d/%Y'),\n",
    "        pl.col('End Date').str.to_date('%m/%d/%Y').alias('End Date 2'),\n",
    "        pl.col('Year').cast(pl.Int64)\n",
    "    )\n",
    ")"
   ]
  },
  {
   "cell_type": "code",
   "execution_count": 56,
   "metadata": {},
   "outputs": [
    {
     "data": {
      "text/html": [
       "<div><style>\n",
       ".dataframe > thead > tr > th,\n",
       ".dataframe > tbody > tr > td {\n",
       "  text-align: right;\n",
       "  white-space: pre-wrap;\n",
       "}\n",
       "</style>\n",
       "<small>shape: (5, 17)</small><table border=\"1\" class=\"dataframe\"><thead><tr><th>Data As Of</th><th>Start Date</th><th>End Date</th><th>Group</th><th>Year</th><th>&hellip;</th><th>Pneumonia and COVID-19 Deaths</th><th>Influenza Deaths</th><th>Pneumonia, Influenza, or COVID-19 Deaths</th><th>Footnote</th><th>End Date 2</th></tr><tr><td>date</td><td>date</td><td>date</td><td>str</td><td>i64</td><td>&hellip;</td><td>i64</td><td>i64</td><td>i64</td><td>str</td><td>date</td></tr></thead><tbody><tr><td>2023-09-27</td><td>2020-01-01</td><td>2023-09-23</td><td>&quot;By Total&quot;</td><td>null</td><td>&hellip;</td><td>569264</td><td>22229</td><td>1760095</td><td>null</td><td>2023-09-23</td></tr><tr><td>2023-09-27</td><td>2020-01-01</td><td>2023-09-23</td><td>&quot;By Total&quot;</td><td>null</td><td>&hellip;</td><td>95</td><td>64</td><td>1541</td><td>null</td><td>2023-09-23</td></tr><tr><td>2023-09-27</td><td>2020-01-01</td><td>2023-09-23</td><td>&quot;By Total&quot;</td><td>null</td><td>&hellip;</td><td>424</td><td>509</td><td>4716</td><td>null</td><td>2023-09-23</td></tr><tr><td>2023-09-27</td><td>2020-01-01</td><td>2023-09-23</td><td>&quot;By Total&quot;</td><td>null</td><td>&hellip;</td><td>66</td><td>177</td><td>1079</td><td>null</td><td>2023-09-23</td></tr><tr><td>2023-09-27</td><td>2020-01-01</td><td>2023-09-23</td><td>&quot;By Total&quot;</td><td>null</td><td>&hellip;</td><td>143</td><td>219</td><td>1390</td><td>null</td><td>2023-09-23</td></tr></tbody></table></div>"
      ],
      "text/plain": [
       "shape: (5, 17)\n",
       "┌────────┬────────┬────────┬────────┬──────┬───────┬───┬────────┬────────┬────────┬────────┬───────┐\n",
       "│ Data   ┆ Start  ┆ End    ┆ Group  ┆ Year ┆ Month ┆ … ┆ Pneumo ┆ Influe ┆ Pneumo ┆ Footno ┆ End   │\n",
       "│ As Of  ┆ Date   ┆ Date   ┆ ---    ┆ ---  ┆ ---   ┆   ┆ nia    ┆ nza    ┆ nia,   ┆ te     ┆ Date  │\n",
       "│ ---    ┆ ---    ┆ ---    ┆ str    ┆ i64  ┆ str   ┆   ┆ and    ┆ Deaths ┆ Influe ┆ ---    ┆ 2     │\n",
       "│ date   ┆ date   ┆ date   ┆        ┆      ┆       ┆   ┆ COVID- ┆ ---    ┆ nza,   ┆ str    ┆ ---   │\n",
       "│        ┆        ┆        ┆        ┆      ┆       ┆   ┆ 19     ┆ i64    ┆ or COV ┆        ┆ date  │\n",
       "│        ┆        ┆        ┆        ┆      ┆       ┆   ┆ Deaths ┆        ┆ ID-1…  ┆        ┆       │\n",
       "│        ┆        ┆        ┆        ┆      ┆       ┆   ┆ ---    ┆        ┆ ---    ┆        ┆       │\n",
       "│        ┆        ┆        ┆        ┆      ┆       ┆   ┆ i64    ┆        ┆ i64    ┆        ┆       │\n",
       "╞════════╪════════╪════════╪════════╪══════╪═══════╪═══╪════════╪════════╪════════╪════════╪═══════╡\n",
       "│ 2023-0 ┆ 2020-0 ┆ 2023-0 ┆ By     ┆ null ┆ null  ┆ … ┆ 569264 ┆ 22229  ┆ 176009 ┆ null   ┆ 2023- │\n",
       "│ 9-27   ┆ 1-01   ┆ 9-23   ┆ Total  ┆      ┆       ┆   ┆        ┆        ┆ 5      ┆        ┆ 09-23 │\n",
       "│ 2023-0 ┆ 2020-0 ┆ 2023-0 ┆ By     ┆ null ┆ null  ┆ … ┆ 95     ┆ 64     ┆ 1541   ┆ null   ┆ 2023- │\n",
       "│ 9-27   ┆ 1-01   ┆ 9-23   ┆ Total  ┆      ┆       ┆   ┆        ┆        ┆        ┆        ┆ 09-23 │\n",
       "│ 2023-0 ┆ 2020-0 ┆ 2023-0 ┆ By     ┆ null ┆ null  ┆ … ┆ 424    ┆ 509    ┆ 4716   ┆ null   ┆ 2023- │\n",
       "│ 9-27   ┆ 1-01   ┆ 9-23   ┆ Total  ┆      ┆       ┆   ┆        ┆        ┆        ┆        ┆ 09-23 │\n",
       "│ 2023-0 ┆ 2020-0 ┆ 2023-0 ┆ By     ┆ null ┆ null  ┆ … ┆ 66     ┆ 177    ┆ 1079   ┆ null   ┆ 2023- │\n",
       "│ 9-27   ┆ 1-01   ┆ 9-23   ┆ Total  ┆      ┆       ┆   ┆        ┆        ┆        ┆        ┆ 09-23 │\n",
       "│ 2023-0 ┆ 2020-0 ┆ 2023-0 ┆ By     ┆ null ┆ null  ┆ … ┆ 143    ┆ 219    ┆ 1390   ┆ null   ┆ 2023- │\n",
       "│ 9-27   ┆ 1-01   ┆ 9-23   ┆ Total  ┆      ┆       ┆   ┆        ┆        ┆        ┆        ┆ 09-23 │\n",
       "└────────┴────────┴────────┴────────┴──────┴───────┴───┴────────┴────────┴────────┴────────┴───────┘"
      ]
     },
     "execution_count": 56,
     "metadata": {},
     "output_type": "execute_result"
    }
   ],
   "source": [
    "lf = pl.scan_csv('../data/covid_19_dealths.csv')\n",
    "lf.with_columns(\n",
    "        pl.col('Data As Of').str.strptime(pl.Date, '%m/%d/%Y'),\n",
    "        pl.col('Start Date').str.strptime(pl.Date, '%m/%d/%Y'),\n",
    "        pl.col('End Date').str.strptime(pl.Date, '%m/%d/%Y'),\n",
    "        pl.col('End Date').str.to_date('%m/%d/%Y').alias('End Date 2'),\n",
    "        pl.col('Year').cast(pl.Int64)\n",
    ").collect().head()"
   ]
  }
 ],
 "metadata": {
  "kernelspec": {
   "display_name": ".venv",
   "language": "python",
   "name": "python3"
  },
  "language_info": {
   "codemirror_mode": {
    "name": "ipython",
    "version": 3
   },
   "file_extension": ".py",
   "mimetype": "text/x-python",
   "name": "python",
   "nbconvert_exporter": "python",
   "pygments_lexer": "ipython3",
   "version": "3.11.3"
  }
 },
 "nbformat": 4,
 "nbformat_minor": 2
}
